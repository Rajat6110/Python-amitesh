{
 "cells": [
  {
   "cell_type": "markdown",
   "id": "7d2e4bd7-b1bc-401f-820f-bd08791647c0",
   "metadata": {},
   "source": [
    "# OOPS"
   ]
  },
  {
   "cell_type": "code",
   "execution_count": 1,
   "id": "b400dd7a-9b80-47bb-b758-709f633b92d7",
   "metadata": {},
   "outputs": [],
   "source": [
    "#iit form(template) example, cars example, human being example\n",
    "#classes are blueprint/template for creating an object\n",
    "#we are different objects of class human being\n",
    "#gujiya maker, thekua maker"
   ]
  },
  {
   "cell_type": "code",
   "execution_count": 3,
   "id": "688449fd-6345-48c2-9b7d-0ad2b89c651e",
   "metadata": {},
   "outputs": [
    {
     "name": "stdout",
     "output_type": "stream",
     "text": [
      "<class 'int'>\n"
     ]
    }
   ],
   "source": [
    "a  = 5\n",
    "print(type(a))"
   ]
  },
  {
   "cell_type": "code",
   "execution_count": 4,
   "id": "24be2222-216f-48d1-9f4b-fead281804fa",
   "metadata": {},
   "outputs": [
    {
     "name": "stdout",
     "output_type": "stream",
     "text": [
      "<class 'str'>\n"
     ]
    }
   ],
   "source": [
    "b = \"string\"\n",
    "print(type(b))"
   ]
  },
  {
   "cell_type": "code",
   "execution_count": 5,
   "id": "96380105-747b-4351-accd-67b76950242f",
   "metadata": {},
   "outputs": [],
   "source": [
    "class Car:\n",
    "    pass"
   ]
  },
  {
   "cell_type": "code",
   "execution_count": 6,
   "id": "7179ad4a-ccea-4523-b850-f046ad2bf479",
   "metadata": {},
   "outputs": [],
   "source": [
    "#class Car is nothing but a template\n",
    "class Car: #naming convention>> UpperCamelCase\n",
    "    pass"
   ]
  },
  {
   "cell_type": "code",
   "execution_count": 7,
   "id": "1c123291-a452-4e40-844d-59213e01f78a",
   "metadata": {},
   "outputs": [],
   "source": [
    "c1 = Car()"
   ]
  },
  {
   "cell_type": "code",
   "execution_count": 8,
   "id": "50e37bfe-0bde-4ed8-8f76-70266426cd98",
   "metadata": {},
   "outputs": [
    {
     "name": "stdout",
     "output_type": "stream",
     "text": [
      "<class '__main__.Car'>\n"
     ]
    }
   ],
   "source": [
    "print(type(c1))"
   ]
  },
  {
   "cell_type": "code",
   "execution_count": 9,
   "id": "09e641ca-9180-4fd1-ac11-e0b02e4d1cfc",
   "metadata": {},
   "outputs": [],
   "source": [
    "#why oops? we already had function\n",
    "#a project can have many components, say backend(f1, f2), frontend(f3, f4), data pipeline(f5, f6)\n",
    "\n",
    "# def f1():\n",
    "#     pass\n",
    "\n",
    "# def f6():\n",
    "#     pass\n",
    "\n",
    "# def f4():\n",
    "#     pass\n",
    "\n",
    "# def f2():\n",
    "#     pass\n",
    "\n",
    "# def d5():\n",
    "#     pass\n",
    "\n",
    "# def f3():\n",
    "#     pass\n",
    "\n",
    "#if a backend developer wants to work/change some backend function>> all the functions are at one place\n",
    "#oops helps you to arrange the required functions in respective classes"
   ]
  },
  {
   "cell_type": "code",
   "execution_count": 10,
   "id": "b1541035-8f0f-41ad-8d5e-90f47fe6dc61",
   "metadata": {},
   "outputs": [],
   "source": [
    "class Car:\n",
    "    def amitesh():\n",
    "        print(\"amitesh\")\n",
    "c1 = Car()"
   ]
  },
  {
   "cell_type": "code",
   "execution_count": 11,
   "id": "35da40ae-47a4-491c-a2c4-f31d1cf0f14e",
   "metadata": {},
   "outputs": [
    {
     "data": {
      "text/plain": [
       "<__main__.Car at 0x25e237cf450>"
      ]
     },
     "execution_count": 11,
     "metadata": {},
     "output_type": "execute_result"
    }
   ],
   "source": [
    "c1"
   ]
  },
  {
   "cell_type": "code",
   "execution_count": 12,
   "id": "c5d2a859-4369-4525-a9bf-4912010b9b15",
   "metadata": {},
   "outputs": [
    {
     "name": "stdout",
     "output_type": "stream",
     "text": [
      "<__main__.Car object at 0x0000025E237CF450>\n"
     ]
    }
   ],
   "source": [
    "print(c1)"
   ]
  },
  {
   "cell_type": "code",
   "execution_count": 13,
   "id": "80eab49c-6553-4f0f-bef0-20d0670752fb",
   "metadata": {},
   "outputs": [
    {
     "ename": "TypeError",
     "evalue": "Car.amitesh() takes 0 positional arguments but 1 was given",
     "output_type": "error",
     "traceback": [
      "\u001b[1;31m---------------------------------------------------------------------------\u001b[0m",
      "\u001b[1;31mTypeError\u001b[0m                                 Traceback (most recent call last)",
      "Cell \u001b[1;32mIn[13], line 1\u001b[0m\n\u001b[1;32m----> 1\u001b[0m \u001b[43mc1\u001b[49m\u001b[38;5;241;43m.\u001b[39;49m\u001b[43mamitesh\u001b[49m\u001b[43m(\u001b[49m\u001b[43m)\u001b[49m\n",
      "\u001b[1;31mTypeError\u001b[0m: Car.amitesh() takes 0 positional arguments but 1 was given"
     ]
    }
   ],
   "source": [
    "c1.amitesh() # it will shhow an error\n"
   ]
  },
  {
   "cell_type": "markdown",
   "id": "4ea44f9a-7441-45dd-a2bd-c783f2243c75",
   "metadata": {},
   "source": [
    " # SELF \n",
    "### self>> a variable that represent instance of the class using which you can access method/function of class, also attribute/property/data of the class\n",
    "### self makes sure that each object knows that the method is associated with it\n",
    "### in other words the method is referenced to that particular object"
   ]
  },
  {
   "cell_type": "code",
   "execution_count": 17,
   "id": "922a5a69-b3e0-4607-acdc-4c07bc2a67bf",
   "metadata": {},
   "outputs": [
    {
     "name": "stdout",
     "output_type": "stream",
     "text": [
      "good morning chicha\n"
     ]
    }
   ],
   "source": [
    "class Car:\n",
    "    def greet(self):\n",
    "        print(\"good morning chicha\")\n",
    "c1 = Car()\n",
    "c1.greet()"
   ]
  },
  {
   "cell_type": "code",
   "execution_count": 2,
   "id": "1f6df35d-0d76-4f69-8982-c958139f9ef4",
   "metadata": {},
   "outputs": [],
   "source": [
    "class Car: \n",
    "    def accelerate(self):\n",
    "        print(\"car is accelerating\")\n",
    "    def brake(self):\n",
    "        print(\"car is stopping\")\n",
    "#self is not a python keyword, you can pass any variable name\n",
    "#best practise is to pass self"
   ]
  },
  {
   "cell_type": "code",
   "execution_count": 3,
   "id": "7eb3e6f0-fcca-48c3-9226-36ac1cfa282e",
   "metadata": {},
   "outputs": [],
   "source": [
    "c1 = Car()\n"
   ]
  },
  {
   "cell_type": "code",
   "execution_count": 5,
   "id": "6037fdc6-d979-4c10-9cc1-998d9802cd00",
   "metadata": {},
   "outputs": [
    {
     "name": "stdout",
     "output_type": "stream",
     "text": [
      "car is accelerating\n"
     ]
    }
   ],
   "source": [
    "c1.accelerate()"
   ]
  },
  {
   "cell_type": "code",
   "execution_count": 7,
   "id": "1a8bfab0-b35e-464e-8007-4ea24e7f23d0",
   "metadata": {},
   "outputs": [
    {
     "name": "stdout",
     "output_type": "stream",
     "text": [
      "car is stopping\n"
     ]
    }
   ],
   "source": [
    "c1.brake()"
   ]
  },
  {
   "cell_type": "code",
   "execution_count": 11,
   "id": "62cb4271-68bb-47bb-b96e-be25717dc1a2",
   "metadata": {},
   "outputs": [
    {
     "name": "stdout",
     "output_type": "stream",
     "text": [
      "paisa jama kr diya bhai \n",
      "paisa nikal le bhai \n"
     ]
    }
   ],
   "source": [
    "class Bank:\n",
    "    def deposit(self):\n",
    "        print(\"paisa jama kr diya bhai \")\n",
    "    def withdraw(self):\n",
    "        print(\"paisa nikal le bhai \")\n",
    "\n",
    "ob = Bank()\n",
    "ob.deposit()\n",
    "ob.withdraw()"
   ]
  },
  {
   "cell_type": "code",
   "execution_count": 12,
   "id": "581d7f3a-fad6-46c0-bf57-607e603c2651",
   "metadata": {},
   "outputs": [
    {
     "name": "stdout",
     "output_type": "stream",
     "text": [
      "paisa jama kr diya bhai \n"
     ]
    }
   ],
   "source": [
    "ob2 = Bank()\n",
    "ob2.deposit()"
   ]
  },
  {
   "cell_type": "code",
   "execution_count": 13,
   "id": "7e9855a6-387a-4b4d-a95b-dd4f62dd6d11",
   "metadata": {},
   "outputs": [],
   "source": [
    "#passing data in the class >> can aslo called as property/ attribute"
   ]
  },
  {
   "cell_type": "code",
   "execution_count": 14,
   "id": "7287fd36-ebf4-4f4a-8d5a-f5f33b16a8b7",
   "metadata": {},
   "outputs": [],
   "source": [
    "class Bank:\n",
    "    def deposit(self,amount):\n",
    "        print(f\"paisa jama kiya apne {amount}\")\n",
    "    def withdraw(self,amount_withdarw):\n",
    "        print(f\"paisa nikal liye apne {amount_withdarw}\")\n",
    "        "
   ]
  },
  {
   "cell_type": "code",
   "execution_count": 15,
   "id": "28be62e6-4a69-4390-9a52-d3b8be6815e7",
   "metadata": {},
   "outputs": [],
   "source": [
    "ob = Bank()"
   ]
  },
  {
   "cell_type": "code",
   "execution_count": 16,
   "id": "7bb3f802-bd9f-4a3f-a74e-fcde8afaa1aa",
   "metadata": {},
   "outputs": [
    {
     "name": "stdout",
     "output_type": "stream",
     "text": [
      "paisa jama kiya apne 1000\n"
     ]
    }
   ],
   "source": [
    "ob.deposit(1000)"
   ]
  },
  {
   "cell_type": "code",
   "execution_count": 17,
   "id": "fcc287b5-1cb7-418f-bbaa-74cac17340bb",
   "metadata": {},
   "outputs": [
    {
     "name": "stdout",
     "output_type": "stream",
     "text": [
      "paisa nikal liye apne 200\n"
     ]
    }
   ],
   "source": [
    "ob.withdraw(200)"
   ]
  },
  {
   "cell_type": "code",
   "execution_count": 18,
   "id": "e0e448ce-32c7-4980-8604-888fd7e5ed51",
   "metadata": {},
   "outputs": [],
   "source": [
    "#bank will ask for a defualt amount , amount is attribute /property / data of class Bank"
   ]
  },
  {
   "cell_type": "code",
   "execution_count": 19,
   "id": "aa3bf8e8-46cb-4aea-91e0-875ba5ff204d",
   "metadata": {},
   "outputs": [],
   "source": [
    "class Bank:\n",
    "    amount= 1000\n",
    "    def deposit(self,amount):\n",
    "        print(f\"amount is equals to {amount}\")\n",
    "    def withdraw(self,amount):\n",
    "        print(f\"paisa nikal liya itna {amount}\")\n",
    "        "
   ]
  },
  {
   "cell_type": "code",
   "execution_count": 20,
   "id": "56b0c503-d29f-4219-aefa-8d234990382c",
   "metadata": {},
   "outputs": [],
   "source": [
    "rajat = Bank()"
   ]
  },
  {
   "cell_type": "code",
   "execution_count": 22,
   "id": "1c066f62-9bf6-4c15-8d4b-6174f13ef153",
   "metadata": {},
   "outputs": [
    {
     "data": {
      "text/plain": [
       "1000"
      ]
     },
     "execution_count": 22,
     "metadata": {},
     "output_type": "execute_result"
    }
   ],
   "source": [
    "rajat.amount"
   ]
  },
  {
   "cell_type": "code",
   "execution_count": 24,
   "id": "9d6a185e-cf79-42bc-9ae3-9b8312d684cf",
   "metadata": {},
   "outputs": [
    {
     "name": "stdout",
     "output_type": "stream",
     "text": [
      "amount is equals to 100\n"
     ]
    }
   ],
   "source": [
    "rajat.deposit(100)"
   ]
  },
  {
   "cell_type": "code",
   "execution_count": 25,
   "id": "0a0a108f-a760-4b18-a29b-aaea5c65c4cb",
   "metadata": {},
   "outputs": [
    {
     "name": "stdout",
     "output_type": "stream",
     "text": [
      "paisa nikal liya itna 100\n"
     ]
    }
   ],
   "source": [
    "rajat.withdraw(100)"
   ]
  },
  {
   "cell_type": "code",
   "execution_count": 26,
   "id": "444e744d-e32d-4afd-a3f6-152d68858529",
   "metadata": {},
   "outputs": [],
   "source": [
    "# extract odd and even no from a list"
   ]
  },
  {
   "cell_type": "code",
   "execution_count": 35,
   "id": "83b12db6-fd66-483d-b7c4-544119b97d4b",
   "metadata": {},
   "outputs": [],
   "source": [
    "class ListOps:\n",
    "    # l = [ 1,2,3,4,5]\n",
    "    l = []\n",
    "    def even(self,l):\n",
    "        l1=[]\n",
    "        for i in l:\n",
    "            if i%2==0:\n",
    "                l1.append(i)\n",
    "        return l1\n",
    "    def odd(self,l):\n",
    "        l2 = []\n",
    "        for i in l:\n",
    "            if i%2 != 0:\n",
    "                l2.append(i)\n",
    "        return l2"
   ]
  },
  {
   "cell_type": "code",
   "execution_count": 36,
   "id": "62b41b8a-ec0e-49ff-800f-fa300be42a33",
   "metadata": {},
   "outputs": [],
   "source": [
    "rajat =ListOps()"
   ]
  },
  {
   "cell_type": "code",
   "execution_count": 37,
   "id": "37043564-db65-462b-b201-0381ad2eb4e2",
   "metadata": {},
   "outputs": [
    {
     "data": {
      "text/plain": [
       "[2, 4]"
      ]
     },
     "execution_count": 37,
     "metadata": {},
     "output_type": "execute_result"
    }
   ],
   "source": [
    "rajat.even([1,2,3,4,5])"
   ]
  },
  {
   "cell_type": "code",
   "execution_count": 38,
   "id": "c59efb9b-4055-406c-aa4c-09bd4f044882",
   "metadata": {},
   "outputs": [
    {
     "data": {
      "text/plain": [
       "[1, 3]"
      ]
     },
     "execution_count": 38,
     "metadata": {},
     "output_type": "execute_result"
    }
   ],
   "source": [
    "rajat.odd([1,2,3,4])"
   ]
  },
  {
   "cell_type": "code",
   "execution_count": 39,
   "id": "5a7742df-a87f-4c17-bf89-3f9b08f33e7c",
   "metadata": {},
   "outputs": [
    {
     "data": {
      "text/plain": [
       "[4, 4, 6, 336, 56]"
      ]
     },
     "execution_count": 39,
     "metadata": {},
     "output_type": "execute_result"
    }
   ],
   "source": [
    "rajat.even([1,3,5,7,4,4,6,336,56])"
   ]
  },
  {
   "cell_type": "code",
   "execution_count": 42,
   "id": "2fd76e0b-5db5-4785-8d08-7166ea43a725",
   "metadata": {},
   "outputs": [],
   "source": [
    "class ListOps:\n",
    "    l = [ 1,2,3,4,5]\n",
    "    def even(self,l):\n",
    "        l1=[]\n",
    "        for i in l:\n",
    "            if i%2==0:\n",
    "                l1.append(i)\n",
    "        return l1\n",
    "    def odd(self,l):\n",
    "        l2 = []\n",
    "        for i in l:\n",
    "            if i%2 != 0:\n",
    "                l2.append(i)\n",
    "        return l2"
   ]
  },
  {
   "cell_type": "code",
   "execution_count": 43,
   "id": "b36ef768-828b-40ec-9639-985b25e823d2",
   "metadata": {},
   "outputs": [],
   "source": [
    "ops = ListOps()\n"
   ]
  },
  {
   "cell_type": "code",
   "execution_count": 44,
   "id": "cdb99d61-bba5-4010-b2c1-932620b14a41",
   "metadata": {},
   "outputs": [
    {
     "data": {
      "text/plain": [
       "[1, 2, 3, 4, 5]"
      ]
     },
     "execution_count": 44,
     "metadata": {},
     "output_type": "execute_result"
    }
   ],
   "source": [
    "ops.l"
   ]
  },
  {
   "cell_type": "code",
   "execution_count": 45,
   "id": "c58f2806-6bd8-42a5-83ac-cec8ec436803",
   "metadata": {},
   "outputs": [
    {
     "data": {
      "text/plain": [
       "[2, 4]"
      ]
     },
     "execution_count": 45,
     "metadata": {},
     "output_type": "execute_result"
    }
   ],
   "source": [
    "ops.even(ops.l)"
   ]
  },
  {
   "cell_type": "code",
   "execution_count": 46,
   "id": "9ddec16a-a0f5-44e1-9685-952a9f4bbc14",
   "metadata": {},
   "outputs": [
    {
     "data": {
      "text/plain": [
       "[1, 3, 5]"
      ]
     },
     "execution_count": 46,
     "metadata": {},
     "output_type": "execute_result"
    }
   ],
   "source": [
    "ops.odd(ops.l)"
   ]
  },
  {
   "cell_type": "code",
   "execution_count": 47,
   "id": "d62286f8-bc1a-48bd-bc70-4c750c772f46",
   "metadata": {},
   "outputs": [
    {
     "data": {
      "text/plain": [
       "[1, 2, 3, 4, 5]"
      ]
     },
     "execution_count": 47,
     "metadata": {},
     "output_type": "execute_result"
    }
   ],
   "source": [
    "# if you make any object the attribute l is fixed\n",
    "#inspite of passing diffrent list above you are still getting the fixed l([1,2,3,4,5])\n",
    "ops.l"
   ]
  },
  {
   "cell_type": "code",
   "execution_count": 48,
   "id": "905b1966-8a18-4fa0-a1a3-c78627a9d9ed",
   "metadata": {},
   "outputs": [],
   "source": [
    "# you want to take the attribute value of class for each object diffrently"
   ]
  },
  {
   "cell_type": "code",
   "execution_count": 55,
   "id": "246dbdaf-bbaf-4b51-bdd5-fd961f97f5de",
   "metadata": {},
   "outputs": [],
   "source": [
    "class LstOps:\n",
    "    def __init__(self,l):\n",
    "        self.l = l\n",
    "    def extract_even(self, l):\n",
    "        l1 = []\n",
    "        for i in l:\n",
    "            if i%2 == 0:\n",
    "                l1.append(i)\n",
    "        return l1\n",
    "    \n",
    "    def extract_odd(self, l):\n",
    "        l2 = []\n",
    "        for i in l:\n",
    "            if i%2 != 0:\n",
    "                l2.append(i)\n",
    "        return l2"
   ]
  },
  {
   "cell_type": "code",
   "execution_count": 52,
   "id": "4299afa3-1207-4d35-98e5-1e6f09efd53f",
   "metadata": {},
   "outputs": [
    {
     "ename": "TypeError",
     "evalue": "LstOps.__init__() missing 1 required positional argument: 'l1'",
     "output_type": "error",
     "traceback": [
      "\u001b[1;31m---------------------------------------------------------------------------\u001b[0m",
      "\u001b[1;31mTypeError\u001b[0m                                 Traceback (most recent call last)",
      "Cell \u001b[1;32mIn[52], line 1\u001b[0m\n\u001b[1;32m----> 1\u001b[0m oops \u001b[38;5;241m=\u001b[39m \u001b[43mLstOps\u001b[49m\u001b[43m(\u001b[49m\u001b[43m)\u001b[49m\n",
      "\u001b[1;31mTypeError\u001b[0m: LstOps.__init__() missing 1 required positional argument: 'l1'"
     ]
    }
   ],
   "source": [
    "oops = LstOps() #throw an error, while making object/instance of the class, \n",
    "#the first method that is executed is __init__\n",
    "#and init needs an arguement"
   ]
  },
  {
   "cell_type": "code",
   "execution_count": 63,
   "id": "4896cf07-eb48-49a9-b696-46847f04d0cf",
   "metadata": {},
   "outputs": [
    {
     "data": {
      "text/plain": [
       "[1, 10, 30, 31, 4, 5]"
      ]
     },
     "execution_count": 63,
     "metadata": {},
     "output_type": "execute_result"
    }
   ],
   "source": [
    "ops1 = LstOps([1,10 ,30, 31, 4, 5])\n",
    "ops1.l"
   ]
  },
  {
   "cell_type": "code",
   "execution_count": 64,
   "id": "2772e39d-c4ce-4615-8105-7cb79790ee07",
   "metadata": {},
   "outputs": [
    {
     "ename": "TypeError",
     "evalue": "LstOps.extract_even() missing 1 required positional argument: 'l'",
     "output_type": "error",
     "traceback": [
      "\u001b[1;31m---------------------------------------------------------------------------\u001b[0m",
      "\u001b[1;31mTypeError\u001b[0m                                 Traceback (most recent call last)",
      "Cell \u001b[1;32mIn[64], line 1\u001b[0m\n\u001b[1;32m----> 1\u001b[0m \u001b[43mops1\u001b[49m\u001b[38;5;241;43m.\u001b[39;49m\u001b[43mextract_even\u001b[49m\u001b[43m(\u001b[49m\u001b[43m)\u001b[49m \u001b[38;5;66;03m#throw an error. see the explanation below\u001b[39;00m\n",
      "\u001b[1;31mTypeError\u001b[0m: LstOps.extract_even() missing 1 required positional argument: 'l'"
     ]
    }
   ],
   "source": [
    "ops1.extract_even() #throw an error. see the explanation below"
   ]
  },
  {
   "cell_type": "code",
   "execution_count": 74,
   "id": "67136fc9-616d-410f-ad0d-8781b5af6951",
   "metadata": {},
   "outputs": [],
   "source": [
    "#extract odd and even nos from a list\n",
    "\n",
    "class ListOps:\n",
    "    def __init__(self, l): #magic method/dunder method. init means initialisation>>of variable\n",
    "        self.l = l\n",
    "        \n",
    "    def extract_even(self): #be careful as init has been used only pass self in the method and not the variable again\n",
    "        l = self.l\n",
    "        l1 = []\n",
    "        for i in l:\n",
    "            if i%2 == 0:\n",
    "                l1.append(i)\n",
    "        return l1\n",
    "    \n",
    "    def extract_odd(self):\n",
    "        l = self.l\n",
    "        l1 = []\n",
    "        for i in l:\n",
    "            if i%2 != 0:\n",
    "                l1.append(i)\n",
    "        return l1 "
   ]
  },
  {
   "cell_type": "code",
   "execution_count": 75,
   "id": "e35ac819-b432-4cc4-887c-92ab04f1e882",
   "metadata": {},
   "outputs": [],
   "source": [
    "oops = ListOps([1,2,3,4,5,56,5,4])"
   ]
  },
  {
   "cell_type": "code",
   "execution_count": 78,
   "id": "467912c2-66c2-4c7f-b457-e04aa918092a",
   "metadata": {},
   "outputs": [
    {
     "data": {
      "text/plain": [
       "[2, 4, 56, 4]"
      ]
     },
     "execution_count": 78,
     "metadata": {},
     "output_type": "execute_result"
    }
   ],
   "source": [
    "oops.extract_even()"
   ]
  },
  {
   "cell_type": "code",
   "execution_count": 79,
   "id": "58c75436-22e7-42d8-83dc-c671ca87e68b",
   "metadata": {},
   "outputs": [
    {
     "data": {
      "text/plain": [
       "[1, 3, 5, 5]"
      ]
     },
     "execution_count": 79,
     "metadata": {},
     "output_type": "execute_result"
    }
   ],
   "source": [
    "oops.extract_odd()"
   ]
  },
  {
   "cell_type": "code",
   "execution_count": 80,
   "id": "c435f23b-54b1-4b51-902c-7f5ccfbac3d9",
   "metadata": {},
   "outputs": [],
   "source": [
    "#extract odd and even nos from a list\n",
    "\n",
    "class ListOps:\n",
    "    def __init__(self, l): #magic method/dunder method. init means initialisation>>of variable\n",
    "        self.l2 = l #everywhere you will be able to access l using slef.l2\n",
    "        \n",
    "    def extract_even(self): #be careful as init has been used only pass self in the method and not the variable again\n",
    "        l = self.l2\n",
    "        l1 = []\n",
    "        for i in l:\n",
    "            if i%2 == 0:\n",
    "                l1.append(i)\n",
    "        return l1\n",
    "    \n",
    "    def extract_odd(self):\n",
    "        l = self.l2\n",
    "        l1 = []\n",
    "        for i in l:\n",
    "            if i%2 != 0:\n",
    "                l1.append(i)\n",
    "        return l1 "
   ]
  },
  {
   "cell_type": "code",
   "execution_count": 82,
   "id": "8030a924-bca5-4730-b8b5-2a91b1b9f8d2",
   "metadata": {},
   "outputs": [],
   "source": [
    "ops1 = ListOps([2,3,4,3])"
   ]
  },
  {
   "cell_type": "code",
   "execution_count": 83,
   "id": "f9df591e-3590-4274-a9ff-4bdd10724d20",
   "metadata": {},
   "outputs": [
    {
     "data": {
      "text/plain": [
       "[2, 4]"
      ]
     },
     "execution_count": 83,
     "metadata": {},
     "output_type": "execute_result"
    }
   ],
   "source": [
    "ops1.extract_even()"
   ]
  },
  {
   "cell_type": "code",
   "execution_count": 84,
   "id": "2e2ac15f-9809-4158-abf0-0b062035fcb6",
   "metadata": {},
   "outputs": [
    {
     "data": {
      "text/plain": [
       "[3, 3]"
      ]
     },
     "execution_count": 84,
     "metadata": {},
     "output_type": "execute_result"
    }
   ],
   "source": [
    "ops1.extract_odd()"
   ]
  },
  {
   "cell_type": "code",
   "execution_count": 85,
   "id": "764f419b-6be8-4877-af14-bb3a363b5d3f",
   "metadata": {},
   "outputs": [],
   "source": [
    "#multiple attributes\n",
    "#in a library a book is associated with author, title, name\n",
    "#every variable is fixed|"
   ]
  },
  {
   "cell_type": "code",
   "execution_count": 15,
   "id": "25944d0b-4d21-4c90-aad0-823d2cac64f6",
   "metadata": {},
   "outputs": [],
   "source": [
    "class Book:\n",
    "    def __init__(self):\n",
    "        self.book_name = \"Dsa\"\n",
    "        self.author = \"chunkey pandey\"\n",
    "        self.title = \"moj masti\"\n",
    "    def extract_detail(self):\n",
    "        print(f\"the name of book is {self.book_name} and author is {self.author}\")"
   ]
  },
  {
   "cell_type": "code",
   "execution_count": null,
   "id": "d2f31ea3-1af5-43ad-afac-eeefdf3af141",
   "metadata": {},
   "outputs": [],
   "source": []
  },
  {
   "cell_type": "code",
   "execution_count": 87,
   "id": "8018215a-956f-40ba-b224-4831fe2588fa",
   "metadata": {},
   "outputs": [],
   "source": [
    "aa = Book()"
   ]
  },
  {
   "cell_type": "code",
   "execution_count": 88,
   "id": "1c26e12d-fc9f-4fdb-a11d-54ec4a63c219",
   "metadata": {},
   "outputs": [
    {
     "name": "stdout",
     "output_type": "stream",
     "text": [
      "the name of book is Dsa and author is chunkey pandey\n"
     ]
    }
   ],
   "source": [
    "aa.extract_detail()"
   ]
  },
  {
   "cell_type": "code",
   "execution_count": 89,
   "id": "6eec41dd-fc57-44bc-a9b9-73b5cf16c589",
   "metadata": {},
   "outputs": [],
   "source": [
    "#to pass dynamic variable/data"
   ]
  },
  {
   "cell_type": "code",
   "execution_count": 1,
   "id": "894cd51c-b2d5-4e98-80de-f2337d70c029",
   "metadata": {},
   "outputs": [],
   "source": [
    "class Book:\n",
    "    def __init__(self , name , book):\n",
    "        self.aname = name\n",
    "        self.book_name = book\n",
    "    def detials(self):\n",
    "        print(f\"name is {self.aname} , book name is {self.book_name}\")"
   ]
  },
  {
   "cell_type": "code",
   "execution_count": 7,
   "id": "7ac2d020-3dd1-4cb6-8623-d3f3ce2267e2",
   "metadata": {},
   "outputs": [],
   "source": [
    "aaaa = Book(\"amitesh \" , \"data sci\")"
   ]
  },
  {
   "cell_type": "code",
   "execution_count": 9,
   "id": "218c79b3-55e1-4720-a695-1af632087196",
   "metadata": {},
   "outputs": [],
   "source": [
    "bb  = Book(\"Raajat\" , \"data anay\")"
   ]
  },
  {
   "cell_type": "code",
   "execution_count": 11,
   "id": "639ccb0d-b878-494c-a37f-9e0837c7127c",
   "metadata": {},
   "outputs": [
    {
     "name": "stdout",
     "output_type": "stream",
     "text": [
      "name is amitesh  , book name is data sci\n"
     ]
    }
   ],
   "source": [
    "aaaa.detials()"
   ]
  },
  {
   "cell_type": "code",
   "execution_count": 13,
   "id": "88009364-b482-46fc-98f0-5c2e7e6537ac",
   "metadata": {},
   "outputs": [
    {
     "name": "stdout",
     "output_type": "stream",
     "text": [
      "name is Raajat , book name is data anay\n"
     ]
    }
   ],
   "source": [
    "bb.detials()"
   ]
  },
  {
   "cell_type": "code",
   "execution_count": null,
   "id": "2437f914-f722-451f-af0c-8a39eb0b2d64",
   "metadata": {},
   "outputs": [],
   "source": []
  }
 ],
 "metadata": {
  "kernelspec": {
   "display_name": "Python 3 (ipykernel)",
   "language": "python",
   "name": "python3"
  },
  "language_info": {
   "codemirror_mode": {
    "name": "ipython",
    "version": 3
   },
   "file_extension": ".py",
   "mimetype": "text/x-python",
   "name": "python",
   "nbconvert_exporter": "python",
   "pygments_lexer": "ipython3",
   "version": "3.12.7"
  }
 },
 "nbformat": 4,
 "nbformat_minor": 5
}
