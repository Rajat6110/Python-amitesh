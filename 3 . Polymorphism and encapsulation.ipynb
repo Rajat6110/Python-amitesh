{
 "cells": [
  {
   "cell_type": "code",
   "execution_count": 2,
   "id": "ece37b6c-41e7-4f47-a89c-7f7f237e4821",
   "metadata": {},
   "outputs": [],
   "source": [
    "# polymorphism >> poly means many and morphism means froms / staes\n",
    "# refers to an object taking serverl froms depending on the methods / data"
   ]
  },
  {
   "cell_type": "code",
   "execution_count": 3,
   "id": "45f68951-55e0-45e4-a46e-4fce642e7d99",
   "metadata": {},
   "outputs": [
    {
     "data": {
      "text/plain": [
       "7"
      ]
     },
     "execution_count": 3,
     "metadata": {},
     "output_type": "execute_result"
    }
   ],
   "source": [
    "len(\"amitesh\")"
   ]
  },
  {
   "cell_type": "code",
   "execution_count": 4,
   "id": "df128e48-e20c-4a5f-a412-dc8bf81af19a",
   "metadata": {},
   "outputs": [
    {
     "data": {
      "text/plain": [
       "6"
      ]
     },
     "execution_count": 4,
     "metadata": {},
     "output_type": "execute_result"
    }
   ],
   "source": [
    "len([2,3,5,5,3,53])"
   ]
  },
  {
   "cell_type": "code",
   "execution_count": 5,
   "id": "c9812091-5de0-4f50-be98-3c7d2f6512f7",
   "metadata": {},
   "outputs": [],
   "source": [
    "def func(a,b):\n",
    "    return a  + b\n",
    "    "
   ]
  },
  {
   "cell_type": "code",
   "execution_count": 6,
   "id": "0ebfe626-9f35-41db-8c19-4b248b886f4c",
   "metadata": {},
   "outputs": [
    {
     "data": {
      "text/plain": [
       "7"
      ]
     },
     "execution_count": 6,
     "metadata": {},
     "output_type": "execute_result"
    }
   ],
   "source": [
    "func(3,4)"
   ]
  },
  {
   "cell_type": "code",
   "execution_count": 7,
   "id": "1273937e-78e3-4f29-bede-03b69fdaefb7",
   "metadata": {},
   "outputs": [
    {
     "data": {
      "text/plain": [
       "'Amitesh  soni'"
      ]
     },
     "execution_count": 7,
     "metadata": {},
     "output_type": "execute_result"
    }
   ],
   "source": [
    "func(\"Amitesh \" , \" soni\")"
   ]
  },
  {
   "cell_type": "code",
   "execution_count": 8,
   "id": "1baf5e35-320c-416b-86fd-179bb7d8e75c",
   "metadata": {},
   "outputs": [
    {
     "data": {
      "text/plain": [
       "[23, 4, 34, 553]"
      ]
     },
     "execution_count": 8,
     "metadata": {},
     "output_type": "execute_result"
    }
   ],
   "source": [
    "func([23,4], [34,553])"
   ]
  },
  {
   "cell_type": "code",
   "execution_count": 9,
   "id": "fa6c3349-c5f6-491d-8a05-862c8506c8ef",
   "metadata": {},
   "outputs": [],
   "source": [
    "# same + used innadding two number , string concatination and list combining"
   ]
  },
  {
   "cell_type": "code",
   "execution_count": 10,
   "id": "8182e6e5-9237-4277-a202-7fbf6d725711",
   "metadata": {},
   "outputs": [],
   "source": [
    "#observation>> func is taking different forms with respect to different data passed"
   ]
  },
  {
   "cell_type": "code",
   "execution_count": 12,
   "id": "fbaf97e0-0457-4750-a95f-5d19af114220",
   "metadata": {},
   "outputs": [],
   "source": [
    "class teacher_prespective:\n",
    "    def lec_info(self):\n",
    "        print(\"this will be according to teacher's prespective\")\n",
    "class student_prespective:\n",
    "    def lec_info(self):\n",
    "        print(\"this will be according to be studnet's prespective\")"
   ]
  },
  {
   "cell_type": "code",
   "execution_count": 13,
   "id": "72a28762-581c-438a-9d8b-2bc277441202",
   "metadata": {},
   "outputs": [],
   "source": [
    " ob1 = teacher_prespective()"
   ]
  },
  {
   "cell_type": "code",
   "execution_count": 14,
   "id": "f9942421-7916-44a4-913c-200c7794805b",
   "metadata": {},
   "outputs": [],
   "source": [
    "ob2 = student_prespective()"
   ]
  },
  {
   "cell_type": "code",
   "execution_count": 15,
   "id": "df33dfd1-6857-42d1-b4cf-847b576cb280",
   "metadata": {},
   "outputs": [],
   "source": [
    "class_obj = [ ob1 , ob2]"
   ]
  },
  {
   "cell_type": "code",
   "execution_count": 21,
   "id": "4a427c8a-2e4d-42b9-ae20-640597367a76",
   "metadata": {},
   "outputs": [],
   "source": [
    "def parcer(class_obj):\n",
    "    for i in class_obj:\n",
    "        i.lec_info()"
   ]
  },
  {
   "cell_type": "code",
   "execution_count": 22,
   "id": "aba7b3c9-2bd8-4adf-ba9b-3990126afdd7",
   "metadata": {},
   "outputs": [
    {
     "name": "stdout",
     "output_type": "stream",
     "text": [
      "this will be according to teacher's prespective\n",
      "this will be according to be studnet's prespective\n"
     ]
    }
   ],
   "source": [
    "parcer(class_obj)"
   ]
  },
  {
   "cell_type": "code",
   "execution_count": 23,
   "id": "8464387a-9f2c-4e8c-9903-6799ba360de2",
   "metadata": {},
   "outputs": [],
   "source": [
    "#Polymorphism in OOPS takes places in two ways:\n",
    "#Method overloading >> python doesnt support true method overloading\n",
    "#Method overriding"
   ]
  },
  {
   "cell_type": "code",
   "execution_count": 1,
   "id": "2544d4f5-11ce-4493-bc51-132dfe3c812c",
   "metadata": {},
   "outputs": [],
   "source": [
    "# method overloading "
   ]
  },
  {
   "cell_type": "code",
   "execution_count": 26,
   "id": "5219bafa-31db-49a6-ae7c-64b76eacf332",
   "metadata": {},
   "outputs": [],
   "source": [
    "class A:\n",
    "    def ab(self):\n",
    "        print(\"welcome to class\")\n",
    "    def ab(self , name = \"\"):\n",
    "        print(\"welcome to pw class with name \" , name )\n",
    "    def ab(self , name = \"\" ,course = \"\" ):\n",
    "        print(\"welcome to pw cclass with name and coruse\" , name , course)"
   ]
  },
  {
   "cell_type": "code",
   "execution_count": 27,
   "id": "ab25fe93-3afb-44ba-b609-33dc088d3ef1",
   "metadata": {},
   "outputs": [],
   "source": [
    "ob = A()"
   ]
  },
  {
   "cell_type": "code",
   "execution_count": 28,
   "id": "159c0c51-b27f-4f50-bd4e-27833ff69ed3",
   "metadata": {},
   "outputs": [
    {
     "name": "stdout",
     "output_type": "stream",
     "text": [
      "welcome to pw cclass with name and coruse  \n"
     ]
    }
   ],
   "source": [
    "ob.ab()"
   ]
  },
  {
   "cell_type": "code",
   "execution_count": 16,
   "id": "4c57d713-19b0-4555-9efd-9b9cdcec06d5",
   "metadata": {},
   "outputs": [
    {
     "name": "stdout",
     "output_type": "stream",
     "text": [
      "welcome to pw cclass with name and coruse amitesh \n"
     ]
    }
   ],
   "source": [
    "ob.student(\"amitesh\")"
   ]
  },
  {
   "cell_type": "code",
   "execution_count": 18,
   "id": "6033bf2e-3551-4574-b129-fc42f0a1f5c6",
   "metadata": {},
   "outputs": [],
   "source": [
    "class Student:\n",
    "    def student(self):\n",
    "        print(\"Wecome to pwskills class\")\n",
    "    def student(self, name = \"\"):\n",
    "        print(\"Wecome to pwskills class\", name)\n",
    "    def student(self, name = \"\", course = \"\"):\n",
    "        print(\"Wecome to pwskills class\", name, course)"
   ]
  },
  {
   "cell_type": "code",
   "execution_count": 19,
   "id": "cfb18dae-8017-4c5f-afb1-7e52129c589e",
   "metadata": {},
   "outputs": [],
   "source": [
    "stud = Student()"
   ]
  },
  {
   "cell_type": "code",
   "execution_count": 20,
   "id": "819259f0-b77f-4c34-a837-21f53ea7bb27",
   "metadata": {},
   "outputs": [
    {
     "name": "stdout",
     "output_type": "stream",
     "text": [
      "Wecome to pwskills class  \n"
     ]
    }
   ],
   "source": [
    "stud.student()"
   ]
  },
  {
   "cell_type": "code",
   "execution_count": 21,
   "id": "69c1a79b-f498-43e2-bc98-b4f071cbecba",
   "metadata": {},
   "outputs": [
    {
     "name": "stdout",
     "output_type": "stream",
     "text": [
      "Wecome to pwskills class Amaitesh \n"
     ]
    }
   ],
   "source": [
    "stud.student(\"Amaitesh\")"
   ]
  },
  {
   "cell_type": "code",
   "execution_count": 22,
   "id": "03f56453-6359-4fd1-a16a-c32b6ef7cd0e",
   "metadata": {},
   "outputs": [
    {
     "name": "stdout",
     "output_type": "stream",
     "text": [
      "Wecome to pwskills class amitesh DS\n"
     ]
    }
   ],
   "source": [
    "stud.student(\"amitesh\" , \"DS\")"
   ]
  },
  {
   "cell_type": "code",
   "execution_count": 32,
   "id": "641cd847-40b8-420b-a257-fb8eab1bcdcd",
   "metadata": {},
   "outputs": [],
   "source": [
    "class A:\n",
    "    def ab(self , name = \"\" ,course = \"\" ):\n",
    "        print(\"welcome to pw cclass \" , name , course)"
   ]
  },
  {
   "cell_type": "code",
   "execution_count": 33,
   "id": "184493a7-19a0-49aa-9408-f6cce53b7d02",
   "metadata": {},
   "outputs": [],
   "source": [
    "stud = A()"
   ]
  },
  {
   "cell_type": "code",
   "execution_count": 34,
   "id": "9703d8c0-de19-4f5f-bd32-309014bd79fc",
   "metadata": {},
   "outputs": [
    {
     "name": "stdout",
     "output_type": "stream",
     "text": [
      "welcome to pw cclass   \n"
     ]
    }
   ],
   "source": [
    "stud.ab()"
   ]
  },
  {
   "cell_type": "code",
   "execution_count": 35,
   "id": "cd79b52d-e078-4055-b1e4-2f71247217bc",
   "metadata": {},
   "outputs": [
    {
     "name": "stdout",
     "output_type": "stream",
     "text": [
      "welcome to pw cclass  amitesg \n"
     ]
    }
   ],
   "source": [
    "stud.ab(\"amitesg\")"
   ]
  },
  {
   "cell_type": "code",
   "execution_count": 36,
   "id": "ac361623-7521-4a20-926d-b0aef6f08d3a",
   "metadata": {},
   "outputs": [
    {
     "name": "stdout",
     "output_type": "stream",
     "text": [
      "welcome to pw cclass  Amitesg adnhajh\n"
     ]
    }
   ],
   "source": [
    "stud.ab(\"Amitesg\", \"adnhajh\")"
   ]
  },
  {
   "cell_type": "code",
   "execution_count": 38,
   "id": "ba1e38d2-4147-49cc-9f77-156c8db2475f",
   "metadata": {},
   "outputs": [],
   "source": [
    "#method overloading >> student method is taking different forms, \n",
    "#the last methods overloads the previous ones in the same class\n",
    "#method overloading happens in the same class"
   ]
  },
  {
   "cell_type": "code",
   "execution_count": 44,
   "id": "f8636e12-205e-4b91-8582-2bd8a2730143",
   "metadata": {},
   "outputs": [],
   "source": [
    "# METHOD OVERRIDNG"
   ]
  },
  {
   "cell_type": "code",
   "execution_count": 1,
   "id": "45bff94d-2d3f-42a6-9aca-77e550530a09",
   "metadata": {},
   "outputs": [],
   "source": [
    "# method in parent class  and child class with the same signature , \n",
    "# the child class method will be executed"
   ]
  },
  {
   "cell_type": "code",
   "execution_count": 7,
   "id": "c93677a4-ab62-4523-997c-cb0362da89f9",
   "metadata": {},
   "outputs": [],
   "source": [
    "class Animal:\n",
    "    def sound(self):\n",
    "        print(\"animal sound\")\n",
    "class Cat(Animal):\n",
    "    def sound(self):\n",
    "        print(\"cat meowwwww\")"
   ]
  },
  {
   "cell_type": "code",
   "execution_count": 8,
   "id": "fa0e446e-b2f4-457e-bf97-e0deafdf852c",
   "metadata": {},
   "outputs": [],
   "source": [
    "amn = Animal()"
   ]
  },
  {
   "cell_type": "code",
   "execution_count": 9,
   "id": "e719ae74-1bd9-42af-9c06-4cf79768f9b7",
   "metadata": {},
   "outputs": [
    {
     "name": "stdout",
     "output_type": "stream",
     "text": [
      "animal sound\n"
     ]
    }
   ],
   "source": [
    "amn.sound()"
   ]
  },
  {
   "cell_type": "code",
   "execution_count": 10,
   "id": "66c8061a-1b87-4c6d-a50f-6ff7fed920a6",
   "metadata": {},
   "outputs": [],
   "source": [
    "cat = Cat()"
   ]
  },
  {
   "cell_type": "code",
   "execution_count": 11,
   "id": "51d42d37-9fd8-4dd1-b896-405a8418d9ea",
   "metadata": {},
   "outputs": [
    {
     "name": "stdout",
     "output_type": "stream",
     "text": [
      "cat meowwwww\n"
     ]
    }
   ],
   "source": [
    "cat.sound()"
   ]
  },
  {
   "cell_type": "markdown",
   "id": "9ab25cf2-7d05-45b4-8670-5ef24ab840e2",
   "metadata": {},
   "source": [
    "# ENCAPSULATION "
   ]
  },
  {
   "cell_type": "code",
   "execution_count": 12,
   "id": "f5c3cd10-7d51-43d0-82ba-757975364a6f",
   "metadata": {},
   "outputs": [],
   "source": [
    "# MEANS HIDING SOMTHING\n",
    "# OR BUNDLING OF DATA AND METHODS OF A CLASS"
   ]
  },
  {
   "cell_type": "code",
   "execution_count": 15,
   "id": "f038fb4d-7f2b-44f2-8fb1-9c0c3e45dd81",
   "metadata": {},
   "outputs": [],
   "source": [
    "#ACCESS MODIFIER"
   ]
  },
  {
   "cell_type": "code",
   "execution_count": 16,
   "id": "70c2cafa-13ff-4ad2-9a0a-99044b84f36f",
   "metadata": {},
   "outputs": [],
   "source": [
    "# 1 PUBLIC\n",
    "# 2 PROTECTED\n",
    "# 3 PRIVATE"
   ]
  },
  {
   "cell_type": "code",
   "execution_count": 17,
   "id": "9c8ec7e3-7cc1-44f5-9d2d-09f2b25edacb",
   "metadata": {},
   "outputs": [],
   "source": [
    "class Student:\n",
    "    def __init__(self,name , degree):\n",
    "        self.name = name\n",
    "        self.degree = degree\n",
    "stud =  Student(\"ram \" , \"stud\")"
   ]
  },
  {
   "cell_type": "code",
   "execution_count": 18,
   "id": "926dc895-426c-417a-8bf0-53e8a4a7a8a8",
   "metadata": {},
   "outputs": [
    {
     "data": {
      "text/plain": [
       "'stud'"
      ]
     },
     "execution_count": 18,
     "metadata": {},
     "output_type": "execute_result"
    }
   ],
   "source": [
    "stud.degree"
   ]
  },
  {
   "cell_type": "code",
   "execution_count": 19,
   "id": "ef4659aa-cafb-4ae1-b30d-e6a762ba27fe",
   "metadata": {},
   "outputs": [
    {
     "data": {
      "text/plain": [
       "'ram '"
      ]
     },
     "execution_count": 19,
     "metadata": {},
     "output_type": "execute_result"
    }
   ],
   "source": [
    "stud.name"
   ]
  },
  {
   "cell_type": "code",
   "execution_count": 22,
   "id": "a986fa61-9d35-481a-9c64-457110757655",
   "metadata": {},
   "outputs": [],
   "source": [
    "stud.degree = \"btch\" # data is public and any one can change this\n"
   ]
  },
  {
   "cell_type": "code",
   "execution_count": 23,
   "id": "be301e50-37bb-430e-8cf3-14d1ca395090",
   "metadata": {},
   "outputs": [
    {
     "data": {
      "text/plain": [
       "'btch'"
      ]
     },
     "execution_count": 23,
     "metadata": {},
     "output_type": "execute_result"
    }
   ],
   "source": [
    "stud.degree"
   ]
  },
  {
   "cell_type": "code",
   "execution_count": 35,
   "id": "93b47eee-3304-4769-980f-e5fc7c331c6b",
   "metadata": {},
   "outputs": [],
   "source": [
    "class Stud:\n",
    "    def __init__(self , name , degree):\n",
    "        self.name = name\n",
    "        self.degree = degree\n",
    "    def show(self):\n",
    "        #accesing and public variable/data\n",
    "        print(\"name\", self.name, \"degree\" , self.degree)\n",
    "         # acessing the public data member inside the other method of same class"
   ]
  },
  {
   "cell_type": "code",
   "execution_count": 36,
   "id": "080f73d6-941b-4beb-8aae-49557e575007",
   "metadata": {},
   "outputs": [],
   "source": [
    "am = Stud(\"amitesh\", \"becth\")"
   ]
  },
  {
   "cell_type": "code",
   "execution_count": 37,
   "id": "8e481415-84c1-4538-9434-e6d6e7f1f614",
   "metadata": {},
   "outputs": [
    {
     "name": "stdout",
     "output_type": "stream",
     "text": [
      "name amitesh degree becth\n"
     ]
    }
   ],
   "source": [
    "am.show()"
   ]
  },
  {
   "cell_type": "code",
   "execution_count": 43,
   "id": "2bdd14f3-b0bd-4782-9fa3-49dfaacde4da",
   "metadata": {},
   "outputs": [],
   "source": [
    "class Student:\n",
    "    def __init__(self ,name , surname):\n",
    "        self.name = name\n",
    "        self.surname = surname \n",
    "    def show(self):\n",
    "        pass\n",
    "class SatyamBhai(Student):\n",
    "    def baal(self):\n",
    "        print(\"bhak bsdk - gali by -\" , self.name , \"surname hai bhai ka\" , self.surname)\n",
    "# in this problem we have used data members of one class and accesed by child class ( public modefier concept|)"
   ]
  },
  {
   "cell_type": "code",
   "execution_count": 44,
   "id": "546dd497-6a53-41c1-8e72-58d13cee7213",
   "metadata": {},
   "outputs": [],
   "source": [
    "ss = SatyamBhai(\"satyam bhai \" , \"btech ds cse\")"
   ]
  },
  {
   "cell_type": "code",
   "execution_count": 45,
   "id": "009f9271-841c-4245-8e96-21f8cef1089a",
   "metadata": {},
   "outputs": [
    {
     "name": "stdout",
     "output_type": "stream",
     "text": [
      "bhak bsdk - gali by - satyam bhai  surname hai bhai ka btech ds cse\n"
     ]
    }
   ],
   "source": [
    "ss.baal()"
   ]
  },
  {
   "cell_type": "code",
   "execution_count": 1,
   "id": "475b1fb2-bb16-4f7b-909e-497aa4a0f58b",
   "metadata": {},
   "outputs": [],
   "source": [
    "#private >> the data and method can only accesible within its class , use __ to make private"
   ]
  },
  {
   "cell_type": "code",
   "execution_count": 84,
   "id": "3d2c7b85-faa6-468e-9b57-c3d75192c8c0",
   "metadata": {},
   "outputs": [],
   "source": [
    "class Student:\n",
    "    def __init__(self ,name , surname):\n",
    "        self.__name = name\n",
    "        self.surname = surname \n",
    "    def show(self):\n",
    "        pass\n",
    "class SatyamBhai(Student):\n",
    "    def baal(self):\n",
    "        print(\"bhak bsdk - gali by -\" , self.__name , \"surname hai bhai ka\" , self.surname)\n"
   ]
  },
  {
   "cell_type": "code",
   "execution_count": 85,
   "id": "65027eb3-a867-48dc-8cd6-33bd7c0113d5",
   "metadata": {},
   "outputs": [],
   "source": [
    "sb = SatyamBhai(\"am\" , \"djh\")"
   ]
  },
  {
   "cell_type": "code",
   "execution_count": 86,
   "id": "1d1cc62e-18cd-4121-8b96-d11f72ecf642",
   "metadata": {},
   "outputs": [
    {
     "data": {
      "text/plain": [
       "'djh'"
      ]
     },
     "execution_count": 86,
     "metadata": {},
     "output_type": "execute_result"
    }
   ],
   "source": [
    "sb.surname"
   ]
  },
  {
   "cell_type": "code",
   "execution_count": 87,
   "id": "c75f147e-f04e-4a9d-b296-a9aa56d5fe05",
   "metadata": {},
   "outputs": [
    {
     "data": {
      "text/plain": [
       "'djh'"
      ]
     },
     "execution_count": 87,
     "metadata": {},
     "output_type": "execute_result"
    }
   ],
   "source": [
    "sb.surname"
   ]
  },
  {
   "cell_type": "code",
   "execution_count": 88,
   "id": "0345b773-8249-4f06-82a8-e1651c38a46c",
   "metadata": {},
   "outputs": [],
   "source": [
    "sb.show()"
   ]
  },
  {
   "cell_type": "code",
   "execution_count": 89,
   "id": "b349d9b7-3540-417b-8267-ad3f6e5932ab",
   "metadata": {},
   "outputs": [
    {
     "ename": "AttributeError",
     "evalue": "'SatyamBhai' object has no attribute '_SatyamBhai__name'",
     "output_type": "error",
     "traceback": [
      "\u001b[1;31m---------------------------------------------------------------------------\u001b[0m",
      "\u001b[1;31mAttributeError\u001b[0m                            Traceback (most recent call last)",
      "Cell \u001b[1;32mIn[89], line 1\u001b[0m\n\u001b[1;32m----> 1\u001b[0m \u001b[43msb\u001b[49m\u001b[38;5;241;43m.\u001b[39;49m\u001b[43mbaal\u001b[49m\u001b[43m(\u001b[49m\u001b[43m)\u001b[49m\n",
      "Cell \u001b[1;32mIn[84], line 9\u001b[0m, in \u001b[0;36mSatyamBhai.baal\u001b[1;34m(self)\u001b[0m\n\u001b[0;32m      8\u001b[0m \u001b[38;5;28;01mdef\u001b[39;00m \u001b[38;5;21mbaal\u001b[39m(\u001b[38;5;28mself\u001b[39m):\n\u001b[1;32m----> 9\u001b[0m     \u001b[38;5;28mprint\u001b[39m(\u001b[38;5;124m\"\u001b[39m\u001b[38;5;124mbhak bsdk - gali by -\u001b[39m\u001b[38;5;124m\"\u001b[39m , \u001b[38;5;28;43mself\u001b[39;49m\u001b[38;5;241;43m.\u001b[39;49m\u001b[43m__name\u001b[49m , \u001b[38;5;124m\"\u001b[39m\u001b[38;5;124msurname hai bhai ka\u001b[39m\u001b[38;5;124m\"\u001b[39m , \u001b[38;5;28mself\u001b[39m\u001b[38;5;241m.\u001b[39msurname)\n",
      "\u001b[1;31mAttributeError\u001b[0m: 'SatyamBhai' object has no attribute '_SatyamBhai__name'"
     ]
    }
   ],
   "source": [
    "sb.baal()"
   ]
  },
  {
   "cell_type": "code",
   "execution_count": 54,
   "id": "46ffa73a-d3e9-4ba8-bc36-66f84ce802e8",
   "metadata": {},
   "outputs": [
    {
     "ename": "AttributeError",
     "evalue": "'SatyamBhai' object has no attribute '__name'",
     "output_type": "error",
     "traceback": [
      "\u001b[1;31m---------------------------------------------------------------------------\u001b[0m",
      "\u001b[1;31mAttributeError\u001b[0m                            Traceback (most recent call last)",
      "Cell \u001b[1;32mIn[54], line 1\u001b[0m\n\u001b[1;32m----> 1\u001b[0m \u001b[43msb\u001b[49m\u001b[38;5;241;43m.\u001b[39;49m\u001b[43m__name\u001b[49m\n",
      "\u001b[1;31mAttributeError\u001b[0m: 'SatyamBhai' object has no attribute '__name'"
     ]
    }
   ],
   "source": [
    "sb.__name"
   ]
  },
  {
   "cell_type": "code",
   "execution_count": 55,
   "id": "793cc846-beef-4c35-b2f5-0d2d65724e5f",
   "metadata": {},
   "outputs": [],
   "source": [
    "# we cannt acces the name since it is an private "
   ]
  },
  {
   "cell_type": "code",
   "execution_count": 69,
   "id": "7dc6c3fc-f5de-45ed-90cc-9129d9bac88e",
   "metadata": {},
   "outputs": [],
   "source": [
    "class Student:\n",
    "    def __init__(self , name , degree):\n",
    "        self.name  = name\n",
    "        self.__degree = degree\n",
    "    def show(self):\n",
    "        print(\"name \" , self.name, \"degree\" , self.__degree)"
   ]
  },
  {
   "cell_type": "code",
   "execution_count": 70,
   "id": "a8322010-da77-48f9-b061-26598a69063b",
   "metadata": {},
   "outputs": [],
   "source": [
    "a = Student(\"nam\" , \"an\")"
   ]
  },
  {
   "cell_type": "code",
   "execution_count": 71,
   "id": "9bf53cc0-3d62-40f5-bddf-89e61dbab6c5",
   "metadata": {},
   "outputs": [
    {
     "ename": "AttributeError",
     "evalue": "'Student' object has no attribute 'degree'",
     "output_type": "error",
     "traceback": [
      "\u001b[1;31m---------------------------------------------------------------------------\u001b[0m",
      "\u001b[1;31mAttributeError\u001b[0m                            Traceback (most recent call last)",
      "Cell \u001b[1;32mIn[71], line 1\u001b[0m\n\u001b[1;32m----> 1\u001b[0m \u001b[43ma\u001b[49m\u001b[38;5;241;43m.\u001b[39;49m\u001b[43mdegree\u001b[49m\n",
      "\u001b[1;31mAttributeError\u001b[0m: 'Student' object has no attribute 'degree'"
     ]
    }
   ],
   "source": [
    "a.degree # since degree is priavte we directly cannot acces it"
   ]
  },
  {
   "cell_type": "code",
   "execution_count": 72,
   "id": "59f98ee1-55ba-4c9f-a3bb-6c9e38e2ff53",
   "metadata": {},
   "outputs": [
    {
     "data": {
      "text/plain": [
       "'nam'"
      ]
     },
     "execution_count": 72,
     "metadata": {},
     "output_type": "execute_result"
    }
   ],
   "source": [
    "a.name"
   ]
  },
  {
   "cell_type": "code",
   "execution_count": 74,
   "id": "2ab3576d-e138-462c-ac0f-847156e4e54b",
   "metadata": {},
   "outputs": [
    {
     "name": "stdout",
     "output_type": "stream",
     "text": [
      "name  nam degree an\n"
     ]
    }
   ],
   "source": [
    "a.show()"
   ]
  },
  {
   "cell_type": "code",
   "execution_count": 78,
   "id": "7dd5d124-8522-4f33-8bef-dcec7c1cb945",
   "metadata": {},
   "outputs": [
    {
     "data": {
      "text/plain": [
       "'an'"
      ]
     },
     "execution_count": 78,
     "metadata": {},
     "output_type": "execute_result"
    }
   ],
   "source": [
    "a._Student__degree # we can access throgh this way\n"
   ]
  },
  {
   "cell_type": "code",
   "execution_count": 90,
   "id": "8b954465-0218-4a60-ba1c-41106aa8dc51",
   "metadata": {},
   "outputs": [],
   "source": [
    "# a priavte method"
   ]
  },
  {
   "cell_type": "code",
   "execution_count": 91,
   "id": "2cee50a9-8d33-4147-81e6-132819fcf631",
   "metadata": {},
   "outputs": [],
   "source": [
    "class Student:\n",
    "    def __init__(self , name , degree):\n",
    "        self.name  = name\n",
    "        self.__degree = degree\n",
    "    def show(self):\n",
    "        print(\"name \" , self.name, \"degree\" , self.__degree)\n",
    "    def __privatemethod(self):\n",
    "        print(\"this is a private method\")"
   ]
  },
  {
   "cell_type": "code",
   "execution_count": 95,
   "id": "c430e74a-dde4-43ad-b591-858128b6f505",
   "metadata": {},
   "outputs": [],
   "source": [
    "st = Student(\"and\", \"sf\")\n"
   ]
  },
  {
   "cell_type": "code",
   "execution_count": 96,
   "id": "eeb6a22d-1a70-4573-9e0c-343445d398a0",
   "metadata": {},
   "outputs": [
    {
     "name": "stdout",
     "output_type": "stream",
     "text": [
      "name  and degree sf\n"
     ]
    }
   ],
   "source": [
    "st.show()"
   ]
  },
  {
   "cell_type": "code",
   "execution_count": 98,
   "id": "2b4b5722-d8bd-47df-921f-e6f2a1f6d8db",
   "metadata": {},
   "outputs": [
    {
     "name": "stdout",
     "output_type": "stream",
     "text": [
      "this is a private method\n"
     ]
    }
   ],
   "source": [
    "st._Student__privatemethod() # by doing this we can access privae function"
   ]
  },
  {
   "cell_type": "code",
   "execution_count": 100,
   "id": "180f1993-f50e-4625-8040-2e230f77c6bf",
   "metadata": {},
   "outputs": [],
   "source": [
    "# way to provide an option to see the private method >> a wrapper"
   ]
  },
  {
   "cell_type": "code",
   "execution_count": 101,
   "id": "a67c9604-0533-437b-bf7a-0c669fd8904c",
   "metadata": {},
   "outputs": [],
   "source": [
    "class Student:\n",
    "    def __init__(self , name , degree):\n",
    "        self.name  = name\n",
    "        self.__degree = degree\n",
    "    def show(self):\n",
    "        print(\"name \" , self.name, \"degree\" , self.__degree)\n",
    "    def __privatemethod(self):\n",
    "        print(\"this is a private method\")\n",
    "    def access_private_method(self):\n",
    "        self.__privatemethod()\n",
    "        "
   ]
  },
  {
   "cell_type": "code",
   "execution_count": 103,
   "id": "a16d1765-cad9-4d83-88f9-21bd8e74f122",
   "metadata": {},
   "outputs": [],
   "source": [
    "ob1 = Student(\"am\" , \"daf\")"
   ]
  },
  {
   "cell_type": "code",
   "execution_count": 104,
   "id": "58394ce1-794a-4a17-8e08-afbcd447f934",
   "metadata": {},
   "outputs": [
    {
     "name": "stdout",
     "output_type": "stream",
     "text": [
      "this is a private method\n"
     ]
    }
   ],
   "source": [
    "ob1.access_private_method()"
   ]
  },
  {
   "cell_type": "code",
   "execution_count": 105,
   "id": "4dd99a98-e0fb-4831-9ee0-a3ee0cd62564",
   "metadata": {},
   "outputs": [
    {
     "name": "stdout",
     "output_type": "stream",
     "text": [
      "name  am degree daf\n"
     ]
    }
   ],
   "source": [
    "ob1.show()"
   ]
  },
  {
   "cell_type": "code",
   "execution_count": 106,
   "id": "804a26eb-9498-44ab-a61a-4a6c2a14bbe6",
   "metadata": {},
   "outputs": [],
   "source": [
    "# another use case"
   ]
  },
  {
   "cell_type": "code",
   "execution_count": 111,
   "id": "5a18c35d-644f-464b-9b2b-0a7c155e42b0",
   "metadata": {},
   "outputs": [],
   "source": [
    "class Car:\n",
    "    def __init__(self , name , year , model , speed):\n",
    "        self.__name = name\n",
    "        self.__year = year\n",
    "        self.__model = model\n",
    "        self.__speed = speed"
   ]
  },
  {
   "cell_type": "code",
   "execution_count": 112,
   "id": "c78f9030-1787-41e5-9d4c-d98967ed9a02",
   "metadata": {},
   "outputs": [],
   "source": [
    "c = Car(\"tiago\", \" 2018\" , \"xz\", \"140\")"
   ]
  },
  {
   "cell_type": "code",
   "execution_count": 114,
   "id": "0c8fd339-0d18-447d-8826-fced7cb5ac12",
   "metadata": {},
   "outputs": [
    {
     "ename": "AttributeError",
     "evalue": "'Car' object has no attribute 'name'",
     "output_type": "error",
     "traceback": [
      "\u001b[1;31m---------------------------------------------------------------------------\u001b[0m",
      "\u001b[1;31mAttributeError\u001b[0m                            Traceback (most recent call last)",
      "Cell \u001b[1;32mIn[114], line 1\u001b[0m\n\u001b[1;32m----> 1\u001b[0m \u001b[43mc\u001b[49m\u001b[38;5;241;43m.\u001b[39;49m\u001b[43mname\u001b[49m\n\u001b[0;32m      2\u001b[0m \u001b[38;5;66;03m# science all variables are private , it will throw an error\u001b[39;00m\n",
      "\u001b[1;31mAttributeError\u001b[0m: 'Car' object has no attribute 'name'"
     ]
    }
   ],
   "source": [
    "c.name\n",
    "# science all variables are private , it will throw an error"
   ]
  },
  {
   "cell_type": "code",
   "execution_count": 129,
   "id": "4eef7daf-55ac-46c3-be9d-fbed1cf7b79c",
   "metadata": {},
   "outputs": [],
   "source": [
    "class Car:\n",
    "    def __init__(self , name , year , model , speed):\n",
    "        self.__name = name\n",
    "        self.__year = year\n",
    "        self.__model = model\n",
    "        self.__speed = speed\n",
    "    def set_speed(self, speed):\n",
    "        self.__speed = 0 if speed < 0 else speed\n",
    "        return self.__speed\n",
    "    def get_speed(self):\n",
    "        return self.__speed"
   ]
  },
  {
   "cell_type": "code",
   "execution_count": 130,
   "id": "f9aee0f8-39e7-4d58-86b0-166aae84ba1e",
   "metadata": {},
   "outputs": [],
   "source": [
    "c = Car(\"amitesh\" , \"dd\" , \"80\" , \"fs\")"
   ]
  },
  {
   "cell_type": "code",
   "execution_count": 131,
   "id": "009f4758-00af-4e36-ad41-23bb02a42a38",
   "metadata": {},
   "outputs": [
    {
     "data": {
      "text/plain": [
       "80"
      ]
     },
     "execution_count": 131,
     "metadata": {},
     "output_type": "execute_result"
    }
   ],
   "source": [
    "c.set_speed(80)"
   ]
  },
  {
   "cell_type": "code",
   "execution_count": 132,
   "id": "e94fc6c0-36e7-4213-9c91-f43cfd7b6d65",
   "metadata": {},
   "outputs": [
    {
     "data": {
      "text/plain": [
       "80"
      ]
     },
     "execution_count": 132,
     "metadata": {},
     "output_type": "execute_result"
    }
   ],
   "source": [
    "c.get_speed()"
   ]
  },
  {
   "cell_type": "code",
   "execution_count": 162,
   "id": "85e6b9da-fd51-4164-a50f-5aa6d96f3955",
   "metadata": {},
   "outputs": [],
   "source": [
    " # USE CASE\n",
    "class Bank:\n",
    "    def __init__(self, balance):\n",
    "        self.__balance = balance\n",
    "    def deposit(self,amount):\n",
    "        self.__balance = self.__balance + amount\n",
    "    def withdraw(self,amount):\n",
    "        if self.__balance >= amount:\n",
    "            self.__balance = self.__balance - amount\n",
    "            return \"withdraw succesfull\"\n",
    "        else:\n",
    "            return \"error insuficent balance\"\n",
    "            \n",
    "    def get_balance(self):\n",
    "        return self.__balance\n",
    "        "
   ]
  },
  {
   "cell_type": "code",
   "execution_count": 152,
   "id": "6365eb7a-3942-420d-b34e-2934aa0ef4a6",
   "metadata": {},
   "outputs": [],
   "source": [
    "acc1 = Bank(1000)"
   ]
  },
  {
   "cell_type": "code",
   "execution_count": 153,
   "id": "2a2e2782-15ac-43cf-bb03-cab8b7eefe39",
   "metadata": {},
   "outputs": [
    {
     "data": {
      "text/plain": [
       "1000"
      ]
     },
     "execution_count": 153,
     "metadata": {},
     "output_type": "execute_result"
    }
   ],
   "source": [
    "acc1.get_balance()"
   ]
  },
  {
   "cell_type": "code",
   "execution_count": 154,
   "id": "a6bca25d-dd13-43c6-be6d-b1f0342bc051",
   "metadata": {},
   "outputs": [],
   "source": [
    "acc1.deposit(2000)"
   ]
  },
  {
   "cell_type": "code",
   "execution_count": 155,
   "id": "dbc3567c-c24f-42a1-a0cd-647947506735",
   "metadata": {},
   "outputs": [
    {
     "data": {
      "text/plain": [
       "3000"
      ]
     },
     "execution_count": 155,
     "metadata": {},
     "output_type": "execute_result"
    }
   ],
   "source": [
    "acc1.get_balance()"
   ]
  },
  {
   "cell_type": "code",
   "execution_count": 156,
   "id": "1738e371-0162-447d-a4d9-1c7fbcd2fc9a",
   "metadata": {},
   "outputs": [
    {
     "data": {
      "text/plain": [
       "'withdraw succesfull'"
      ]
     },
     "execution_count": 156,
     "metadata": {},
     "output_type": "execute_result"
    }
   ],
   "source": [
    "acc1.withdraw(1000)"
   ]
  },
  {
   "cell_type": "code",
   "execution_count": 157,
   "id": "e4186b16-8e25-4224-ab6b-a995142db518",
   "metadata": {},
   "outputs": [
    {
     "data": {
      "text/plain": [
       "2000"
      ]
     },
     "execution_count": 157,
     "metadata": {},
     "output_type": "execute_result"
    }
   ],
   "source": [
    "acc1.get_balance()"
   ]
  },
  {
   "cell_type": "code",
   "execution_count": 158,
   "id": "6c19c8b6-e128-4458-8317-eb62b6475267",
   "metadata": {},
   "outputs": [
    {
     "data": {
      "text/plain": [
       "'error insuficent balance'"
      ]
     },
     "execution_count": 158,
     "metadata": {},
     "output_type": "execute_result"
    }
   ],
   "source": [
    "acc1.withdraw(3000)"
   ]
  },
  {
   "cell_type": "code",
   "execution_count": 159,
   "id": "4cd36e99-0687-4f87-a148-da925a85122f",
   "metadata": {},
   "outputs": [
    {
     "data": {
      "text/plain": [
       "2000"
      ]
     },
     "execution_count": 159,
     "metadata": {},
     "output_type": "execute_result"
    }
   ],
   "source": [
    "acc1.get_balance()"
   ]
  },
  {
   "cell_type": "code",
   "execution_count": 160,
   "id": "ec2f2a1e-5d9b-4424-8a35-5c386e7538d1",
   "metadata": {},
   "outputs": [
    {
     "data": {
      "text/plain": [
       "'withdraw succesfull'"
      ]
     },
     "execution_count": 160,
     "metadata": {},
     "output_type": "execute_result"
    }
   ],
   "source": [
    "acc1.withdraw(2000)"
   ]
  },
  {
   "cell_type": "code",
   "execution_count": 161,
   "id": "4c52bab4-8332-4012-9234-4c8f637429f8",
   "metadata": {},
   "outputs": [
    {
     "data": {
      "text/plain": [
       "0"
      ]
     },
     "execution_count": 161,
     "metadata": {},
     "output_type": "execute_result"
    }
   ],
   "source": [
    "acc1.get_balance()"
   ]
  },
  {
   "cell_type": "code",
   "execution_count": 164,
   "id": "d826530a-b2b5-4c2a-8ccd-298908b8ee23",
   "metadata": {},
   "outputs": [],
   "source": [
    "# PROTECTED >> WITHIN THE CLASS AND ITS SUBCLASS , PROTECTED MEMBER CAN BE ACCESS ( _) SINGELE UNDERCASE"
   ]
  },
  {
   "cell_type": "code",
   "execution_count": 173,
   "id": "f84eb877-6984-4bf4-bb56-0936a04c3d2e",
   "metadata": {},
   "outputs": [],
   "source": [
    "class College:\n",
    "    def __init__(self):\n",
    "        self._college_name = \"svvv\"\n",
    "class Student(College):\n",
    "    def __init__(self, name):\n",
    "        self.name = name\n",
    "        College.__init__(self) # way for accessing the variable for base class\n",
    "    def show(self):\n",
    "        print(\"name\" , self.name , \" college name \" ,  self._college_name) #dirctely call the base class"
   ]
  },
  {
   "cell_type": "code",
   "execution_count": 174,
   "id": "29036b15-fd55-499a-a112-6f1ad78bd06a",
   "metadata": {},
   "outputs": [],
   "source": [
    "stud = Student(\"amitesh\")"
   ]
  },
  {
   "cell_type": "code",
   "execution_count": 175,
   "id": "e15c6564-7262-4cee-a72e-8a29094368ce",
   "metadata": {},
   "outputs": [
    {
     "data": {
      "text/plain": [
       "'amitesh'"
      ]
     },
     "execution_count": 175,
     "metadata": {},
     "output_type": "execute_result"
    }
   ],
   "source": [
    "stud.name\n"
   ]
  },
  {
   "cell_type": "code",
   "execution_count": 176,
   "id": "a39849f8-ffbb-4d37-93f8-e6dd1ad5f9c4",
   "metadata": {},
   "outputs": [
    {
     "name": "stdout",
     "output_type": "stream",
     "text": [
      "name amitesh  college name  svvv\n"
     ]
    }
   ],
   "source": [
    "stud.show()"
   ]
  },
  {
   "cell_type": "code",
   "execution_count": 177,
   "id": "7bb890d5-a092-4f4d-a042-1927b4de1b0b",
   "metadata": {},
   "outputs": [],
   "source": [
    "col = College()"
   ]
  },
  {
   "cell_type": "code",
   "execution_count": 179,
   "id": "b02c1e32-9c7a-4c3b-a270-5cb78674b588",
   "metadata": {},
   "outputs": [
    {
     "data": {
      "text/plain": [
       "'svvv'"
      ]
     },
     "execution_count": 179,
     "metadata": {},
     "output_type": "execute_result"
    }
   ],
   "source": [
    "col._college_name # accesing the proctecd variable"
   ]
  },
  {
   "cell_type": "code",
   "execution_count": 181,
   "id": "22bce34d-7d1e-4236-8747-0070f002995b",
   "metadata": {},
   "outputs": [],
   "source": [
    "# another way using super()"
   ]
  },
  {
   "cell_type": "code",
   "execution_count": 183,
   "id": "36dd585e-0078-458d-aef0-3c5590b80a7c",
   "metadata": {},
   "outputs": [],
   "source": [
    "class College:\n",
    "    def __init__(self):\n",
    "        self._college_name = \"svvv\"\n",
    "class Student(College):\n",
    "    def __init__(self, name):\n",
    "        self.name = name\n",
    "        super().__init__() # way for accessing the variable for base class\n",
    "    def show(self): # include super() and remove self\n",
    "        print(\"name\" , self.name , \" college name \" ,  self._college_name) #dirctely call the base class"
   ]
  },
  {
   "cell_type": "code",
   "execution_count": 184,
   "id": "086cae60-f137-4736-a579-ec44367c3c18",
   "metadata": {},
   "outputs": [],
   "source": [
    "dd = Student(\"amitesh\")"
   ]
  },
  {
   "cell_type": "code",
   "execution_count": 187,
   "id": "dcf49bc4-c765-4be1-a0f4-b515c19f659a",
   "metadata": {},
   "outputs": [
    {
     "data": {
      "text/plain": [
       "'amitesh'"
      ]
     },
     "execution_count": 187,
     "metadata": {},
     "output_type": "execute_result"
    }
   ],
   "source": [
    "dd.name"
   ]
  },
  {
   "cell_type": "code",
   "execution_count": 188,
   "id": "fd399d29-af8b-41e1-8694-a264c8519aea",
   "metadata": {},
   "outputs": [
    {
     "name": "stdout",
     "output_type": "stream",
     "text": [
      "name amitesh  college name  svvv\n"
     ]
    }
   ],
   "source": [
    "dd.show()"
   ]
  },
  {
   "cell_type": "code",
   "execution_count": null,
   "id": "eecbfe2d-96e1-4366-a1f6-df4d9d3c7509",
   "metadata": {},
   "outputs": [],
   "source": []
  }
 ],
 "metadata": {
  "kernelspec": {
   "display_name": "Python 3 (ipykernel)",
   "language": "python",
   "name": "python3"
  },
  "language_info": {
   "codemirror_mode": {
    "name": "ipython",
    "version": 3
   },
   "file_extension": ".py",
   "mimetype": "text/x-python",
   "name": "python",
   "nbconvert_exporter": "python",
   "pygments_lexer": "ipython3",
   "version": "3.12.7"
  },
  "widgets": {
   "application/vnd.jupyter.widget-state+json": {
    "state": {},
    "version_major": 2,
    "version_minor": 0
   }
  }
 },
 "nbformat": 4,
 "nbformat_minor": 5
}
