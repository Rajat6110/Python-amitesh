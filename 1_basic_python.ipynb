{
 "cells": [
  {
   "cell_type": "code",
   "execution_count": 1,
   "id": "d24952a6-7928-416b-86a9-c00558715ca8",
   "metadata": {},
   "outputs": [
    {
     "name": "stdout",
     "output_type": "stream",
     "text": [
      "hello World!!\n"
     ]
    }
   ],
   "source": [
    "print(\"hello World!!\")"
   ]
  },
  {
   "cell_type": "code",
   "execution_count": 2,
   "id": "9076deed-007c-4208-81b3-92f0d792f040",
   "metadata": {},
   "outputs": [
    {
     "name": "stdout",
     "output_type": "stream",
     "text": [
      "hello my name is amitesh!\n"
     ]
    }
   ],
   "source": [
    "print('hello my name is amitesh!')"
   ]
  },
  {
   "cell_type": "code",
   "execution_count": 3,
   "id": "a3798ec2-6149-463a-8fab-58a5f6073dc4",
   "metadata": {},
   "outputs": [],
   "source": [
    "a=3"
   ]
  },
  {
   "cell_type": "code",
   "execution_count": 9,
   "id": "23299cc1-2dc2-4959-8f72-b0911086fdc9",
   "metadata": {},
   "outputs": [
    {
     "name": "stdout",
     "output_type": "stream",
     "text": [
      "False\n"
     ]
    }
   ],
   "source": [
    "a = 300\n",
    "b = 300\n",
    "print(a is  b)"
   ]
  },
  {
   "cell_type": "raw",
   "id": "d61fd357-08b1-4c41-b415-21ab2e132c2b",
   "metadata": {},
   "source": [
    "varialbles / identifiers >> placeholders where we keep variety of data \n",
    "which we can to write a logic"
   ]
  },
  {
   "cell_type": "code",
   "execution_count": 7,
   "id": "8ed95cfc-43b7-41fc-81e5-b589d5655f33",
   "metadata": {
    "scrolled": true
   },
   "outputs": [
    {
     "data": {
      "text/plain": [
       "3"
      ]
     },
     "execution_count": 7,
     "metadata": {},
     "output_type": "execute_result"
    }
   ],
   "source": [
    "b=3\n",
    "b"
   ]
  },
  {
   "cell_type": "code",
   "execution_count": null,
   "id": "1ae8957f-4247-4548-b514-eeae83aeaa76",
   "metadata": {},
   "outputs": [],
   "source": [
    "\"4\""
   ]
  },
  {
   "cell_type": "raw",
   "id": "f3faa9a7-56a5-4f6a-bee0-13a08944cf86",
   "metadata": {},
   "source": [
    "variable is a reserved memory space for storing value.\n"
   ]
  },
  {
   "cell_type": "code",
   "execution_count": 8,
   "id": "f9c068f1-efe3-4bae-bf2f-3912f19cfbc6",
   "metadata": {},
   "outputs": [
    {
     "data": {
      "text/plain": [
       "'amitesh'"
      ]
     },
     "execution_count": 8,
     "metadata": {},
     "output_type": "execute_result"
    }
   ],
   "source": [
    "c = \"amitesh\"\n",
    "c"
   ]
  },
  {
   "cell_type": "code",
   "execution_count": 9,
   "id": "f7de7075-89b2-4356-9650-f3a3a98be6d8",
   "metadata": {},
   "outputs": [
    {
     "data": {
      "text/plain": [
       "'amitesh'"
      ]
     },
     "execution_count": 9,
     "metadata": {},
     "output_type": "execute_result"
    }
   ],
   "source": [
    "c='amitesh'\n",
    "c"
   ]
  },
  {
   "cell_type": "code",
   "execution_count": 11,
   "id": "bbb3ca65-3bd5-4c49-bd13-f5fc8a009bc3",
   "metadata": {},
   "outputs": [
    {
     "data": {
      "text/plain": [
       "str"
      ]
     },
     "execution_count": 11,
     "metadata": {},
     "output_type": "execute_result"
    }
   ],
   "source": [
    "type(c)\n"
   ]
  },
  {
   "cell_type": "code",
   "execution_count": 12,
   "id": "51fe3db5-b84a-41cf-a078-0d4a7c827c48",
   "metadata": {},
   "outputs": [
    {
     "data": {
      "text/plain": [
       "int"
      ]
     },
     "execution_count": 12,
     "metadata": {},
     "output_type": "execute_result"
    }
   ],
   "source": [
    "type(b)"
   ]
  },
  {
   "cell_type": "code",
   "execution_count": 13,
   "id": "5ac3f816-cdd5-456e-9afd-cf8a2b05ca80",
   "metadata": {},
   "outputs": [
    {
     "data": {
      "text/plain": [
       "3"
      ]
     },
     "execution_count": 13,
     "metadata": {},
     "output_type": "execute_result"
    }
   ],
   "source": [
    "type(a)\n",
    "a"
   ]
  },
  {
   "cell_type": "code",
   "execution_count": 14,
   "id": "7685c289-ba5b-424e-bac4-17056fb5f279",
   "metadata": {},
   "outputs": [
    {
     "data": {
      "text/plain": [
       "int"
      ]
     },
     "execution_count": 14,
     "metadata": {},
     "output_type": "execute_result"
    }
   ],
   "source": [
    "type(a)"
   ]
  },
  {
   "cell_type": "code",
   "execution_count": 15,
   "id": "4d9fac8d-f0c5-41ce-94e2-3e262e371067",
   "metadata": {},
   "outputs": [],
   "source": [
    "x =4.5"
   ]
  },
  {
   "cell_type": "code",
   "execution_count": 17,
   "id": "eac610e8-5c9b-42eb-8493-9228029fd744",
   "metadata": {},
   "outputs": [
    {
     "data": {
      "text/plain": [
       "float"
      ]
     },
     "execution_count": 17,
     "metadata": {},
     "output_type": "execute_result"
    }
   ],
   "source": [
    "type(x)\n"
   ]
  },
  {
   "cell_type": "code",
   "execution_count": 19,
   "id": "f3530bec-2934-4a18-9c63-af125c8c7568",
   "metadata": {},
   "outputs": [
    {
     "data": {
      "text/plain": [
       "bool"
      ]
     },
     "execution_count": 19,
     "metadata": {},
     "output_type": "execute_result"
    }
   ],
   "source": [
    "c = True\n",
    "type(c)"
   ]
  },
  {
   "cell_type": "code",
   "execution_count": 24,
   "id": "d4d3b144-9e9f-46f3-85ac-834947ca70e1",
   "metadata": {},
   "outputs": [
    {
     "data": {
      "text/plain": [
       "0"
      ]
     },
     "execution_count": 24,
     "metadata": {},
     "output_type": "execute_result"
    }
   ],
   "source": [
    "\n",
    "True*False"
   ]
  },
  {
   "cell_type": "code",
   "execution_count": 1,
   "id": "dd05bae8-5e7e-493a-8f2d-bdd5c5ced25a",
   "metadata": {},
   "outputs": [],
   "source": [
    "f = None\n",
    "f"
   ]
  },
  {
   "cell_type": "code",
   "execution_count": 2,
   "id": "19bb4c42-7a1f-4767-b1e2-599f0d95a843",
   "metadata": {},
   "outputs": [
    {
     "data": {
      "text/plain": [
       "NoneType"
      ]
     },
     "execution_count": 2,
     "metadata": {},
     "output_type": "execute_result"
    }
   ],
   "source": [
    "type(f)"
   ]
  },
  {
   "cell_type": "raw",
   "id": "1e23f1c2-dd76-4ca7-b172-a6df472f4065",
   "metadata": {},
   "source": [
    "in maths we have x+iy this thing is a complex no;\n",
    "but in python :"
   ]
  },
  {
   "cell_type": "code",
   "execution_count": 3,
   "id": "8f0c9b15-748c-4f9f-8869-f87cc32ff5f2",
   "metadata": {},
   "outputs": [],
   "source": [
    "com = 5+6j"
   ]
  },
  {
   "cell_type": "code",
   "execution_count": 4,
   "id": "5d827f91-7535-4fcf-a34d-b6e5a3a1936a",
   "metadata": {},
   "outputs": [
    {
     "data": {
      "text/plain": [
       "complex"
      ]
     },
     "execution_count": 4,
     "metadata": {},
     "output_type": "execute_result"
    }
   ],
   "source": [
    "type(com)"
   ]
  },
  {
   "cell_type": "code",
   "execution_count": 17,
   "id": "dd492877-73dc-404e-a0eb-dd1287106141",
   "metadata": {},
   "outputs": [
    {
     "ename": "NameError",
     "evalue": "name 'A' is not defined",
     "output_type": "error",
     "traceback": [
      "\u001b[1;31m---------------------------------------------------------------------------\u001b[0m",
      "\u001b[1;31mNameError\u001b[0m                                 Traceback (most recent call last)",
      "Cell \u001b[1;32mIn[17], line 1\u001b[0m\n\u001b[1;32m----> 1\u001b[0m A \u001b[38;5;241m+\u001b[39m\u001b[38;5;241m=\u001b[39m \u001b[38;5;241m5\u001b[39m\n",
      "\u001b[1;31mNameError\u001b[0m: name 'A' is not defined"
     ]
    }
   ],
   "source": [
    "A += 5 \n",
    "A = A + 5"
   ]
  },
  {
   "cell_type": "code",
   "execution_count": 6,
   "id": "855c9911-65f3-4122-894d-1b7be97dc81b",
   "metadata": {},
   "outputs": [
    {
     "data": {
      "text/plain": [
       "5.0"
      ]
     },
     "execution_count": 6,
     "metadata": {},
     "output_type": "execute_result"
    }
   ],
   "source": [
    "com.\n",
    "\n",
    "\n",
    "\n",
    "\n",
    "\n",
    "\n",
    "\n",
    "\n",
    "\n",
    "\n",
    "\n",
    "\n",
    "\n",
    "\n",
    "\n",
    "\n"
   ]
  },
  {
   "cell_type": "code",
   "execution_count": 7,
   "id": "d95b64ac-4002-4371-9a86-cae687563163",
   "metadata": {},
   "outputs": [
    {
     "data": {
      "text/plain": [
       "6.0"
      ]
     },
     "execution_count": 7,
     "metadata": {},
     "output_type": "execute_result"
    }
   ],
   "source": [
    "com.imag"
   ]
  },
  {
   "cell_type": "raw",
   "id": "cfff1554-81d9-46fc-b872-292bdb56bf99",
   "metadata": {},
   "source": [
    "RULES OF DEFINING A VARIABLE\n",
    "> -  THE VARIABLE STARTS WITH A LETTER(ALPHABET) OR UNDERSCORE"
   ]
  },
  {
   "cell_type": "code",
   "execution_count": 1,
   "id": "f5c534e2-4724-48dd-b2bb-3c604ccfa13a",
   "metadata": {},
   "outputs": [
    {
     "name": "stdout",
     "output_type": "stream",
     "text": [
      "AMITESH SONI\n",
      "35\n"
     ]
    }
   ],
   "source": [
    "_NAME= 'AMITESH'\n",
    "SURNAME = 'SONI'\n",
    "ROLL = 35\n",
    "print(_NAME + ' '  +SURNAME)\n",
    "print(ROLL)"
   ]
  },
  {
   "cell_type": "code",
   "execution_count": null,
   "id": "077b2f38-0988-4409-bf56-9da23cc88ee4",
   "metadata": {},
   "outputs": [],
   "source": []
  },
  {
   "cell_type": "markdown",
   "id": "9438d0f3-f8e2-4027-a1f4-5db72eed48eb",
   "metadata": {},
   "source": [
    "COMMENTS IN PYTHON"
   ]
  },
  {
   "cell_type": "code",
   "execution_count": 15,
   "id": "b3fb2376-e5f2-4b9f-8a9a-23cb154a997e",
   "metadata": {},
   "outputs": [
    {
     "data": {
      "text/plain": [
       "5"
      ]
     },
     "execution_count": 15,
     "metadata": {},
     "output_type": "execute_result"
    }
   ],
   "source": [
    "#this is comment for single line\n",
    "'''\n",
    "this is a multi line comment \n",
    "and i am studying python '''\n",
    "a =5\n",
    "a"
   ]
  },
  {
   "cell_type": "code",
   "execution_count": 18,
   "id": "c286db2e-25fa-4fa1-bab7-ea76ffc9894a",
   "metadata": {},
   "outputs": [
    {
     "data": {
      "text/plain": [
       "' \\nthis \\nis also\\nmultiline comment \\n\\n'"
      ]
     },
     "execution_count": 18,
     "metadata": {},
     "output_type": "execute_result"
    }
   ],
   "source": [
    "\"\"\" \n",
    "this \n",
    "is also\n",
    "multiline comment \n",
    "\n",
    "\"\"\"\n"
   ]
  },
  {
   "cell_type": "code",
   "execution_count": 19,
   "id": "38b931e4-cea8-4332-9f6e-0086f0537315",
   "metadata": {},
   "outputs": [],
   "source": [
    "#keywords >> they are predefine words that holds a speacial meaning and have specific prupose in pyhon programming"
   ]
  },
  {
   "cell_type": "code",
   "execution_count": 20,
   "id": "3b2155aa-d928-4820-9302-0d5c31c44bc5",
   "metadata": {},
   "outputs": [
    {
     "name": "stdout",
     "output_type": "stream",
     "text": [
      "\n",
      "Here is a list of the Python keywords.  Enter any keyword to get more help.\n",
      "\n",
      "False               class               from                or\n",
      "None                continue            global              pass\n",
      "True                def                 if                  raise\n",
      "and                 del                 import              return\n",
      "as                  elif                in                  try\n",
      "assert              else                is                  while\n",
      "async               except              lambda              with\n",
      "await               finally             nonlocal            yield\n",
      "break               for                 not                 \n",
      "\n"
     ]
    }
   ],
   "source": [
    "help('keywords')"
   ]
  },
  {
   "cell_type": "code",
   "execution_count": 9,
   "id": "7e8bb1cb-63a8-4ac4-9a21-a0944b2b099c",
   "metadata": {},
   "outputs": [
    {
     "name": "stdout",
     "output_type": "stream",
     "text": [
      "greater\n",
      "^\n"
     ]
    }
   ],
   "source": [
    "if 4>2:\n",
    "    print(\"greater\")\n",
    "    print(\"^\")"
   ]
  },
  {
   "cell_type": "code",
   "execution_count": 22,
   "id": "753055bf-ebd6-4917-9bc3-c099a96a982b",
   "metadata": {},
   "outputs": [],
   "source": [
    "#indentation\n",
    "#spaces bw code "
   ]
  },
  {
   "cell_type": "raw",
   "id": "bc53216b-a9b0-4193-a120-20db462c50df",
   "metadata": {},
   "source": [
    "STATEMENT CAN BE OF ANY TYPES>> EXPRESSION , ASSIGNMNET , CONDTION STATMENTS , LOOPS"
   ]
  },
  {
   "cell_type": "code",
   "execution_count": 24,
   "id": "4a6799ec-3c63-4d98-9837-3901386eb9dc",
   "metadata": {},
   "outputs": [
    {
     "data": {
      "text/plain": [
       "8"
      ]
     },
     "execution_count": 24,
     "metadata": {},
     "output_type": "execute_result"
    }
   ],
   "source": [
    "#assignmnet statement\n",
    "a = 4\n",
    "b = 4\n",
    "a+b #expression statement"
   ]
  },
  {
   "cell_type": "code",
   "execution_count": 15,
   "id": "603015bd-352b-4b44-99b9-48d56274fd82",
   "metadata": {},
   "outputs": [
    {
     "name": "stdin",
     "output_type": "stream",
     "text": [
      "please input your name 5\n"
     ]
    }
   ],
   "source": [
    "#input output\n",
    "name = int(input(\"please input your name\"))\n"
   ]
  },
  {
   "cell_type": "code",
   "execution_count": 27,
   "id": "6bb2b663-50fb-4aa3-9f7b-5ea589b759f4",
   "metadata": {},
   "outputs": [
    {
     "data": {
      "text/plain": [
       "'amitesh'"
      ]
     },
     "execution_count": 27,
     "metadata": {},
     "output_type": "execute_result"
    }
   ],
   "source": [
    "name"
   ]
  },
  {
   "cell_type": "code",
   "execution_count": 28,
   "id": "33cd65b6-d211-4d25-8dff-7581ad595900",
   "metadata": {},
   "outputs": [
    {
     "data": {
      "text/plain": [
       "str"
      ]
     },
     "execution_count": 28,
     "metadata": {},
     "output_type": "execute_result"
    }
   ],
   "source": [
    "type(name)"
   ]
  },
  {
   "cell_type": "code",
   "execution_count": 29,
   "id": "712108bf-a00d-488d-ac31-2169e6477f84",
   "metadata": {},
   "outputs": [
    {
     "name": "stdin",
     "output_type": "stream",
     "text": [
      "enter roll no: 2\n"
     ]
    },
    {
     "data": {
      "text/plain": [
       "'2'"
      ]
     },
     "execution_count": 29,
     "metadata": {},
     "output_type": "execute_result"
    }
   ],
   "source": [
    "# input actually takes every value as a string \n",
    "a = input(\"enter roll no:\")\n",
    "a"
   ]
  },
  {
   "cell_type": "code",
   "execution_count": 32,
   "id": "3d003307-ff4f-464b-9039-87a3904e863c",
   "metadata": {},
   "outputs": [
    {
     "data": {
      "text/plain": [
       "2"
      ]
     },
     "execution_count": 32,
     "metadata": {},
     "output_type": "execute_result"
    }
   ],
   "source": [
    "#this '2' is int but strored in string \n",
    "# we can covert '2' as int through type casting \n",
    "int(a)\n"
   ]
  },
  {
   "cell_type": "code",
   "execution_count": 1,
   "id": "b9cc51f8-1f58-43af-b29e-90e8e2e02ddb",
   "metadata": {},
   "outputs": [
    {
     "data": {
      "text/plain": [
       "11"
      ]
     },
     "execution_count": 1,
     "metadata": {},
     "output_type": "execute_result"
    }
   ],
   "source": [
    " 3 + 4 * 2"
   ]
  },
  {
   "cell_type": "code",
   "execution_count": null,
   "id": "fea9d312-3315-4cc0-89b6-b33549682139",
   "metadata": {},
   "outputs": [],
   "source": []
  }
 ],
 "metadata": {
  "kernelspec": {
   "display_name": "Python 3 (ipykernel)",
   "language": "python",
   "name": "python3"
  },
  "language_info": {
   "codemirror_mode": {
    "name": "ipython",
    "version": 3
   },
   "file_extension": ".py",
   "mimetype": "text/x-python",
   "name": "python",
   "nbconvert_exporter": "python",
   "pygments_lexer": "ipython3",
   "version": "3.12.7"
  }
 },
 "nbformat": 4,
 "nbformat_minor": 5
}
