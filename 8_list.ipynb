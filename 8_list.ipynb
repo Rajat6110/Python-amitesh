{
 "cells": [
  {
   "cell_type": "markdown",
   "id": "7c22576e-6c31-4ccc-acfc-531542a4ef90",
   "metadata": {},
   "source": [
    "# LIST\n"
   ]
  },
  {
   "cell_type": "raw",
   "id": "7e6c6232-4226-41f8-a386-acea92a60b61",
   "metadata": {},
   "source": [
    "#list are orderd collection of items\n",
    "# []\n",
    "# list is like a shopping bag which can store anything \n",
    "can store any data type \n",
    "hertogenous\n",
    "they are mutable\n"
   ]
  },
  {
   "cell_type": "code",
   "execution_count": 1,
   "id": "4c26bbaa-0990-4e65-bfe7-d2d065217517",
   "metadata": {},
   "outputs": [
    {
     "data": {
      "text/plain": [
       "list"
      ]
     },
     "execution_count": 1,
     "metadata": {},
     "output_type": "execute_result"
    }
   ],
   "source": [
    "type([])"
   ]
  },
  {
   "cell_type": "code",
   "execution_count": 2,
   "id": "b8bfd13b-976b-4773-84a3-a3d3e37404d3",
   "metadata": {},
   "outputs": [],
   "source": [
    "grocery_list = [ 'milk' , 2 ,3 ,4 , 5.5 , 'orange']"
   ]
  },
  {
   "cell_type": "code",
   "execution_count": 3,
   "id": "12e53213-d3ba-4b17-99dd-06ebc82650a5",
   "metadata": {},
   "outputs": [
    {
     "name": "stdout",
     "output_type": "stream",
     "text": [
      "['milk', 2, 3, 4, 5.5, 'orange']\n"
     ]
    }
   ],
   "source": [
    "print(grocery_list)"
   ]
  },
  {
   "cell_type": "code",
   "execution_count": 4,
   "id": "99dd393c-ca87-416f-a6b8-10020b3ad7b6",
   "metadata": {},
   "outputs": [
    {
     "name": "stdout",
     "output_type": "stream",
     "text": [
      "milk\n",
      "2\n",
      "3\n",
      "4\n",
      "5.5\n",
      "orange\n"
     ]
    }
   ],
   "source": [
    "for i in grocery_list:\n",
    "    print(i)"
   ]
  },
  {
   "cell_type": "code",
   "execution_count": 5,
   "id": "a6e21483-121d-45bf-9901-51602a7839af",
   "metadata": {},
   "outputs": [
    {
     "data": {
      "text/plain": [
       "'milk'"
      ]
     },
     "execution_count": 5,
     "metadata": {},
     "output_type": "execute_result"
    }
   ],
   "source": [
    "grocery_list[0]"
   ]
  },
  {
   "cell_type": "code",
   "execution_count": 6,
   "id": "ee9ac3f7-52c9-4b87-9283-8bcdf634b492",
   "metadata": {},
   "outputs": [],
   "source": [
    "grocery_list[4] = \"AMITESH\" #list is mutable"
   ]
  },
  {
   "cell_type": "code",
   "execution_count": 7,
   "id": "6fb276cf-d682-47be-97e6-eed6e4f55cdf",
   "metadata": {},
   "outputs": [
    {
     "name": "stdout",
     "output_type": "stream",
     "text": [
      "['milk', 2, 3, 4, 'AMITESH', 'orange']\n"
     ]
    }
   ],
   "source": [
    "print(grocery_list)\n"
   ]
  },
  {
   "cell_type": "code",
   "execution_count": 8,
   "id": "393aa00f-1655-4fa5-b7e4-9b5b383b494a",
   "metadata": {},
   "outputs": [
    {
     "data": {
      "text/plain": [
       "'orange'"
      ]
     },
     "execution_count": 8,
     "metadata": {},
     "output_type": "execute_result"
    }
   ],
   "source": [
    "grocery_list[-1]"
   ]
  },
  {
   "cell_type": "code",
   "execution_count": 9,
   "id": "abec57d4-96a4-4f4f-b27c-dafcd79056b0",
   "metadata": {},
   "outputs": [
    {
     "data": {
      "text/plain": [
       "['orange', 'AMITESH', 4, 3, 2, 'milk']"
      ]
     },
     "execution_count": 9,
     "metadata": {},
     "output_type": "execute_result"
    }
   ],
   "source": [
    "grocery_list[::-1]"
   ]
  },
  {
   "cell_type": "code",
   "execution_count": 14,
   "id": "adbf469d-1f82-41a6-bf0f-30d2d1457f85",
   "metadata": {},
   "outputs": [
    {
     "data": {
      "text/plain": [
       "[4, 'orange']"
      ]
     },
     "execution_count": 14,
     "metadata": {},
     "output_type": "execute_result"
    }
   ],
   "source": [
    "grocery_list[-3::2]"
   ]
  },
  {
   "cell_type": "code",
   "execution_count": 15,
   "id": "9594bdef-a3f6-4f5d-af94-83d58e510b44",
   "metadata": {},
   "outputs": [
    {
     "data": {
      "text/plain": [
       "['Action1', 'ction2', 'comdey', 'thriller']"
      ]
     },
     "execution_count": 15,
     "metadata": {},
     "output_type": "execute_result"
    }
   ],
   "source": [
    "MOVIES =  [ \"Action1\" , \"ction2\" , \"comdey\" , \"thriller\" ]\n",
    "MOVIES[0:4]"
   ]
  },
  {
   "cell_type": "code",
   "execution_count": 16,
   "id": "052ed233-80ab-4fcd-abb1-e877f4f96e65",
   "metadata": {},
   "outputs": [
    {
     "data": {
      "text/plain": [
       "'thriller'"
      ]
     },
     "execution_count": 16,
     "metadata": {},
     "output_type": "execute_result"
    }
   ],
   "source": [
    "MOVIES[-1]"
   ]
  },
  {
   "cell_type": "code",
   "execution_count": 17,
   "id": "7dc3e666-df57-4c21-91a2-f8f09a40091a",
   "metadata": {},
   "outputs": [
    {
     "data": {
      "text/plain": [
       "'sfbjasf'"
      ]
     },
     "execution_count": 17,
     "metadata": {},
     "output_type": "execute_result"
    }
   ],
   "source": [
    "queue = [ \"amit\" , \"ajd\" , \"sfbjasf\"]\n",
    "queue[-1]"
   ]
  },
  {
   "cell_type": "code",
   "execution_count": 18,
   "id": "946a72a8-c7e2-4a10-a45a-20da13224d69",
   "metadata": {},
   "outputs": [],
   "source": [
    "MOVIES =  [ \"Action1\" , \"ction2\" , \"comdey\" , \"thriller\" ]\n",
    "MOVIES.append(\"crime\") # to add somtin at end"
   ]
  },
  {
   "cell_type": "code",
   "execution_count": 19,
   "id": "b3e394d2-ecc2-4363-b83b-f408a8eae57c",
   "metadata": {},
   "outputs": [
    {
     "data": {
      "text/plain": [
       "['Action1', 'ction2', 'comdey', 'thriller', 'crime']"
      ]
     },
     "execution_count": 19,
     "metadata": {},
     "output_type": "execute_result"
    }
   ],
   "source": [
    "MOVIES"
   ]
  },
  {
   "cell_type": "code",
   "execution_count": 21,
   "id": "3e86ac75-0b78-4f37-bf33-c2469fd6e3a2",
   "metadata": {},
   "outputs": [],
   "source": [
    "bookshelf = []\n",
    "bookshelf.append(\"book 1 \")\n",
    "bookshelf.append(\"book2\")"
   ]
  },
  {
   "cell_type": "code",
   "execution_count": 22,
   "id": "ac535db5-8f4d-4af1-ab83-85cd42572d53",
   "metadata": {},
   "outputs": [
    {
     "data": {
      "text/plain": [
       "['book 1 ', 'book2']"
      ]
     },
     "execution_count": 22,
     "metadata": {},
     "output_type": "execute_result"
    }
   ],
   "source": [
    "bookshelf"
   ]
  },
  {
   "cell_type": "code",
   "execution_count": 23,
   "id": "c3b9f2c7-4f83-470b-bcc0-b9cec581ff73",
   "metadata": {},
   "outputs": [],
   "source": [
    "bookshelf.insert(1,\"book new\") #insert object before index"
   ]
  },
  {
   "cell_type": "code",
   "execution_count": 24,
   "id": "ea2aa081-e89d-45d4-a8ac-04f62fc6d4d4",
   "metadata": {},
   "outputs": [
    {
     "data": {
      "text/plain": [
       "['book 1 ', 'book new', 'book2']"
      ]
     },
     "execution_count": 24,
     "metadata": {},
     "output_type": "execute_result"
    }
   ],
   "source": [
    "bookshelf"
   ]
  },
  {
   "cell_type": "code",
   "execution_count": 25,
   "id": "38e2b20f-a733-4fd9-8a9a-7957a11e1f97",
   "metadata": {},
   "outputs": [],
   "source": [
    "#extend = used to append elements from another list"
   ]
  },
  {
   "cell_type": "code",
   "execution_count": 30,
   "id": "84da3cc1-589f-4965-84de-48e942e0de7e",
   "metadata": {},
   "outputs": [],
   "source": [
    "my_list = [\"potato\" , \"ginger\" , \"badam\"]\n",
    "bro_ki_list = [ \"laal tamatar \" , \" nibu\" , \"kela\" ]\n",
    "#my_list.extend(bro_ki_list)"
   ]
  },
  {
   "cell_type": "code",
   "execution_count": 31,
   "id": "b332ee5f-00ef-4fbc-8bf9-35293007251c",
   "metadata": {},
   "outputs": [],
   "source": [
    "#my_list"
   ]
  },
  {
   "cell_type": "code",
   "execution_count": 32,
   "id": "19f9e04b-c073-4963-bb96-1ba65d6f9d26",
   "metadata": {},
   "outputs": [],
   "source": [
    "bro_ki_list.extend(my_list)"
   ]
  },
  {
   "cell_type": "code",
   "execution_count": 33,
   "id": "ec0ea961-4902-49ae-ba59-acde4389768b",
   "metadata": {},
   "outputs": [
    {
     "data": {
      "text/plain": [
       "['laal tamatar ', ' nibu', 'kela', 'potato', 'ginger', 'badam']"
      ]
     },
     "execution_count": 33,
     "metadata": {},
     "output_type": "execute_result"
    }
   ],
   "source": [
    "bro_ki_list"
   ]
  },
  {
   "cell_type": "code",
   "execution_count": 34,
   "id": "6b5ff3e9-c54a-4ef3-8253-8ca450652917",
   "metadata": {},
   "outputs": [
    {
     "data": {
      "text/plain": [
       "['potato', 'ginger', 'badam', 'laal tamatar ', ' nibu', 'kela']"
      ]
     },
     "execution_count": 34,
     "metadata": {},
     "output_type": "execute_result"
    }
   ],
   "source": [
    "#CONCATENATE\n",
    "\n",
    "my_list = [\"potato\" , \"ginger\" , \"badam\"]\n",
    "bro_ki_list = [ \"laal tamatar \" , \" nibu\" , \"kela\" ]\n",
    "my_list + bro_ki_list #create new list"
   ]
  },
  {
   "cell_type": "code",
   "execution_count": 35,
   "id": "83ab7273-d2b5-4a2b-a65f-031e0a6fb2a8",
   "metadata": {},
   "outputs": [
    {
     "data": {
      "text/plain": [
       "'*****'"
      ]
     },
     "execution_count": 35,
     "metadata": {},
     "output_type": "execute_result"
    }
   ],
   "source": [
    "#repetation operation \n",
    "\"*\" * 5"
   ]
  },
  {
   "cell_type": "code",
   "execution_count": 37,
   "id": "88a730ff-56d5-433c-9779-ed1140ea0b69",
   "metadata": {},
   "outputs": [
    {
     "data": {
      "text/plain": [
       "'RAJAt RAJAt RAJAt RAJAt RAJAt '"
      ]
     },
     "execution_count": 37,
     "metadata": {},
     "output_type": "execute_result"
    }
   ],
   "source": [
    "\"RAJAt \" * 5"
   ]
  },
  {
   "cell_type": "code",
   "execution_count": 39,
   "id": "a38b9f1e-c22f-41b2-8abf-50870e3d2823",
   "metadata": {},
   "outputs": [
    {
     "data": {
      "text/plain": [
       "[1, 1, 1, 1, 1]"
      ]
     },
     "execution_count": 39,
     "metadata": {},
     "output_type": "execute_result"
    }
   ],
   "source": [
    "[1]  * 5"
   ]
  },
  {
   "cell_type": "code",
   "execution_count": 40,
   "id": "4ae9cb54-ab4b-4762-a623-df191d712ee4",
   "metadata": {},
   "outputs": [
    {
     "data": {
      "text/plain": [
       "[1, 23, 1, 23, 1, 23, 1, 23, 1, 23]"
      ]
     },
     "execution_count": 40,
     "metadata": {},
     "output_type": "execute_result"
    }
   ],
   "source": [
    "[1,23] *5"
   ]
  },
  {
   "cell_type": "code",
   "execution_count": 43,
   "id": "097df1b3-3333-454f-90ba-3a40dcff9b75",
   "metadata": {},
   "outputs": [
    {
     "data": {
      "text/plain": [
       "[0,\n",
       " 1,\n",
       " 2,\n",
       " 3,\n",
       " 4,\n",
       " 5,\n",
       " 6,\n",
       " 7,\n",
       " 8,\n",
       " 9,\n",
       " 0,\n",
       " 1,\n",
       " 2,\n",
       " 3,\n",
       " 4,\n",
       " 5,\n",
       " 6,\n",
       " 7,\n",
       " 8,\n",
       " 9,\n",
       " 0,\n",
       " 1,\n",
       " 2,\n",
       " 3,\n",
       " 4,\n",
       " 5,\n",
       " 6,\n",
       " 7,\n",
       " 8,\n",
       " 9]"
      ]
     },
     "execution_count": 43,
     "metadata": {},
     "output_type": "execute_result"
    }
   ],
   "source": [
    "list(range(10)) * 3"
   ]
  },
  {
   "cell_type": "code",
   "execution_count": 44,
   "id": "a8e7f541-9e5d-4741-afd0-536fb9205078",
   "metadata": {},
   "outputs": [
    {
     "data": {
      "text/plain": [
       "['milk', 2, 3, 4, 'AMITESH', 'orange']"
      ]
     },
     "execution_count": 44,
     "metadata": {},
     "output_type": "execute_result"
    }
   ],
   "source": [
    "#membershipm in , not in\n",
    "\n",
    "grocery_list "
   ]
  },
  {
   "cell_type": "code",
   "execution_count": 48,
   "id": "14365a2f-83cb-440d-9f4e-0173cc5a6cd0",
   "metadata": {},
   "outputs": [
    {
     "name": "stdout",
     "output_type": "stream",
     "text": [
      "hell yess\n"
     ]
    }
   ],
   "source": [
    "if \"milk\" in grocery_list:\n",
    "    print(\"hell yess\")\n"
   ]
  },
  {
   "cell_type": "code",
   "execution_count": 49,
   "id": "9f1104b6-3dec-47bc-a323-2d11d9284cd8",
   "metadata": {},
   "outputs": [],
   "source": [
    "# deep copy and shallow copy\n",
    "\n",
    "#shallow  copy >> value will change with change in other list\n",
    "\n"
   ]
  },
  {
   "cell_type": "code",
   "execution_count": 51,
   "id": "fe760d4a-0bfe-4d75-9409-8e8681e70ddd",
   "metadata": {},
   "outputs": [],
   "source": [
    "a = grocery_list"
   ]
  },
  {
   "cell_type": "code",
   "execution_count": 52,
   "id": "fd27e9e5-4ebf-443d-b61f-b5bc1bb7fa34",
   "metadata": {},
   "outputs": [
    {
     "data": {
      "text/plain": [
       "['milk', 2, 3, 4, 'AMITESH', 'orange']"
      ]
     },
     "execution_count": 52,
     "metadata": {},
     "output_type": "execute_result"
    }
   ],
   "source": [
    "a"
   ]
  },
  {
   "cell_type": "code",
   "execution_count": 53,
   "id": "47787844-5ba6-4b05-a41d-3e85f2064267",
   "metadata": {},
   "outputs": [
    {
     "data": {
      "text/plain": [
       "['milk', 2, 3, 4, 'AMITESH', 'orange']"
      ]
     },
     "execution_count": 53,
     "metadata": {},
     "output_type": "execute_result"
    }
   ],
   "source": [
    "grocery_list\n"
   ]
  },
  {
   "cell_type": "code",
   "execution_count": 54,
   "id": "974d680a-b51f-493a-bc7b-43c9be37a98e",
   "metadata": {},
   "outputs": [],
   "source": [
    "    grocery_list[1] = \"dudh\" "
   ]
  },
  {
   "cell_type": "code",
   "execution_count": 55,
   "id": "8b33ea1f-875b-47b2-8f5e-644825b43e4c",
   "metadata": {},
   "outputs": [
    {
     "data": {
      "text/plain": [
       "['milk', 'dudh', 3, 4, 'AMITESH', 'orange']"
      ]
     },
     "execution_count": 55,
     "metadata": {},
     "output_type": "execute_result"
    }
   ],
   "source": [
    "grocery_list"
   ]
  },
  {
   "cell_type": "code",
   "execution_count": 56,
   "id": "ab8e8b00-a5d4-457a-935f-4bdfbda7adb2",
   "metadata": {},
   "outputs": [
    {
     "data": {
      "text/plain": [
       "['milk', 'dudh', 3, 4, 'AMITESH', 'orange']"
      ]
     },
     "execution_count": 56,
     "metadata": {},
     "output_type": "execute_result"
    }
   ],
   "source": [
    "a"
   ]
  },
  {
   "cell_type": "code",
   "execution_count": 57,
   "id": "bd86f539-22f3-4bbc-88d2-36a96cbd8edd",
   "metadata": {},
   "outputs": [],
   "source": [
    "#deep copy - not change a value in another list"
   ]
  },
  {
   "cell_type": "code",
   "execution_count": 58,
   "id": "5528cdff-e924-4482-962c-03b47b62cc31",
   "metadata": {},
   "outputs": [],
   "source": [
    "my_list = [\"potato\" , \"ginger\" , \"badam\"]\n",
    "b = my_list.copy()"
   ]
  },
  {
   "cell_type": "code",
   "execution_count": 59,
   "id": "a241750d-16d4-49c9-891a-d4074287ad7f",
   "metadata": {},
   "outputs": [
    {
     "data": {
      "text/plain": [
       "['potato', 'ginger', 'badam']"
      ]
     },
     "execution_count": 59,
     "metadata": {},
     "output_type": "execute_result"
    }
   ],
   "source": [
    "b"
   ]
  },
  {
   "cell_type": "code",
   "execution_count": 60,
   "id": "64c0489a-937d-451a-b43b-ee397002af8e",
   "metadata": {},
   "outputs": [
    {
     "data": {
      "text/plain": [
       "['potato', 'ginger', 'badam', 'AAm']"
      ]
     },
     "execution_count": 60,
     "metadata": {},
     "output_type": "execute_result"
    }
   ],
   "source": [
    "my_list.append(\"AAm\")\n",
    "my_list"
   ]
  },
  {
   "cell_type": "code",
   "execution_count": 62,
   "id": "a37db19f-f6b0-4d5e-a494-301beef7fc21",
   "metadata": {},
   "outputs": [
    {
     "data": {
      "text/plain": [
       "['potato', 'ginger', 'badam']"
      ]
     },
     "execution_count": 62,
     "metadata": {},
     "output_type": "execute_result"
    }
   ],
   "source": [
    "b # conent will store seprately in diff memory block unlike shallow copy , deep creates new space "
   ]
  },
  {
   "cell_type": "code",
   "execution_count": 63,
   "id": "f75df7f0-952a-41de-9c78-0b5e3ca343d0",
   "metadata": {},
   "outputs": [],
   "source": [
    "#sorting\n"
   ]
  },
  {
   "cell_type": "code",
   "execution_count": 66,
   "id": "2da83e1f-5bb1-4a03-b22a-6486ca387bbc",
   "metadata": {},
   "outputs": [
    {
     "data": {
      "text/plain": [
       "['alog', 'web dev', 'dsa', 'cyber ']"
      ]
     },
     "execution_count": 66,
     "metadata": {},
     "output_type": "execute_result"
    }
   ],
   "source": [
    "book_list = [ \"alog\" , \"web dev\" , \"dsa\" , \"cyber \" ]\n",
    "book_list"
   ]
  },
  {
   "cell_type": "code",
   "execution_count": 67,
   "id": "2799fbb1-6b5a-4196-841d-46e8c8774278",
   "metadata": {},
   "outputs": [
    {
     "data": {
      "text/plain": [
       "['alog', 'cyber ', 'dsa', 'web dev']"
      ]
     },
     "execution_count": 67,
     "metadata": {},
     "output_type": "execute_result"
    }
   ],
   "source": [
    "sorted(book_list)"
   ]
  },
  {
   "cell_type": "code",
   "execution_count": 70,
   "id": "8a86287c-bb94-4aa3-a3a6-e96c438d38d9",
   "metadata": {},
   "outputs": [
    {
     "data": {
      "text/plain": [
       "0"
      ]
     },
     "execution_count": 70,
     "metadata": {},
     "output_type": "execute_result"
    }
   ],
   "source": [
    "book_list.index(\"alog\")"
   ]
  },
  {
   "cell_type": "code",
   "execution_count": 71,
   "id": "1d1581cf-591a-46eb-b38d-c4cc0e7edd25",
   "metadata": {},
   "outputs": [
    {
     "data": {
      "text/plain": [
       "2"
      ]
     },
     "execution_count": 71,
     "metadata": {},
     "output_type": "execute_result"
    }
   ],
   "source": [
    "book_list.index(\"dsa\")"
   ]
  },
  {
   "cell_type": "code",
   "execution_count": 72,
   "id": "ea1be932-c795-42ad-9f4e-7944e14026fa",
   "metadata": {},
   "outputs": [
    {
     "data": {
      "text/plain": [
       "4"
      ]
     },
     "execution_count": 72,
     "metadata": {},
     "output_type": "execute_result"
    }
   ],
   "source": [
    "#know how many elements\n",
    "len(book_list)"
   ]
  },
  {
   "cell_type": "code",
   "execution_count": 75,
   "id": "dd30dea8-2310-4cbb-8ae4-8456aaa9b233",
   "metadata": {},
   "outputs": [
    {
     "data": {
      "text/plain": [
       "1"
      ]
     },
     "execution_count": 75,
     "metadata": {},
     "output_type": "execute_result"
    }
   ],
   "source": [
    "book_list.count('alog') # counts gives the conut if specific element"
   ]
  },
  {
   "cell_type": "code",
   "execution_count": 76,
   "id": "acb92381-7e99-48f6-8e40-148b035e52bd",
   "metadata": {},
   "outputs": [],
   "source": [
    "book_list.remove(\"alog\") # del"
   ]
  },
  {
   "cell_type": "code",
   "execution_count": 77,
   "id": "881deb68-975d-495d-a555-975d0ead6209",
   "metadata": {},
   "outputs": [
    {
     "data": {
      "text/plain": [
       "['web dev', 'dsa', 'cyber ']"
      ]
     },
     "execution_count": 77,
     "metadata": {},
     "output_type": "execute_result"
    }
   ],
   "source": [
    "book_list"
   ]
  },
  {
   "cell_type": "code",
   "execution_count": 78,
   "id": "46314691-46be-4f0a-a174-7f35b602b9d7",
   "metadata": {},
   "outputs": [],
   "source": [
    "book_list.sort()"
   ]
  },
  {
   "cell_type": "code",
   "execution_count": 79,
   "id": "8272637a-c0d3-4872-ab61-2efe9d56705e",
   "metadata": {},
   "outputs": [
    {
     "data": {
      "text/plain": [
       "['cyber ', 'dsa', 'web dev']"
      ]
     },
     "execution_count": 79,
     "metadata": {},
     "output_type": "execute_result"
    }
   ],
   "source": [
    "book_list \n"
   ]
  },
  {
   "cell_type": "code",
   "execution_count": 80,
   "id": "c1c57cfe-f7ce-443e-96f9-1758bb48e8f1",
   "metadata": {},
   "outputs": [],
   "source": [
    "del book_list\n",
    "# dels list"
   ]
  },
  {
   "cell_type": "code",
   "execution_count": 83,
   "id": "1f91ac45-0251-444f-a084-10bb3b5c7d79",
   "metadata": {},
   "outputs": [],
   "source": [
    "book_list = [ \"alog\" , \"web dev\" , \"dsa\" , \"cyber \" ]"
   ]
  },
  {
   "cell_type": "code",
   "execution_count": 84,
   "id": "98c268b8-8c54-4fe2-abb4-94271b0cb9ec",
   "metadata": {},
   "outputs": [],
   "source": [
    "book_list.clear() # empty list "
   ]
  },
  {
   "cell_type": "code",
   "execution_count": 85,
   "id": "2ebe73df-7342-48d6-9f10-390bdbb5fb7c",
   "metadata": {},
   "outputs": [
    {
     "data": {
      "text/plain": [
       "[]"
      ]
     },
     "execution_count": 85,
     "metadata": {},
     "output_type": "execute_result"
    }
   ],
   "source": [
    "book_list"
   ]
  },
  {
   "cell_type": "code",
   "execution_count": 86,
   "id": "6b339eac-0d9e-48fe-a9ce-b73550531b1a",
   "metadata": {},
   "outputs": [
    {
     "data": {
      "text/plain": [
       "'cyber '"
      ]
     },
     "execution_count": 86,
     "metadata": {},
     "output_type": "execute_result"
    }
   ],
   "source": [
    "book_list = [ \"alog\" , \"web dev\" , \"dsa\" , \"cyber \" ]\n",
    "book_list.pop() # removed out by default last element"
   ]
  },
  {
   "cell_type": "code",
   "execution_count": 87,
   "id": "9f2d1f5e-1692-4406-9d11-55e81b642d6c",
   "metadata": {},
   "outputs": [
    {
     "data": {
      "text/plain": [
       "['alog', 'web dev', 'dsa']"
      ]
     },
     "execution_count": 87,
     "metadata": {},
     "output_type": "execute_result"
    }
   ],
   "source": [
    "book_list"
   ]
  },
  {
   "cell_type": "code",
   "execution_count": 89,
   "id": "5a8dc283-80cf-4daf-82f1-6ccc81a22c5c",
   "metadata": {},
   "outputs": [
    {
     "data": {
      "text/plain": [
       "'alog'"
      ]
     },
     "execution_count": 89,
     "metadata": {},
     "output_type": "execute_result"
    }
   ],
   "source": [
    "book_list.pop(0)"
   ]
  },
  {
   "cell_type": "code",
   "execution_count": 90,
   "id": "78cc9ef3-382c-4064-8994-603b10ec5e73",
   "metadata": {},
   "outputs": [
    {
     "data": {
      "text/plain": [
       "['web dev', 'dsa']"
      ]
     },
     "execution_count": 90,
     "metadata": {},
     "output_type": "execute_result"
    }
   ],
   "source": [
    "book_list"
   ]
  },
  {
   "cell_type": "markdown",
   "id": "e8ff7f59-9dc6-465f-8824-8922735c7dba",
   "metadata": {},
   "source": [
    "## list comperhension"
   ]
  },
  {
   "cell_type": "code",
   "execution_count": 94,
   "id": "9b002626-2a9b-4d05-96ea-7ccd3c8ce1ce",
   "metadata": {},
   "outputs": [],
   "source": [
    "price = [ 10 , 20 , 30 ,40 ]\n",
    "double_price = []\n",
    "for i in price:\n",
    "    double_price.append(i*2)"
   ]
  },
  {
   "cell_type": "code",
   "execution_count": 95,
   "id": "2aa0ab56-9353-4ef3-a97c-8ae81a7a5043",
   "metadata": {},
   "outputs": [
    {
     "name": "stdout",
     "output_type": "stream",
     "text": [
      "[20, 40, 60, 80]\n"
     ]
    }
   ],
   "source": [
    "print(double_price)"
   ]
  },
  {
   "cell_type": "code",
   "execution_count": 98,
   "id": "30efc87a-4a9f-4b3d-9fae-02b49fa06e99",
   "metadata": {},
   "outputs": [
    {
     "data": {
      "text/plain": [
       "[40, 80, 120, 160]"
      ]
     },
     "execution_count": 98,
     "metadata": {},
     "output_type": "execute_result"
    }
   ],
   "source": [
    "[price * 2 for price in double_price] "
   ]
  },
  {
   "cell_type": "code",
   "execution_count": 99,
   "id": "cf087166-61a8-4e93-b13d-330adc50b9f5",
   "metadata": {},
   "outputs": [
    {
     "data": {
      "text/plain": [
       "['Amitesh', 'Jay', ' naam3']"
      ]
     },
     "execution_count": 99,
     "metadata": {},
     "output_type": "execute_result"
    }
   ],
   "source": [
    "names = [ \"amitesh\" ,\"jay\" , \" naam3\" ]\n",
    "[ name.capitalize() for name in names]"
   ]
  },
  {
   "cell_type": "code",
   "execution_count": 102,
   "id": "0256d9bc-d8ae-460f-b3a0-0cb3bff3cb8b",
   "metadata": {},
   "outputs": [
    {
     "data": {
      "text/plain": [
       "[1, 4, 9, 16, 25, 49]"
      ]
     },
     "execution_count": 102,
     "metadata": {},
     "output_type": "execute_result"
    }
   ],
   "source": [
    "numbers = [ 1 ,2 ,3 ,4, 5,7]\n",
    "[num **2 for num in numbers]"
   ]
  },
  {
   "cell_type": "code",
   "execution_count": 104,
   "id": "5e231b83-ef0f-42d9-a2e9-3b2e0559be08",
   "metadata": {},
   "outputs": [
    {
     "data": {
      "text/plain": [
       "'ppt'"
      ]
     },
     "execution_count": 104,
     "metadata": {},
     "output_type": "execute_result"
    }
   ],
   "source": [
    "str1 = \"doc.ppt\"\n",
    "str1.split(\".\")[-1]"
   ]
  },
  {
   "cell_type": "code",
   "execution_count": 105,
   "id": "7e813bdc-0133-4cf0-b1f1-cdcd46ca13fb",
   "metadata": {},
   "outputs": [
    {
     "data": {
      "text/plain": [
       "['ppt', 'pdf', 'jpg', 'py']"
      ]
     },
     "execution_count": 105,
     "metadata": {},
     "output_type": "execute_result"
    }
   ],
   "source": [
    "files = [ \" doc.ppt\" , \"doc.pdf\" , \" doc.jpg\" , \" doc.py\" ]\n",
    "[ file.split(\".\")[-1] for file in files]"
   ]
  },
  {
   "cell_type": "code",
   "execution_count": 106,
   "id": "ac49f821-530e-4e90-8583-9826c0f758fe",
   "metadata": {},
   "outputs": [],
   "source": [
    "#condtionals list comp"
   ]
  },
  {
   "cell_type": "code",
   "execution_count": 112,
   "id": "11b44a3c-aad9-4857-9193-fc28873f456c",
   "metadata": {},
   "outputs": [
    {
     "data": {
      "text/plain": [
       "['aj@gmail.com', 'dabj@gmail.com']"
      ]
     },
     "execution_count": 112,
     "metadata": {},
     "output_type": "execute_result"
    }
   ],
   "source": [
    "email_address = [ \"aj@gmail.com\" , \"rj@yahoo.com\" , \"dabj@gmail.com\"]\n",
    "[ email for email in email_address if email.endswith(\"@gmail.com\") ]"
   ]
  },
  {
   "cell_type": "code",
   "execution_count": 114,
   "id": "926b61fb-8263-4e49-a2bb-56c9a81befd3",
   "metadata": {},
   "outputs": [
    {
     "name": "stdout",
     "output_type": "stream",
     "text": [
      "['aj@gmail.com']\n",
      "['dabj@gmail.com']\n"
     ]
    }
   ],
   "source": [
    "email_address = [ \"aj@gmail.com\" , \"rj@yahoo.com\" , \"dabj@gmail.com\"]\n",
    "for i in email_address:\n",
    "    if i.endswith(\"gmail.com\"):\n",
    "        print([i])\n",
    "    "
   ]
  },
  {
   "cell_type": "code",
   "execution_count": 4,
   "id": "c58d489f-bf2c-4c4a-ac65-9d1c6400ea45",
   "metadata": {},
   "outputs": [
    {
     "name": "stdout",
     "output_type": "stream",
     "text": [
      "[[1, 4], [1, 5], [1, 6], [2, 4], [2, 5], [2, 6], [3, 4], [3, 5], [3, 6]]\n"
     ]
    }
   ],
   "source": [
    "pair = []\n",
    "for x in [1,2,3]:\n",
    "    for y in [4,5,6]:\n",
    "        pair.append([x,y])\n",
    "print(pair)\n",
    "        "
   ]
  },
  {
   "cell_type": "code",
   "execution_count": 5,
   "id": "f9c0c152-e618-4dc7-869a-3aa5b744a13e",
   "metadata": {},
   "outputs": [
    {
     "data": {
      "text/plain": [
       "[[1, 4], [1, 5], [1, 6], [2, 4], [2, 5], [2, 6], [3, 4], [3, 5], [3, 6]]"
      ]
     },
     "execution_count": 5,
     "metadata": {},
     "output_type": "execute_result"
    }
   ],
   "source": [
    "# nested list comphersian\n",
    "\n",
    "[[x,y] for x in [1,2,3] for y in [4,5,6]]"
   ]
  },
  {
   "cell_type": "markdown",
   "id": "1b8a7984-9c3b-4230-a1ed-c61a5d2f427d",
   "metadata": {},
   "source": [
    "# list as Stack and queue"
   ]
  },
  {
   "cell_type": "raw",
   "id": "caa0a382-5be2-4470-b9b7-7a09775a99ff",
   "metadata": {},
   "source": [
    "STack follows the principle for LIFO \n",
    "THE LAST ELEMENT ADDED TO THE STACK WILL BE FIRST ONE TO BE REMOVED"
   ]
  },
  {
   "cell_type": "code",
   "execution_count": 7,
   "id": "f3450477-aa36-4540-8013-466dcb62dd6a",
   "metadata": {},
   "outputs": [],
   "source": [
    "stack_of_plates = []\n",
    "stack_of_plates.append(\"plate1\")\n",
    "stack_of_plates.append(\"plate2\")\n",
    "stack_of_plates.append(\"plate3\")\n",
    "stack_of_plates.append(\"plate4\")\n",
    "\n"
   ]
  },
  {
   "cell_type": "code",
   "execution_count": 8,
   "id": "d3439fa3-4daf-478d-8f12-26925cf42c80",
   "metadata": {},
   "outputs": [
    {
     "data": {
      "text/plain": [
       "['plate1', 'plate2', 'plate3', 'plate4']"
      ]
     },
     "execution_count": 8,
     "metadata": {},
     "output_type": "execute_result"
    }
   ],
   "source": [
    "stack_of_plates"
   ]
  },
  {
   "cell_type": "code",
   "execution_count": 9,
   "id": "eb786006-1ab0-427b-b722-94ec3b4ee07f",
   "metadata": {},
   "outputs": [
    {
     "data": {
      "text/plain": [
       "'plate4'"
      ]
     },
     "execution_count": 9,
     "metadata": {},
     "output_type": "execute_result"
    }
   ],
   "source": [
    "stack_of_plates.pop() # last one will be removed first"
   ]
  },
  {
   "cell_type": "code",
   "execution_count": 10,
   "id": "b0d74215-212b-49ca-8cee-10588e83980d",
   "metadata": {},
   "outputs": [
    {
     "data": {
      "text/plain": [
       "['plate1', 'plate2', 'plate3']"
      ]
     },
     "execution_count": 10,
     "metadata": {},
     "output_type": "execute_result"
    }
   ],
   "source": [
    "stack_of_plates\n"
   ]
  },
  {
   "cell_type": "code",
   "execution_count": 12,
   "id": "bfb5af87-0310-4bc5-b1c1-d6efb2a7b8ff",
   "metadata": {},
   "outputs": [],
   "source": [
    "#use case\n",
    "history = []\n",
    "history.append(\"home page\")\n",
    "history.append(\"about page\")\n",
    "history.append(\"contact page\")"
   ]
  },
  {
   "cell_type": "code",
   "execution_count": 13,
   "id": "75fafd6c-435b-4e61-afd7-0cd1a88dc933",
   "metadata": {},
   "outputs": [
    {
     "data": {
      "text/plain": [
       "['home page', 'about page', 'contact page']"
      ]
     },
     "execution_count": 13,
     "metadata": {},
     "output_type": "execute_result"
    }
   ],
   "source": [
    "history"
   ]
  },
  {
   "cell_type": "code",
   "execution_count": 14,
   "id": "49e7560b-df2b-433a-830d-b58d519c4476",
   "metadata": {},
   "outputs": [
    {
     "data": {
      "text/plain": [
       "'contact page'"
      ]
     },
     "execution_count": 14,
     "metadata": {},
     "output_type": "execute_result"
    }
   ],
   "source": [
    "history.pop()"
   ]
  },
  {
   "cell_type": "code",
   "execution_count": 15,
   "id": "d1d5028e-28c3-4c1e-92f1-1f1ab02f2a6c",
   "metadata": {},
   "outputs": [
    {
     "data": {
      "text/plain": [
       "['home page', 'about page']"
      ]
     },
     "execution_count": 15,
     "metadata": {},
     "output_type": "execute_result"
    }
   ],
   "source": [
    "history"
   ]
  },
  {
   "cell_type": "markdown",
   "id": "3c44a1b0-810c-461f-9aa8-d8b157c3bad6",
   "metadata": {},
   "source": [
    "## QUEUE "
   ]
  },
  {
   "cell_type": "raw",
   "id": "c7966d91-d215-408e-9354-175d4ee32362",
   "metadata": {},
   "source": [
    " follows - FIFO - FIRST IN FIRST OUT'\n",
    "it works in orderly sequential manner\n",
    "- two ends\n",
    "enqueue - insertion\n",
    "dequeue - deletion\n"
   ]
  },
  {
   "cell_type": "code",
   "execution_count": 16,
   "id": "85725d48-a53a-4f1b-ad29-1731b4866073",
   "metadata": {},
   "outputs": [],
   "source": [
    "from collections import deque\n",
    "#libarary is a collection of python code(module)\n",
    "# collection is lib \n",
    "# and deque is moudle and class"
   ]
  },
  {
   "cell_type": "code",
   "execution_count": 25,
   "id": "82b42ce8-0a49-4499-817a-076970689e58",
   "metadata": {},
   "outputs": [],
   "source": [
    "checkout = deque()\n",
    "checkout.append(\"cust 1\")\n",
    "checkout.append(\"cust 2\")\n",
    "checkout.append(\"cust 3\")\n",
    "checkout.append(\"cust 4\")\n",
    "checkout.append(\"cust 5\")"
   ]
  },
  {
   "cell_type": "code",
   "execution_count": 23,
   "id": "a5f4fd94-0716-4d0c-a566-0bc6d0b423a1",
   "metadata": {},
   "outputs": [
    {
     "data": {
      "text/plain": [
       "deque([])"
      ]
     },
     "execution_count": 23,
     "metadata": {},
     "output_type": "execute_result"
    }
   ],
   "source": []
  },
  {
   "cell_type": "code",
   "execution_count": 26,
   "id": "d8796f00-71d1-488f-b207-47b7156436eb",
   "metadata": {},
   "outputs": [
    {
     "name": "stdout",
     "output_type": "stream",
     "text": [
      "servring  cust 1\n",
      "servring  cust 2\n",
      "servring  cust 3\n",
      "servring  cust 4\n",
      "servring  cust 5\n"
     ]
    }
   ],
   "source": [
    "while checkout:\n",
    "    customer = checkout.popleft()\n",
    "    print(\"servring \" , customer)"
   ]
  },
  {
   "cell_type": "code",
   "execution_count": 27,
   "id": "4808ee55-0999-4639-8acd-c35ff8fa97ed",
   "metadata": {},
   "outputs": [
    {
     "data": {
      "text/plain": [
       "deque([])"
      ]
     },
     "execution_count": 27,
     "metadata": {},
     "output_type": "execute_result"
    }
   ],
   "source": [
    "checkout"
   ]
  },
  {
   "cell_type": "code",
   "execution_count": 35,
   "id": "b5ff55a5-54ed-4591-9ccb-75fedebfa90f",
   "metadata": {},
   "outputs": [
    {
     "name": "stdout",
     "output_type": "stream",
     "text": [
      "printing print the 1\n",
      "printing print the 21\n",
      "printing print the 31\n"
     ]
    }
   ],
   "source": [
    "from queue import  Queue\n",
    "print_q = Queue()\n",
    "print_q.put(\"print the 1\") # put is push\n",
    "print_q.put(\"print the 21\")\n",
    "print_q.put(\"print the 31\")\n",
    "\n",
    "while not print_q.empty():\n",
    "    print_job = print_q.get() # get is simliar to pop\n",
    "    print(\"printing\" , print_job)"
   ]
  },
  {
   "cell_type": "code",
   "execution_count": 34,
   "id": "5b4baa36-f2c0-4436-afbb-fcd9551bf591",
   "metadata": {},
   "outputs": [
    {
     "name": "stdout",
     "output_type": "stream",
     "text": [
      "<queue.Queue object at 0x00000190A1C73450>\n"
     ]
    }
   ],
   "source": []
  },
  {
   "cell_type": "code",
   "execution_count": null,
   "id": "f8205985-fbe0-42d0-9bee-d56fb393b9d9",
   "metadata": {
    "jp-MarkdownHeadingCollapsed": true
   },
   "outputs": [],
   "source": [
    "n1 = int(input(\"enter the element you want in list\"))\n",
    "l1 = []\n",
    "for i in range(n1):\n",
    "    a = input('enter the element')\n",
    "    l1.append(a)\n",
    "print(\"the list you enterd\" , l1)\n",
    "\n",
    "    \n",
    "n2 = int(input('enter the element you want in second list'))\n",
    "l2 = []\n",
    "for i in range(n2):\n",
    "    b = input(\"enter the elements\")\n",
    "    l2.append(b)\n",
    "    \n",
    "print(\"the list you enterd\" , l2)"
   ]
  },
  {
   "cell_type": "code",
   "execution_count": null,
   "id": "012b9402-ee57-4e0f-acf7-b6c225e46cfc",
   "metadata": {},
   "outputs": [],
   "source": []
  }
 ],
 "metadata": {
  "kernelspec": {
   "display_name": "Python 3 (ipykernel)",
   "language": "python",
   "name": "python3"
  },
  "language_info": {
   "codemirror_mode": {
    "name": "ipython",
    "version": 3
   },
   "file_extension": ".py",
   "mimetype": "text/x-python",
   "name": "python",
   "nbconvert_exporter": "python",
   "pygments_lexer": "ipython3",
   "version": "3.12.7"
  }
 },
 "nbformat": 4,
 "nbformat_minor": 5
}
