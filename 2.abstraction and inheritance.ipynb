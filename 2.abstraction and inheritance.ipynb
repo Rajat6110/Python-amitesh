{
 "cells": [
  {
   "cell_type": "markdown",
   "id": "415f7396-d65e-4e09-a115-55f7a11a3e91",
   "metadata": {},
   "source": [
    "# PYTHON NOTEBOOK FOR INHERITANCE AND ABSTRACTION "
   ]
  },
  {
   "cell_type": "markdown",
   "id": "97da7aaf-6cbf-4368-b40e-6a333c4131b8",
   "metadata": {},
   "source": [
    "## INHERITANCE"
   ]
  },
  {
   "cell_type": "markdown",
   "id": "cc0cbbe5-af2a-4626-92be-351dbcf8e8d0",
   "metadata": {},
   "source": [
    "### it refers to process of child class  receiving the properties of parent class"
   ]
  },
  {
   "cell_type": "code",
   "execution_count": 6,
   "id": "6afb8609-9446-42db-854c-30d7135bf664",
   "metadata": {},
   "outputs": [],
   "source": [
    "# class Base:\n",
    "#     #body of base class\n",
    "# class Dervied(Base):\n",
    "#     #body of dervied class"
   ]
  },
  {
   "cell_type": "code",
   "execution_count": 8,
   "id": "6bfbc0cf-475e-4a3b-bd09-8e4e5758edc3",
   "metadata": {},
   "outputs": [],
   "source": [
    "# single inheritance >> when a derived class has only one parent class"
   ]
  },
  {
   "cell_type": "code",
   "execution_count": 9,
   "id": "dccdf6b5-ac41-4524-b2e2-e87ae76dbb80",
   "metadata": {},
   "outputs": [],
   "source": [
    "# example \n",
    "class Father:\n",
    "    def fatherprop(self):\n",
    "        print(\"this is fatager's property\")"
   ]
  },
  {
   "cell_type": "code",
   "execution_count": 13,
   "id": "e48abd9a-3712-4d9c-a3b1-450cde47ee92",
   "metadata": {},
   "outputs": [],
   "source": [
    "class Son(Father):\n",
    "    def sonsprop(self):\n",
    "        print(\"son's class \")"
   ]
  },
  {
   "cell_type": "code",
   "execution_count": 14,
   "id": "0b18e03a-dfed-4e20-b733-864ab20770bc",
   "metadata": {},
   "outputs": [],
   "source": [
    "child_obj = Son() # object of son class"
   ]
  },
  {
   "cell_type": "code",
   "execution_count": 18,
   "id": "a5490818-fa9b-406c-b488-322d116c5147",
   "metadata": {},
   "outputs": [
    {
     "name": "stdout",
     "output_type": "stream",
     "text": [
      "this is fatager's property\n"
     ]
    }
   ],
   "source": [
    "child_obj.fatherprop() # a child  cAN have his proptery and also his father property"
   ]
  },
  {
   "cell_type": "code",
   "execution_count": 19,
   "id": "45da5a35-24e1-4c8d-b70a-71ddb80aee7c",
   "metadata": {},
   "outputs": [
    {
     "name": "stdout",
     "output_type": "stream",
     "text": [
      "son's class \n"
     ]
    }
   ],
   "source": [
    "child_obj.sonsprop()"
   ]
  },
  {
   "cell_type": "code",
   "execution_count": 22,
   "id": "2ad47709-145a-40ce-b318-60de3db58a7c",
   "metadata": {},
   "outputs": [],
   "source": [
    "# A dather will only have his property but not his son's property\n",
    "father_obj = Father()"
   ]
  },
  {
   "cell_type": "code",
   "execution_count": 23,
   "id": "5872974f-a7d5-465c-96e3-4634a0d8baa6",
   "metadata": {},
   "outputs": [
    {
     "name": "stdout",
     "output_type": "stream",
     "text": [
      "this is fatager's property\n"
     ]
    }
   ],
   "source": [
    "father_obj.fatherprop()"
   ]
  },
  {
   "cell_type": "code",
   "execution_count": 25,
   "id": "7bafcad6-b3e5-4596-9489-1813e89c2011",
   "metadata": {},
   "outputs": [
    {
     "ename": "AttributeError",
     "evalue": "'Father' object has no attribute 'sonsprop'",
     "output_type": "error",
     "traceback": [
      "\u001b[1;31m---------------------------------------------------------------------------\u001b[0m",
      "\u001b[1;31mAttributeError\u001b[0m                            Traceback (most recent call last)",
      "Cell \u001b[1;32mIn[25], line 1\u001b[0m\n\u001b[1;32m----> 1\u001b[0m \u001b[43mfather_obj\u001b[49m\u001b[38;5;241;43m.\u001b[39;49m\u001b[43msonsprop\u001b[49m() \u001b[38;5;66;03m# it will throw AN ERROR\u001b[39;00m\n",
      "\u001b[1;31mAttributeError\u001b[0m: 'Father' object has no attribute 'sonsprop'"
     ]
    }
   ],
   "source": [
    "father_obj.sonsprop() # it will throw AN ERROR"
   ]
  },
  {
   "cell_type": "code",
   "execution_count": 27,
   "id": "73f2b322-63b1-402e-8f06-37072b0ca4ea",
   "metadata": {},
   "outputs": [],
   "source": [
    "# PARENT CLASS WILL HOT HAVE ACCES TO THE PROPERTY (METHOD/ATTRIBUTE) OF CHILD CLASS \n",
    "#BUT CHILD WILL HAVE ACCES TO  BOTH "
   ]
  },
  {
   "cell_type": "code",
   "execution_count": 31,
   "id": "49917457-8a98-46b2-8726-31e89192cca4",
   "metadata": {},
   "outputs": [],
   "source": [
    "class Fruit:\n",
    "    def fruit_info(self):\n",
    "            print(\"inside parent class\")\n",
    "class Apple(Fruit):\n",
    "    def apple_info(self):\n",
    "        print(\"Inside the child class\")"
   ]
  },
  {
   "cell_type": "code",
   "execution_count": 32,
   "id": "047d1e92-0d93-48ff-9591-64725bacd5e0",
   "metadata": {},
   "outputs": [],
   "source": [
    "obj = Apple()"
   ]
  },
  {
   "cell_type": "code",
   "execution_count": 33,
   "id": "191c4cc6-426b-480a-bfc9-fee0fe3ccfa6",
   "metadata": {},
   "outputs": [
    {
     "name": "stdout",
     "output_type": "stream",
     "text": [
      "Inside the child class\n"
     ]
    }
   ],
   "source": [
    "obj.apple_info()"
   ]
  },
  {
   "cell_type": "code",
   "execution_count": 34,
   "id": "39ed1055-4928-4e32-ae33-6ef44b48541a",
   "metadata": {},
   "outputs": [
    {
     "name": "stdout",
     "output_type": "stream",
     "text": [
      "inside parent class\n"
     ]
    }
   ],
   "source": [
    "obj.fruit_info()"
   ]
  },
  {
   "cell_type": "code",
   "execution_count": 35,
   "id": "b1986efa-e1f4-4e41-a941-5cd2595c71d5",
   "metadata": {},
   "outputs": [],
   "source": [
    "par = Fruit()"
   ]
  },
  {
   "cell_type": "code",
   "execution_count": 36,
   "id": "75145763-84fd-4274-897b-343bd5054d38",
   "metadata": {},
   "outputs": [
    {
     "name": "stdout",
     "output_type": "stream",
     "text": [
      "inside parent class\n"
     ]
    }
   ],
   "source": [
    "par.fruit_info()"
   ]
  },
  {
   "cell_type": "code",
   "execution_count": 38,
   "id": "818385ec-107e-4ae6-b14c-de48ecac37a0",
   "metadata": {},
   "outputs": [
    {
     "ename": "AttributeError",
     "evalue": "'Fruit' object has no attribute 'apple_info'",
     "output_type": "error",
     "traceback": [
      "\u001b[1;31m---------------------------------------------------------------------------\u001b[0m",
      "\u001b[1;31mAttributeError\u001b[0m                            Traceback (most recent call last)",
      "Cell \u001b[1;32mIn[38], line 1\u001b[0m\n\u001b[1;32m----> 1\u001b[0m \u001b[43mpar\u001b[49m\u001b[38;5;241;43m.\u001b[39;49m\u001b[43mapple_info\u001b[49m \u001b[38;5;66;03m#gives error\u001b[39;00m\n",
      "\u001b[1;31mAttributeError\u001b[0m: 'Fruit' object has no attribute 'apple_info'"
     ]
    }
   ],
   "source": [
    "par.apple_info #gives error"
   ]
  },
  {
   "cell_type": "code",
   "execution_count": 1,
   "id": "0b6a0a86-0333-4360-8802-37e4f7b48e6c",
   "metadata": {},
   "outputs": [],
   "source": [
    "# method over riding  >> it neans re writting / re defining methods of parent class in derived class/ child class\n",
    "class Fruit:\n",
    "    def fruit_info(self):\n",
    "        print(\"fruit info\")\n",
    "class Apple(Fruit):\n",
    "    def fruit_info(self):\n",
    "        print(\"inside child class\")\n",
    "    def apple_info(self):\n",
    "        print(\"apple info\")"
   ]
  },
  {
   "cell_type": "code",
   "execution_count": 3,
   "id": "fc4292c3-bced-418f-9730-eeb671163fb8",
   "metadata": {},
   "outputs": [],
   "source": [
    "obj = Apple()"
   ]
  },
  {
   "cell_type": "code",
   "execution_count": 5,
   "id": "8dd14609-6037-442c-bfc4-76e8f1d4c861",
   "metadata": {},
   "outputs": [
    {
     "name": "stdout",
     "output_type": "stream",
     "text": [
      "apple info\n"
     ]
    }
   ],
   "source": [
    "obj.apple_info()"
   ]
  },
  {
   "cell_type": "code",
   "execution_count": 7,
   "id": "5e55f567-a62e-431c-8564-c82338543b0c",
   "metadata": {},
   "outputs": [
    {
     "name": "stdout",
     "output_type": "stream",
     "text": [
      "inside child class\n"
     ]
    }
   ],
   "source": [
    "obj.fruit_info()"
   ]
  },
  {
   "cell_type": "code",
   "execution_count": 9,
   "id": "5f89ee41-5569-4173-8cc8-2896f6ec901f",
   "metadata": {},
   "outputs": [],
   "source": [
    "bb = Fruit()"
   ]
  },
  {
   "cell_type": "code",
   "execution_count": 11,
   "id": "2f2811fe-352f-4973-ab21-ed1d8f2054fd",
   "metadata": {},
   "outputs": [
    {
     "name": "stdout",
     "output_type": "stream",
     "text": [
      "fruit info\n"
     ]
    }
   ],
   "source": [
    "bb.fruit_info()"
   ]
  },
  {
   "cell_type": "code",
   "execution_count": 56,
   "id": "2c7d1315-3a21-4795-9ffd-e099fc59fb49",
   "metadata": {},
   "outputs": [],
   "source": [
    "# method overridding >> child class is very powerfull\n",
    "# a child can change father's property then he can change a property of father "
   ]
  },
  {
   "cell_type": "markdown",
   "id": "814578eb-de73-4d5f-8e46-9d4dba0dd670",
   "metadata": {},
   "source": [
    "### MULTI LEVEL INHERITANCE"
   ]
  },
  {
   "cell_type": "code",
   "execution_count": 64,
   "id": "d1b063f0-2212-4dc3-ae7a-ff041f9d9d16",
   "metadata": {},
   "outputs": [],
   "source": [
    "class Grandfather:\n",
    "    def prop_grandfather(self):\n",
    "        print(\"i am your grand father , and this is my property\")\n",
    "class Father(Grandfather):\n",
    "    def prop_father(self):\n",
    "        print(\"i am your  father , and this is my and your grandfather's property\")\n",
    "class Son(Father):\n",
    "    def prop_son(self):\n",
    "        print(\"hey i am the varis  , and this is my , my father's and grandfather property\")"
   ]
  },
  {
   "cell_type": "code",
   "execution_count": 65,
   "id": "48160bf6-9228-4702-8c37-2754e981492b",
   "metadata": {},
   "outputs": [],
   "source": [
    "obj1 = Son()"
   ]
  },
  {
   "cell_type": "code",
   "execution_count": 66,
   "id": "4d186d94-4126-48ec-ba9b-800ac164fe43",
   "metadata": {},
   "outputs": [
    {
     "name": "stdout",
     "output_type": "stream",
     "text": [
      "i am your grand father , and this is my property\n"
     ]
    }
   ],
   "source": [
    "obj1.prop_grandfather()"
   ]
  },
  {
   "cell_type": "code",
   "execution_count": 68,
   "id": "6ac8592f-ed86-4ebe-8be1-3ce5c1176868",
   "metadata": {},
   "outputs": [],
   "source": [
    "obj2 = Father()"
   ]
  },
  {
   "cell_type": "code",
   "execution_count": 69,
   "id": "9a3ede2b-2965-4034-b43f-66e6101b4762",
   "metadata": {},
   "outputs": [
    {
     "name": "stdout",
     "output_type": "stream",
     "text": [
      "i am your  father , and this is my and your grandfather's property\n"
     ]
    }
   ],
   "source": [
    "obj2.prop_father()"
   ]
  },
  {
   "cell_type": "code",
   "execution_count": 70,
   "id": "ea01b058-5d3d-4eab-9b23-1481ab41e71a",
   "metadata": {},
   "outputs": [
    {
     "name": "stdout",
     "output_type": "stream",
     "text": [
      "i am your grand father , and this is my property\n"
     ]
    }
   ],
   "source": [
    "obj2.prop_grandfather()"
   ]
  },
  {
   "cell_type": "code",
   "execution_count": 71,
   "id": "4f3a56a0-35d4-4b12-bba6-e3342e86dcc0",
   "metadata": {},
   "outputs": [],
   "source": [
    "obj3 = Grandfather()"
   ]
  },
  {
   "cell_type": "code",
   "execution_count": 72,
   "id": "e78de1e4-79db-4cfa-b593-1219973b7c01",
   "metadata": {},
   "outputs": [
    {
     "name": "stdout",
     "output_type": "stream",
     "text": [
      "i am your grand father , and this is my property\n"
     ]
    }
   ],
   "source": [
    "obj3.prop_grandfather()"
   ]
  },
  {
   "cell_type": "code",
   "execution_count": 75,
   "id": "75407bea-410d-485f-a370-c8448567e46b",
   "metadata": {},
   "outputs": [],
   "source": [
    "class Vechile:\n",
    "    def vechile_info(self):\n",
    "        print(\"Inter vechile class\")\n",
    "class Car(Vechile):\n",
    "    def car_info(self):\n",
    "        print(\"inside the care class\")\n",
    "class SportsCar(Vechile):\n",
    "    def sports_car(self):\n",
    "        print(\"inside sports class car\")"
   ]
  },
  {
   "cell_type": "code",
   "execution_count": 76,
   "id": "52725c8d-dc0c-4438-8d14-40f9a3d7ff5a",
   "metadata": {},
   "outputs": [],
   "source": [
    "ob = SportsCar()"
   ]
  },
  {
   "cell_type": "code",
   "execution_count": 77,
   "id": "0d251deb-017d-4555-a589-953552d98800",
   "metadata": {},
   "outputs": [
    {
     "name": "stdout",
     "output_type": "stream",
     "text": [
      "inside sports class car\n"
     ]
    }
   ],
   "source": [
    "ob.sports_car()"
   ]
  },
  {
   "cell_type": "code",
   "execution_count": 78,
   "id": "555116b5-6b6a-46fe-bd6e-f408d863a7e0",
   "metadata": {},
   "outputs": [
    {
     "name": "stdout",
     "output_type": "stream",
     "text": [
      "Inter vechile class\n"
     ]
    }
   ],
   "source": [
    "ob.vechile_info()"
   ]
  },
  {
   "cell_type": "code",
   "execution_count": 81,
   "id": "10021c98-05d3-4eb5-9ce4-029ef572ac23",
   "metadata": {},
   "outputs": [
    {
     "name": "stdout",
     "output_type": "stream",
     "text": [
      "inside the care class\n"
     ]
    }
   ],
   "source": [
    "class Vechile:\n",
    "    def vechile_info(self):\n",
    "        print(\"Inter vechile class\")\n",
    "class Car(Vechile):\n",
    "    def car_info(self):\n",
    "        print(\"inside the care class\")\n",
    "class SportsCar(Car):\n",
    "    def sports_car(self):\n",
    "        print(\"inside sports class car\")\n",
    "\n",
    "ob = SportsCar()\n",
    "ob.car_info()"
   ]
  },
  {
   "cell_type": "code",
   "execution_count": 83,
   "id": "e1b2aa6c-bb96-47e1-b12b-6bfbe275869d",
   "metadata": {},
   "outputs": [],
   "source": [
    " # another example of method overridding\n",
    "class Vechile:\n",
    "    def vechile_info(self):\n",
    "        print(\"Inter vechile class\")\n",
    "class Car(Vechile):\n",
    "    def car_info(self):\n",
    "        print(\"inside the care class\")\n",
    "class SportsCar(Vechile):\n",
    "    def vechile_info(self):\n",
    "        print(\"inside sports class car\")"
   ]
  },
  {
   "cell_type": "code",
   "execution_count": 84,
   "id": "558993b4-1ea4-43f6-a4fb-0c46dcd4a7c5",
   "metadata": {},
   "outputs": [],
   "source": [
    "s = SportsCar()"
   ]
  },
  {
   "cell_type": "code",
   "execution_count": 85,
   "id": "a09d0433-1b13-4eb6-af31-ec65a88afe99",
   "metadata": {},
   "outputs": [
    {
     "name": "stdout",
     "output_type": "stream",
     "text": [
      "inside sports class car\n"
     ]
    }
   ],
   "source": [
    "s.vechile_info()"
   ]
  },
  {
   "cell_type": "markdown",
   "id": "3ff5913c-7571-450e-bf10-7956e29a28fb",
   "metadata": {},
   "source": [
    "### Multple inheritance"
   ]
  },
  {
   "cell_type": "code",
   "execution_count": 88,
   "id": "a4addf64-876e-4545-8fe6-c60126b0eb0a",
   "metadata": {},
   "outputs": [],
   "source": [
    "# one child can inherit the property of multiple parent class"
   ]
  },
  {
   "cell_type": "code",
   "execution_count": 90,
   "id": "18fa9004-9ebd-4888-a11f-5a5f9ff99b70",
   "metadata": {},
   "outputs": [],
   "source": [
    "class Father:\n",
    "    def papa(self):\n",
    "        print(\"paisa lelo\")\n",
    "class Maa:\n",
    "    def mummy(self):\n",
    "        print(\"mummy ka paisa \")\n",
    "class RajatBabu(Father,Maa):\n",
    "    def paisalelo(self):\n",
    "        print(\"padhle bhai yrr\")"
   ]
  },
  {
   "cell_type": "code",
   "execution_count": 91,
   "id": "ab519ee8-cd78-4c64-bdcb-bd66699b672f",
   "metadata": {},
   "outputs": [],
   "source": [
    "rajat = RajatBabu()"
   ]
  },
  {
   "cell_type": "code",
   "execution_count": 92,
   "id": "1c2551f9-f537-40e1-acb7-5f151f5af0ed",
   "metadata": {},
   "outputs": [
    {
     "name": "stdout",
     "output_type": "stream",
     "text": [
      "mummy ka paisa \n"
     ]
    }
   ],
   "source": [
    "rajat.mummy()"
   ]
  },
  {
   "cell_type": "code",
   "execution_count": 93,
   "id": "f66c6b5d-2130-4987-ba2a-a1e0db1a03a6",
   "metadata": {},
   "outputs": [
    {
     "name": "stdout",
     "output_type": "stream",
     "text": [
      "padhle bhai yrr\n"
     ]
    }
   ],
   "source": [
    "rajat.paisalelo()"
   ]
  },
  {
   "cell_type": "code",
   "execution_count": 95,
   "id": "649bda9c-9380-419a-a11f-88a349f2d8cb",
   "metadata": {},
   "outputs": [
    {
     "name": "stdout",
     "output_type": "stream",
     "text": [
      "paisa lelo\n"
     ]
    }
   ],
   "source": [
    "rajat.papa()"
   ]
  },
  {
   "cell_type": "code",
   "execution_count": 96,
   "id": "b099c278-69e0-4e32-970e-158a766e7b80",
   "metadata": {},
   "outputs": [],
   "source": [
    "class ParentClass1:\n",
    "    def method1(self):\n",
    "        print(\"method 1 of parent class 1\")\n",
    "class ParentClass2:\n",
    "    def method2(self):\n",
    "        print(\"method2 of parent class 2\")"
   ]
  },
  {
   "cell_type": "code",
   "execution_count": 97,
   "id": "573e83be-09a0-4d7c-9a60-0fec8f1f136b",
   "metadata": {},
   "outputs": [],
   "source": [
    "class ChildClass(ParentClass1, ParentClass2):\n",
    "    def method(self):\n",
    "        print(\"method of child class\")"
   ]
  },
  {
   "cell_type": "code",
   "execution_count": 98,
   "id": "9217e3fb-2e47-498e-8eed-803e73ef0160",
   "metadata": {},
   "outputs": [
    {
     "name": "stdout",
     "output_type": "stream",
     "text": [
      "method of child class\n"
     ]
    }
   ],
   "source": [
    "c1 = ChildClass()\n",
    "c1.method()"
   ]
  },
  {
   "cell_type": "code",
   "execution_count": 103,
   "id": "9707f2c6-d848-4429-9431-a128e41d3717",
   "metadata": {},
   "outputs": [],
   "source": [
    "#diamond problem>> it occurs when a class inherits from 2 or more than 2 class>> will lead to ambiguity in execution of methods\n",
    "#To remove diamond problem>> python uses method resolution order(MRO) algorithm called c3 linearization\n",
    "#meaning that the class that is inherited first in the derived class, that method will be called>>in this case method 1\n",
    "\n",
    "class Parent1:\n",
    "    def method_info(self):\n",
    "        print(\"parent 1 ka method\")\n",
    "class Parent2:\n",
    "    def method_info(self):\n",
    "        print(\"parent 2 ka method\")\n",
    "class Child(Parent1, Parent2): # here parent 1 is written first then it will use be inherited\n",
    "    def bacha(self):\n",
    "        print(\"bache ka method\")"
   ]
  },
  {
   "cell_type": "code",
   "execution_count": 100,
   "id": "a0639ca6-c66c-4bda-ab9a-32dc4d8269ae",
   "metadata": {},
   "outputs": [],
   "source": [
    "ob = Child()"
   ]
  },
  {
   "cell_type": "code",
   "execution_count": 101,
   "id": "264563a9-a0f9-4a19-b476-d7d62127ebce",
   "metadata": {},
   "outputs": [
    {
     "name": "stdout",
     "output_type": "stream",
     "text": [
      "parent 1 ka method\n"
     ]
    }
   ],
   "source": [
    "ob.method_info()"
   ]
  },
  {
   "cell_type": "code",
   "execution_count": 111,
   "id": "6226a79e-e584-4c10-9e87-1be2909d7e8a",
   "metadata": {},
   "outputs": [],
   "source": [
    "class A:\n",
    "    def methd(self):\n",
    "        print(\"method of A\")\n",
    "class B(A):\n",
    "    def methd(self):\n",
    "        print(\"method of B\")\n",
    "class C(A):\n",
    "    def methd(self):\n",
    "        print(\"method of c \")\n",
    "class D(C,B): # here c is first so this will be executed\n",
    "    def bacha(self):\n",
    "        print(\"bache ki method\")"
   ]
  },
  {
   "cell_type": "code",
   "execution_count": 110,
   "id": "357e456f-a2a5-483e-8a57-843d460f0af8",
   "metadata": {},
   "outputs": [
    {
     "name": "stdout",
     "output_type": "stream",
     "text": [
      "method of c \n"
     ]
    }
   ],
   "source": [
    "o = D()\n",
    "o.methd()"
   ]
  },
  {
   "cell_type": "markdown",
   "id": "486434f8-3ebd-4f66-95db-c6426f1cd7a0",
   "metadata": {},
   "source": [
    "### hierarical inheritance\n",
    "#### one parent class >> mulple (more than two child class)"
   ]
  },
  {
   "cell_type": "code",
   "execution_count": 114,
   "id": "26f9c850-d8d2-4bb2-95d4-a9771610fe21",
   "metadata": {},
   "outputs": [],
   "source": [
    "class A:\n",
    "    def meth_A(self):\n",
    "        print(\"method of A\")\n",
    "class B(A):\n",
    "    def meth_b(self):\n",
    "        print(\"method of B\")\n",
    "class C(A):\n",
    "    def meth_c(self):\n",
    "        print(\"method of C\")\n",
    "class D(A):\n",
    "    def meth_d(self):\n",
    "        print(\"method of D\")"
   ]
  },
  {
   "cell_type": "code",
   "execution_count": 115,
   "id": "2307b7e8-8162-418f-8c0a-c327cd93e015",
   "metadata": {},
   "outputs": [],
   "source": [
    "d = D()"
   ]
  },
  {
   "cell_type": "code",
   "execution_count": 116,
   "id": "cf61716d-9797-4d6e-8a79-1682dc4b4aed",
   "metadata": {},
   "outputs": [
    {
     "name": "stdout",
     "output_type": "stream",
     "text": [
      "method of A\n"
     ]
    }
   ],
   "source": [
    "d.meth_A()"
   ]
  },
  {
   "cell_type": "code",
   "execution_count": 117,
   "id": "55f39545-7785-4b93-86d4-e168bdf0ecac",
   "metadata": {},
   "outputs": [
    {
     "name": "stdout",
     "output_type": "stream",
     "text": [
      "method of D\n"
     ]
    }
   ],
   "source": [
    "d.meth_d()"
   ]
  },
  {
   "cell_type": "code",
   "execution_count": 118,
   "id": "286b7c04-66d5-429f-8f64-57a15898dd1a",
   "metadata": {},
   "outputs": [],
   "source": [
    "b = B()"
   ]
  },
  {
   "cell_type": "code",
   "execution_count": 119,
   "id": "1ae327da-9bdf-47c3-9c23-4220efc67d30",
   "metadata": {},
   "outputs": [
    {
     "name": "stdout",
     "output_type": "stream",
     "text": [
      "method of A\n"
     ]
    }
   ],
   "source": [
    "b.meth_A()"
   ]
  },
  {
   "cell_type": "code",
   "execution_count": 120,
   "id": "945de34a-b14b-4784-9a66-47f17f17996d",
   "metadata": {},
   "outputs": [],
   "source": [
    "c = C()"
   ]
  },
  {
   "cell_type": "code",
   "execution_count": 121,
   "id": "72bb6cba-0c1a-4abe-ab76-548a2daedbd6",
   "metadata": {},
   "outputs": [
    {
     "name": "stdout",
     "output_type": "stream",
     "text": [
      "method of A\n"
     ]
    }
   ],
   "source": [
    "c.meth_A()"
   ]
  },
  {
   "cell_type": "code",
   "execution_count": 122,
   "id": "e8531173-ec80-4215-8949-676cf4066dec",
   "metadata": {},
   "outputs": [],
   "source": [
    "class Vechile:\n",
    "    def vech_info(self):\n",
    "        print(\"info of that particular info\")\n",
    "class Car(Vechile):\n",
    "    def car_info(self, name):\n",
    "        print(\"The NAme of CAr is  \", name)\n",
    "class Truck(Vechile):\n",
    "    def truck_info(self, naam):\n",
    "        print(\"the naam of truck is \" , naam)"
   ]
  },
  {
   "cell_type": "code",
   "execution_count": 123,
   "id": "f59ef124-c28f-4729-81a1-d7efe7b7f79d",
   "metadata": {},
   "outputs": [],
   "source": [
    "car = Car()"
   ]
  },
  {
   "cell_type": "code",
   "execution_count": 124,
   "id": "9e198a53-8fd6-4ecd-898a-7a5d4be0f2c7",
   "metadata": {},
   "outputs": [
    {
     "name": "stdout",
     "output_type": "stream",
     "text": [
      "The NAme of CAr is   PORCHE\n"
     ]
    }
   ],
   "source": [
    "car.car_info(\"PORCHE\")"
   ]
  },
  {
   "cell_type": "code",
   "execution_count": 125,
   "id": "caf90909-c76e-4b75-9503-42ef66281cf8",
   "metadata": {},
   "outputs": [],
   "source": [
    "truck = Truck()"
   ]
  },
  {
   "cell_type": "code",
   "execution_count": 126,
   "id": "981555a6-0fa3-420c-a58e-ab3d23e6203f",
   "metadata": {},
   "outputs": [
    {
     "name": "stdout",
     "output_type": "stream",
     "text": [
      "the naam of truck is  LORi\n"
     ]
    }
   ],
   "source": [
    "truck.truck_info(\"LORi\")"
   ]
  },
  {
   "cell_type": "markdown",
   "id": "5de2b6ae-175a-457c-99a8-7f27c81530f0",
   "metadata": {},
   "source": [
    "## HYBRID INHERITANCE \n",
    " ### COMBITON OF DIFFERNT TYPE OF INHERITANCES\n"
   ]
  },
  {
   "cell_type": "code",
   "execution_count": 128,
   "id": "8ee8728a-b575-44c4-960c-7de866db1c24",
   "metadata": {},
   "outputs": [],
   "source": [
    "class Vechile:\n",
    "    def vech_info(self):\n",
    "        print(\"info of that particular info\")\n",
    "class Car(Vechile):\n",
    "    def car_info(self, name):\n",
    "        print(\"The NAme of CAr is  \", name)\n",
    "class Truck(Vechile):\n",
    "    def truck_info(self, naam):\n",
    "        print(\"the naam of truck is \" , naam)\n",
    "class SportsCar(Car , Vechile):\n",
    "    def sports_car(self):\n",
    "        print(\"ratatatattata\")"
   ]
  },
  {
   "cell_type": "code",
   "execution_count": 129,
   "id": "b5d74230-baeb-4355-85a7-ac185803c3bd",
   "metadata": {},
   "outputs": [],
   "source": [
    "ob = SportsCar()"
   ]
  },
  {
   "cell_type": "code",
   "execution_count": 131,
   "id": "3f513742-d808-4baf-a037-44a6fed557c6",
   "metadata": {},
   "outputs": [
    {
     "name": "stdout",
     "output_type": "stream",
     "text": [
      "The NAme of CAr is   supra\n"
     ]
    }
   ],
   "source": [
    "ob.car_info(\"supra\")"
   ]
  },
  {
   "cell_type": "code",
   "execution_count": 132,
   "id": "eef3aa63-b75e-46bb-9b66-f4a1b182390c",
   "metadata": {},
   "outputs": [
    {
     "name": "stdout",
     "output_type": "stream",
     "text": [
      "info of that particular info\n"
     ]
    }
   ],
   "source": [
    "ob.vech_info()"
   ]
  },
  {
   "cell_type": "code",
   "execution_count": 133,
   "id": "36c9650a-fd7b-4b8c-8129-a4f5252385c0",
   "metadata": {},
   "outputs": [],
   "source": [
    "ob1 = Car()"
   ]
  },
  {
   "cell_type": "code",
   "execution_count": 134,
   "id": "d4fd9167-953f-46be-8443-9cda2068202b",
   "metadata": {},
   "outputs": [
    {
     "name": "stdout",
     "output_type": "stream",
     "text": [
      "info of that particular info\n"
     ]
    }
   ],
   "source": [
    "ob1.vech_info()"
   ]
  },
  {
   "cell_type": "markdown",
   "id": "749c3aaf-85ae-4c7c-8d0e-e2e529861ebe",
   "metadata": {},
   "source": [
    "# ABSTRACTION"
   ]
  },
  {
   "cell_type": "code",
   "execution_count": 141,
   "id": "86cf16dd-b902-474b-98aa-4bfdcafd9350",
   "metadata": {},
   "outputs": [],
   "source": [
    "# # CONCEPT OF HIDING COMPLEX IMPLEMENTATION\n",
    "# HIDING UNNEEDED DETAILS AND EXPOSING THE REQUIRED\n",
    "# ABSTRACT CLASS CAN NOT BE INSTANITED ( CAN NOT MAKE OBJECT)\n",
    "# ABSTACT CLASS SHOULD ALWAYS BE SUBCLASSED\n",
    "# ABSTACT CLASS MAY CONATION METHODS THAR ARE JUST DECLARED AND NOT IMPLEMENETD IN ABSTARCT CLASS ITSELF\n",
    "# SUBLCASS ARE RESPONSIBLE FOR IMPLELMENTING THESE ABSTRACT METHODS\""
   ]
  },
  {
   "cell_type": "code",
   "execution_count": 142,
   "id": "5cb1ec7d-7b0f-469e-94a4-6e6e1e4a1a3f",
   "metadata": {},
   "outputs": [],
   "source": [
    " # ABSTRACTION CAN BE ACHIVED USING ABSTARCT CLASS >> IMPORT ABC"
   ]
  },
  {
   "cell_type": "code",
   "execution_count": 143,
   "id": "72751d38-f18b-4c0d-96e9-150865d9098c",
   "metadata": {},
   "outputs": [],
   "source": [
    "import abc # collection of mupliple fucntion is module"
   ]
  },
  {
   "cell_type": "code",
   "execution_count": 147,
   "id": "eff8b96f-3277-4d52-a324-065c4972b02e",
   "metadata": {},
   "outputs": [],
   "source": [
    "class Pwskilss:\n",
    "    @abc.abstractmethod\n",
    "    def studentdetails(self):\n",
    "        pass\n",
    "    @abc.abstractmethod\n",
    "    def student_assignment(self):\n",
    "        pass\n",
    "    @abc.abstractmethod\n",
    "    def student_mark(self):\n",
    "        pass"
   ]
  },
  {
   "cell_type": "code",
   "execution_count": 151,
   "id": "41e3899b-642b-4eb8-8a14-a6883bf2e61a",
   "metadata": {},
   "outputs": [],
   "source": [
    "class Datascience(Pwskilss):\n",
    "    def studentdetails(self):\n",
    "        print(\"details of students\")\n",
    "    def student_assignment(self):\n",
    "        print(\"asssignmnet kr budbak\")\n",
    "    def student_mark(self):\n",
    "        print(\"number bata apne fata fat\")"
   ]
  },
  {
   "cell_type": "code",
   "execution_count": 163,
   "id": "031adf8f-9615-49a3-bb14-55b6a4190ce1",
   "metadata": {},
   "outputs": [],
   "source": [
    "class Webdev(Pwskilss):\n",
    "    def studentdetails(self):\n",
    "        print(\"details of  webdeb students\")\n",
    "    def student_assignment(self):\n",
    "        print(\"asssignmnet kr  webdev ka budbak\")\n"
   ]
  },
  {
   "cell_type": "code",
   "execution_count": 164,
   "id": "07af7be5-2792-4067-b511-693f3911df7e",
   "metadata": {},
   "outputs": [],
   "source": [
    "ds = Datascience()"
   ]
  },
  {
   "cell_type": "code",
   "execution_count": 165,
   "id": "3ad63863-54f2-4225-b10e-473278b8d678",
   "metadata": {},
   "outputs": [
    {
     "name": "stdout",
     "output_type": "stream",
     "text": [
      "asssignmnet kr budbak\n"
     ]
    }
   ],
   "source": [
    "ds.student_assignment()"
   ]
  },
  {
   "cell_type": "code",
   "execution_count": 166,
   "id": "a5826fb5-1ff5-402f-bb61-1b2ff79a82e1",
   "metadata": {},
   "outputs": [
    {
     "name": "stdout",
     "output_type": "stream",
     "text": [
      "number bata apne fata fat\n"
     ]
    }
   ],
   "source": [
    "ds.student_mark()"
   ]
  },
  {
   "cell_type": "code",
   "execution_count": 167,
   "id": "6ec222e9-2e86-4e78-9b6b-627e0236abc5",
   "metadata": {},
   "outputs": [
    {
     "name": "stdout",
     "output_type": "stream",
     "text": [
      "details of  webdeb students\n"
     ]
    }
   ],
   "source": [
    "wd = Webdev()\n",
    "wd.studentdetails()"
   ]
  },
  {
   "cell_type": "code",
   "execution_count": 168,
   "id": "03fdf79e-4613-4095-a2b5-97d3d140a73e",
   "metadata": {},
   "outputs": [
    {
     "name": "stdout",
     "output_type": "stream",
     "text": [
      "asssignmnet kr  webdev ka budbak\n"
     ]
    }
   ],
   "source": [
    "wd.student_assignment()"
   ]
  },
  {
   "cell_type": "code",
   "execution_count": 171,
   "id": "20d46165-e002-4234-aa66-d2dc15157910",
   "metadata": {},
   "outputs": [],
   "source": [
    "wd.student_mark() # IT WILL NOT THROW ERROR EVEN IF NOT AVAIABLBE IN CLASS"
   ]
  },
  {
   "cell_type": "code",
   "execution_count": 172,
   "id": "ad218f4a-dc36-46bb-ae13-3dec1846eaf4",
   "metadata": {},
   "outputs": [],
   "source": [
    "# USE CASE"
   ]
  },
  {
   "cell_type": "code",
   "execution_count": 174,
   "id": "23bf0409-f6f1-4d44-9336-19140af7b482",
   "metadata": {},
   "outputs": [],
   "source": [
    "import abc\n",
    "class Shape:\n",
    "    @abc.abstractmethod\n",
    "    def calculate_area(self):\n",
    "        pass"
   ]
  },
  {
   "cell_type": "code",
   "execution_count": 193,
   "id": "84db5f79-a291-489c-a987-8f2356fee7c3",
   "metadata": {},
   "outputs": [],
   "source": [
    "class Rectangle(Shape):\n",
    "    def calculate_area(self,l,b):\n",
    "      print(\"the area of rectangle is \" , l *b )  \n",
    "class Sqare(Shape):\n",
    "    def calculate_area(self , a):\n",
    "        print(\"area is \" , a * a)\n",
    "class Circle(Shape):\n",
    "    def calculate_area(self , r ):\n",
    "        print(\"the area od cricle is \" , 3.14*r*r)"
   ]
  },
  {
   "cell_type": "code",
   "execution_count": 194,
   "id": "68f06012-b165-4122-b3cc-b64b85ca984f",
   "metadata": {},
   "outputs": [],
   "source": [
    "area = Rectangle()"
   ]
  },
  {
   "cell_type": "code",
   "execution_count": 195,
   "id": "34fde6ae-f406-4f22-9f6a-20652b956248",
   "metadata": {},
   "outputs": [
    {
     "name": "stdout",
     "output_type": "stream",
     "text": [
      "the area of rectangle is  20\n"
     ]
    }
   ],
   "source": [
    "area.calculate_area(4,5)"
   ]
  },
  {
   "cell_type": "code",
   "execution_count": 196,
   "id": "4c3936a1-ca21-4ce1-929b-3653d5925f3a",
   "metadata": {},
   "outputs": [],
   "source": [
    "area = Sqare()"
   ]
  },
  {
   "cell_type": "code",
   "execution_count": 197,
   "id": "0efa2d09-be69-4be0-b5bd-665fdabc0def",
   "metadata": {},
   "outputs": [
    {
     "name": "stdout",
     "output_type": "stream",
     "text": [
      "area is  25\n"
     ]
    }
   ],
   "source": [
    "area.calculate_area(5)"
   ]
  },
  {
   "cell_type": "code",
   "execution_count": 198,
   "id": "b08194db-630c-48d4-9e51-5f287f967228",
   "metadata": {},
   "outputs": [],
   "source": [
    "area = Circle()"
   ]
  },
  {
   "cell_type": "code",
   "execution_count": 200,
   "id": "e601a76f-ac83-4fc6-90c3-eca260f2d176",
   "metadata": {},
   "outputs": [
    {
     "name": "stdout",
     "output_type": "stream",
     "text": [
      "the area od cricle is  50.24\n"
     ]
    }
   ],
   "source": [
    "area.calculate_area(4)"
   ]
  },
  {
   "cell_type": "code",
   "execution_count": 201,
   "id": "6d09c754-79d8-4ab3-8e05-2e6b381f79b3",
   "metadata": {},
   "outputs": [],
   "source": [
    "# heloo "
   ]
  },
  {
   "cell_type": "code",
   "execution_count": null,
   "id": "26f1f89b-766d-49f6-a9ac-c5a270dfd659",
   "metadata": {},
   "outputs": [],
   "source": []
  }
 ],
 "metadata": {
  "kernelspec": {
   "display_name": "Python 3 (ipykernel)",
   "language": "python",
   "name": "python3"
  },
  "language_info": {
   "codemirror_mode": {
    "name": "ipython",
    "version": 3
   },
   "file_extension": ".py",
   "mimetype": "text/x-python",
   "name": "python",
   "nbconvert_exporter": "python",
   "pygments_lexer": "ipython3",
   "version": "3.12.7"
  },
  "widgets": {
   "application/vnd.jupyter.widget-state+json": {
    "state": {},
    "version_major": 2,
    "version_minor": 0
   }
  }
 },
 "nbformat": 4,
 "nbformat_minor": 5
}
