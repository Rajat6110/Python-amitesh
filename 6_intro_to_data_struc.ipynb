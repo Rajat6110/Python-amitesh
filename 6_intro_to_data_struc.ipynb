{
 "cells": [
  {
   "cell_type": "markdown",
   "id": "e121bc38-29a8-414e-a7fa-5e7e08ae4895",
   "metadata": {},
   "source": [
    "# INTRODUCTION TO DATA STRUCTURE"
   ]
  },
  {
   "cell_type": "raw",
   "id": "c1e02fb4-5cb1-4fb6-b677-dcd4224da082",
   "metadata": {},
   "source": [
    "Data structure>>\n",
    "way of organizing and storing data so that it can be accessed and manipulated efficiently"
   ]
  },
  {
   "cell_type": "code",
   "execution_count": 1,
   "id": "770d71e0-9c5d-46f6-bc01-02d98abd4019",
   "metadata": {},
   "outputs": [],
   "source": [
    "# DAta structure >> string , list , tuple , dictionary , array "
   ]
  },
  {
   "cell_type": "markdown",
   "id": "03d8ce6b-6d9f-49ba-9afa-8cc13795cf92",
   "metadata": {},
   "source": [
    "## LIST\n"
   ]
  },
  {
   "cell_type": "raw",
   "id": "3a8deb03-3680-467d-86b4-57b752ace1a1",
   "metadata": {},
   "source": [
    "List >> you can store anything in list >> can store heterogenous data\n",
    "\n",
    "list is an orderd  collection of elements that can be of any data type\n",
    ">> list are mutable\n"
   ]
  },
  {
   "cell_type": "code",
   "execution_count": 4,
   "id": "5c72b244-813d-4d03-ab38-ba1863a1ec29",
   "metadata": {},
   "outputs": [
    {
     "name": "stdout",
     "output_type": "stream",
     "text": [
      "[1, 2, 3, 4, 'amitesh']\n"
     ]
    }
   ],
   "source": [
    "num = [ 1,2,3,4 ,\"amitesh\"]\n",
    "print(num)"
   ]
  },
  {
   "cell_type": "code",
   "execution_count": 5,
   "id": "e2c5e8c5-3763-41c2-b45c-1e818defea83",
   "metadata": {},
   "outputs": [
    {
     "name": "stdout",
     "output_type": "stream",
     "text": [
      "1\n",
      "2\n",
      "3\n",
      "4\n",
      "amitesh\n"
     ]
    }
   ],
   "source": [
    "for i in num:\n",
    "    print(i)"
   ]
  },
  {
   "cell_type": "code",
   "execution_count": 6,
   "id": "945165dd-d07a-4b45-8900-250c5c25357e",
   "metadata": {},
   "outputs": [
    {
     "data": {
      "text/plain": [
       "list"
      ]
     },
     "execution_count": 6,
     "metadata": {},
     "output_type": "execute_result"
    }
   ],
   "source": [
    "type(num)"
   ]
  },
  {
   "cell_type": "code",
   "execution_count": 7,
   "id": "773dfd74-f8a4-4ef3-b6a2-04abac310aaa",
   "metadata": {},
   "outputs": [
    {
     "data": {
      "text/plain": [
       "4"
      ]
     },
     "execution_count": 7,
     "metadata": {},
     "output_type": "execute_result"
    }
   ],
   "source": [
    "num[3]"
   ]
  },
  {
   "cell_type": "code",
   "execution_count": 8,
   "id": "f0ea95d0-d339-4d92-b2eb-db7dd1b891d1",
   "metadata": {},
   "outputs": [
    {
     "data": {
      "text/plain": [
       "'amitesh'"
      ]
     },
     "execution_count": 8,
     "metadata": {},
     "output_type": "execute_result"
    }
   ],
   "source": [
    "num[-1]"
   ]
  },
  {
   "cell_type": "code",
   "execution_count": 9,
   "id": "49860027-4e34-4275-8f0d-5a60aaa12cb9",
   "metadata": {},
   "outputs": [],
   "source": [
    "num[4] = \"rajat\""
   ]
  },
  {
   "cell_type": "code",
   "execution_count": 10,
   "id": "130284d0-fd0e-469b-8390-0b82705ba0c9",
   "metadata": {},
   "outputs": [
    {
     "data": {
      "text/plain": [
       "[1, 2, 3, 4, 'rajat']"
      ]
     },
     "execution_count": 10,
     "metadata": {},
     "output_type": "execute_result"
    }
   ],
   "source": [
    "num"
   ]
  },
  {
   "cell_type": "code",
   "execution_count": 11,
   "id": "e2ee392d-1207-46b7-aaae-0d9bc8d8db85",
   "metadata": {},
   "outputs": [],
   "source": [
    "#adding element to list \n",
    "num.append(\"orrange\")"
   ]
  },
  {
   "cell_type": "code",
   "execution_count": 14,
   "id": "5483bebd-7872-4822-b944-88a29f7f3014",
   "metadata": {},
   "outputs": [],
   "source": [
    "num.append(\"amitesh\" )\n"
   ]
  },
  {
   "cell_type": "code",
   "execution_count": 15,
   "id": "4b0076e4-2c57-43ab-924a-b5a6240e95da",
   "metadata": {},
   "outputs": [
    {
     "data": {
      "text/plain": [
       "[1, 2, 3, 4, 'rajat', 'orrange', 'amitesh']"
      ]
     },
     "execution_count": 15,
     "metadata": {},
     "output_type": "execute_result"
    }
   ],
   "source": [
    "num\n"
   ]
  },
  {
   "cell_type": "code",
   "execution_count": 16,
   "id": "abc6bf6a-c582-4f7c-85ff-3d283df5fc58",
   "metadata": {},
   "outputs": [],
   "source": [
    "num.remove(\"rajat\")"
   ]
  },
  {
   "cell_type": "code",
   "execution_count": 17,
   "id": "9d2ba243-e799-4265-b28f-9dd88b14d118",
   "metadata": {},
   "outputs": [
    {
     "data": {
      "text/plain": [
       "[1, 2, 3, 4, 'orrange', 'amitesh']"
      ]
     },
     "execution_count": 17,
     "metadata": {},
     "output_type": "execute_result"
    }
   ],
   "source": [
    "num"
   ]
  },
  {
   "cell_type": "code",
   "execution_count": 19,
   "id": "ec95eec4-6c21-4ceb-9824-f1d7088ac68c",
   "metadata": {},
   "outputs": [],
   "source": [
    "list = [[12,45,554] , [35,54,43] , [433,554,5]]"
   ]
  },
  {
   "cell_type": "code",
   "execution_count": 23,
   "id": "7d6ccd79-6508-4a2b-8b8b-acd031818bab",
   "metadata": {},
   "outputs": [
    {
     "data": {
      "text/plain": [
       "554"
      ]
     },
     "execution_count": 23,
     "metadata": {},
     "output_type": "execute_result"
    }
   ],
   "source": [
    "list[0][2]"
   ]
  },
  {
   "cell_type": "code",
   "execution_count": 24,
   "id": "9b2f17ad-905a-464f-a67d-16a75d72d647",
   "metadata": {},
   "outputs": [
    {
     "data": {
      "text/plain": [
       "[12, 45, 554]"
      ]
     },
     "execution_count": 24,
     "metadata": {},
     "output_type": "execute_result"
    }
   ],
   "source": [
    "list[0]"
   ]
  },
  {
   "cell_type": "code",
   "execution_count": 25,
   "id": "74226150-ca9d-4ad6-83a5-aaf8c1580a36",
   "metadata": {},
   "outputs": [],
   "source": [
    "list[0][2] = 5454"
   ]
  },
  {
   "cell_type": "code",
   "execution_count": 26,
   "id": "424c6ffd-fe2e-4e7b-ba99-36f7ad0bca63",
   "metadata": {},
   "outputs": [
    {
     "data": {
      "text/plain": [
       "[[12, 45, 5454], [35, 54, 43], [433, 554, 5]]"
      ]
     },
     "execution_count": 26,
     "metadata": {},
     "output_type": "execute_result"
    }
   ],
   "source": [
    "list"
   ]
  },
  {
   "cell_type": "code",
   "execution_count": 27,
   "id": "4747e3cd-0d99-4249-9b38-24435d0013a1",
   "metadata": {},
   "outputs": [
    {
     "name": "stdout",
     "output_type": "stream",
     "text": [
      "[12, 45, 5454]\n",
      "[35, 54, 43]\n",
      "[433, 554, 5]\n"
     ]
    }
   ],
   "source": [
    "for i in list:\n",
    "    print(i)"
   ]
  },
  {
   "cell_type": "markdown",
   "id": "4e0b5fdc-92bc-4bf5-ac20-27de767fb1f8",
   "metadata": {},
   "source": [
    "## Tuples"
   ]
  },
  {
   "cell_type": "raw",
   "id": "8e4aedd8-1766-4ce1-9e4a-cc92df058cde",
   "metadata": {},
   "source": [
    "Tuples >> ()\n",
    "1. tuples are immutable\n",
    "\n",
    "use cases - \n",
    "ahdar cARD NO , atm , emp id >> you don't want to change , you will use tuple to store data"
   ]
  },
  {
   "cell_type": "code",
   "execution_count": 29,
   "id": "c6c7d52f-a309-45a7-8f98-6b43abaf3f40",
   "metadata": {},
   "outputs": [],
   "source": [
    "point = ( 2,30)"
   ]
  },
  {
   "cell_type": "code",
   "execution_count": 30,
   "id": "0ed079ca-2bf3-42b2-8765-ba88a4618f8d",
   "metadata": {},
   "outputs": [
    {
     "data": {
      "text/plain": [
       "(2, 30)"
      ]
     },
     "execution_count": 30,
     "metadata": {},
     "output_type": "execute_result"
    }
   ],
   "source": [
    "point"
   ]
  },
  {
   "cell_type": "code",
   "execution_count": 31,
   "id": "4ce606ae-7033-493b-865e-8cc716b36021",
   "metadata": {},
   "outputs": [
    {
     "data": {
      "text/plain": [
       "tuple"
      ]
     },
     "execution_count": 31,
     "metadata": {},
     "output_type": "execute_result"
    }
   ],
   "source": [
    "type(point)"
   ]
  },
  {
   "cell_type": "code",
   "execution_count": 34,
   "id": "a2ecc98a-e6aa-4dbd-bd2d-1c31cb7c6b10",
   "metadata": {},
   "outputs": [],
   "source": [
    "t = ( 1 ,3 , 4.544 , \" rajat\") #heterogenous "
   ]
  },
  {
   "cell_type": "code",
   "execution_count": 35,
   "id": "3bb4d4d0-b68e-4734-9811-a21844cb599d",
   "metadata": {},
   "outputs": [],
   "source": [
    "emp_name = (\"AJay\" , \"amitesh\" , \"rajat\")\n"
   ]
  },
  {
   "cell_type": "code",
   "execution_count": 37,
   "id": "11fbb05b-25c6-4a5b-9063-98b1cd190730",
   "metadata": {},
   "outputs": [
    {
     "data": {
      "text/plain": [
       "tuple"
      ]
     },
     "execution_count": 37,
     "metadata": {},
     "output_type": "execute_result"
    }
   ],
   "source": [
    "type(emp_name)"
   ]
  },
  {
   "cell_type": "code",
   "execution_count": 39,
   "id": "8533b37a-4fec-4865-b878-548e5a6fa29d",
   "metadata": {},
   "outputs": [
    {
     "data": {
      "text/plain": [
       "'rajat'"
      ]
     },
     "execution_count": 39,
     "metadata": {},
     "output_type": "execute_result"
    }
   ],
   "source": [
    "emp_name[2]"
   ]
  },
  {
   "cell_type": "code",
   "execution_count": 40,
   "id": "12ff952b-2956-402d-80e6-6eb754e3274e",
   "metadata": {},
   "outputs": [],
   "source": [
    "box1 = (\"a\" , \"b\")\n",
    "box2 = (\"c\" ,\"d\")\n",
    "choclate_bag = (box1 , box2)"
   ]
  },
  {
   "cell_type": "code",
   "execution_count": 41,
   "id": "782164d2-8f47-48bb-9cd6-2667e8f7cd28",
   "metadata": {},
   "outputs": [
    {
     "data": {
      "text/plain": [
       "(('a', 'b'), ('c', 'd'))"
      ]
     },
     "execution_count": 41,
     "metadata": {},
     "output_type": "execute_result"
    }
   ],
   "source": [
    "choclate_bag\n"
   ]
  },
  {
   "cell_type": "code",
   "execution_count": 42,
   "id": "5e736577-0d09-4c54-a8af-45161bfbbdc3",
   "metadata": {},
   "outputs": [
    {
     "name": "stdout",
     "output_type": "stream",
     "text": [
      "a\n",
      "b\n",
      "c\n",
      "d\n"
     ]
    }
   ],
   "source": [
    "for box in choclate_bag:\n",
    "    for choc in box:\n",
    "        print(choc)"
   ]
  },
  {
   "cell_type": "markdown",
   "id": "b3f8a9ef-bedc-4f0e-b786-5b07f1c2e2bc",
   "metadata": {},
   "source": [
    "## SETS "
   ]
  },
  {
   "cell_type": "raw",
   "id": "4f94b2de-a02c-48e1-91d1-556e8d91ff43",
   "metadata": {},
   "source": [
    " SETS ARE UNORDERD COLLECTION OF UNIQUE ELEMENTS"
   ]
  },
  {
   "cell_type": "code",
   "execution_count": 44,
   "id": "5dd6f320-4848-4a2e-9714-8b31d6aeede9",
   "metadata": {},
   "outputs": [
    {
     "data": {
      "text/plain": [
       "{'orange', 'red'}"
      ]
     },
     "execution_count": 44,
     "metadata": {},
     "output_type": "execute_result"
    }
   ],
   "source": [
    "s = { \"red\" , \"orange\"}\n",
    "s"
   ]
  },
  {
   "cell_type": "code",
   "execution_count": 45,
   "id": "925e7761-d413-4643-a9e5-2306c56b7cb9",
   "metadata": {},
   "outputs": [
    {
     "data": {
      "text/plain": [
       "set"
      ]
     },
     "execution_count": 45,
     "metadata": {},
     "output_type": "execute_result"
    }
   ],
   "source": [
    "type(s)"
   ]
  },
  {
   "cell_type": "code",
   "execution_count": 47,
   "id": "ba7807c2-3c41-46e3-8358-6fdf87e8bc01",
   "metadata": {},
   "outputs": [
    {
     "data": {
      "text/plain": [
       "{1, 2, 3}"
      ]
     },
     "execution_count": 47,
     "metadata": {},
     "output_type": "execute_result"
    }
   ],
   "source": [
    "s = { 1 ,2, 3 ,1 , 3 }\n",
    "s #unique element "
   ]
  },
  {
   "cell_type": "code",
   "execution_count": 48,
   "id": "efe045eb-ca73-4a87-bcaf-f48ec1c06add",
   "metadata": {},
   "outputs": [
    {
     "data": {
      "text/plain": [
       "{1, 3, 4, 'A', 'b'}"
      ]
     },
     "execution_count": 48,
     "metadata": {},
     "output_type": "execute_result"
    }
   ],
   "source": [
    " s = { \"A\" , \"b\", 1 , 3 , 4,3 ,1}\n",
    "s"
   ]
  },
  {
   "cell_type": "code",
   "execution_count": 49,
   "id": "74b9bc00-533c-4a6c-bb9c-4670d5fa5654",
   "metadata": {},
   "outputs": [],
   "source": [
    "s.add(\"PW\") #mutable sets"
   ]
  },
  {
   "cell_type": "code",
   "execution_count": 50,
   "id": "31deefe5-70da-46d7-987d-502fb621c403",
   "metadata": {},
   "outputs": [
    {
     "data": {
      "text/plain": [
       "{1, 3, 4, 'A', 'PW', 'b'}"
      ]
     },
     "execution_count": 50,
     "metadata": {},
     "output_type": "execute_result"
    }
   ],
   "source": [
    "s\n"
   ]
  },
  {
   "cell_type": "code",
   "execution_count": 51,
   "id": "0c794734-0012-45e1-90f1-c1aa34a660b1",
   "metadata": {},
   "outputs": [],
   "source": [
    "s.remove(\"PW\")"
   ]
  },
  {
   "cell_type": "code",
   "execution_count": 52,
   "id": "653d53f0-17df-4b1d-b13b-edd10e51ed8e",
   "metadata": {},
   "outputs": [
    {
     "data": {
      "text/plain": [
       "{1, 3, 4, 'A', 'b'}"
      ]
     },
     "execution_count": 52,
     "metadata": {},
     "output_type": "execute_result"
    }
   ],
   "source": [
    "s"
   ]
  },
  {
   "cell_type": "markdown",
   "id": "e8e986e4-62e9-4232-b038-48728e03d5cd",
   "metadata": {},
   "source": [
    "## DICTONARIES"
   ]
  },
  {
   "cell_type": "raw",
   "id": "41211bfb-35fd-4f3a-a9e1-638eb90c21af",
   "metadata": {},
   "source": [
    "data struture which store data in key value from\n"
   ]
  },
  {
   "cell_type": "code",
   "execution_count": 53,
   "id": "0de92b9e-ed03-4ed9-9f06-7e319512ba24",
   "metadata": {},
   "outputs": [],
   "source": [
    "dict = {\"coruse\" : \"data science\" , \"duration\" : 200}"
   ]
  },
  {
   "cell_type": "code",
   "execution_count": 54,
   "id": "8973d85a-c2ff-4891-9e26-d66eb2db88ac",
   "metadata": {},
   "outputs": [
    {
     "data": {
      "text/plain": [
       "{'coruse': 'data science', 'duration': 200}"
      ]
     },
     "execution_count": 54,
     "metadata": {},
     "output_type": "execute_result"
    }
   ],
   "source": [
    "dict"
   ]
  },
  {
   "cell_type": "code",
   "execution_count": 56,
   "id": "0c9dbaa8-471f-4653-9d2a-ababf8eaa74c",
   "metadata": {},
   "outputs": [],
   "source": [
    "phone_book = { \"Dad\" : 3232 , \"mom\" : 34232}"
   ]
  },
  {
   "cell_type": "code",
   "execution_count": 57,
   "id": "15bc5da9-6406-40e6-9ae3-829aae3f9b2d",
   "metadata": {},
   "outputs": [
    {
     "data": {
      "text/plain": [
       "{'Dad': 3232, 'mom': 34232}"
      ]
     },
     "execution_count": 57,
     "metadata": {},
     "output_type": "execute_result"
    }
   ],
   "source": [
    "phone_book"
   ]
  },
  {
   "cell_type": "code",
   "execution_count": 58,
   "id": "c580b58a-3d3a-4653-b628-0c82307f4130",
   "metadata": {},
   "outputs": [
    {
     "data": {
      "text/plain": [
       "3232"
      ]
     },
     "execution_count": 58,
     "metadata": {},
     "output_type": "execute_result"
    }
   ],
   "source": [
    "phone_book[\"Dad\"]"
   ]
  },
  {
   "cell_type": "code",
   "execution_count": 60,
   "id": "32febc9d-cea3-4ebe-ad36-3140b1c119b5",
   "metadata": {},
   "outputs": [],
   "source": [
    "phone_book = { \"Dad\" : 3232 , \"mom\" : 34232, \"Dad\" : 3794 }"
   ]
  },
  {
   "cell_type": "code",
   "execution_count": 61,
   "id": "a7efc56b-432b-4f34-8713-ba5f96ca1275",
   "metadata": {},
   "outputs": [
    {
     "data": {
      "text/plain": [
       "{'Dad': 3794, 'mom': 34232}"
      ]
     },
     "execution_count": 61,
     "metadata": {},
     "output_type": "execute_result"
    }
   ],
   "source": [
    "phone_book\n"
   ]
  },
  {
   "cell_type": "code",
   "execution_count": 63,
   "id": "7633fab8-117c-4f4d-bfb4-c577f28b219d",
   "metadata": {},
   "outputs": [],
   "source": [
    "phone_book['mom'] = 656545"
   ]
  },
  {
   "cell_type": "code",
   "execution_count": 64,
   "id": "64be0484-d9f5-42c4-8c6e-018063cfbc92",
   "metadata": {},
   "outputs": [
    {
     "data": {
      "text/plain": [
       "{'Dad': 3794, 'mom': 656545}"
      ]
     },
     "execution_count": 64,
     "metadata": {},
     "output_type": "execute_result"
    }
   ],
   "source": [
    "phone_book\n"
   ]
  },
  {
   "cell_type": "code",
   "execution_count": 67,
   "id": "dbca4bf0-62a3-4036-bf5c-2473580238d9",
   "metadata": {},
   "outputs": [
    {
     "data": {
      "text/plain": [
       "dict_keys(['Dad', 'mom'])"
      ]
     },
     "execution_count": 67,
     "metadata": {},
     "output_type": "execute_result"
    }
   ],
   "source": [
    "phone_book.keys()"
   ]
  },
  {
   "cell_type": "code",
   "execution_count": 68,
   "id": "deab3ef3-07ba-44d5-adcc-5c7a1df6a602",
   "metadata": {},
   "outputs": [
    {
     "data": {
      "text/plain": [
       "dict_values([3794, 656545])"
      ]
     },
     "execution_count": 68,
     "metadata": {},
     "output_type": "execute_result"
    }
   ],
   "source": [
    "phone_book.values()"
   ]
  },
  {
   "cell_type": "code",
   "execution_count": 69,
   "id": "30bcba9f-ed5e-44c6-b7b5-cedc67a0ad89",
   "metadata": {},
   "outputs": [],
   "source": [
    "from array import array"
   ]
  },
  {
   "cell_type": "code",
   "execution_count": 71,
   "id": "f1995310-f73b-4e21-8d19-52409af542ee",
   "metadata": {},
   "outputs": [
    {
     "data": {
      "text/plain": [
       "array('i', [1, 2, 3, 4])"
      ]
     },
     "execution_count": 71,
     "metadata": {},
     "output_type": "execute_result"
    }
   ],
   "source": [
    "array('i', [ 1,2,3,4])"
   ]
  },
  {
   "cell_type": "code",
   "execution_count": null,
   "id": "0af9a52e-674f-43ab-9004-faae1519042a",
   "metadata": {},
   "outputs": [],
   "source": []
  }
 ],
 "metadata": {
  "kernelspec": {
   "display_name": "Python 3 (ipykernel)",
   "language": "python",
   "name": "python3"
  },
  "language_info": {
   "codemirror_mode": {
    "name": "ipython",
    "version": 3
   },
   "file_extension": ".py",
   "mimetype": "text/x-python",
   "name": "python",
   "nbconvert_exporter": "python",
   "pygments_lexer": "ipython3",
   "version": "3.12.7"
  }
 },
 "nbformat": 4,
 "nbformat_minor": 5
}
