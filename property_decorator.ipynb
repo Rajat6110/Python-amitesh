{
 "cells": [
  {
   "cell_type": "markdown",
   "id": "8f674a96-3190-4ab6-9f48-9672f9a35425",
   "metadata": {},
   "source": [
    "# property decorators "
   ]
  },
  {
   "cell_type": "code",
   "execution_count": 1,
   "id": "f8bdb443-fd41-44b2-a7ca-68caa79afbde",
   "metadata": {},
   "outputs": [],
   "source": [
    " #you are allowed to use class method as an attribute "
   ]
  },
  {
   "cell_type": "code",
   "execution_count": 2,
   "id": "3863338c-bec1-44dc-8946-7e69aa78fd3b",
   "metadata": {},
   "outputs": [],
   "source": [
    "class Stud:\n",
    "    def __init__(self,name ,price):\n",
    "        self.__name = name  # private class\n",
    "        self.__price = price\n",
    "    \n",
    "        "
   ]
  },
  {
   "cell_type": "code",
   "execution_count": 3,
   "id": "03e59294-2766-4067-a490-fcd0a43427ea",
   "metadata": {},
   "outputs": [],
   "source": [
    "s  = Stud(\"ajay\" , 300)"
   ]
  },
  {
   "cell_type": "code",
   "execution_count": 4,
   "id": "3c3b8bb7-ab98-46fe-9ab5-9f94ce2ffb18",
   "metadata": {},
   "outputs": [
    {
     "ename": "AttributeError",
     "evalue": "'Stud' object has no attribute 'name'",
     "output_type": "error",
     "traceback": [
      "\u001b[1;31m---------------------------------------------------------------------------\u001b[0m",
      "\u001b[1;31mAttributeError\u001b[0m                            Traceback (most recent call last)",
      "Cell \u001b[1;32mIn[4], line 1\u001b[0m\n\u001b[1;32m----> 1\u001b[0m \u001b[43ms\u001b[49m\u001b[38;5;241;43m.\u001b[39;49m\u001b[43mname\u001b[49m \u001b[38;5;66;03m# throws error\u001b[39;00m\n",
      "\u001b[1;31mAttributeError\u001b[0m: 'Stud' object has no attribute 'name'"
     ]
    }
   ],
   "source": [
    "s.name # throws error\n"
   ]
  },
  {
   "cell_type": "code",
   "execution_count": 6,
   "id": "9609bc72-24ed-448f-bd74-968a2e8274a8",
   "metadata": {},
   "outputs": [
    {
     "data": {
      "text/plain": [
       "'ajay'"
      ]
     },
     "execution_count": 6,
     "metadata": {},
     "output_type": "execute_result"
    }
   ],
   "source": [
    "s._Stud__name"
   ]
  },
  {
   "cell_type": "code",
   "execution_count": 7,
   "id": "b2716eab-6345-4941-b55c-f35e314b9e9b",
   "metadata": {},
   "outputs": [],
   "source": [
    "# another way to expose pvt variavle using property acces"
   ]
  },
  {
   "cell_type": "code",
   "execution_count": 9,
   "id": "a4b2823e-6d7a-468b-92d0-eedcb592a38f",
   "metadata": {},
   "outputs": [],
   "source": [
    "class Stud:\n",
    "    def __init__(self,name ,price):\n",
    "        self.__name = name  # private class\n",
    "        self.__price = price\n",
    "    @property\n",
    "    def access_price(self):\n",
    "        return self.__price"
   ]
  },
  {
   "cell_type": "code",
   "execution_count": 10,
   "id": "03cbf67f-f124-4f99-9599-204a5678d9a6",
   "metadata": {},
   "outputs": [],
   "source": [
    "s = Stud(\"amitesh\" , 33000)"
   ]
  },
  {
   "cell_type": "code",
   "execution_count": 12,
   "id": "8266b27e-6bf6-4789-bae2-54c9fd735bd2",
   "metadata": {},
   "outputs": [
    {
     "data": {
      "text/plain": [
       "33000"
      ]
     },
     "execution_count": 12,
     "metadata": {},
     "output_type": "execute_result"
    }
   ],
   "source": [
    "s.access_price # earlier you need to () at end but here's no need of any class"
   ]
  },
  {
   "cell_type": "code",
   "execution_count": 13,
   "id": "984e094e-74ff-452a-b92b-73912659df45",
   "metadata": {},
   "outputs": [
    {
     "data": {
      "text/plain": [
       "'amitesh'"
      ]
     },
     "execution_count": 13,
     "metadata": {},
     "output_type": "execute_result"
    }
   ],
   "source": [
    "s._Stud__name"
   ]
  },
  {
   "cell_type": "code",
   "execution_count": 14,
   "id": "db78ea77-c2d9-4086-859b-e2c688b55e82",
   "metadata": {},
   "outputs": [],
   "source": [
    "# modify the price"
   ]
  },
  {
   "cell_type": "code",
   "execution_count": 15,
   "id": "aeee48eb-d0e9-4efb-8c8f-5d35d51b1e96",
   "metadata": {},
   "outputs": [],
   "source": [
    "class Stud:\n",
    "    def __init__(self,name ,price):\n",
    "        self.__name = name  # private class\n",
    "        self.__price = price\n",
    "    @property\n",
    "    def access_price(self):\n",
    "        return self.__price\n",
    "    @access_price.setter\n",
    "    def set_price(self, new_price):\n",
    "        self.__price = new_price"
   ]
  },
  {
   "cell_type": "code",
   "execution_count": 16,
   "id": "5a1da6af-e66f-489e-a7ea-58849fcfda42",
   "metadata": {},
   "outputs": [],
   "source": [
    "s = Stud(\"M\", 600)"
   ]
  },
  {
   "cell_type": "code",
   "execution_count": 22,
   "id": "d4fb80ce-e266-445c-8259-7e10dc272198",
   "metadata": {},
   "outputs": [
    {
     "data": {
      "text/plain": [
       "600"
      ]
     },
     "execution_count": 22,
     "metadata": {},
     "output_type": "execute_result"
    }
   ],
   "source": [
    "s.access_price\n"
   ]
  },
  {
   "cell_type": "code",
   "execution_count": 25,
   "id": "f73e3ff5-29ca-47fd-a60d-ea4e4ba06d90",
   "metadata": {},
   "outputs": [],
   "source": [
    "s.set_price = 400"
   ]
  },
  {
   "cell_type": "code",
   "execution_count": 26,
   "id": "72911799-a9bf-480c-aefe-98fcf84e4e25",
   "metadata": {},
   "outputs": [
    {
     "data": {
      "text/plain": [
       "400"
      ]
     },
     "execution_count": 26,
     "metadata": {},
     "output_type": "execute_result"
    }
   ],
   "source": [
    "s.access_price"
   ]
  },
  {
   "cell_type": "code",
   "execution_count": 34,
   "id": "9802749b-32d4-4374-8f4b-8c3f0df1a15d",
   "metadata": {},
   "outputs": [],
   "source": [
    "class Stud: # delete any variable\n",
    "    def __init__(self,name ,price):\n",
    "        self.__name = name  # private class\n",
    "        self.__price = price\n",
    "    @property\n",
    "    def access_price(self):\n",
    "        return self.__price\n",
    "    @access_price.setter\n",
    "    def set_price(self, new_price):\n",
    "        self.__price = new_price\n",
    "    @access_price.deleter\n",
    "    def access_price(self):\n",
    "        del self.__price"
   ]
  },
  {
   "cell_type": "code",
   "execution_count": 35,
   "id": "8562446e-f28a-4c02-9b6d-5ac59ff14b50",
   "metadata": {},
   "outputs": [],
   "source": [
    "s = Stud(\"Ami\", 3000)\n"
   ]
  },
  {
   "cell_type": "code",
   "execution_count": 36,
   "id": "a2d4b199-2517-4f84-98b4-10ff64910cbd",
   "metadata": {},
   "outputs": [
    {
     "data": {
      "text/plain": [
       "3000"
      ]
     },
     "execution_count": 36,
     "metadata": {},
     "output_type": "execute_result"
    }
   ],
   "source": [
    "s.access_price"
   ]
  },
  {
   "cell_type": "code",
   "execution_count": 37,
   "id": "45fcf5c7-7fe4-486f-8fb5-dd4240d761f8",
   "metadata": {},
   "outputs": [],
   "source": [
    "s.set_price = 400"
   ]
  },
  {
   "cell_type": "code",
   "execution_count": 38,
   "id": "d1177e85-00cc-4843-b509-89295ff62688",
   "metadata": {},
   "outputs": [
    {
     "data": {
      "text/plain": [
       "400"
      ]
     },
     "execution_count": 38,
     "metadata": {},
     "output_type": "execute_result"
    }
   ],
   "source": [
    "s.access_price"
   ]
  },
  {
   "cell_type": "code",
   "execution_count": 40,
   "id": "08d59820-13b7-4b37-a796-df74f230ef45",
   "metadata": {},
   "outputs": [
    {
     "data": {
      "text/plain": [
       "400"
      ]
     },
     "execution_count": 40,
     "metadata": {},
     "output_type": "execute_result"
    }
   ],
   "source": [
    "s.access_price"
   ]
  },
  {
   "cell_type": "code",
   "execution_count": 42,
   "id": "f3a83507-b6f4-4f57-b142-e4a18eb34a95",
   "metadata": {},
   "outputs": [],
   "source": [
    "del s.access_price"
   ]
  },
  {
   "cell_type": "code",
   "execution_count": 43,
   "id": "25f47d85-4ff0-4648-9c18-fe05434d1cf2",
   "metadata": {},
   "outputs": [
    {
     "ename": "AttributeError",
     "evalue": "'Stud' object has no attribute '_Stud__price'",
     "output_type": "error",
     "traceback": [
      "\u001b[1;31m---------------------------------------------------------------------------\u001b[0m",
      "\u001b[1;31mAttributeError\u001b[0m                            Traceback (most recent call last)",
      "Cell \u001b[1;32mIn[43], line 1\u001b[0m\n\u001b[1;32m----> 1\u001b[0m \u001b[43ms\u001b[49m\u001b[38;5;241;43m.\u001b[39;49m\u001b[43maccess_price\u001b[49m\n",
      "Cell \u001b[1;32mIn[34], line 7\u001b[0m, in \u001b[0;36mStud.access_price\u001b[1;34m(self)\u001b[0m\n\u001b[0;32m      5\u001b[0m \u001b[38;5;129m@property\u001b[39m\n\u001b[0;32m      6\u001b[0m \u001b[38;5;28;01mdef\u001b[39;00m \u001b[38;5;21maccess_price\u001b[39m(\u001b[38;5;28mself\u001b[39m):\n\u001b[1;32m----> 7\u001b[0m     \u001b[38;5;28;01mreturn\u001b[39;00m \u001b[38;5;28;43mself\u001b[39;49m\u001b[38;5;241;43m.\u001b[39;49m\u001b[43m__price\u001b[49m\n",
      "\u001b[1;31mAttributeError\u001b[0m: 'Stud' object has no attribute '_Stud__price'"
     ]
    }
   ],
   "source": [
    "s.access_price"
   ]
  },
  {
   "cell_type": "code",
   "execution_count": 47,
   "id": "f60a3087-eac6-4529-843b-32902f01d06b",
   "metadata": {},
   "outputs": [],
   "source": [
    "# use case\n",
    "class Cricle:\n",
    "    def __init__(self,radius):\n",
    "        self.__radius = radius\n",
    "    @property\n",
    "    def radius(self):\n",
    "        return self.__radius"
   ]
  },
  {
   "cell_type": "code",
   "execution_count": 48,
   "id": "c5c7a566-7d97-46ef-9b2a-a8dcb3ae334a",
   "metadata": {},
   "outputs": [],
   "source": [
    "c = Cricle(5)"
   ]
  },
  {
   "cell_type": "code",
   "execution_count": 49,
   "id": "29668b23-6737-44cb-aec6-07d84e4e17e3",
   "metadata": {},
   "outputs": [
    {
     "data": {
      "text/plain": [
       "5"
      ]
     },
     "execution_count": 49,
     "metadata": {},
     "output_type": "execute_result"
    }
   ],
   "source": [
    "c.radius"
   ]
  },
  {
   "cell_type": "code",
   "execution_count": 59,
   "id": "25995c25-17c4-4262-b04a-55b7782218a3",
   "metadata": {},
   "outputs": [],
   "source": [
    "# use case\n",
    "class Cricle:\n",
    "    def __init__(self,radius):\n",
    "        self.__radius = radius\n",
    "    @property\n",
    "    def radius(self):\n",
    "        return self.__radius \n",
    "    @radius.setter\n",
    "    def radius(self, value):\n",
    "        if value <= 0:\n",
    "            raise ValueError(\"radius is not postive\")\n",
    "        self.__radius = value\n",
    "    @property\n",
    "    def area(self):\n",
    "        return 3.14 * self.__radius * self.__radius\n",
    "    \n"
   ]
  },
  {
   "cell_type": "code",
   "execution_count": 60,
   "id": "54ef5bdc-0c50-4294-ba70-3f1fb84ad27b",
   "metadata": {},
   "outputs": [],
   "source": [
    "c = Cricle(5)"
   ]
  },
  {
   "cell_type": "code",
   "execution_count": 61,
   "id": "3ff8df87-4f19-443c-a9f8-b7b78b4e9fe5",
   "metadata": {},
   "outputs": [
    {
     "data": {
      "text/plain": [
       "5"
      ]
     },
     "execution_count": 61,
     "metadata": {},
     "output_type": "execute_result"
    }
   ],
   "source": [
    "c.radius"
   ]
  },
  {
   "cell_type": "code",
   "execution_count": 62,
   "id": "8765a2aa-59c5-4d8e-a916-a889814d5d36",
   "metadata": {},
   "outputs": [],
   "source": [
    "c.radius = 10"
   ]
  },
  {
   "cell_type": "code",
   "execution_count": 63,
   "id": "524d5cbd-eae3-41de-80c6-024d712760a0",
   "metadata": {},
   "outputs": [
    {
     "data": {
      "text/plain": [
       "10"
      ]
     },
     "execution_count": 63,
     "metadata": {},
     "output_type": "execute_result"
    }
   ],
   "source": [
    "c.radius"
   ]
  },
  {
   "cell_type": "code",
   "execution_count": 65,
   "id": "3eaa5039-7c68-495e-8c95-bcf1ce25d4fd",
   "metadata": {},
   "outputs": [
    {
     "data": {
      "text/plain": [
       "314.0"
      ]
     },
     "execution_count": 65,
     "metadata": {},
     "output_type": "execute_result"
    }
   ],
   "source": [
    "c.area"
   ]
  },
  {
   "cell_type": "code",
   "execution_count": null,
   "id": "6ae0ab2d-6e8e-41e2-a4fe-57643ebcba57",
   "metadata": {},
   "outputs": [],
   "source": []
  }
 ],
 "metadata": {
  "kernelspec": {
   "display_name": "Python 3 (ipykernel)",
   "language": "python",
   "name": "python3"
  },
  "language_info": {
   "codemirror_mode": {
    "name": "ipython",
    "version": 3
   },
   "file_extension": ".py",
   "mimetype": "text/x-python",
   "name": "python",
   "nbconvert_exporter": "python",
   "pygments_lexer": "ipython3",
   "version": "3.11.3"
  },
  "widgets": {
   "application/vnd.jupyter.widget-state+json": {
    "state": {},
    "version_major": 2,
    "version_minor": 0
   }
  }
 },
 "nbformat": 4,
 "nbformat_minor": 5
}
