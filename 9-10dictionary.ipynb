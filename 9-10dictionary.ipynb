{
 "cells": [
  {
   "cell_type": "markdown",
   "id": "05d17895-20fd-4a06-9c3d-9b8554b03d2f",
   "metadata": {},
   "source": [
    "# DICTIONARY"
   ]
  },
  {
   "cell_type": "code",
   "execution_count": 2,
   "id": "ffaf94c3-4cd7-4d03-951c-dba05e093e5f",
   "metadata": {},
   "outputs": [],
   "source": [
    "#dictionary is a data structure that stores data as key value pair\n",
    "#Keys are unique and immutable\n",
    "\n",
    "#Note:dictionaries are unordered. but from Python 3.7 version, dictionaries retain the order of insertion. \n",
    "#This means that if you iterate over a dictionary, the items will be returned in the order they were added."
   ]
  },
  {
   "cell_type": "code",
   "execution_count": 3,
   "id": "25ac4924-afb1-4698-96c8-bf6f671dc5f5",
   "metadata": {},
   "outputs": [],
   "source": [
    "dic1 = { \"aamitesh\" : 89}"
   ]
  },
  {
   "cell_type": "code",
   "execution_count": 4,
   "id": "1ef73b6b-2a0b-41e3-8607-7c3b32fbc236",
   "metadata": {},
   "outputs": [
    {
     "data": {
      "text/plain": [
       "{'aamitesh': 89}"
      ]
     },
     "execution_count": 4,
     "metadata": {},
     "output_type": "execute_result"
    }
   ],
   "source": [
    "dic1"
   ]
  },
  {
   "cell_type": "code",
   "execution_count": 6,
   "id": "bedd8dbf-77c6-4e83-b7ba-ce1b8e47b037",
   "metadata": {},
   "outputs": [
    {
     "data": {
      "text/plain": [
       "dict"
      ]
     },
     "execution_count": 6,
     "metadata": {},
     "output_type": "execute_result"
    }
   ],
   "source": [
    "type(dic1)"
   ]
  },
  {
   "cell_type": "code",
   "execution_count": 7,
   "id": "f6d8f2a3-f5f7-4773-9a33-a4dfb6af5008",
   "metadata": {},
   "outputs": [],
   "source": [
    "d = { \"name\" : \"amitesg\" , \"roll\" : 223  , \"conatact\" : 999}"
   ]
  },
  {
   "cell_type": "code",
   "execution_count": 8,
   "id": "875b52f2-3007-4cac-a980-9ea8509f8945",
   "metadata": {},
   "outputs": [
    {
     "data": {
      "text/plain": [
       "{'name': 'amitesg', 'roll': 223, 'conatact': 999}"
      ]
     },
     "execution_count": 8,
     "metadata": {},
     "output_type": "execute_result"
    }
   ],
   "source": [
    "d"
   ]
  },
  {
   "cell_type": "code",
   "execution_count": 9,
   "id": "0f77627a-69b2-404d-92cd-9421bd0a034f",
   "metadata": {},
   "outputs": [
    {
     "data": {
      "text/plain": [
       "dict_keys(['name', 'roll', 'conatact'])"
      ]
     },
     "execution_count": 9,
     "metadata": {},
     "output_type": "execute_result"
    }
   ],
   "source": [
    "d.keys()"
   ]
  },
  {
   "cell_type": "code",
   "execution_count": 11,
   "id": "e67484fb-e020-4ec8-9efe-7cec1eb76eed",
   "metadata": {},
   "outputs": [
    {
     "data": {
      "text/plain": [
       "dict_values(['amitesg', 223, 999])"
      ]
     },
     "execution_count": 11,
     "metadata": {},
     "output_type": "execute_result"
    }
   ],
   "source": [
    "d.values()"
   ]
  },
  {
   "cell_type": "code",
   "execution_count": 12,
   "id": "6b5f5d83-1fe8-49da-a9af-de8d1de8e624",
   "metadata": {},
   "outputs": [
    {
     "name": "stdout",
     "output_type": "stream",
     "text": [
      "{'name': 'amitesg', 'roll': 223, 'conatact': 999}\n"
     ]
    }
   ],
   "source": [
    "print(d)"
   ]
  },
  {
   "cell_type": "code",
   "execution_count": 15,
   "id": "27e43099-90ff-4a29-9ab0-fd8fe2bb6324",
   "metadata": {},
   "outputs": [
    {
     "data": {
      "text/plain": [
       "'amitesg'"
      ]
     },
     "execution_count": 15,
     "metadata": {},
     "output_type": "execute_result"
    }
   ],
   "source": [
    "d[\"name\"]\n"
   ]
  },
  {
   "cell_type": "code",
   "execution_count": 17,
   "id": "351b62f2-0956-43de-8529-47a09849b0ee",
   "metadata": {},
   "outputs": [
    {
     "data": {
      "text/plain": [
       "223"
      ]
     },
     "execution_count": 17,
     "metadata": {},
     "output_type": "execute_result"
    }
   ],
   "source": [
    "d[\"roll\"]"
   ]
  },
  {
   "cell_type": "code",
   "execution_count": 18,
   "id": "0a996249-634c-40b4-8cdf-5ecd34349ec3",
   "metadata": {},
   "outputs": [],
   "source": [
    "d[\"name\"] = \"AMitesh\" #mutable"
   ]
  },
  {
   "cell_type": "code",
   "execution_count": 19,
   "id": "71fa378f-bfa7-4dd4-8b1a-6d45d7a0647c",
   "metadata": {},
   "outputs": [
    {
     "data": {
      "text/plain": [
       "{'name': 'AMitesh', 'roll': 223, 'conatact': 999}"
      ]
     },
     "execution_count": 19,
     "metadata": {},
     "output_type": "execute_result"
    }
   ],
   "source": [
    "d"
   ]
  },
  {
   "cell_type": "code",
   "execution_count": 20,
   "id": "fb32eef8-3145-4d8c-95af-439a4934e583",
   "metadata": {},
   "outputs": [],
   "source": [
    "d = { \"key\" : 1}"
   ]
  },
  {
   "cell_type": "code",
   "execution_count": 22,
   "id": "edcde3a7-ea87-4ffc-adac-107d2a7b5887",
   "metadata": {},
   "outputs": [
    {
     "ename": "KeyError",
     "evalue": "1",
     "output_type": "error",
     "traceback": [
      "\u001b[1;31m---------------------------------------------------------------------------\u001b[0m",
      "\u001b[1;31mKeyError\u001b[0m                                  Traceback (most recent call last)",
      "Cell \u001b[1;32mIn[22], line 1\u001b[0m\n\u001b[1;32m----> 1\u001b[0m \u001b[43md\u001b[49m\u001b[43m[\u001b[49m\u001b[38;5;241;43m1\u001b[39;49m\u001b[43m]\u001b[49m \u001b[38;5;66;03m# you can only acces value using key\u001b[39;00m\n",
      "\u001b[1;31mKeyError\u001b[0m: 1"
     ]
    }
   ],
   "source": [
    "d[1] # you can only acces value using key"
   ]
  },
  {
   "cell_type": "code",
   "execution_count": 33,
   "id": "1f053487-0c80-4e00-be52-bdd088d256d3",
   "metadata": {},
   "outputs": [],
   "source": [
    "#rules for defiing key\n",
    "d = { \"a \" : 1 }#int as key / val"
   ]
  },
  {
   "cell_type": "code",
   "execution_count": 34,
   "id": "b2e2164e-5493-46d3-8b02-90a3add18858",
   "metadata": {},
   "outputs": [],
   "source": [
    "d1 = { \"new\" : 4.55} #float as key / val"
   ]
  },
  {
   "cell_type": "code",
   "execution_count": 25,
   "id": "c6289a67-81b0-4d72-b973-4c90af135f50",
   "metadata": {},
   "outputs": [],
   "source": [
    "d3 = {\"newwww\" : True}"
   ]
  },
  {
   "cell_type": "code",
   "execution_count": 26,
   "id": "93db3113-2342-419b-b7e1-e7bff013d7de",
   "metadata": {},
   "outputs": [
    {
     "data": {
      "text/plain": [
       "{'newwww': True}"
      ]
     },
     "execution_count": 26,
     "metadata": {},
     "output_type": "execute_result"
    }
   ],
   "source": [
    "d3"
   ]
  },
  {
   "cell_type": "code",
   "execution_count": 27,
   "id": "5159757b-6484-4741-873f-1a7ce40e80fd",
   "metadata": {},
   "outputs": [
    {
     "name": "stdout",
     "output_type": "stream",
     "text": [
      "newwww\n"
     ]
    }
   ],
   "source": [
    "for i in d3:\n",
    "    print(i)"
   ]
  },
  {
   "cell_type": "code",
   "execution_count": 35,
   "id": "55c431d9-9448-426a-b3bb-71c2d44ab581",
   "metadata": {},
   "outputs": [
    {
     "data": {
      "text/plain": [
       "{True: 'hell'}"
      ]
     },
     "execution_count": 35,
     "metadata": {},
     "output_type": "execute_result"
    }
   ],
   "source": [
    "d3 = { True : \"hell\"} #boolean as key / val\n",
    "d3"
   ]
  },
  {
   "cell_type": "code",
   "execution_count": 30,
   "id": "abe22e57-9f6c-49a0-b030-03eaf745d20f",
   "metadata": {},
   "outputs": [
    {
     "data": {
      "text/plain": [
       "dict_keys([True])"
      ]
     },
     "execution_count": 30,
     "metadata": {},
     "output_type": "execute_result"
    }
   ],
   "source": [
    "d3.keys()"
   ]
  },
  {
   "cell_type": "code",
   "execution_count": 31,
   "id": "f9edb542-1e63-4db5-ab50-ee47daed5482",
   "metadata": {},
   "outputs": [
    {
     "data": {
      "text/plain": [
       "dict_values(['hell'])"
      ]
     },
     "execution_count": 31,
     "metadata": {},
     "output_type": "execute_result"
    }
   ],
   "source": [
    "d3.values()"
   ]
  },
  {
   "cell_type": "code",
   "execution_count": 37,
   "id": "9f6d25e4-45b4-4ae8-aaa4-9a9566e03a2a",
   "metadata": {},
   "outputs": [
    {
     "ename": "SyntaxError",
     "evalue": "invalid syntax (1032356597.py, line 1)",
     "output_type": "error",
     "traceback": [
      "\u001b[1;36m  Cell \u001b[1;32mIn[37], line 1\u001b[1;36m\u001b[0m\n\u001b[1;33m    d = { ! : 123}\u001b[0m\n\u001b[1;37m          ^\u001b[0m\n\u001b[1;31mSyntaxError\u001b[0m\u001b[1;31m:\u001b[0m invalid syntax\n"
     ]
    }
   ],
   "source": [
    "d = { ! : 123} # cAN'T USE SPEAICL SYMBOL AS KEY "
   ]
  },
  {
   "cell_type": "code",
   "execution_count": 38,
   "id": "13953b7c-4f58-4701-bb80-67f2979bbfe2",
   "metadata": {},
   "outputs": [
    {
     "ename": "TypeError",
     "evalue": "unhashable type: 'list'",
     "output_type": "error",
     "traceback": [
      "\u001b[1;31m---------------------------------------------------------------------------\u001b[0m",
      "\u001b[1;31mTypeError\u001b[0m                                 Traceback (most recent call last)",
      "Cell \u001b[1;32mIn[38], line 1\u001b[0m\n\u001b[1;32m----> 1\u001b[0m d \u001b[38;5;241m=\u001b[39m {[\u001b[38;5;241m1\u001b[39m,\u001b[38;5;241m3\u001b[39m] : \u001b[38;5;241m23\u001b[39m}\n",
      "\u001b[1;31mTypeError\u001b[0m: unhashable type: 'list'"
     ]
    }
   ],
   "source": [
    "d = {[1,3] : 23} #unhashable"
   ]
  },
  {
   "cell_type": "code",
   "execution_count": 39,
   "id": "5e2cb957-fe19-4a79-926a-e71b07e82dad",
   "metadata": {},
   "outputs": [],
   "source": [
    "d = { (1,43,2) : \"am\"} #tuple as key"
   ]
  },
  {
   "cell_type": "code",
   "execution_count": 40,
   "id": "9f19a10d-89c3-48ad-b364-c755d41e98f4",
   "metadata": {},
   "outputs": [
    {
     "data": {
      "text/plain": [
       "{(1, 43, 2): 'am'}"
      ]
     },
     "execution_count": 40,
     "metadata": {},
     "output_type": "execute_result"
    }
   ],
   "source": [
    "d"
   ]
  },
  {
   "cell_type": "code",
   "execution_count": 41,
   "id": "b1a62768-d43b-45b6-bb65-d904ae5eda68",
   "metadata": {},
   "outputs": [
    {
     "ename": "TypeError",
     "evalue": "unhashable type: 'dict'",
     "output_type": "error",
     "traceback": [
      "\u001b[1;31m---------------------------------------------------------------------------\u001b[0m",
      "\u001b[1;31mTypeError\u001b[0m                                 Traceback (most recent call last)",
      "Cell \u001b[1;32mIn[41], line 2\u001b[0m\n\u001b[0;32m      1\u001b[0m \u001b[38;5;66;03m#(d in d not possible_\u001b[39;00m\n\u001b[1;32m----> 2\u001b[0m d \u001b[38;5;241m=\u001b[39m {{\u001b[38;5;124m\"\u001b[39m\u001b[38;5;124md\u001b[39m\u001b[38;5;124m\"\u001b[39m : \u001b[38;5;241m3\u001b[39m}:\u001b[38;5;241m3\u001b[39m}\n",
      "\u001b[1;31mTypeError\u001b[0m: unhashable type: 'dict'"
     ]
    }
   ],
   "source": [
    " #(d in d not possible_\n",
    "d = {{\"d\" : 3}:3}"
   ]
  },
  {
   "cell_type": "code",
   "execution_count": 42,
   "id": "4a5dacb0-c3b8-4ad7-8144-ba00849875e1",
   "metadata": {},
   "outputs": [],
   "source": [
    "d = { \"name\" : \"amitesg\" , \"roll\" : 223  , \"conatact\" : 999 , \"name\" :  11}\n",
    "#always last key value will be count"
   ]
  },
  {
   "cell_type": "code",
   "execution_count": 43,
   "id": "5042bfbe-e689-4e58-a60d-9f2dd7709cde",
   "metadata": {},
   "outputs": [
    {
     "data": {
      "text/plain": [
       "{'name': 11, 'roll': 223, 'conatact': 999}"
      ]
     },
     "execution_count": 43,
     "metadata": {},
     "output_type": "execute_result"
    }
   ],
   "source": [
    "d"
   ]
  },
  {
   "cell_type": "code",
   "execution_count": 44,
   "id": "db95913d-d7ac-46ee-9c7a-366b967e37ff",
   "metadata": {},
   "outputs": [],
   "source": [
    "d[\"name\"] = \"Rajat\""
   ]
  },
  {
   "cell_type": "code",
   "execution_count": 45,
   "id": "be2b26df-8140-4276-b336-6da19d557c92",
   "metadata": {},
   "outputs": [
    {
     "data": {
      "text/plain": [
       "{'name': 'Rajat', 'roll': 223, 'conatact': 999}"
      ]
     },
     "execution_count": 45,
     "metadata": {},
     "output_type": "execute_result"
    }
   ],
   "source": [
    "d"
   ]
  },
  {
   "cell_type": "code",
   "execution_count": 46,
   "id": "dee9df80-80bc-4687-b8f1-bb97f39810d1",
   "metadata": {},
   "outputs": [
    {
     "data": {
      "text/plain": [
       "{'name': 'Rajat', 'roll': 223, 'conatact': 999}"
      ]
     },
     "execution_count": 46,
     "metadata": {},
     "output_type": "execute_result"
    }
   ],
   "source": [
    "d"
   ]
  },
  {
   "cell_type": "code",
   "execution_count": 47,
   "id": "442a3f39-c86b-4332-aab0-2964812b3622",
   "metadata": {},
   "outputs": [],
   "source": [
    "d = { \"name\" : \"amitesg\" , \"roll\" : [223,54,54, \"neww\"]  , \"conatact\" : 999}"
   ]
  },
  {
   "cell_type": "code",
   "execution_count": 50,
   "id": "bed140e5-8301-418f-b23d-dd65a914a44a",
   "metadata": {},
   "outputs": [
    {
     "data": {
      "text/plain": [
       "{'name': 'amitesg', 'roll': [223, 54, 54, 'neww'], 'conatact': 999}"
      ]
     },
     "execution_count": 50,
     "metadata": {},
     "output_type": "execute_result"
    }
   ],
   "source": [
    "d # we can have lsit , tuple  as key"
   ]
  },
  {
   "cell_type": "code",
   "execution_count": 51,
   "id": "67e95843-440f-4885-bfe1-2b0517e957e2",
   "metadata": {},
   "outputs": [
    {
     "data": {
      "text/plain": [
       "[223, 54, 54, 'neww']"
      ]
     },
     "execution_count": 51,
     "metadata": {},
     "output_type": "execute_result"
    }
   ],
   "source": [
    "d[\"roll\"]"
   ]
  },
  {
   "cell_type": "code",
   "execution_count": 54,
   "id": "1ec1692f-31d6-434e-9254-65282be4f43c",
   "metadata": {},
   "outputs": [
    {
     "data": {
      "text/plain": [
       "54"
      ]
     },
     "execution_count": 54,
     "metadata": {},
     "output_type": "execute_result"
    }
   ],
   "source": [
    "d[\"roll\"][1] #index "
   ]
  },
  {
   "cell_type": "code",
   "execution_count": 55,
   "id": "ce79e22f-443f-4636-b728-f0308922bbae",
   "metadata": {},
   "outputs": [
    {
     "data": {
      "text/plain": [
       "{'name': 'amitesg', 'roll': [223, 54, 54, 'neww'], 'conatact': 999}"
      ]
     },
     "execution_count": 55,
     "metadata": {},
     "output_type": "execute_result"
    }
   ],
   "source": [
    "d"
   ]
  },
  {
   "cell_type": "code",
   "execution_count": 58,
   "id": "bd9c222f-55e3-4489-bb5d-185d93e56dc1",
   "metadata": {},
   "outputs": [],
   "source": [
    "d[\"address\" ] = \"indore\" # adding another key value pair"
   ]
  },
  {
   "cell_type": "code",
   "execution_count": 59,
   "id": "b7c3d1f3-9605-42a9-8089-d845ac105e85",
   "metadata": {},
   "outputs": [
    {
     "data": {
      "text/plain": [
       "{'name': 'amitesg',\n",
       " 'roll': [223, 54, 54, 'neww'],\n",
       " 'conatact': 999,\n",
       " 'address': 'indore'}"
      ]
     },
     "execution_count": 59,
     "metadata": {},
     "output_type": "execute_result"
    }
   ],
   "source": [
    "d"
   ]
  },
  {
   "cell_type": "code",
   "execution_count": 60,
   "id": "721b5eae-603d-4bf8-b8b7-1330a59aad66",
   "metadata": {},
   "outputs": [],
   "source": [
    "del d[\"address\"]"
   ]
  },
  {
   "cell_type": "code",
   "execution_count": 61,
   "id": "1bd94a18-9ad0-4d9a-80c9-c9e250afd8ce",
   "metadata": {},
   "outputs": [
    {
     "data": {
      "text/plain": [
       "{'name': 'amitesg', 'roll': [223, 54, 54, 'neww'], 'conatact': 999}"
      ]
     },
     "execution_count": 61,
     "metadata": {},
     "output_type": "execute_result"
    }
   ],
   "source": [
    "d"
   ]
  },
  {
   "cell_type": "code",
   "execution_count": 62,
   "id": "be298c7a-dad4-4a2b-92c2-c8da27470135",
   "metadata": {},
   "outputs": [],
   "source": [
    "del d"
   ]
  },
  {
   "cell_type": "code",
   "execution_count": 65,
   "id": "4b04a9e8-f8b0-48a8-aa8b-5ebb57046de4",
   "metadata": {},
   "outputs": [],
   "source": [
    "d = { \"name\" : \"amitesg\" , \"roll\" : 223  , \"conatact\" : 999}\n",
    "d.clear() #empty dict"
   ]
  },
  {
   "cell_type": "code",
   "execution_count": 64,
   "id": "132ad0a8-5856-43e6-ad45-715c6f6de6d6",
   "metadata": {},
   "outputs": [
    {
     "data": {
      "text/plain": [
       "{}"
      ]
     },
     "execution_count": 64,
     "metadata": {},
     "output_type": "execute_result"
    }
   ],
   "source": [
    "d"
   ]
  },
  {
   "cell_type": "code",
   "execution_count": 66,
   "id": "d820d87a-3ebe-4f01-9c94-efa77a6f5ece",
   "metadata": {},
   "outputs": [
    {
     "data": {
      "text/plain": [
       "3"
      ]
     },
     "execution_count": 66,
     "metadata": {},
     "output_type": "execute_result"
    }
   ],
   "source": [
    "d = { \"name\" : \"amitesg\" , \"roll\" : 223  , \"conatact\" : 999}\n",
    "len(d) #lenghth"
   ]
  },
  {
   "cell_type": "code",
   "execution_count": 67,
   "id": "22a3aef7-fa6a-4d7f-a46b-954031658387",
   "metadata": {},
   "outputs": [
    {
     "data": {
      "text/plain": [
       "dict_keys(['name', 'roll', 'conatact'])"
      ]
     },
     "execution_count": 67,
     "metadata": {},
     "output_type": "execute_result"
    }
   ],
   "source": [
    "d.keys()"
   ]
  },
  {
   "cell_type": "code",
   "execution_count": 68,
   "id": "52033fce-13fd-44f4-91cf-af716dfb32fa",
   "metadata": {},
   "outputs": [
    {
     "data": {
      "text/plain": [
       "dict_values(['amitesg', 223, 999])"
      ]
     },
     "execution_count": 68,
     "metadata": {},
     "output_type": "execute_result"
    }
   ],
   "source": [
    "d.values()"
   ]
  },
  {
   "cell_type": "code",
   "execution_count": 69,
   "id": "c476bda5-c25c-4036-812e-8b78cdf2cac9",
   "metadata": {},
   "outputs": [],
   "source": [
    "d1 = d.copy() # deep copy"
   ]
  },
  {
   "cell_type": "code",
   "execution_count": 70,
   "id": "9025fc74-d713-4317-bd04-e9fcfcad5cb2",
   "metadata": {},
   "outputs": [
    {
     "data": {
      "text/plain": [
       "{'name': 'amitesg', 'roll': 223, 'conatact': 999}"
      ]
     },
     "execution_count": 70,
     "metadata": {},
     "output_type": "execute_result"
    }
   ],
   "source": [
    "d"
   ]
  },
  {
   "cell_type": "code",
   "execution_count": 71,
   "id": "a1f25698-a76b-44e3-8c24-62fa03194a9f",
   "metadata": {},
   "outputs": [
    {
     "data": {
      "text/plain": [
       "{'name': 'amitesg', 'roll': 223, 'conatact': 999}"
      ]
     },
     "execution_count": 71,
     "metadata": {},
     "output_type": "execute_result"
    }
   ],
   "source": [
    "d1"
   ]
  },
  {
   "cell_type": "code",
   "execution_count": 72,
   "id": "93aabf87-2a99-4d82-a4fb-d028b36a6368",
   "metadata": {},
   "outputs": [],
   "source": [
    "del d"
   ]
  },
  {
   "cell_type": "code",
   "execution_count": 73,
   "id": "3ec7da58-a61c-4d65-b8a8-8f2824b24548",
   "metadata": {},
   "outputs": [
    {
     "data": {
      "text/plain": [
       "{'name': 'amitesg', 'roll': 223, 'conatact': 999}"
      ]
     },
     "execution_count": 73,
     "metadata": {},
     "output_type": "execute_result"
    }
   ],
   "source": [
    "d1"
   ]
  },
  {
   "cell_type": "code",
   "execution_count": 76,
   "id": "8493ce6c-1d24-40cc-849a-8b37c3de246c",
   "metadata": {},
   "outputs": [
    {
     "data": {
      "text/plain": [
       "223"
      ]
     },
     "execution_count": 76,
     "metadata": {},
     "output_type": "execute_result"
    }
   ],
   "source": [
    "d = { \"name\" : \"amitesg\" , \"roll\" : 223  , \"conatact\" : 999}\n",
    "d.pop(\"roll\") # del specific key val"
   ]
  },
  {
   "cell_type": "code",
   "execution_count": 77,
   "id": "dac75f67-e309-4339-bd64-3aaa35ac61e1",
   "metadata": {},
   "outputs": [
    {
     "data": {
      "text/plain": [
       "{'name': 'amitesg', 'conatact': 999}"
      ]
     },
     "execution_count": 77,
     "metadata": {},
     "output_type": "execute_result"
    }
   ],
   "source": [
    "d"
   ]
  },
  {
   "cell_type": "code",
   "execution_count": 78,
   "id": "db855e73-9036-4b0f-a444-18c3cdab36a3",
   "metadata": {},
   "outputs": [],
   "source": [
    "d = { \"name\" : \"amitesg\" , \"roll\" : 223  , \"conatact\" : 999}"
   ]
  },
  {
   "cell_type": "code",
   "execution_count": 80,
   "id": "81fcf219-9246-44d0-ace9-deaad121c844",
   "metadata": {},
   "outputs": [],
   "source": [
    "d1 = { \"course \" : \"pw\"}"
   ]
  },
  {
   "cell_type": "code",
   "execution_count": 81,
   "id": "38319d7e-49ba-4660-88ae-5f225d1535ef",
   "metadata": {},
   "outputs": [],
   "source": [
    "d.update(d1) # update the dict"
   ]
  },
  {
   "cell_type": "code",
   "execution_count": 82,
   "id": "e304ae66-83d6-43b3-850a-d5d86d7d3f8c",
   "metadata": {},
   "outputs": [
    {
     "data": {
      "text/plain": [
       "{'name': 'amitesg', 'roll': 223, 'conatact': 999, 'course ': 'pw'}"
      ]
     },
     "execution_count": 82,
     "metadata": {},
     "output_type": "execute_result"
    }
   ],
   "source": [
    "d"
   ]
  },
  {
   "cell_type": "code",
   "execution_count": 83,
   "id": "0ec42e96-c736-4a6f-b615-808d0944d654",
   "metadata": {},
   "outputs": [
    {
     "data": {
      "text/plain": [
       "'amitesg'"
      ]
     },
     "execution_count": 83,
     "metadata": {},
     "output_type": "execute_result"
    }
   ],
   "source": [
    "d.get(\"name\")"
   ]
  },
  {
   "cell_type": "code",
   "execution_count": 84,
   "id": "3251b277-e1a6-4373-9598-215ba0452d3a",
   "metadata": {},
   "outputs": [
    {
     "data": {
      "text/plain": [
       "{'name': 'amitesg', 'roll': 223, 'conatact': 999, 'course ': 'pw'}"
      ]
     },
     "execution_count": 84,
     "metadata": {},
     "output_type": "execute_result"
    }
   ],
   "source": [
    "d"
   ]
  },
  {
   "cell_type": "code",
   "execution_count": 87,
   "id": "cd085427-e9c1-468a-aeeb-eafea3f30ea7",
   "metadata": {},
   "outputs": [
    {
     "data": {
      "text/plain": [
       "'pw'"
      ]
     },
     "execution_count": 87,
     "metadata": {},
     "output_type": "execute_result"
    }
   ],
   "source": [
    "d[\"course \"]"
   ]
  },
  {
   "cell_type": "code",
   "execution_count": 88,
   "id": "7c14af9b-74a2-44fe-9465-8552ebaf5731",
   "metadata": {},
   "outputs": [
    {
     "data": {
      "text/plain": [
       "4"
      ]
     },
     "execution_count": 88,
     "metadata": {},
     "output_type": "execute_result"
    }
   ],
   "source": [
    "len(d)"
   ]
  },
  {
   "cell_type": "code",
   "execution_count": 89,
   "id": "afaffa4a-27f8-47a7-8d32-b210c0340dd4",
   "metadata": {},
   "outputs": [
    {
     "data": {
      "text/plain": [
       "{1: ('a', 'b', 'C'), 2: ('a', 'b', 'C'), 3: ('a', 'b', 'C')}"
      ]
     },
     "execution_count": 89,
     "metadata": {},
     "output_type": "execute_result"
    }
   ],
   "source": [
    "#froms keys \n",
    "\n",
    "d.fromkeys((1,2,3),(\"a\" , \"b\" ,\"C\"))"
   ]
  },
  {
   "cell_type": "code",
   "execution_count": 91,
   "id": "c1c7d026-87bc-4ba7-91a6-996237222c28",
   "metadata": {},
   "outputs": [
    {
     "data": {
      "text/plain": [
       "{'n': (1, 3, 4),\n",
       " 'a': (1, 3, 4),\n",
       " 'm': (1, 3, 4),\n",
       " 'e': (1, 3, 4),\n",
       " ' ': (1, 3, 4)}"
      ]
     },
     "execution_count": 91,
     "metadata": {},
     "output_type": "execute_result"
    }
   ],
   "source": [
    "d.fromkeys(\"name \" , ( 1,3,4))"
   ]
  },
  {
   "cell_type": "code",
   "execution_count": 92,
   "id": "6468c396-6bfd-4bf3-b196-3d048b10cdf9",
   "metadata": {},
   "outputs": [],
   "source": [
    "# dict comphernsion\n",
    "# zip function"
   ]
  },
  {
   "cell_type": "code",
   "execution_count": 99,
   "id": "5b81f229-0704-4f80-923d-7d1e13c0d27d",
   "metadata": {},
   "outputs": [
    {
     "data": {
      "text/plain": [
       "<zip at 0x18907242180>"
      ]
     },
     "execution_count": 99,
     "metadata": {},
     "output_type": "execute_result"
    }
   ],
   "source": [
    "studnets = [\"Arun\" , \"Ajay\" , \"bijay\" , \"taka\"]\n",
    "marks = [ 80 , 95 , 100, 1000]\n",
    "zip(studnets , marks)"
   ]
  },
  {
   "cell_type": "code",
   "execution_count": 100,
   "id": "b0f21ddd-25d5-40f7-bf8e-98a7df15beac",
   "metadata": {},
   "outputs": [
    {
     "name": "stdout",
     "output_type": "stream",
     "text": [
      "('Arun', 80)\n",
      "('Ajay', 95)\n",
      "('bijay', 100)\n",
      "('taka', 1000)\n"
     ]
    }
   ],
   "source": [
    "for i in zip(studnets , marks):\n",
    "    print(i)\n",
    "            "
   ]
  },
  {
   "cell_type": "code",
   "execution_count": 109,
   "id": "61513d19-0e61-49b5-93b1-24926ae3a6c6",
   "metadata": {},
   "outputs": [
    {
     "name": "stdout",
     "output_type": "stream",
     "text": [
      "{'Arun': 80, 'Ajay': 95, 'bijay': 100, 'taka': 1000}\n"
     ]
    }
   ],
   "source": [
    "studnets = [\"Arun\" , \"Ajay\" , \"bijay\" , \"taka\"]\n",
    "marks = [ 80 , 95 , 100, 1000]\n",
    "stuMarks = {}\n",
    "for studnet,mark  in zip(studnets , marks):\n",
    "        stuMarks[studnet] = mark\n",
    "print(stuMarks)"
   ]
  },
  {
   "cell_type": "code",
   "execution_count": 106,
   "id": "b27d573e-b53f-45f4-ac75-26231a1b96dc",
   "metadata": {},
   "outputs": [
    {
     "data": {
      "text/plain": [
       "{'Arun': 80, 'Ajay': 95, 'bijay': 100, 'taka': 1000}"
      ]
     },
     "execution_count": 106,
     "metadata": {},
     "output_type": "execute_result"
    }
   ],
   "source": [
    "stuMarks"
   ]
  },
  {
   "cell_type": "code",
   "execution_count": 114,
   "id": "90672e91-3461-45c6-ae66-46fb24bdfcd0",
   "metadata": {},
   "outputs": [
    {
     "data": {
      "text/plain": [
       "{'Arun': 80, 'Ajay': 95, 'bijay': 100, 'taka': 1000}"
      ]
     },
     "execution_count": 114,
     "metadata": {},
     "output_type": "execute_result"
    }
   ],
   "source": [
    "#using dict comphersion\n",
    "studnets = [\"Arun\" , \"Ajay\" , \"bijay\" , \"taka\"]\n",
    "marks = [ 80 , 95 , 100, 1000]\n",
    "{x:y for x,y in zip(studnets,marks)}"
   ]
  },
  {
   "cell_type": "code",
   "execution_count": 116,
   "id": "cc786401-56c5-4e5f-ac22-6d7d8dd73aa8",
   "metadata": {},
   "outputs": [],
   "source": [
    "\n",
    "#using dict comphersion\n",
    "studnets = [\"Arun\" , \"Ajay\" , \"bijay\" , \"taka\"]\n",
    "marks = [ 80 , 95 , 100, 1000]\n",
    "s = {stud:mark for stud,mark in zip(studnets,marks)}\n"
   ]
  },
  {
   "cell_type": "code",
   "execution_count": 117,
   "id": "4906687e-07df-420a-bb5a-c65d62fa40fd",
   "metadata": {},
   "outputs": [
    {
     "data": {
      "text/plain": [
       "{'Arun': 80, 'Ajay': 95, 'bijay': 100, 'taka': 1000}"
      ]
     },
     "execution_count": 117,
     "metadata": {},
     "output_type": "execute_result"
    }
   ],
   "source": [
    "s\n"
   ]
  },
  {
   "cell_type": "code",
   "execution_count": 121,
   "id": "e1d33a15-5353-421d-8985-1d75b424bd90",
   "metadata": {},
   "outputs": [],
   "source": [
    "#use case\n",
    "user_id = [ 1,3,4,5]\n",
    "user_name = [ \"am\" , \"new\"]\n",
    "s = zip((user_id,user_name))"
   ]
  },
  {
   "cell_type": "code",
   "execution_count": 122,
   "id": "04c143dc-43c1-47e8-9817-ab1013f6085d",
   "metadata": {},
   "outputs": [
    {
     "data": {
      "text/plain": [
       "<zip at 0x189074cc640>"
      ]
     },
     "execution_count": 122,
     "metadata": {},
     "output_type": "execute_result"
    }
   ],
   "source": [
    "s"
   ]
  },
  {
   "cell_type": "code",
   "execution_count": 125,
   "id": "44012d8c-4d90-4ea0-ae07-2f323db60134",
   "metadata": {},
   "outputs": [
    {
     "name": "stdout",
     "output_type": "stream",
     "text": [
      "(1, 'am')\n",
      "(3, 'new')\n"
     ]
    }
   ],
   "source": [
    "for i in zip(user_id,user_name):\n",
    "    print(i)"
   ]
  },
  {
   "cell_type": "code",
   "execution_count": 127,
   "id": "a85dc92a-d612-4161-a71d-2d17f5eee25d",
   "metadata": {},
   "outputs": [
    {
     "data": {
      "text/plain": [
       "{1: 'am', 3: 'new'}"
      ]
     },
     "execution_count": 127,
     "metadata": {},
     "output_type": "execute_result"
    }
   ],
   "source": [
    "{x: y for x , y in zip(user_id,user_name)}"
   ]
  },
  {
   "cell_type": "code",
   "execution_count": 128,
   "id": "e8dae921-d866-4709-a332-22710827aaeb",
   "metadata": {},
   "outputs": [],
   "source": []
  },
  {
   "cell_type": "code",
   "execution_count": 130,
   "id": "cfcc382e-d600-47a7-9efa-4b6ef0b623b2",
   "metadata": {},
   "outputs": [],
   "source": [
    "D = { \"a\" : {\"AMITESG\" : 8} , \"B\" : {\"AAAMD\" : 79}}"
   ]
  },
  {
   "cell_type": "code",
   "execution_count": 131,
   "id": "94af51bf-9d07-4ccc-b3f5-def6f325dcee",
   "metadata": {},
   "outputs": [
    {
     "data": {
      "text/plain": [
       "{'a': {'AMITESG': 8}, 'B': {'AAAMD': 79}}"
      ]
     },
     "execution_count": 131,
     "metadata": {},
     "output_type": "execute_result"
    }
   ],
   "source": [
    "D"
   ]
  },
  {
   "cell_type": "code",
   "execution_count": 132,
   "id": "c809ee7a-2ad7-416d-8fc3-41352f027dc5",
   "metadata": {},
   "outputs": [],
   "source": [
    "employee_records = {\n",
    "    'E001': {'name': 'John Doe', 'department': 'Engineering', 'salary': 75000},\n",
    "    'E002': {'name': 'Jane Smith', 'department': 'Marketing', 'salary': 65000},\n",
    "    'E003': {'name': 'David Lee', 'department': 'Finance', 'salary': 80000}\n",
    "}\n"
   ]
  },
  {
   "cell_type": "code",
   "execution_count": 133,
   "id": "9538ce71-c572-40ec-93c5-407af74b2669",
   "metadata": {},
   "outputs": [
    {
     "data": {
      "text/plain": [
       "{'name': 'John Doe', 'department': 'Engineering', 'salary': 75000}"
      ]
     },
     "execution_count": 133,
     "metadata": {},
     "output_type": "execute_result"
    }
   ],
   "source": [
    "employee_records.get(\"E001\")"
   ]
  },
  {
   "cell_type": "code",
   "execution_count": 134,
   "id": "c6a6e171-5589-447d-a367-1424a2c25a19",
   "metadata": {},
   "outputs": [
    {
     "data": {
      "text/plain": [
       "{'name': 'John Doe', 'department': 'Engineering', 'salary': 75000}"
      ]
     },
     "execution_count": 134,
     "metadata": {},
     "output_type": "execute_result"
    }
   ],
   "source": [
    "employee_records[\"E001\"]"
   ]
  },
  {
   "cell_type": "code",
   "execution_count": 135,
   "id": "34643aff-d5ae-490a-9ad3-cf1361d5de35",
   "metadata": {},
   "outputs": [],
   "source": [
    "restaurant_menu = {\n",
    "    'Dish1': {'name': 'Pasta Carbonara', 'price': 15.99, 'description': 'Creamy pasta with bacon and parmesan'},\n",
    "    'Dish2': {'name': 'Chicken Caesar Salad', 'price': 12.50, 'description': 'Grilled chicken with romaine lettuce and Caesar dressing'},\n",
    "    'Dish3': {'name': 'Margherita Pizza', 'price': 14.00, 'description': 'Pizza topped with tomato, mozzarella, and basil'}\n",
    "}"
   ]
  },
  {
   "cell_type": "code",
   "execution_count": 136,
   "id": "d176b569-71e1-4299-b3c4-771edac6b7b6",
   "metadata": {},
   "outputs": [
    {
     "data": {
      "text/plain": [
       "{'name': 'Pasta Carbonara',\n",
       " 'price': 15.99,\n",
       " 'description': 'Creamy pasta with bacon and parmesan'}"
      ]
     },
     "execution_count": 136,
     "metadata": {},
     "output_type": "execute_result"
    }
   ],
   "source": [
    "restaurant_menu.get(\"Dish1\")"
   ]
  },
  {
   "cell_type": "code",
   "execution_count": 137,
   "id": "174e3f3d-8c86-4250-b525-1db63a362e29",
   "metadata": {},
   "outputs": [],
   "source": [
    "#dict view objects"
   ]
  },
  {
   "cell_type": "code",
   "execution_count": 138,
   "id": "a6f51039-357d-4013-a911-2effb53a4a5c",
   "metadata": {},
   "outputs": [
    {
     "data": {
      "text/plain": [
       "dict_values([{'name': 'Pasta Carbonara', 'price': 15.99, 'description': 'Creamy pasta with bacon and parmesan'}, {'name': 'Chicken Caesar Salad', 'price': 12.5, 'description': 'Grilled chicken with romaine lettuce and Caesar dressing'}, {'name': 'Margherita Pizza', 'price': 14.0, 'description': 'Pizza topped with tomato, mozzarella, and basil'}])"
      ]
     },
     "execution_count": 138,
     "metadata": {},
     "output_type": "execute_result"
    }
   ],
   "source": [
    "restaurant_menu.values()"
   ]
  },
  {
   "cell_type": "code",
   "execution_count": 139,
   "id": "42f23f46-cda1-4084-80e4-d8ff74b82b41",
   "metadata": {},
   "outputs": [
    {
     "data": {
      "text/plain": [
       "dict_keys(['Dish1', 'Dish2', 'Dish3'])"
      ]
     },
     "execution_count": 139,
     "metadata": {},
     "output_type": "execute_result"
    }
   ],
   "source": [
    "restaurant_menu.keys()"
   ]
  },
  {
   "cell_type": "code",
   "execution_count": 140,
   "id": "627be469-c038-4c8f-b3be-b8db06cd2a34",
   "metadata": {},
   "outputs": [
    {
     "data": {
      "text/plain": [
       "dict_items([('Dish1', {'name': 'Pasta Carbonara', 'price': 15.99, 'description': 'Creamy pasta with bacon and parmesan'}), ('Dish2', {'name': 'Chicken Caesar Salad', 'price': 12.5, 'description': 'Grilled chicken with romaine lettuce and Caesar dressing'}), ('Dish3', {'name': 'Margherita Pizza', 'price': 14.0, 'description': 'Pizza topped with tomato, mozzarella, and basil'})])"
      ]
     },
     "execution_count": 140,
     "metadata": {},
     "output_type": "execute_result"
    }
   ],
   "source": [
    "restaurant_menu.items()"
   ]
  },
  {
   "cell_type": "code",
   "execution_count": 141,
   "id": "1938ee41-637c-4d37-b337-23f40c558f86",
   "metadata": {},
   "outputs": [
    {
     "name": "stdout",
     "output_type": "stream",
     "text": [
      "Dish1 {'name': 'Pasta Carbonara', 'price': 15.99, 'description': 'Creamy pasta with bacon and parmesan'}\n",
      "Dish2 {'name': 'Chicken Caesar Salad', 'price': 12.5, 'description': 'Grilled chicken with romaine lettuce and Caesar dressing'}\n",
      "Dish3 {'name': 'Margherita Pizza', 'price': 14.0, 'description': 'Pizza topped with tomato, mozzarella, and basil'}\n"
     ]
    }
   ],
   "source": [
    "for key , value in restaurant_menu.items():\n",
    "    print(key,value)"
   ]
  },
  {
   "cell_type": "code",
   "execution_count": 142,
   "id": "a3d0ac88-d5fe-4ebd-b5e2-2ab2be2265f7",
   "metadata": {},
   "outputs": [
    {
     "name": "stdout",
     "output_type": "stream",
     "text": [
      "Dish1\n",
      "Dish2\n",
      "Dish3\n"
     ]
    }
   ],
   "source": [
    "for key in restaurant_menu.keys():\n",
    "    print(key)"
   ]
  },
  {
   "cell_type": "code",
   "execution_count": 144,
   "id": "3afb8329-50e9-4438-9e3d-8eda47e44bfd",
   "metadata": {},
   "outputs": [
    {
     "name": "stdout",
     "output_type": "stream",
     "text": [
      "{'name': 'Pasta Carbonara', 'price': 15.99, 'description': 'Creamy pasta with bacon and parmesan'}\n",
      "{'name': 'Chicken Caesar Salad', 'price': 12.5, 'description': 'Grilled chicken with romaine lettuce and Caesar dressing'}\n",
      "{'name': 'Margherita Pizza', 'price': 14.0, 'description': 'Pizza topped with tomato, mozzarella, and basil'}\n"
     ]
    }
   ],
   "source": [
    "for value in restaurant_menu.values():\n",
    "    print(value)"
   ]
  },
  {
   "cell_type": "code",
   "execution_count": null,
   "id": "cf3112f1-f7b2-47bb-bf0a-fc6f4e69e6b7",
   "metadata": {},
   "outputs": [],
   "source": []
  }
 ],
 "metadata": {
  "kernelspec": {
   "display_name": "Python 3 (ipykernel)",
   "language": "python",
   "name": "python3"
  },
  "language_info": {
   "codemirror_mode": {
    "name": "ipython",
    "version": 3
   },
   "file_extension": ".py",
   "mimetype": "text/x-python",
   "name": "python",
   "nbconvert_exporter": "python",
   "pygments_lexer": "ipython3",
   "version": "3.12.7"
  }
 },
 "nbformat": 4,
 "nbformat_minor": 5
}
