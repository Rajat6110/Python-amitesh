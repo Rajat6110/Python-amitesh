{
 "cells": [
  {
   "cell_type": "code",
   "execution_count": 1,
   "id": "a66510d2-1011-4efb-9776-30f57c2b2761",
   "metadata": {},
   "outputs": [],
   "source": [
    "# class method >> bound to the class , ( not particular to instance of class )  \n",
    "#can ,access / modift method and attributes  associated to the class across all instances\n",
    "\n",
    "# syntax = @classmethod \n",
    "# instaed of slef , cls will be there as first parameter"
   ]
  },
  {
   "cell_type": "code",
   "execution_count": 2,
   "id": "8b660e62-0756-41a0-af89-26f01ab832d1",
   "metadata": {},
   "outputs": [],
   "source": [
    "class Student:\n",
    "    #constructor > constructing class with intialization of variables / data \n",
    "    def __init__(self , name):\n",
    "        self.name = name \n"
   ]
  },
  {
   "cell_type": "code",
   "execution_count": 5,
   "id": "9757fe46-ffee-4faa-9e53-ff1eda74fc57",
   "metadata": {},
   "outputs": [],
   "source": [
    "s = Student(\"amitesh\")"
   ]
  },
  {
   "cell_type": "code",
   "execution_count": 9,
   "id": "7c9c407e-99e5-4229-b04f-84a19a64ef63",
   "metadata": {},
   "outputs": [
    {
     "data": {
      "text/plain": [
       "'amitesh'"
      ]
     },
     "execution_count": 9,
     "metadata": {},
     "output_type": "execute_result"
    }
   ],
   "source": [
    "s.name  # revison of init"
   ]
  },
  {
   "cell_type": "code",
   "execution_count": 13,
   "id": "db952d13-9e74-42a5-8dd9-7b12dcbf14a5",
   "metadata": {},
   "outputs": [],
   "source": [
    "class Student:\n",
    "    def __init__(self , name):\n",
    "        self.name = name # self means this variable is regering to current instance of class\n",
    "    @classmethod # binds to the class\n",
    "    def student_detai(cls , name):\n",
    "        return cls(name)\n",
    "# instaed of self as first parameter , you are using cls\n",
    "#  stud_details( ) ,meaning > this method is associated / refering to class iteself "
   ]
  },
  {
   "cell_type": "code",
   "execution_count": 14,
   "id": "c6eb56e8-ea77-4098-8867-6521ba031814",
   "metadata": {},
   "outputs": [],
   "source": [
    "# what is the meaning of regering to class ?\n",
    "# eailer to acces any method / attribute >> first make object of class then obj.attribute\n",
    "# but here if it is class method you can directly acces it "
   ]
  },
  {
   "cell_type": "code",
   "execution_count": 18,
   "id": "c07f4651-1129-4a70-976a-2be870b4e7bf",
   "metadata": {},
   "outputs": [],
   "source": [
    "obj = Student.student_detai(\"amitesh\") # since student_details directly binds to the class , you can direwctly call without making any object"
   ]
  },
  {
   "cell_type": "code",
   "execution_count": 17,
   "id": "911e60b2-5d3e-4ace-9f03-5f46ae70a925",
   "metadata": {},
   "outputs": [
    {
     "data": {
      "text/plain": [
       "'amitesh'"
      ]
     },
     "execution_count": 17,
     "metadata": {},
     "output_type": "execute_result"
    }
   ],
   "source": [
    "obj.name"
   ]
  },
  {
   "cell_type": "code",
   "execution_count": 19,
   "id": "6843b354-b36b-4e90-9b13-8a8bf79fed34",
   "metadata": {},
   "outputs": [],
   "source": [
    " #seeing class method as alternative of init method >> actually \n",
    "# class method is overloading the init method\n"
   ]
  },
  {
   "cell_type": "code",
   "execution_count": 23,
   "id": "5c047dcd-494a-4e09-b9cf-bb8ca205fd86",
   "metadata": {},
   "outputs": [],
   "source": [
    "# HOW CLASS METHOD IS OVERLOADING THE INIT METHOD ?\n",
    "# MODIFYING THE CLASS  / instance METHOD \n",
    "class Stud:\n",
    "    def __init__(self,name): #instance method\n",
    "        self.name = name\n",
    "    @classmethod\n",
    "    def stud_details(cls,name1):\n",
    "        return cls(name1)"
   ]
  },
  {
   "cell_type": "code",
   "execution_count": 24,
   "id": "e14d74fe-5c79-46a8-b5a1-df96a02b16be",
   "metadata": {},
   "outputs": [],
   "source": [
    "su = Stud.stud_details(\"rajat\")"
   ]
  },
  {
   "cell_type": "code",
   "execution_count": 26,
   "id": "2d8b5db4-a2cf-4c50-bb29-325dde79de3f",
   "metadata": {},
   "outputs": [
    {
     "data": {
      "text/plain": [
       "'rajat'"
      ]
     },
     "execution_count": 26,
     "metadata": {},
     "output_type": "execute_result"
    }
   ],
   "source": [
    "su.name # not geting name1 affter hiting tab \n",
    "# you wil get ajay ins[ite of variable name1]"
   ]
  },
  {
   "cell_type": "code",
   "execution_count": 27,
   "id": "c9d8dd70-0a8b-42a5-976d-d7518c0b3848",
   "metadata": {},
   "outputs": [],
   "source": [
    "#bcz it is overloading the init method> alt of initi methof"
   ]
  },
  {
   "cell_type": "code",
   "execution_count": 44,
   "id": "a3927300-7950-4181-b6ce-7c6429893fbf",
   "metadata": {},
   "outputs": [],
   "source": [
    "# class method can moidfy class state applicable to all the instances of class\n",
    "class Student:\n",
    "    total_student = 0\n",
    "    def __init__(self,name):\n",
    "        self.name = name\n",
    "        Student.total_student = Student.total_student+1\n",
    "       # total_student is the class variable associated with all the instances\n",
    "\n",
    "\n",
    "    @classmethod\n",
    "    def get_total_stud(cls):\n",
    "        return cls.total_student"
   ]
  },
  {
   "cell_type": "code",
   "execution_count": 45,
   "id": "0654ae98-8abf-4148-b671-deb85bbbac94",
   "metadata": {},
   "outputs": [
    {
     "data": {
      "text/plain": [
       "0"
      ]
     },
     "execution_count": 45,
     "metadata": {},
     "output_type": "execute_result"
    }
   ],
   "source": [
    "Student.total_student"
   ]
  },
  {
   "cell_type": "code",
   "execution_count": 46,
   "id": "c69ef256-28a0-4c01-9518-3d910c4abb19",
   "metadata": {},
   "outputs": [],
   "source": [
    "std = Student(\"amiteshg\")\n",
    "std1 = Student(\"rajat\")"
   ]
  },
  {
   "cell_type": "code",
   "execution_count": 47,
   "id": "141d751c-0d82-4ca3-8a7b-90edf30d11a2",
   "metadata": {},
   "outputs": [
    {
     "data": {
      "text/plain": [
       "'rajat'"
      ]
     },
     "execution_count": 47,
     "metadata": {},
     "output_type": "execute_result"
    }
   ],
   "source": [
    "std1.name"
   ]
  },
  {
   "cell_type": "code",
   "execution_count": 48,
   "id": "625bc345-a037-4e8d-8de4-2de3a5f981a1",
   "metadata": {},
   "outputs": [
    {
     "data": {
      "text/plain": [
       "2"
      ]
     },
     "execution_count": 48,
     "metadata": {},
     "output_type": "execute_result"
    }
   ],
   "source": [
    "Student.total_student\n"
   ]
  },
  {
   "cell_type": "code",
   "execution_count": 50,
   "id": "35610146-e9a3-46da-8ba1-1003c681c923",
   "metadata": {},
   "outputs": [
    {
     "data": {
      "text/plain": [
       "2"
      ]
     },
     "execution_count": 50,
     "metadata": {},
     "output_type": "execute_result"
    }
   ],
   "source": [
    "Student.get_total_stud()\n",
    "#class method can modify class state applicable to all the instances of the class\n",
    "#thats why you see increase in the count"
   ]
  },
  {
   "cell_type": "code",
   "execution_count": 51,
   "id": "8c5bceed-d82d-4a5d-a13e-f20a8e4fd364",
   "metadata": {},
   "outputs": [],
   "source": [
    "\n",
    "class Student:\n",
    "    total_student = 0\n",
    "    def __init__(self,name):\n",
    "        self.name = name\n",
    "        Student.total_student = Student.total_student+1\n",
    "   \n",
    "\n",
    "\n",
    "    @classmethod\n",
    "    def get_total_stud(cls):\n",
    "        return cls.total_student"
   ]
  },
  {
   "cell_type": "code",
   "execution_count": 52,
   "id": "e16e86db-80ac-41e6-b6cc-1daba40c88fb",
   "metadata": {},
   "outputs": [],
   "source": [
    "def course_details(cls ,coruse_name):\n",
    "    print(\"the course is\" , course_details)"
   ]
  },
  {
   "cell_type": "code",
   "execution_count": 59,
   "id": "ac652419-2e12-4b1f-b94e-3b699e8c2a41",
   "metadata": {},
   "outputs": [],
   "source": [
    " #adding external function as class method\n",
    "Student.course_details = classmethod(course_details)"
   ]
  },
  {
   "cell_type": "code",
   "execution_count": 60,
   "id": "18c15237-db01-4ea5-8e10-3ff53543cdc8",
   "metadata": {},
   "outputs": [
    {
     "name": "stdout",
     "output_type": "stream",
     "text": [
      "the course is <function course_details at 0x000001FA2ECE2E80>\n"
     ]
    }
   ],
   "source": [
    "Student.course_details(\"ds\")"
   ]
  },
  {
   "cell_type": "code",
   "execution_count": 61,
   "id": "ba1b3601-4676-4832-a72a-930ccd646031",
   "metadata": {},
   "outputs": [],
   "source": [
    "# deleted any class method\n",
    "del Student.course_details"
   ]
  },
  {
   "cell_type": "code",
   "execution_count": 62,
   "id": "964701b6-b2d9-4531-b3bb-f8f376a9f909",
   "metadata": {},
   "outputs": [],
   "source": [
    "# another ways \n",
    "# delattr(Student, \"get_total_students\")"
   ]
  },
  {
   "cell_type": "markdown",
   "id": "effc9021-5bdc-4a7d-a153-7a7e8a18420e",
   "metadata": {},
   "source": [
    "# static method "
   ]
  },
  {
   "cell_type": "code",
   "execution_count": 63,
   "id": "311a1ac1-4d19-44a9-b346-a2e9536c6182",
   "metadata": {},
   "outputs": [],
   "source": [
    "#Static method\n",
    "#doesnot modify class or instance state, doesnt access instance or class state\n",
    "#doesnt depend on class/instance\n",
    "#it behaves like a plain function that belongs to class\n",
    "#it doesn't take either self or cls\n",
    "#@static method is used\n",
    "#works with parameter passed\n",
    "\n"
   ]
  },
  {
   "cell_type": "code",
   "execution_count": 69,
   "id": "353a7569-598b-4e03-a58a-d7684d839ff4",
   "metadata": {},
   "outputs": [],
   "source": [
    "class Cal:\n",
    "    @staticmethod\n",
    "    def add(x,y):\n",
    "        return x+y\n",
    "    @staticmethod\n",
    "    def sub(x,y):\n",
    "        return x-y"
   ]
  },
  {
   "cell_type": "code",
   "execution_count": 70,
   "id": "4bc8d9e9-36be-4467-a7ad-e00ea6027756",
   "metadata": {},
   "outputs": [
    {
     "data": {
      "text/plain": [
       "11"
      ]
     },
     "execution_count": 70,
     "metadata": {},
     "output_type": "execute_result"
    }
   ],
   "source": [
    "Cal.add(5,6)"
   ]
  },
  {
   "cell_type": "code",
   "execution_count": 73,
   "id": "db9c1c77-17d3-45e9-953c-2e80b1b76705",
   "metadata": {},
   "outputs": [
    {
     "data": {
      "text/plain": [
       "16"
      ]
     },
     "execution_count": 73,
     "metadata": {},
     "output_type": "execute_result"
    }
   ],
   "source": [
    "Cal.sub(20,4)"
   ]
  },
  {
   "cell_type": "code",
   "execution_count": null,
   "id": "e05af4b4-c373-4d1d-adc9-d7524f568183",
   "metadata": {},
   "outputs": [],
   "source": []
  }
 ],
 "metadata": {
  "kernelspec": {
   "display_name": "Python 3 (ipykernel)",
   "language": "python",
   "name": "python3"
  },
  "language_info": {
   "codemirror_mode": {
    "name": "ipython",
    "version": 3
   },
   "file_extension": ".py",
   "mimetype": "text/x-python",
   "name": "python",
   "nbconvert_exporter": "python",
   "pygments_lexer": "ipython3",
   "version": "3.11.3"
  },
  "widgets": {
   "application/vnd.jupyter.widget-state+json": {
    "state": {},
    "version_major": 2,
    "version_minor": 0
   }
  }
 },
 "nbformat": 4,
 "nbformat_minor": 5
}
