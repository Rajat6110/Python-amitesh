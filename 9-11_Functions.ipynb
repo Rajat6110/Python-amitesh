{
 "cells": [
  {
   "cell_type": "markdown",
   "id": "d72a4e21-419f-42c4-aa4d-9008f3a9fb54",
   "metadata": {},
   "source": [
    "# Functions"
   ]
  },
  {
   "cell_type": "code",
   "execution_count": 1,
   "id": "6627c68e-a4df-4bd1-b95c-a27b7c50619e",
   "metadata": {},
   "outputs": [],
   "source": [
    "#functions >> print , len , type>> inbulit python functions\n",
    "# ceil >> roof >> nearest highest whole no value \n",
    "# floor >> ground >> nearest lowest whole no values\n"
   ]
  },
  {
   "cell_type": "code",
   "execution_count": 2,
   "id": "a6711b7b-a917-4bfa-94fc-a844eea384a6",
   "metadata": {},
   "outputs": [],
   "source": [
    "import math as m # math(libn) is a collection of fnction"
   ]
  },
  {
   "cell_type": "code",
   "execution_count": 3,
   "id": "a92d3601-844f-44d6-aba0-ec8b2c6088f2",
   "metadata": {},
   "outputs": [
    {
     "data": {
      "text/plain": [
       "7"
      ]
     },
     "execution_count": 3,
     "metadata": {},
     "output_type": "execute_result"
    }
   ],
   "source": [
    "m.ceil(6.54)"
   ]
  },
  {
   "cell_type": "code",
   "execution_count": 4,
   "id": "2ca4d78f-3da7-448f-b454-b1ecd057eb55",
   "metadata": {},
   "outputs": [
    {
     "data": {
      "text/plain": [
       "6"
      ]
     },
     "execution_count": 4,
     "metadata": {},
     "output_type": "execute_result"
    }
   ],
   "source": [
    "m.floor(6.4)"
   ]
  },
  {
   "cell_type": "code",
   "execution_count": 5,
   "id": "06162ba5-ce95-4549-bc2e-6b675eb350c8",
   "metadata": {},
   "outputs": [],
   "source": [
    "#user defined functions"
   ]
  },
  {
   "cell_type": "code",
   "execution_count": 6,
   "id": "0a147e0a-0e6f-463e-9d92-634306a844e7",
   "metadata": {},
   "outputs": [],
   "source": [
    "#syntax-\n",
    "#def funcname():\n",
    "    # do somthin\n",
    "#function is a block of code which perfom some specific task / computaion\n"
   ]
  },
  {
   "cell_type": "code",
   "execution_count": 7,
   "id": "7e23f117-92da-452f-9e88-d52c4d1c903f",
   "metadata": {},
   "outputs": [],
   "source": [
    "#why function - functions are resuable , neat , clean , and organised, saves your time as well "
   ]
  },
  {
   "cell_type": "code",
   "execution_count": 14,
   "id": "12c5edda-b443-42f2-ba80-7d4a24326119",
   "metadata": {},
   "outputs": [],
   "source": [
    "def greetings():\n",
    "    print(\"welcome to the office\"  )"
   ]
  },
  {
   "cell_type": "code",
   "execution_count": 16,
   "id": "46bdddb2-7869-4f8f-b00c-aef2676e1dda",
   "metadata": {},
   "outputs": [
    {
     "name": "stdout",
     "output_type": "stream",
     "text": [
      "welcome to the office\n"
     ]
    }
   ],
   "source": [
    "greetings()"
   ]
  },
  {
   "cell_type": "code",
   "execution_count": 10,
   "id": "7ace551a-929e-445e-a74b-b7d42ff29b18",
   "metadata": {},
   "outputs": [
    {
     "name": "stdout",
     "output_type": "stream",
     "text": [
      "welcome to the office\n"
     ]
    }
   ],
   "source": [
    "greetings()"
   ]
  },
  {
   "cell_type": "code",
   "execution_count": 20,
   "id": "38247603-c176-4e66-a842-a79fc351937b",
   "metadata": {},
   "outputs": [],
   "source": [
    "def greeting(name): #passiing a varaible inside a function >> argument (Name) > postional argument\n",
    "    print(\"welcome to the office\" , name )"
   ]
  },
  {
   "cell_type": "code",
   "execution_count": 21,
   "id": "4805f55f-99d2-45b4-b887-fc15c7a2a5a0",
   "metadata": {},
   "outputs": [
    {
     "name": "stdout",
     "output_type": "stream",
     "text": [
      "welcome to the office Rajat\n"
     ]
    }
   ],
   "source": [
    "greeting(\"Rajat\")"
   ]
  },
  {
   "cell_type": "code",
   "execution_count": 22,
   "id": "00ccaca1-e450-4577-bcca-2bfe5b41e9b4",
   "metadata": {},
   "outputs": [
    {
     "name": "stdout",
     "output_type": "stream",
     "text": [
      "welcome to the office Amitesh\n"
     ]
    }
   ],
   "source": [
    "greeting(\"Amitesh\")"
   ]
  },
  {
   "cell_type": "code",
   "execution_count": 23,
   "id": "84837631-7125-46a3-a61c-dc5d5da3f90e",
   "metadata": {},
   "outputs": [],
   "source": [
    "def Myfunc(name ):\n",
    "    print(f\"HEllo {name} , how are you !\")\n",
    "    "
   ]
  },
  {
   "cell_type": "code",
   "execution_count": 24,
   "id": "c719a60d-685b-41db-9de0-17270c4b44f1",
   "metadata": {},
   "outputs": [
    {
     "name": "stdout",
     "output_type": "stream",
     "text": [
      "HEllo Amitesh , how are you !\n"
     ]
    }
   ],
   "source": [
    "Myfunc(\"Amitesh\")"
   ]
  },
  {
   "cell_type": "code",
   "execution_count": 25,
   "id": "79e29d79-a72b-438c-b4be-0f5610462cb5",
   "metadata": {},
   "outputs": [],
   "source": [
    "def Myfunc(name ,age ):\n",
    "    print(f\"HEllo {name} , how are you !\")\n",
    "    print(f\"Your age is : {age}\")"
   ]
  },
  {
   "cell_type": "code",
   "execution_count": 26,
   "id": "003100bd-5844-4d29-9e4d-e2942cac59b9",
   "metadata": {},
   "outputs": [
    {
     "name": "stdout",
     "output_type": "stream",
     "text": [
      "HEllo Amitesh , how are you !\n",
      "Your age is : 20\n"
     ]
    }
   ],
   "source": [
    "Myfunc(\"Amitesh\",20)"
   ]
  },
  {
   "cell_type": "code",
   "execution_count": 27,
   "id": "af56bced-bc53-4c92-a77a-29f1e1e967c8",
   "metadata": {},
   "outputs": [
    {
     "data": {
      "text/plain": [
       "' acha bhai sahi keh rha'"
      ]
     },
     "execution_count": 27,
     "metadata": {},
     "output_type": "execute_result"
    }
   ],
   "source": [
    "\" acha bhai\" + \" sahi keh rha\""
   ]
  },
  {
   "cell_type": "code",
   "execution_count": 31,
   "id": "f5e3d371-a14a-46d3-af96-657c5cdc8224",
   "metadata": {},
   "outputs": [],
   "source": [
    "def greetings():\n",
    "    print(\"welcome to the office\"  )"
   ]
  },
  {
   "cell_type": "code",
   "execution_count": 32,
   "id": "6367a30c-dc74-4d13-9546-713d042482ac",
   "metadata": {},
   "outputs": [
    {
     "name": "stdout",
     "output_type": "stream",
     "text": [
      "welcome to the office\n"
     ]
    }
   ],
   "source": [
    "greetings()"
   ]
  },
  {
   "cell_type": "code",
   "execution_count": 34,
   "id": "a1b25073-4329-48c4-8dec-b699d912cc6b",
   "metadata": {},
   "outputs": [
    {
     "name": "stdout",
     "output_type": "stream",
     "text": [
      "welcome to the office\n"
     ]
    },
    {
     "ename": "TypeError",
     "evalue": "unsupported operand type(s) for +: 'NoneType' and 'str'",
     "output_type": "error",
     "traceback": [
      "\u001b[1;31m---------------------------------------------------------------------------\u001b[0m",
      "\u001b[1;31mTypeError\u001b[0m                                 Traceback (most recent call last)",
      "Cell \u001b[1;32mIn[34], line 1\u001b[0m\n\u001b[1;32m----> 1\u001b[0m \u001b[43mgreetings\u001b[49m\u001b[43m(\u001b[49m\u001b[43m)\u001b[49m\u001b[43m \u001b[49m\u001b[38;5;241;43m+\u001b[39;49m\u001b[43m \u001b[49m\u001b[38;5;124;43m\"\u001b[39;49m\u001b[38;5;124;43m sahi keh rha\u001b[39;49m\u001b[38;5;124;43m\"\u001b[39;49m\n",
      "\u001b[1;31mTypeError\u001b[0m: unsupported operand type(s) for +: 'NoneType' and 'str'"
     ]
    }
   ],
   "source": [
    "greetings() + \" sahi keh rha\" #error "
   ]
  },
  {
   "cell_type": "code",
   "execution_count": 37,
   "id": "7a7bd809-0d65-4ade-8e84-d53680f446f9",
   "metadata": {},
   "outputs": [
    {
     "name": "stdout",
     "output_type": "stream",
     "text": [
      "welcome to the office\n",
      "<class 'NoneType'>\n"
     ]
    }
   ],
   "source": [
    "print(type(greetings()))"
   ]
  },
  {
   "cell_type": "code",
   "execution_count": 42,
   "id": "4b50b46c-e189-41f0-b6a2-ffaa4a3f98e3",
   "metadata": {},
   "outputs": [
    {
     "name": "stdout",
     "output_type": "stream",
     "text": [
      "HEllo am , how are you !\n",
      "Your age is : 78\n",
      "<class 'NoneType'>\n"
     ]
    }
   ],
   "source": [
    "print(type(Myfunc(\"am\" , 78)))"
   ]
  },
  {
   "cell_type": "code",
   "execution_count": 2,
   "id": "97d8859a-752b-41ff-9a07-914f64b44939",
   "metadata": {},
   "outputs": [
    {
     "data": {
      "text/plain": [
       "'this is string, now we can add string '"
      ]
     },
     "execution_count": 2,
     "metadata": {},
     "output_type": "execute_result"
    }
   ],
   "source": [
    "def myfunction(): # retrun statement >> output of a function\n",
    "    return \"this is string\"\n",
    "myfunction() + \", now we can add string \""
   ]
  },
  {
   "cell_type": "code",
   "execution_count": 10,
   "id": "b991fb96-357f-4790-9681-e92f98ecd49d",
   "metadata": {},
   "outputs": [],
   "source": [
    "def func():\n",
    "    return \"this is new function and \" , 1, 2.3 , 5+3j ,True"
   ]
  },
  {
   "cell_type": "code",
   "execution_count": 11,
   "id": "c4ed24dc-1a7d-4189-8299-0354eab6b6ca",
   "metadata": {},
   "outputs": [
    {
     "data": {
      "text/plain": [
       "('this is new function and ', 1, 2.3, (5+3j), True)"
      ]
     },
     "execution_count": 11,
     "metadata": {},
     "output_type": "execute_result"
    }
   ],
   "source": [
    "func()"
   ]
  },
  {
   "cell_type": "code",
   "execution_count": 12,
   "id": "f8a6cf45-368a-4958-a8ea-c7c107bd4ff8",
   "metadata": {},
   "outputs": [],
   "source": [
    "a= func()"
   ]
  },
  {
   "cell_type": "code",
   "execution_count": 13,
   "id": "318cf324-ea30-4336-84dc-c1ac5c0f8e96",
   "metadata": {},
   "outputs": [
    {
     "data": {
      "text/plain": [
       "('this is new function and ', 1, 2.3, (5+3j), True)"
      ]
     },
     "execution_count": 13,
     "metadata": {},
     "output_type": "execute_result"
    }
   ],
   "source": [
    "func()"
   ]
  },
  {
   "cell_type": "code",
   "execution_count": 14,
   "id": "8f3a157e-8e53-4070-8f3c-86553e0998b4",
   "metadata": {},
   "outputs": [
    {
     "data": {
      "text/plain": [
       "tuple"
      ]
     },
     "execution_count": 14,
     "metadata": {},
     "output_type": "execute_result"
    }
   ],
   "source": [
    "type(a)"
   ]
  },
  {
   "cell_type": "code",
   "execution_count": 15,
   "id": "6e5320ff-8a45-43bd-8e86-05d252176c7a",
   "metadata": {},
   "outputs": [
    {
     "data": {
      "text/plain": [
       "('this is new function and ', 1, 2.3, (5+3j), True)"
      ]
     },
     "execution_count": 15,
     "metadata": {},
     "output_type": "execute_result"
    }
   ],
   "source": [
    "func()"
   ]
  },
  {
   "cell_type": "code",
   "execution_count": 16,
   "id": "2ddfb3a4-88d0-40bc-a31d-4c5d7c192912",
   "metadata": {},
   "outputs": [],
   "source": [
    "a, b, c ,d ,e = func()"
   ]
  },
  {
   "cell_type": "code",
   "execution_count": 17,
   "id": "236c606d-3785-436d-a1ed-5e51628381a8",
   "metadata": {},
   "outputs": [
    {
     "data": {
      "text/plain": [
       "'this is new function and '"
      ]
     },
     "execution_count": 17,
     "metadata": {},
     "output_type": "execute_result"
    }
   ],
   "source": [
    "a\n"
   ]
  },
  {
   "cell_type": "code",
   "execution_count": 18,
   "id": "b1290828-40ef-4e41-b15a-84626e4a94cb",
   "metadata": {},
   "outputs": [
    {
     "data": {
      "text/plain": [
       "1"
      ]
     },
     "execution_count": 18,
     "metadata": {},
     "output_type": "execute_result"
    }
   ],
   "source": [
    "b"
   ]
  },
  {
   "cell_type": "code",
   "execution_count": 19,
   "id": "80beccd7-ea0b-4c1c-a98b-75424669ba34",
   "metadata": {},
   "outputs": [
    {
     "data": {
      "text/plain": [
       "2.3"
      ]
     },
     "execution_count": 19,
     "metadata": {},
     "output_type": "execute_result"
    }
   ],
   "source": [
    "c"
   ]
  },
  {
   "cell_type": "code",
   "execution_count": 20,
   "id": "92ca1895-851e-46fb-8f45-227dd45799de",
   "metadata": {},
   "outputs": [
    {
     "data": {
      "text/plain": [
       "(5+3j)"
      ]
     },
     "execution_count": 20,
     "metadata": {},
     "output_type": "execute_result"
    }
   ],
   "source": [
    "d"
   ]
  },
  {
   "cell_type": "code",
   "execution_count": 21,
   "id": "20d22ed6-0208-404f-baa2-df0078cdb313",
   "metadata": {},
   "outputs": [
    {
     "data": {
      "text/plain": [
       "True"
      ]
     },
     "execution_count": 21,
     "metadata": {},
     "output_type": "execute_result"
    }
   ],
   "source": [
    "e"
   ]
  },
  {
   "cell_type": "code",
   "execution_count": 22,
   "id": "98c19ddc-37c1-423c-9288-66a73780b25f",
   "metadata": {},
   "outputs": [
    {
     "data": {
      "text/plain": [
       "'t'"
      ]
     },
     "execution_count": 22,
     "metadata": {},
     "output_type": "execute_result"
    }
   ],
   "source": [
    "a[0]"
   ]
  },
  {
   "cell_type": "code",
   "execution_count": 23,
   "id": "05643476-5e49-4325-a2c4-9c0fffde238a",
   "metadata": {},
   "outputs": [],
   "source": [
    "a= func()"
   ]
  },
  {
   "cell_type": "code",
   "execution_count": 24,
   "id": "5d612f9d-417e-4d1c-b789-9cf34f2c2012",
   "metadata": {},
   "outputs": [
    {
     "data": {
      "text/plain": [
       "('this is new function and ', 1, 2.3, (5+3j), True)"
      ]
     },
     "execution_count": 24,
     "metadata": {},
     "output_type": "execute_result"
    }
   ],
   "source": [
    "a"
   ]
  },
  {
   "cell_type": "code",
   "execution_count": 25,
   "id": "77806c6d-6bcc-40ad-a14c-67deba6a1d59",
   "metadata": {},
   "outputs": [
    {
     "data": {
      "text/plain": [
       "'this is new function and '"
      ]
     },
     "execution_count": 25,
     "metadata": {},
     "output_type": "execute_result"
    }
   ],
   "source": [
    "a[0]"
   ]
  },
  {
   "cell_type": "code",
   "execution_count": 26,
   "id": "578b11d0-a384-4454-ace4-1aa68ddf8e6c",
   "metadata": {},
   "outputs": [
    {
     "data": {
      "text/plain": [
       "1"
      ]
     },
     "execution_count": 26,
     "metadata": {},
     "output_type": "execute_result"
    }
   ],
   "source": [
    "a[1]"
   ]
  },
  {
   "cell_type": "code",
   "execution_count": 27,
   "id": "848b870b-d4d3-4242-bce1-d84ce410031c",
   "metadata": {},
   "outputs": [
    {
     "data": {
      "text/plain": [
       "(5+3j)"
      ]
     },
     "execution_count": 27,
     "metadata": {},
     "output_type": "execute_result"
    }
   ],
   "source": [
    "a[3]"
   ]
  },
  {
   "cell_type": "code",
   "execution_count": 29,
   "id": "3e9fa998-bcbe-45b1-bc5e-bd3ec85fe2b7",
   "metadata": {},
   "outputs": [
    {
     "data": {
      "text/plain": [
       "35"
      ]
     },
     "execution_count": 29,
     "metadata": {},
     "output_type": "execute_result"
    }
   ],
   "source": [
    "def functions():\n",
    "    calc = 2 +3 +6 *5\n",
    "    return calc\n",
    "functions()"
   ]
  },
  {
   "cell_type": "code",
   "execution_count": 31,
   "id": "1662c3ca-3480-4dcf-8abc-7d2ce7613c03",
   "metadata": {},
   "outputs": [
    {
     "data": {
      "text/plain": [
       "int"
      ]
     },
     "execution_count": 31,
     "metadata": {},
     "output_type": "execute_result"
    }
   ],
   "source": [
    "type(functions())"
   ]
  },
  {
   "cell_type": "code",
   "execution_count": 33,
   "id": "89214774-4d4d-42ff-97c3-6d27e0308525",
   "metadata": {},
   "outputs": [],
   "source": [
    "def square(a): # a is called arugemnet\n",
    "    return a * a"
   ]
  },
  {
   "cell_type": "code",
   "execution_count": 34,
   "id": "8c637ab2-b95e-4cfb-87dc-38f4b2a6de2f",
   "metadata": {},
   "outputs": [
    {
     "data": {
      "text/plain": [
       "25"
      ]
     },
     "execution_count": 34,
     "metadata": {},
     "output_type": "execute_result"
    }
   ],
   "source": [
    "square(5)"
   ]
  },
  {
   "cell_type": "code",
   "execution_count": 35,
   "id": "f70a2c64-033d-43fc-a788-28af081e7669",
   "metadata": {},
   "outputs": [
    {
     "data": {
      "text/plain": [
       "0.4"
      ]
     },
     "execution_count": 35,
     "metadata": {},
     "output_type": "execute_result"
    }
   ],
   "source": [
    "a = 2\n",
    "b = 5\n",
    "c =a/b\n",
    "c"
   ]
  },
  {
   "cell_type": "code",
   "execution_count": 40,
   "id": "048573db-113e-4781-bb18-8e6b4914acb0",
   "metadata": {},
   "outputs": [
    {
     "data": {
      "text/plain": [
       "14"
      ]
     },
     "execution_count": 40,
     "metadata": {},
     "output_type": "execute_result"
    }
   ],
   "source": [
    "def addition(a , b): #a,b are postional arugments >> it mainatains the order\n",
    "    return a+ b\n",
    "addition(10,4)"
   ]
  },
  {
   "cell_type": "code",
   "execution_count": 41,
   "id": "347de6d4-fbe6-44e1-a3d8-e69387f48c82",
   "metadata": {},
   "outputs": [
    {
     "data": {
      "text/plain": [
       "'pwskiils'"
      ]
     },
     "execution_count": 41,
     "metadata": {},
     "output_type": "execute_result"
    }
   ],
   "source": [
    "addition(\"pw\" , \"skiils\")"
   ]
  },
  {
   "cell_type": "code",
   "execution_count": 42,
   "id": "99615b1a-242b-49cd-a798-eb9fa5c191bc",
   "metadata": {},
   "outputs": [
    {
     "data": {
      "text/plain": [
       "[1, 23, 3, 2, 4, 2]"
      ]
     },
     "execution_count": 42,
     "metadata": {},
     "output_type": "execute_result"
    }
   ],
   "source": [
    "addition([1,23,3] , [2,4,2])# COOMBINE"
   ]
  },
  {
   "cell_type": "code",
   "execution_count": 43,
   "id": "8ae21035-d61f-49d2-b6e7-3ea0a7fb6f7f",
   "metadata": {},
   "outputs": [],
   "source": [
    "def addition(b , a): #a,b are postional arugments >> it mainatains the order\n",
    "    return a+ b"
   ]
  },
  {
   "cell_type": "code",
   "execution_count": 44,
   "id": "c8faa846-93bb-48b5-99f3-30ab1011253a",
   "metadata": {},
   "outputs": [
    {
     "data": {
      "text/plain": [
       "'pwskills'"
      ]
     },
     "execution_count": 44,
     "metadata": {},
     "output_type": "execute_result"
    }
   ],
   "source": [
    "addition(\"skills\" , \"pw\")"
   ]
  },
  {
   "cell_type": "code",
   "execution_count": 45,
   "id": "7d0ef909-6c2d-456a-8a27-f3941c2f1da8",
   "metadata": {},
   "outputs": [],
   "source": [
    "# better way"
   ]
  },
  {
   "cell_type": "code",
   "execution_count": 46,
   "id": "64e682f1-a33c-4f38-a053-a0123c510346",
   "metadata": {},
   "outputs": [],
   "source": [
    "def addition(a , b): #a,b are postional arugments >> it mainatains the order\n",
    "    return a+ b"
   ]
  },
  {
   "cell_type": "code",
   "execution_count": 47,
   "id": "22ebf0b1-88c5-4ce1-b9a3-cae08fac1711",
   "metadata": {},
   "outputs": [
    {
     "data": {
      "text/plain": [
       "'pwskills '"
      ]
     },
     "execution_count": 47,
     "metadata": {},
     "output_type": "execute_result"
    }
   ],
   "source": [
    "addition(b = \"skills \" , a = \"pw\")"
   ]
  },
  {
   "cell_type": "code",
   "execution_count": 48,
   "id": "251e1a80-2254-4a90-9148-488c16bf26fd",
   "metadata": {},
   "outputs": [],
   "source": [
    "def sum1(a,b,c):\n",
    "    return a +b +c"
   ]
  },
  {
   "cell_type": "code",
   "execution_count": 49,
   "id": "ec147c73-7489-4560-8bb8-a4a64694f98e",
   "metadata": {},
   "outputs": [
    {
     "data": {
      "text/plain": [
       "6"
      ]
     },
     "execution_count": 49,
     "metadata": {},
     "output_type": "execute_result"
    }
   ],
   "source": [
    "sum1(1,2,3)"
   ]
  },
  {
   "cell_type": "code",
   "execution_count": 50,
   "id": "a3849ff1-5a77-4760-91ec-7de3e14196e5",
   "metadata": {},
   "outputs": [
    {
     "ename": "TypeError",
     "evalue": "sum1() missing 1 required positional argument: 'a'",
     "output_type": "error",
     "traceback": [
      "\u001b[1;31m---------------------------------------------------------------------------\u001b[0m",
      "\u001b[1;31mTypeError\u001b[0m                                 Traceback (most recent call last)",
      "Cell \u001b[1;32mIn[50], line 1\u001b[0m\n\u001b[1;32m----> 1\u001b[0m \u001b[43msum1\u001b[49m\u001b[43m(\u001b[49m\u001b[43mb\u001b[49m\u001b[38;5;241;43m=\u001b[39;49m\u001b[38;5;241;43m34\u001b[39;49m\u001b[43m,\u001b[49m\u001b[43m \u001b[49m\u001b[43mc\u001b[49m\u001b[43m \u001b[49m\u001b[38;5;241;43m=\u001b[39;49m\u001b[43m \u001b[49m\u001b[38;5;241;43m32\u001b[39;49m\u001b[43m)\u001b[49m\n",
      "\u001b[1;31mTypeError\u001b[0m: sum1() missing 1 required positional argument: 'a'"
     ]
    }
   ],
   "source": [
    "sum1(b=34, c = 32)"
   ]
  },
  {
   "cell_type": "code",
   "execution_count": 51,
   "id": "76fdac5a-ec99-4014-90c6-00e64d7d80f4",
   "metadata": {},
   "outputs": [],
   "source": [
    "#concept of defult argument"
   ]
  },
  {
   "cell_type": "code",
   "execution_count": 53,
   "id": "aaf2b3be-5347-47fa-b338-93bce990643a",
   "metadata": {},
   "outputs": [],
   "source": [
    "def sum1(b,c,a=0):\n",
    "    return a +b +c"
   ]
  },
  {
   "cell_type": "code",
   "execution_count": 54,
   "id": "7d9b102a-8379-4cbb-a9d6-27f949f591de",
   "metadata": {},
   "outputs": [
    {
     "data": {
      "text/plain": [
       "4"
      ]
     },
     "execution_count": 54,
     "metadata": {},
     "output_type": "execute_result"
    }
   ],
   "source": [
    "sum1(1,3)"
   ]
  },
  {
   "cell_type": "code",
   "execution_count": 55,
   "id": "a3e6ad4a-c451-4c9c-91e7-961493b668bd",
   "metadata": {},
   "outputs": [
    {
     "data": {
      "text/plain": [
       "26"
      ]
     },
     "execution_count": 55,
     "metadata": {},
     "output_type": "execute_result"
    }
   ],
   "source": [
    "sum1(22,3,1)"
   ]
  },
  {
   "cell_type": "code",
   "execution_count": 4,
   "id": "33121916-6445-4333-91fe-9c3aed0d8ad0",
   "metadata": {},
   "outputs": [],
   "source": [
    "def sum1(b,c=0,a=0): # defluat value should be at last\n",
    "    return a +b +c"
   ]
  },
  {
   "cell_type": "code",
   "execution_count": 5,
   "id": "d3463773-32ad-4748-90ef-0ff904bbec11",
   "metadata": {},
   "outputs": [
    {
     "data": {
      "text/plain": [
       "9"
      ]
     },
     "execution_count": 5,
     "metadata": {},
     "output_type": "execute_result"
    }
   ],
   "source": [
    "sum1(3,4,2)"
   ]
  },
  {
   "cell_type": "code",
   "execution_count": 6,
   "id": "781ad1aa-3f8e-474a-8bb7-1689cfc1d5c6",
   "metadata": {},
   "outputs": [
    {
     "data": {
      "text/plain": [
       "3"
      ]
     },
     "execution_count": 6,
     "metadata": {},
     "output_type": "execute_result"
    }
   ],
   "source": [
    "sum1(3)"
   ]
  },
  {
   "cell_type": "code",
   "execution_count": 7,
   "id": "8f32f813-4257-43ec-8afa-ffe5594af017",
   "metadata": {},
   "outputs": [],
   "source": [
    "def sum1(b,c=5,a=1):\n",
    "    return a +b +c"
   ]
  },
  {
   "cell_type": "code",
   "execution_count": 10,
   "id": "f0c49713-4ea0-4183-a37f-3e925f7167f3",
   "metadata": {},
   "outputs": [
    {
     "data": {
      "text/plain": [
       "7"
      ]
     },
     "execution_count": 10,
     "metadata": {},
     "output_type": "execute_result"
    }
   ],
   "source": [
    "sum1(1) # we can give anything"
   ]
  },
  {
   "cell_type": "code",
   "execution_count": 17,
   "id": "b782c2d8-14bb-4666-a9ea-aa4d065cb15e",
   "metadata": {},
   "outputs": [],
   "source": [
    "def addtwo():\n",
    "    a = int(input(\"enter the no \"))\n",
    "    b = int(input(\"enter second no\"))\n",
    "    return a+b\n",
    "\n",
    "    "
   ]
  },
  {
   "cell_type": "code",
   "execution_count": 18,
   "id": "c8f6c6e3-23f0-4a1f-9bd1-39c996a2b1f2",
   "metadata": {},
   "outputs": [
    {
     "name": "stdin",
     "output_type": "stream",
     "text": [
      "enter the no  1\n",
      "enter second no 2\n"
     ]
    },
    {
     "data": {
      "text/plain": [
       "3"
      ]
     },
     "execution_count": 18,
     "metadata": {},
     "output_type": "execute_result"
    }
   ],
   "source": [
    "addtwo()"
   ]
  },
  {
   "cell_type": "code",
   "execution_count": 19,
   "id": "2b500493-7887-4aaf-82f1-9a4fcc062f13",
   "metadata": {},
   "outputs": [],
   "source": [
    "#write a function that takes list and return all numeric value"
   ]
  },
  {
   "cell_type": "code",
   "execution_count": 24,
   "id": "11c59b76-c97d-4b3b-bca0-34449eb66b5c",
   "metadata": {},
   "outputs": [],
   "source": [
    "def list(a):\n",
    "    n=[]\n",
    "    for i in a:\n",
    "        if type(i) == int or type(i) == float:\n",
    "            n.append(i)\n",
    "    return n\n",
    "    \n",
    "    "
   ]
  },
  {
   "cell_type": "code",
   "execution_count": 28,
   "id": "b1fb4e6a-1b75-491b-93e9-29ae1de98939",
   "metadata": {},
   "outputs": [
    {
     "data": {
      "text/plain": [
       "[1, 2.433, 3, 4]"
      ]
     },
     "execution_count": 28,
     "metadata": {},
     "output_type": "execute_result"
    }
   ],
   "source": [
    "list([1,2.433,3,4 , \"amitesh\" , \"rajat\"])"
   ]
  },
  {
   "cell_type": "code",
   "execution_count": 11,
   "id": "89cf509b-4b6e-4447-8394-4031951db935",
   "metadata": {},
   "outputs": [],
   "source": [
    "def list1(a):\n",
    "    n=[]\n",
    "    for i in a:\n",
    "        if type(i) == list:\n",
    "            for j in i:\n",
    "                if type(j) == int or type(j) == float:\n",
    "                    n.append(j)\n",
    "    else:\n",
    "        if type(i) == int or type(i) == float:\n",
    "            n.append(i)\n",
    "    return n\n",
    "    "
   ]
  },
  {
   "cell_type": "code",
   "execution_count": 16,
   "id": "009e6b34-46d5-4e29-a568-7f6c60b99f75",
   "metadata": {},
   "outputs": [
    {
     "data": {
      "text/plain": [
       "[442]"
      ]
     },
     "execution_count": 16,
     "metadata": {},
     "output_type": "execute_result"
    }
   ],
   "source": [
    "list1([3,4, 442]) #problem hai baad me dekhna padega\n"
   ]
  },
  {
   "cell_type": "code",
   "execution_count": 17,
   "id": "f80323c6-cdb1-4f23-a07c-20c6bcd56e4c",
   "metadata": {},
   "outputs": [],
   "source": [
    "def sum1(a,b):\n",
    "    return a+b"
   ]
  },
  {
   "cell_type": "code",
   "execution_count": 18,
   "id": "7bb4b365-ac5a-47bb-bf72-e82d6039f69e",
   "metadata": {},
   "outputs": [
    {
     "data": {
      "text/plain": [
       "6"
      ]
     },
     "execution_count": 18,
     "metadata": {},
     "output_type": "execute_result"
    }
   ],
   "source": [
    "sum1(2,4)"
   ]
  },
  {
   "cell_type": "code",
   "execution_count": 19,
   "id": "56a87740-9969-4818-83c9-8a54ccbfd9ae",
   "metadata": {},
   "outputs": [],
   "source": [
    "#if we want to add 3 or more number \n",
    "# variable length argument  >> when you dont know the no of elements"
   ]
  },
  {
   "cell_type": "code",
   "execution_count": 24,
   "id": "1234b980-5649-434d-8c3e-f09c2a73ce4a",
   "metadata": {},
   "outputs": [],
   "source": [
    "def sum1(*args):\n",
    "    return args\n",
    "    # * it means lenth of func iss not fixed"
   ]
  },
  {
   "cell_type": "code",
   "execution_count": 25,
   "id": "b1d01036-fd5d-419a-8759-8c4fb204eaab",
   "metadata": {},
   "outputs": [
    {
     "data": {
      "text/plain": [
       "(1, 2, 3, 4)"
      ]
     },
     "execution_count": 25,
     "metadata": {},
     "output_type": "execute_result"
    }
   ],
   "source": [
    "sum1(1 ,2, 3 ,4)"
   ]
  },
  {
   "cell_type": "code",
   "execution_count": 26,
   "id": "ec9a4e23-0f9b-40bd-acf7-fe3d1b356285",
   "metadata": {},
   "outputs": [
    {
     "data": {
      "text/plain": [
       "('amitesh ', 1, 3)"
      ]
     },
     "execution_count": 26,
     "metadata": {},
     "output_type": "execute_result"
    }
   ],
   "source": [
    "sum1(\"amitesh \", 1 , 3)"
   ]
  },
  {
   "cell_type": "code",
   "execution_count": 27,
   "id": "47723d90-311a-43eb-8574-03cd98abe67b",
   "metadata": {},
   "outputs": [],
   "source": [
    "# a func that can take any no of values and retun the sum"
   ]
  },
  {
   "cell_type": "code",
   "execution_count": 28,
   "id": "60fcdd53-b5cc-49d7-a3c6-b0e7b1e32e25",
   "metadata": {},
   "outputs": [],
   "source": [
    "def ami(*args):\n",
    "    s =0\n",
    "    for i in args:\n",
    "        s = s + i\n",
    "    return s\n"
   ]
  },
  {
   "cell_type": "code",
   "execution_count": 29,
   "id": "0c3b593c-dfd1-4d16-9901-f13f4ab65581",
   "metadata": {},
   "outputs": [
    {
     "data": {
      "text/plain": [
       "11"
      ]
     },
     "execution_count": 29,
     "metadata": {},
     "output_type": "execute_result"
    }
   ],
   "source": [
    "ami(1,2,3,2,3)"
   ]
  },
  {
   "cell_type": "code",
   "execution_count": 30,
   "id": "64150fcf-70de-4f4f-8435-6428acc55638",
   "metadata": {},
   "outputs": [],
   "source": [
    "#variable argument with defualt argument"
   ]
  },
  {
   "cell_type": "code",
   "execution_count": 32,
   "id": "09a4e009-fa50-44ce-a8d9-c1a76e00a6f0",
   "metadata": {},
   "outputs": [],
   "source": [
    "def amitesh(*args, a):\n",
    "    return args ,a"
   ]
  },
  {
   "cell_type": "code",
   "execution_count": 33,
   "id": "ecc44f62-07b9-4941-834b-54727f97e029",
   "metadata": {},
   "outputs": [
    {
     "data": {
      "text/plain": [
       "((1, 2, 3, 4, 5), 'rajat')"
      ]
     },
     "execution_count": 33,
     "metadata": {},
     "output_type": "execute_result"
    }
   ],
   "source": [
    "amitesh(1,2,3,4,5, a = \"rajat\")"
   ]
  },
  {
   "cell_type": "code",
   "execution_count": 34,
   "id": "3515ec0b-f7f2-4d7b-8850-6dbdea9615df",
   "metadata": {},
   "outputs": [],
   "source": [
    "#variable argument >> takes any no of argument \n",
    "#postional argumnet >> fixed arument"
   ]
  },
  {
   "cell_type": "code",
   "execution_count": 35,
   "id": "faba4cd1-7888-45ba-9b10-e46fb298d68f",
   "metadata": {},
   "outputs": [],
   "source": [
    "#write a function whcih can take any no of values and retrun the list "
   ]
  },
  {
   "cell_type": "code",
   "execution_count": 38,
   "id": "78c6ce20-5d4b-4c90-81fe-4967fa398c08",
   "metadata": {},
   "outputs": [],
   "source": [
    "def r_list(*a):\n",
    "    return a"
   ]
  },
  {
   "cell_type": "code",
   "execution_count": 39,
   "id": "bfe2c396-b325-478c-acf8-6c439f3d2150",
   "metadata": {},
   "outputs": [
    {
     "data": {
      "text/plain": [
       "(2, 3, 3)"
      ]
     },
     "execution_count": 39,
     "metadata": {},
     "output_type": "execute_result"
    }
   ],
   "source": [
    "r_list(2,3,3)"
   ]
  },
  {
   "cell_type": "code",
   "execution_count": 44,
   "id": "117247ac-5756-48fa-a5ed-6d5471c761c3",
   "metadata": {},
   "outputs": [],
   "source": [
    "def ret_list(*args):\n",
    "    l = []\n",
    "    for i in args:\n",
    "        if type(i) == list:\n",
    "            l.append(i)\n",
    "    return l\n",
    "\n"
   ]
  },
  {
   "cell_type": "code",
   "execution_count": 46,
   "id": "0f6bf941-443a-4049-98ce-1a952646ef5d",
   "metadata": {},
   "outputs": [
    {
     "data": {
      "text/plain": [
       "[]"
      ]
     },
     "execution_count": 46,
     "metadata": {},
     "output_type": "execute_result"
    }
   ],
   "source": [
    "ret_list([1,2])"
   ]
  },
  {
   "cell_type": "code",
   "execution_count": 64,
   "id": "22fcc159-ac99-4c63-a9b7-6dd27b60f5d5",
   "metadata": {},
   "outputs": [],
   "source": [
    "def return_list(*args):\n",
    "    l = []\n",
    "    for i in args:\n",
    "        if type(i) == list:\n",
    "            l.append(i)\n",
    "    return l"
   ]
  },
  {
   "cell_type": "code",
   "execution_count": 61,
   "id": "2e831f92-b26e-4929-b120-02652fb44a67",
   "metadata": {},
   "outputs": [
    {
     "data": {
      "text/plain": [
       "[]"
      ]
     },
     "execution_count": 61,
     "metadata": {},
     "output_type": "execute_result"
    }
   ],
   "source": [
    "return_list([2,3] , 3)"
   ]
  },
  {
   "cell_type": "code",
   "execution_count": 57,
   "id": "896d6ec3-790c-4949-9899-e1da25aa6d64",
   "metadata": {},
   "outputs": [],
   "source": [
    "def team(name , project):\n",
    "    return print(f\"{name} is working on {project}\")"
   ]
  },
  {
   "cell_type": "code",
   "execution_count": 58,
   "id": "d45177ac-69fc-4fed-941f-06f864b39180",
   "metadata": {},
   "outputs": [
    {
     "name": "stdout",
     "output_type": "stream",
     "text": [
      "amitesh is working on ai\n"
     ]
    }
   ],
   "source": [
    "team(\"amitesh\", \"ai\")"
   ]
  },
  {
   "cell_type": "code",
   "execution_count": 65,
   "id": "e3f7f9f4-7a1a-4bec-b45c-61be216d6feb",
   "metadata": {},
   "outputs": [],
   "source": [
    "def test1(*args , **args1):\n",
    "    return args,args1"
   ]
  },
  {
   "cell_type": "code",
   "execution_count": 66,
   "id": "2e760990-e0fb-41bc-af41-75a939ab00f4",
   "metadata": {},
   "outputs": [
    {
     "data": {
      "text/plain": [
       "((1, 2, 3), {'a': 100, 'b': 50})"
      ]
     },
     "execution_count": 66,
     "metadata": {},
     "output_type": "execute_result"
    }
   ],
   "source": [
    "test1(1,2,3,a = 100 , b = 50)"
   ]
  },
  {
   "cell_type": "code",
   "execution_count": 67,
   "id": "a3cfb2ff-591d-40cb-9d4b-ea6178361307",
   "metadata": {},
   "outputs": [],
   "source": [
    "def greet():\n",
    "    msg = \"hello bhai kya haal hai ?\"\n",
    "    print(msg)"
   ]
  },
  {
   "cell_type": "code",
   "execution_count": 68,
   "id": "b13c044a-5c8b-4f9a-a83b-ec1412fb95de",
   "metadata": {},
   "outputs": [
    {
     "name": "stdout",
     "output_type": "stream",
     "text": [
      "hello bhai kya haal hai ?\n"
     ]
    }
   ],
   "source": [
    "greet()"
   ]
  },
  {
   "cell_type": "code",
   "execution_count": 71,
   "id": "a8305513-f7de-4dd1-9c6c-9f836d6e1d5a",
   "metadata": {},
   "outputs": [
    {
     "ename": "NameError",
     "evalue": "name 'msg' is not defined",
     "output_type": "error",
     "traceback": [
      "\u001b[1;31m---------------------------------------------------------------------------\u001b[0m",
      "\u001b[1;31mNameError\u001b[0m                                 Traceback (most recent call last)",
      "Cell \u001b[1;32mIn[71], line 1\u001b[0m\n\u001b[1;32m----> 1\u001b[0m \u001b[38;5;28mprint\u001b[39m(\u001b[43mmsg\u001b[49m) \u001b[38;5;66;03m# show error bcz msg variable is a local variable\u001b[39;00m\n",
      "\u001b[1;31mNameError\u001b[0m: name 'msg' is not defined"
     ]
    }
   ],
   "source": [
    "print(msg) # show error bcz msg variable is a local variable\n"
   ]
  },
  {
   "cell_type": "code",
   "execution_count": 77,
   "id": "e9a4a20b-e2b4-4e4b-a77c-2f8184b30e8d",
   "metadata": {},
   "outputs": [],
   "source": [
    "msg = \"caha bhai\" # global variable\n",
    "\n",
    "\n",
    "def greets():\n",
    "    print(msg)"
   ]
  },
  {
   "cell_type": "code",
   "execution_count": 78,
   "id": "65bdacd5-d1ab-498f-b64c-44e5f2d603c5",
   "metadata": {},
   "outputs": [
    {
     "data": {
      "text/plain": [
       "'caha bhai'"
      ]
     },
     "execution_count": 78,
     "metadata": {},
     "output_type": "execute_result"
    }
   ],
   "source": [
    "msg"
   ]
  },
  {
   "cell_type": "code",
   "execution_count": 79,
   "id": "9b4cbfee-c95a-4d89-8187-15723eda3ebf",
   "metadata": {},
   "outputs": [
    {
     "name": "stdout",
     "output_type": "stream",
     "text": [
      "caha bhai\n"
     ]
    }
   ],
   "source": [
    "greets()"
   ]
  },
  {
   "cell_type": "code",
   "execution_count": 84,
   "id": "5cdae7ef-db77-4cb9-a047-fe438ede1f2d",
   "metadata": {},
   "outputs": [],
   "source": [
    "subpart =\" to the coruse\" # global variable > can be used outside of function\n",
    "def greet():\n",
    "    msg = \"hello bhai \" + subpart #local function\n",
    "    print(msg)"
   ]
  },
  {
   "cell_type": "code",
   "execution_count": 83,
   "id": "f7d1f2d2-f461-4f84-ae61-ce448dac893d",
   "metadata": {},
   "outputs": [
    {
     "name": "stdout",
     "output_type": "stream",
     "text": [
      "hello bhai  to the coruse\n"
     ]
    }
   ],
   "source": [
    "greet()"
   ]
  },
  {
   "cell_type": "code",
   "execution_count": 82,
   "id": "35f23190-ec99-4646-946e-a3a1ffd71461",
   "metadata": {},
   "outputs": [
    {
     "data": {
      "text/plain": [
       "' to the coruse'"
      ]
     },
     "execution_count": 82,
     "metadata": {},
     "output_type": "execute_result"
    }
   ],
   "source": [
    "subpart"
   ]
  },
  {
   "cell_type": "raw",
   "id": "d31713bd-23ce-40df-a26d-ce351e2ad3ad",
   "metadata": {},
   "source": [
    "#namespace>> scope of variables\n",
    "#local variable>> a function defined inside a function should be accessed in the function only\n",
    "#global variable>> accessed any where\n"
   ]
  },
  {
   "cell_type": "code",
   "execution_count": 85,
   "id": "3455e162-0fad-4478-8467-1b6fbbadc9da",
   "metadata": {},
   "outputs": [],
   "source": [
    "#function inside function"
   ]
  },
  {
   "cell_type": "code",
   "execution_count": 88,
   "id": "af397ba0-ab27-4fbe-bd95-900f468c0387",
   "metadata": {},
   "outputs": [],
   "source": [
    "def marks_in_subject(**kwargs):\n",
    "    marks_list = []\n",
    "    for sub,marks in kwargs.items():\n",
    "        marks_list.append(marks)\n",
    "    return marks_list"
   ]
  },
  {
   "cell_type": "code",
   "execution_count": 91,
   "id": "19c771cc-52f1-429d-8836-3e49b5829c36",
   "metadata": {},
   "outputs": [
    {
     "data": {
      "text/plain": [
       "[90, 90]"
      ]
     },
     "execution_count": 91,
     "metadata": {},
     "output_type": "execute_result"
    }
   ],
   "source": [
    "marks_in_subject( a= 90  , b = 90)"
   ]
  },
  {
   "cell_type": "code",
   "execution_count": 94,
   "id": "1e8def22-e0a2-49be-913c-090791daf2b9",
   "metadata": {},
   "outputs": [],
   "source": [
    "def marks_in_subject(**kwargs):\n",
    "    def total_marks(marks_list):\n",
    "        return sum(marks_list)\n",
    "    marks_list = []\n",
    "    for sub,marks in kwargs.items():\n",
    "        marks_list.append(marks)\n",
    "    return total_marks(marks_list)"
   ]
  },
  {
   "cell_type": "code",
   "execution_count": 95,
   "id": "89778623-9027-4128-b7e4-f951a93dcb42",
   "metadata": {},
   "outputs": [
    {
     "data": {
      "text/plain": [
       "189"
      ]
     },
     "execution_count": 95,
     "metadata": {},
     "output_type": "execute_result"
    }
   ],
   "source": [
    "marks_in_subject(a = 90 , c = 99)"
   ]
  },
  {
   "cell_type": "code",
   "execution_count": 98,
   "id": "ff362fbd-5d8c-4d90-bb9f-c73b2c20aba0",
   "metadata": {},
   "outputs": [],
   "source": [
    "def total_marks(marks_list):\n",
    "    return sum(marks_list)\n",
    "       \n",
    "def marks_in_subject(**kwargs):\n",
    " \n",
    "    marks_list = []\n",
    "    for sub,marks in kwargs.items():\n",
    "        marks_list.append(marks)\n",
    "    return total_marks(marks_list)"
   ]
  },
  {
   "cell_type": "code",
   "execution_count": 99,
   "id": "30579073-a5f5-4c57-80bc-42f11ef7c896",
   "metadata": {},
   "outputs": [
    {
     "data": {
      "text/plain": [
       "189"
      ]
     },
     "execution_count": 99,
     "metadata": {},
     "output_type": "execute_result"
    }
   ],
   "source": [
    "marks_in_subject(a = 90 , c = 99)"
   ]
  },
  {
   "cell_type": "code",
   "execution_count": null,
   "id": "4518912b-ef52-4207-a599-38ff30abaca1",
   "metadata": {},
   "outputs": [],
   "source": []
  }
 ],
 "metadata": {
  "kernelspec": {
   "display_name": "Python 3 (ipykernel)",
   "language": "python",
   "name": "python3"
  },
  "language_info": {
   "codemirror_mode": {
    "name": "ipython",
    "version": 3
   },
   "file_extension": ".py",
   "mimetype": "text/x-python",
   "name": "python",
   "nbconvert_exporter": "python",
   "pygments_lexer": "ipython3",
   "version": "3.12.7"
  }
 },
 "nbformat": 4,
 "nbformat_minor": 5
}
