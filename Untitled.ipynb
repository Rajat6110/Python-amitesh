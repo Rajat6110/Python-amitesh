{
 "cells": [
  {
   "cell_type": "code",
   "execution_count": null,
   "id": "16203b3d-0c71-4270-8b54-14fb2a01d7d6",
   "metadata": {},
   "outputs": [],
   "source": []
  }
 ],
 "metadata": {
  "kernelspec": {
   "display_name": "",
   "name": ""
  },
  "language_info": {
   "name": ""
  }
 },
 "nbformat": 4,
 "nbformat_minor": 5
}
