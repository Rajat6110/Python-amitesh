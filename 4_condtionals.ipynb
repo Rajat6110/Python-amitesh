{
 "cells": [
  {
   "cell_type": "markdown",
   "id": "9d588062-3213-46b3-9901-1f95305fdae8",
   "metadata": {},
   "source": [
    "CONDITIONAL STATEMENTS\n"
   ]
  },
  {
   "cell_type": "raw",
   "id": "a6001e95-d20b-4906-b2f3-a6fcee89cc2f",
   "metadata": {},
   "source": [
    "CONDITONAL STATEMENT - \n",
    "Helps you to code decisions based on some preconditions \n",
    "if\n",
    "if-else\n",
    "if elif\n",
    "nested if else\n"
   ]
  },
  {
   "cell_type": "raw",
   "id": "f0da85fa-9e78-4871-9208-52c39d7291cb",
   "metadata": {},
   "source": [
    "if statement\n",
    "\n"
   ]
  },
  {
   "cell_type": "code",
   "execution_count": 1,
   "id": "80a062fc-dcef-46a5-bd0d-1bbcb50565de",
   "metadata": {},
   "outputs": [],
   "source": [
    "#if condtion True:\n",
    " #   block of code will be exectued \n"
   ]
  },
  {
   "cell_type": "code",
   "execution_count": 2,
   "id": "a5b5d344-e2ce-461a-95b9-114d9001f4ba",
   "metadata": {},
   "outputs": [
    {
     "data": {
      "text/plain": [
       "True"
      ]
     },
     "execution_count": 2,
     "metadata": {},
     "output_type": "execute_result"
    }
   ],
   "source": [
    "3>2\n"
   ]
  },
  {
   "cell_type": "code",
   "execution_count": 3,
   "id": "1fccc829-e2fa-4fc0-8334-d035f9d26983",
   "metadata": {},
   "outputs": [
    {
     "name": "stdout",
     "output_type": "stream",
     "text": [
      "greater\n"
     ]
    }
   ],
   "source": [
    "a = 100\n",
    "if a>0:\n",
    "    print(\"greater\")\n",
    "    "
   ]
  },
  {
   "cell_type": "code",
   "execution_count": 1,
   "id": "680f624d-5d6c-4ae3-a463-2983d8610c47",
   "metadata": {},
   "outputs": [],
   "source": [
    "a = 100\n",
    "if a<0:\n",
    "    print(\"no\")"
   ]
  },
  {
   "cell_type": "code",
   "execution_count": 5,
   "id": "ded1b36a-0713-4f1c-9a52-ce95562dda35",
   "metadata": {},
   "outputs": [
    {
     "name": "stdout",
     "output_type": "stream",
     "text": [
      "will not play cricket\n"
     ]
    }
   ],
   "source": [
    "weather = \"rainy\"\n",
    "if weather == \"rainy\":\n",
    "    print(\"will not play cricket\")"
   ]
  },
  {
   "cell_type": "code",
   "execution_count": 6,
   "id": "a8c0eb17-17a7-472a-8bfd-1406091d598d",
   "metadata": {},
   "outputs": [
    {
     "name": "stdout",
     "output_type": "stream",
     "text": [
      "room temp\n"
     ]
    }
   ],
   "source": [
    "temp = 30\n",
    "if temp>25:\n",
    "    print(\"room temp\")"
   ]
  },
  {
   "cell_type": "code",
   "execution_count": 11,
   "id": "deb985bf-cfbd-459c-b59d-d9dc7f274b7d",
   "metadata": {},
   "outputs": [
    {
     "name": "stdout",
     "output_type": "stream",
     "text": [
      "i am studying \n"
     ]
    }
   ],
   "source": [
    "is_ds_course = True\n",
    "if is_ds_course:\n",
    "    print(\"i am studying \")"
   ]
  },
  {
   "cell_type": "code",
   "execution_count": 15,
   "id": "51099509-e5ed-43ef-9011-27a8087b68eb",
   "metadata": {},
   "outputs": [
    {
     "name": "stdout",
     "output_type": "stream",
     "text": [
      "badiya kr rha londe keep it up!!\n"
     ]
    }
   ],
   "source": [
    "grade = 8\n",
    "if grade >= 8:\n",
    "    print(\"badiya kr rha londe keep it up!!\")"
   ]
  },
  {
   "cell_type": "code",
   "execution_count": 23,
   "id": "cac10184-57f6-485b-b386-2d93efa635c2",
   "metadata": {},
   "outputs": [
    {
     "name": "stdout",
     "output_type": "stream",
     "text": [
      "no is even\n"
     ]
    }
   ],
   "source": [
    "number = 22\n",
    "if number % 2==0:\n",
    "    print(\"no is even\")"
   ]
  },
  {
   "cell_type": "markdown",
   "id": "7de1b67d-5d5d-48ff-9780-d7e36998f66f",
   "metadata": {},
   "source": [
    "IF ELSE CONDTION\n"
   ]
  },
  {
   "cell_type": "code",
   "execution_count": 11,
   "id": "5877afb7-d266-4d28-8e69-73c6946f1a60",
   "metadata": {},
   "outputs": [
    {
     "name": "stdout",
     "output_type": "stream",
     "text": [
      "this is no of interst\n"
     ]
    }
   ],
   "source": [
    "no = 43\n",
    "if ((no%2==1) & (no>0)):\n",
    "    print(\"this is no of interst\")\n",
    "    \n",
    "    "
   ]
  },
  {
   "cell_type": "code",
   "execution_count": 45,
   "id": "30d40863-8f00-4c18-8752-68226502a5e8",
   "metadata": {},
   "outputs": [
    {
     "name": "stdout",
     "output_type": "stream",
     "text": [
      "badiya hai phir toh\n"
     ]
    }
   ],
   "source": [
    "grade = 8\n",
    "co_cir = True\n",
    "if ((grade >= 8) or (co_cir == True)):\n",
    "    print(\"badiya hai phir toh\")"
   ]
  },
  {
   "cell_type": "code",
   "execution_count": 51,
   "id": "628717a3-b866-49e2-9c8f-7837583d4874",
   "metadata": {},
   "outputs": [
    {
     "name": "stdout",
     "output_type": "stream",
     "text": [
      "NO CRICKET\n"
     ]
    }
   ],
   "source": [
    "weather = \"rainy\"\n",
    "if weather == \"rainy\":\n",
    "    print(\"NO CRICKET\")\n",
    "else:\n",
    "    print(\"crickt kehlne chalo bc\")"
   ]
  },
  {
   "cell_type": "code",
   "execution_count": 55,
   "id": "fb2b8f03-8323-48c0-a67d-d675a07206fc",
   "metadata": {},
   "outputs": [
    {
     "name": "stdout",
     "output_type": "stream",
     "text": [
      "you will be served alchol\n"
     ]
    }
   ],
   "source": [
    "age = 60\n",
    "if age >= 18:\n",
    "    print(\"you will be served alchol\")\n",
    "else:\n",
    "    print(\"you get out of bar\")"
   ]
  },
  {
   "cell_type": "code",
   "execution_count": 17,
   "id": "aa31f6b3-b459-45cf-89ec-faa48cebfb39",
   "metadata": {},
   "outputs": [
    {
     "name": "stdout",
     "output_type": "stream",
     "text": [
      "congo you can vote\n"
     ]
    }
   ],
   "source": [
    "age = 19\n",
    "if age>= 18:\n",
    "    print(\"congo you can vote\")\n",
    "else:\n",
    "    print(\"no vote\")"
   ]
  },
  {
   "cell_type": "code",
   "execution_count": 18,
   "id": "1f83eb0a-7b7d-4586-9e6d-6f7a40ab3117",
   "metadata": {},
   "outputs": [
    {
     "name": "stdout",
     "output_type": "stream",
     "text": [
      "true hai bhai\n"
     ]
    }
   ],
   "source": [
    "x = True\n",
    "if x:\n",
    "    print(\"true hai bhai\")\n",
    "else:\n",
    "    print(\"no true\")"
   ]
  },
  {
   "cell_type": "code",
   "execution_count": 61,
   "id": "61b00c7f-5f5e-4df8-91f2-243f775a9df5",
   "metadata": {},
   "outputs": [
    {
     "name": "stdout",
     "output_type": "stream",
     "text": [
      "the number is equals to 100\n"
     ]
    }
   ],
   "source": [
    "a = 100\n",
    "if a> 100:\n",
    "    print(\"this blocl will execute\")\n",
    "elif a<100:\n",
    "    print(\"this block will be executed\")\n",
    "else:\n",
    "    print(\"the number is equals to 100\")"
   ]
  },
  {
   "cell_type": "code",
   "execution_count": 67,
   "id": "654f8eb1-2fe4-41b1-a2c8-a5804415e964",
   "metadata": {},
   "outputs": [
    {
     "name": "stdout",
     "output_type": "stream",
     "text": [
      "this block will execute\n"
     ]
    }
   ],
   "source": [
    "a = 100000\n",
    "if a> 100:\n",
    "    print(\"this block will execute\")\n",
    "elif a<100:\n",
    "    print(\"this block will be executed\")\n",
    "elif a>2000:\n",
    "    print(\"no is huge\")\n",
    "else:\n",
    "    print(\"the number is equals to 100\")"
   ]
  },
  {
   "cell_type": "code",
   "execution_count": 25,
   "id": "f205b8a9-db1f-4e5a-aa96-097696f1e9c3",
   "metadata": {},
   "outputs": [
    {
     "name": "stdin",
     "output_type": "stream",
     "text": [
      "Enter your score 60\n"
     ]
    },
    {
     "name": "stdout",
     "output_type": "stream",
     "text": [
      "Grade D\n"
     ]
    }
   ],
   "source": [
    "score = int(input(\"Enter your score\"))\n",
    "if score >= 90:\n",
    "    print(\"grade A\")\n",
    "elif (80<= score < 90):\n",
    "    print(\"Grade B\")\n",
    "elif (70<= score < 80):\n",
    "    print(\"Grade C\")\n",
    "elif (60<= score < 70):\n",
    "    print(\"Grade D\")\n",
    "else:\n",
    "    print(\"FAIL hogya tu lol\")\n",
    "    "
   ]
  },
  {
   "cell_type": "code",
   "execution_count": 83,
   "id": "74abb3aa-3944-4c48-9b35-233b9d933850",
   "metadata": {},
   "outputs": [
    {
     "name": "stdout",
     "output_type": "stream",
     "text": [
      "You are senoir citizen\n"
     ]
    }
   ],
   "source": [
    "age = 66\n",
    "if age <18:\n",
    "    print(\"minor\")\n",
    "elif 18<age <=65: # else if\n",
    "    print(\"adult\")\n",
    "else:\n",
    "    print(\"You are senoir citizen\")\n",
    "    "
   ]
  },
  {
   "cell_type": "code",
   "execution_count": 9,
   "id": "4fe1ba7b-bb10-4191-8e6f-a94e7da7d7d5",
   "metadata": {},
   "outputs": [
    {
     "data": {
      "text/plain": [
       "' \\nx =1\\ny=6\\nif x>5:\\n    if y>5:\\n           print(\"both are greater than 5\")\\n           else:\\n           print(\"x is greater\")'"
      ]
     },
     "execution_count": 9,
     "metadata": {},
     "output_type": "execute_result"
    }
   ],
   "source": [
    "#NESTED IF ELSE >>  you can have multiple if else inside if else\n",
    "''' \n",
    "x =1\n",
    "y=6\n",
    "if x>5:\n",
    "    if y>5:\n",
    "           print(\"both are greater than 5\")\n",
    "           else:\n",
    "           print(\"x is greater\")'''"
   ]
  },
  {
   "cell_type": "code",
   "execution_count": 31,
   "id": "b64fdf03-2eef-4739-bae4-3b43a6199cbe",
   "metadata": {},
   "outputs": [
    {
     "name": "stdin",
     "output_type": "stream",
     "text": [
      "enter x 7\n",
      "enter y 3\n"
     ]
    },
    {
     "name": "stdout",
     "output_type": "stream",
     "text": [
      "x is greater than 5 but y is not\n"
     ]
    }
   ],
   "source": [
    "x = int(input(\"enter x\"))\n",
    "y=  int(input(\"enter y\"))\n",
    "if x>5:\n",
    "    if y>5:\n",
    "        print(\"condtion is true both x,y are > 5\")\n",
    "    else:\n",
    "        print(\"x is greater than 5 but y is not\")\n",
    "else:\n",
    "    print(\"x is not greater than 5\")"
   ]
  },
  {
   "cell_type": "code",
   "execution_count": 43,
   "id": "35c45983-8362-42a0-a207-f47bb4c05e62",
   "metadata": {},
   "outputs": [
    {
     "name": "stdin",
     "output_type": "stream",
     "text": [
      "Enter your attendance 88\n",
      "enter your cgpa 8\n"
     ]
    },
    {
     "name": "stdout",
     "output_type": "stream",
     "text": [
      "congrats you are eligibe for both exam and placement and ,your cgpa is : 8\n"
     ]
    }
   ],
   "source": [
    "b = int(input(\"Enter your attendance\"))\n",
    "a = int(input(\"enter your cgpa\"))\n",
    "if a > 7:\n",
    "    if b >= 75:\n",
    "        print(\"congrats you are eligibe for both exam and placement and ,your cgpa is :\" , a )\n",
    "    else:\n",
    "        print(\"sorry your grade is high but you have low attendance\")\n",
    "else:\n",
    "    print(\"sorry your attendance and grades are low \")\n",
    "    "
   ]
  },
  {
   "cell_type": "code",
   "execution_count": 47,
   "id": "c1107157-34cf-4440-ac82-02b47eb278b0",
   "metadata": {},
   "outputs": [
    {
     "name": "stdin",
     "output_type": "stream",
     "text": [
      "age daal 65\n"
     ]
    },
    {
     "name": "stdout",
     "output_type": "stream",
     "text": [
      "you are vip and senior citizen and your age is  65\n"
     ]
    }
   ],
   "source": [
    "is_vip = True\n",
    "age = int(input(\"age daal\"))\n",
    "if is_vip:\n",
    "    if age>=18:\n",
    "        if age < 65:\n",
    "            print(\"you're vip\")\n",
    "        else:\n",
    "            print(\"you are vip and senior citizen and your age is \" , age)\n",
    "    else:\n",
    "        print(\"vip status is only for adult\")\n",
    "else:\n",
    "    print(\" no VIP \")"
   ]
  },
  {
   "cell_type": "code",
   "execution_count": 57,
   "id": "54fe5437-bd54-476e-a152-afc14e42679f",
   "metadata": {},
   "outputs": [
    {
     "name": "stdin",
     "output_type": "stream",
     "text": [
      "naam daal apna   adi bhai\n",
      "enter your email adibhai@gmail.com\n",
      "enter pass 37534\n"
     ]
    },
    {
     "name": "stdout",
     "output_type": "stream",
     "text": [
      "registeration succesful ;)\n"
     ]
    }
   ],
   "source": [
    "name = input(\"naam daal apna  \")\n",
    "email = input(\"enter your email\")\n",
    "password = input(\"enter pass\")\n",
    "if  name == \"\":\n",
    "    print(\"enter valid name\")\n",
    "else:\n",
    "    if \"@\"  not in email:\n",
    "        print(\"enter vaild mail\")\n",
    "    else:\n",
    "        if len(password) < 3:\n",
    "            print(\"at least length of pass is more than  3\")\n",
    "        else:\n",
    "            print(\"registeration succesful ;)\")\n",
    "            "
   ]
  },
  {
   "cell_type": "code",
   "execution_count": 59,
   "id": "2d95a354-c281-4087-a3cf-fc581a331f43",
   "metadata": {},
   "outputs": [
    {
     "data": {
      "text/plain": [
       "18"
      ]
     },
     "execution_count": 59,
     "metadata": {},
     "output_type": "execute_result"
    }
   ],
   "source": [
    "a = 'marubhaizkjlsfaskf'\n",
    "len(a)"
   ]
  },
  {
   "cell_type": "code",
   "execution_count": 7,
   "id": "1c05e5cf-09f4-4480-926b-5e0678ee7d21",
   "metadata": {},
   "outputs": [
    {
     "name": "stdout",
     "output_type": "stream",
     "text": [
      "True\n"
     ]
    }
   ],
   "source": [
    "a = 20000\n",
    "b = 20000\n",
    "print(a == b)\n"
   ]
  },
  {
   "cell_type": "code",
   "execution_count": null,
   "id": "1abdf4c8-7f7f-4c2c-8b28-07c51cd5519b",
   "metadata": {},
   "outputs": [],
   "source": []
  }
 ],
 "metadata": {
  "kernelspec": {
   "display_name": "Python 3 (ipykernel)",
   "language": "python",
   "name": "python3"
  },
  "language_info": {
   "codemirror_mode": {
    "name": "ipython",
    "version": 3
   },
   "file_extension": ".py",
   "mimetype": "text/x-python",
   "name": "python",
   "nbconvert_exporter": "python",
   "pygments_lexer": "ipython3",
   "version": "3.12.7"
  }
 },
 "nbformat": 4,
 "nbformat_minor": 5
}
