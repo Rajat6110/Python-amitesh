{
 "cells": [
  {
   "cell_type": "markdown",
   "id": "6694ea2b-45d0-42cd-9d0b-8f2f30daf730",
   "metadata": {},
   "source": [
    "# Strings"
   ]
  },
  {
   "cell_type": "raw",
   "id": "c6efb0f3-ea28-4ffb-87e7-a9b5a42ffd69",
   "metadata": {},
   "source": [
    "String is a sequence  of characters>> represent and manipulate textual data\n",
    ">>\n",
    "characters are represented using numerical values >> each character is assigned a unique value\n",
    "\n",
    "#ASCII ( 7 bits) and UNICODE ( 16bits)\n",
    "\n",
    "#UTF - 8 , # UTf 16 >> popular encoding schemes for unicode\n",
    "#ACSII >> American standard code for info interchange\n",
    "\n"
   ]
  },
  {
   "cell_type": "code",
   "execution_count": 1,
   "id": "44e07cb7-ec21-4659-87b1-aa245bb94abe",
   "metadata": {},
   "outputs": [
    {
     "data": {
      "text/plain": [
       "97"
      ]
     },
     "execution_count": 1,
     "metadata": {},
     "output_type": "execute_result"
    }
   ],
   "source": [
    "#ascii rep\n",
    "char = \"a\"\n",
    "ord(char) # ord >> ordinal , means what is numerical order of charcter"
   ]
  },
  {
   "cell_type": "code",
   "execution_count": 2,
   "id": "3261796e-2e28-4aa8-8204-6722b7152ca9",
   "metadata": {},
   "outputs": [
    {
     "data": {
      "text/plain": [
       "'A'"
      ]
     },
     "execution_count": 2,
     "metadata": {},
     "output_type": "execute_result"
    }
   ],
   "source": [
    "chr(65) # charcter >> give the charcter corresponding to that no"
   ]
  },
  {
   "cell_type": "code",
   "execution_count": 3,
   "id": "99ffbf22-2b7b-4aaa-84c4-52700952acf1",
   "metadata": {},
   "outputs": [
    {
     "data": {
      "text/plain": [
       "'a'"
      ]
     },
     "execution_count": 3,
     "metadata": {},
     "output_type": "execute_result"
    }
   ],
   "source": [
    "chr(97)"
   ]
  },
  {
   "cell_type": "code",
   "execution_count": 4,
   "id": "bc7c921d-703e-4f07-9968-965f84459eb7",
   "metadata": {},
   "outputs": [
    {
     "data": {
      "text/plain": [
       "'M'"
      ]
     },
     "execution_count": 4,
     "metadata": {},
     "output_type": "execute_result"
    }
   ],
   "source": [
    "chr(77)"
   ]
  },
  {
   "cell_type": "code",
   "execution_count": 5,
   "id": "59360fb5-e0a4-4873-89cc-46547542a6ba",
   "metadata": {},
   "outputs": [
    {
     "data": {
      "text/plain": [
       "'\\x16'"
      ]
     },
     "execution_count": 5,
     "metadata": {},
     "output_type": "execute_result"
    }
   ],
   "source": [
    "chr(22)"
   ]
  },
  {
   "cell_type": "code",
   "execution_count": 6,
   "id": "8d82a8c5-2bbe-45cd-9f80-e6e322252e93",
   "metadata": {},
   "outputs": [
    {
     "data": {
      "text/plain": [
       "'Ω'"
      ]
     },
     "execution_count": 6,
     "metadata": {},
     "output_type": "execute_result"
    }
   ],
   "source": [
    "#UNICODE REP\n",
    "#omega\n",
    "\n",
    "'\\u03A9'"
   ]
  },
  {
   "cell_type": "code",
   "execution_count": 7,
   "id": "50e300e0-e291-4a31-978c-14db0fc201b3",
   "metadata": {},
   "outputs": [
    {
     "data": {
      "text/plain": [
       "'u\\x00974'"
      ]
     },
     "execution_count": 7,
     "metadata": {},
     "output_type": "execute_result"
    }
   ],
   "source": [
    "'u\\0974'"
   ]
  },
  {
   "cell_type": "code",
   "execution_count": 8,
   "id": "66ccb9cf-d841-4f36-9c1c-c0041922c8b9",
   "metadata": {},
   "outputs": [],
   "source": [
    "#Strings\n",
    "string1 = 'amitesh'"
   ]
  },
  {
   "cell_type": "code",
   "execution_count": 9,
   "id": "1c9a5682-809f-4ba5-9d96-85a8ba4c4cac",
   "metadata": {},
   "outputs": [
    {
     "data": {
      "text/plain": [
       "'amitesh'"
      ]
     },
     "execution_count": 9,
     "metadata": {},
     "output_type": "execute_result"
    }
   ],
   "source": [
    "string1"
   ]
  },
  {
   "cell_type": "code",
   "execution_count": 10,
   "id": "763c8f47-c580-46b9-bb4b-4ee438da8d63",
   "metadata": {},
   "outputs": [
    {
     "data": {
      "text/plain": [
       "str"
      ]
     },
     "execution_count": 10,
     "metadata": {},
     "output_type": "execute_result"
    }
   ],
   "source": [
    "type(string1)"
   ]
  },
  {
   "cell_type": "code",
   "execution_count": 11,
   "id": "d8051c80-39bd-4135-828f-177802ada7d0",
   "metadata": {},
   "outputs": [
    {
     "data": {
      "text/plain": [
       "\"i'am student\""
      ]
     },
     "execution_count": 11,
     "metadata": {},
     "output_type": "execute_result"
    }
   ],
   "source": [
    "\"i'am student\""
   ]
  },
  {
   "cell_type": "code",
   "execution_count": 12,
   "id": "0cd02b26-2c25-4113-93c9-da5f3ab0bc28",
   "metadata": {},
   "outputs": [
    {
     "data": {
      "text/plain": [
       "'i \"am rajat'"
      ]
     },
     "execution_count": 12,
     "metadata": {},
     "output_type": "execute_result"
    }
   ],
   "source": [
    "\"\"\"i \"am rajat\"\"\" # for using \""
   ]
  },
  {
   "cell_type": "code",
   "execution_count": 13,
   "id": "874cf922-7d81-411a-a43a-47bf71cc7388",
   "metadata": {},
   "outputs": [
    {
     "data": {
      "text/plain": [
       "' i am a student\\nacha'"
      ]
     },
     "execution_count": 13,
     "metadata": {},
     "output_type": "execute_result"
    }
   ],
   "source": [
    "''' i am a student\n",
    "acha'''"
   ]
  },
  {
   "cell_type": "code",
   "execution_count": 14,
   "id": "eceede6c-b2f2-45fa-af85-50cbed2b200f",
   "metadata": {},
   "outputs": [
    {
     "data": {
      "text/plain": [
       "5"
      ]
     },
     "execution_count": 14,
     "metadata": {},
     "output_type": "execute_result"
    }
   ],
   "source": [
    "#concatenation of string \n",
    "2 +3"
   ]
  },
  {
   "cell_type": "code",
   "execution_count": 15,
   "id": "9a97f604-a6b1-442a-bcd2-46eb6a96f57e",
   "metadata": {},
   "outputs": [
    {
     "data": {
      "text/plain": [
       "'helloworld'"
      ]
     },
     "execution_count": 15,
     "metadata": {},
     "output_type": "execute_result"
    }
   ],
   "source": [
    "\"hello\" + \"world\"\n"
   ]
  },
  {
   "cell_type": "code",
   "execution_count": 16,
   "id": "dc924f92-fbdd-4ad4-bdcf-da75ddc74ca2",
   "metadata": {},
   "outputs": [
    {
     "name": "stdout",
     "output_type": "stream",
     "text": [
      "hello wolrd\n"
     ]
    }
   ],
   "source": [
    "string1 = \"hello\"\n",
    "string2 = \"wolrd\"\n",
    "print(string1 + ' ' + string2)"
   ]
  },
  {
   "cell_type": "code",
   "execution_count": 17,
   "id": "f8f013be-911d-4b44-af8b-0148c12ff951",
   "metadata": {},
   "outputs": [
    {
     "name": "stdout",
     "output_type": "stream",
     "text": [
      "hello %^&* wolrd\n"
     ]
    }
   ],
   "source": [
    "print(string1 + \" %^&* \" + string2)"
   ]
  },
  {
   "cell_type": "code",
   "execution_count": 18,
   "id": "4f32728a-5839-4ac6-ba82-6994a93c03fe",
   "metadata": {},
   "outputs": [],
   "source": [
    "#extarct / slicing of string"
   ]
  },
  {
   "cell_type": "code",
   "execution_count": 19,
   "id": "cfd43afe-6693-4fcb-ac73-f42b4a65d7d4",
   "metadata": {},
   "outputs": [
    {
     "data": {
      "text/plain": [
       "'a'"
      ]
     },
     "execution_count": 19,
     "metadata": {},
     "output_type": "execute_result"
    }
   ],
   "source": [
    "a = \"ajay\"\n",
    "a[0]"
   ]
  },
  {
   "cell_type": "code",
   "execution_count": 20,
   "id": "a68ccfa9-be32-4aca-8a55-7807b3744ec1",
   "metadata": {},
   "outputs": [
    {
     "data": {
      "text/plain": [
       "'j'"
      ]
     },
     "execution_count": 20,
     "metadata": {},
     "output_type": "execute_result"
    }
   ],
   "source": [
    "a[1]"
   ]
  },
  {
   "cell_type": "code",
   "execution_count": 21,
   "id": "82a5d0de-dd2c-4e0f-a356-b97dea71f918",
   "metadata": {},
   "outputs": [
    {
     "data": {
      "text/plain": [
       "'I am t'"
      ]
     },
     "execution_count": 21,
     "metadata": {},
     "output_type": "execute_result"
    }
   ],
   "source": [
    "strin = \"I am thak gya\"\n",
    "strin[0:6]"
   ]
  },
  {
   "cell_type": "code",
   "execution_count": 22,
   "id": "f5b877ba-bc7d-436e-bd66-b0f6aacf886c",
   "metadata": {},
   "outputs": [
    {
     "data": {
      "text/plain": [
       "'I am thak gya'"
      ]
     },
     "execution_count": 22,
     "metadata": {},
     "output_type": "execute_result"
    }
   ],
   "source": [
    "strin[0:]"
   ]
  },
  {
   "cell_type": "code",
   "execution_count": 23,
   "id": "b8f33189-592a-46fa-a696-b61c3e066db3",
   "metadata": {},
   "outputs": [
    {
     "data": {
      "text/plain": [
       "'m thak gya'"
      ]
     },
     "execution_count": 23,
     "metadata": {},
     "output_type": "execute_result"
    }
   ],
   "source": [
    "strin[3:]"
   ]
  },
  {
   "cell_type": "code",
   "execution_count": 24,
   "id": "128eaace-9d03-4904-8c21-fbce21fece58",
   "metadata": {},
   "outputs": [
    {
     "data": {
      "text/plain": [
       "'s'"
      ]
     },
     "execution_count": 24,
     "metadata": {},
     "output_type": "execute_result"
    }
   ],
   "source": [
    "strin2 = \"pwskills\"\n",
    "strin2[-1]\n"
   ]
  },
  {
   "cell_type": "code",
   "execution_count": 25,
   "id": "d9a08edd-a728-4a9d-bb8f-17f2ed3072b4",
   "metadata": {},
   "outputs": [
    {
     "data": {
      "text/plain": [
       "'pwski'"
      ]
     },
     "execution_count": 25,
     "metadata": {},
     "output_type": "execute_result"
    }
   ],
   "source": [
    "strin2[:-3] #execpt the last 3 carac"
   ]
  },
  {
   "cell_type": "code",
   "execution_count": 26,
   "id": "8e1eba42-8a8e-4e06-9a64-99851560f943",
   "metadata": {},
   "outputs": [
    {
     "data": {
      "text/plain": [
       "'lls'"
      ]
     },
     "execution_count": 26,
     "metadata": {},
     "output_type": "execute_result"
    }
   ],
   "source": [
    "strin2[-3:]"
   ]
  },
  {
   "cell_type": "code",
   "execution_count": 27,
   "id": "80c51c79-ffb5-4287-8958-0fe6175c4341",
   "metadata": {},
   "outputs": [
    {
     "data": {
      "text/plain": [
       "'aie'"
      ]
     },
     "execution_count": 27,
     "metadata": {},
     "output_type": "execute_result"
    }
   ],
   "source": [
    "st = \"amitesh soni hu bhai\"\n",
    "st[0:5:2]"
   ]
  },
  {
   "cell_type": "code",
   "execution_count": 28,
   "id": "ed5f654d-f9c6-48ca-8451-a00547b39084",
   "metadata": {},
   "outputs": [
    {
     "data": {
      "text/plain": [
       "'atho  a'"
      ]
     },
     "execution_count": 28,
     "metadata": {},
     "output_type": "execute_result"
    }
   ],
   "source": [
    "st[0::3]"
   ]
  },
  {
   "cell_type": "code",
   "execution_count": 29,
   "id": "a4b77d3f-4be2-4126-94ff-379ce4963f13",
   "metadata": {},
   "outputs": [
    {
     "data": {
      "text/plain": [
       "'aiehsn uba'"
      ]
     },
     "execution_count": 29,
     "metadata": {},
     "output_type": "execute_result"
    }
   ],
   "source": [
    "st[::2]"
   ]
  },
  {
   "cell_type": "code",
   "execution_count": 30,
   "id": "dc875bd9-c51f-4bea-8aea-198dff4abdd5",
   "metadata": {},
   "outputs": [],
   "source": [
    "#iterative over the sequnce in reverse order\n",
    "# it means start from end , move to beginning and step backwards by one character\n",
    "string22 = \"HEllO WORLD\""
   ]
  },
  {
   "cell_type": "code",
   "execution_count": 31,
   "id": "98ad0f64-a83d-4258-a81f-5e321f4a9472",
   "metadata": {},
   "outputs": [
    {
     "data": {
      "text/plain": [
       "'DLROW OllEH'"
      ]
     },
     "execution_count": 31,
     "metadata": {},
     "output_type": "execute_result"
    }
   ],
   "source": [
    "string22[::-1]"
   ]
  },
  {
   "cell_type": "code",
   "execution_count": 32,
   "id": "3cb5bd44-45f3-4918-851e-34e9043bba8e",
   "metadata": {},
   "outputs": [
    {
     "data": {
      "text/plain": [
       "'lEH'"
      ]
     },
     "execution_count": 32,
     "metadata": {},
     "output_type": "execute_result"
    }
   ],
   "source": [
    "string22[2::-1]"
   ]
  },
  {
   "cell_type": "code",
   "execution_count": 33,
   "id": "a80e4aed-c779-4144-8d82-7d196e66ae35",
   "metadata": {},
   "outputs": [],
   "source": [
    "#strings are immutable"
   ]
  },
  {
   "cell_type": "code",
   "execution_count": 34,
   "id": "886594c8-8dac-482e-ad5f-5d53d655bced",
   "metadata": {},
   "outputs": [
    {
     "data": {
      "text/plain": [
       "11"
      ]
     },
     "execution_count": 34,
     "metadata": {},
     "output_type": "execute_result"
    }
   ],
   "source": [
    "#len function -\n",
    "len(string22)"
   ]
  },
  {
   "cell_type": "code",
   "execution_count": 35,
   "id": "2e75909c-0ea1-4980-928f-cf81c823ef0e",
   "metadata": {},
   "outputs": [
    {
     "data": {
      "text/plain": [
       "'i am a student'"
      ]
     },
     "execution_count": 35,
     "metadata": {},
     "output_type": "execute_result"
    }
   ],
   "source": [
    "#modication of string \n",
    "s = \"i am a student\"\n",
    "s\n"
   ]
  },
  {
   "cell_type": "code",
   "execution_count": 36,
   "id": "62ad0df6-fac4-49dd-b7fc-9cae091010d6",
   "metadata": {},
   "outputs": [
    {
     "data": {
      "text/plain": [
       "'i am a badmosh'"
      ]
     },
     "execution_count": 36,
     "metadata": {},
     "output_type": "execute_result"
    }
   ],
   "source": [
    "s.replace(\"student\" , \"badmosh\")"
   ]
  },
  {
   "cell_type": "code",
   "execution_count": 37,
   "id": "1537c52f-79e3-4661-a47f-2b01e4282c29",
   "metadata": {},
   "outputs": [],
   "source": [
    "address = \"123 louus park , indore , mp\""
   ]
  },
  {
   "cell_type": "code",
   "execution_count": 38,
   "id": "c1556a02-8c94-4de2-bcf8-5a31de24ac6a",
   "metadata": {},
   "outputs": [
    {
     "data": {
      "text/plain": [
       "'123 lotus park , indore , mp'"
      ]
     },
     "execution_count": 38,
     "metadata": {},
     "output_type": "execute_result"
    }
   ],
   "source": [
    "address.replace(\"louus\" , \"lotus\")"
   ]
  },
  {
   "cell_type": "code",
   "execution_count": 39,
   "id": "7da23e55-435b-4f98-81d2-0ed9aa7b48f5",
   "metadata": {},
   "outputs": [
    {
     "data": {
      "text/plain": [
       "'THEEk HAI  , TTYL ,  acha bc'"
      ]
     },
     "execution_count": 39,
     "metadata": {},
     "output_type": "execute_result"
    }
   ],
   "source": [
    "text = \"BRB , TTYL , LOL\"\n",
    "text.replace(\"BRB\", \"THEEk HAI \").replace(\"LOL\" , \" acha bc\")"
   ]
  },
  {
   "cell_type": "code",
   "execution_count": 40,
   "id": "08f7a51e-796f-4250-9706-9ddadc189a39",
   "metadata": {},
   "outputs": [
    {
     "data": {
      "text/plain": [
       "'hello wordl'"
      ]
     },
     "execution_count": 40,
     "metadata": {},
     "output_type": "execute_result"
    }
   ],
   "source": [
    "text1 = \"hello WORDL\"\n",
    "text1.lower()"
   ]
  },
  {
   "cell_type": "code",
   "execution_count": 41,
   "id": "3e302f58-e777-4087-92bc-dce207016902",
   "metadata": {},
   "outputs": [
    {
     "data": {
      "text/plain": [
       "'HELLO WORDL'"
      ]
     },
     "execution_count": 41,
     "metadata": {},
     "output_type": "execute_result"
    }
   ],
   "source": [
    "text1.upper()"
   ]
  },
  {
   "cell_type": "code",
   "execution_count": 42,
   "id": "ad7d21fb-af14-442d-bf95-34da85a7ddad",
   "metadata": {},
   "outputs": [
    {
     "data": {
      "text/plain": [
       "'Hello Wordl'"
      ]
     },
     "execution_count": 42,
     "metadata": {},
     "output_type": "execute_result"
    }
   ],
   "source": [
    "text1.title()"
   ]
  },
  {
   "cell_type": "code",
   "execution_count": 43,
   "id": "1ebfded5-52f7-48ec-b8dd-66a0f12fb69d",
   "metadata": {},
   "outputs": [
    {
     "data": {
      "text/plain": [
       "' I AM a sTDUENT'"
      ]
     },
     "execution_count": 43,
     "metadata": {},
     "output_type": "execute_result"
    }
   ],
   "source": [
    "text = \" i am A Stduent\"\n",
    "text.swapcase()"
   ]
  },
  {
   "cell_type": "code",
   "execution_count": 44,
   "id": "742848f5-44f4-4aee-b4dc-4600fdb940ef",
   "metadata": {},
   "outputs": [
    {
     "data": {
      "text/plain": [
       "'Hello wordl'"
      ]
     },
     "execution_count": 44,
     "metadata": {},
     "output_type": "execute_result"
    }
   ],
   "source": [
    "text1.capitalize()"
   ]
  },
  {
   "cell_type": "code",
   "execution_count": 45,
   "id": "f07b6035-3d53-402f-8437-3fc785ae64f1",
   "metadata": {},
   "outputs": [
    {
     "data": {
      "text/plain": [
       "True"
      ]
     },
     "execution_count": 45,
     "metadata": {},
     "output_type": "execute_result"
    }
   ],
   "source": [
    "stentence = \" I am a student at pw\"\n",
    "\"am\" in stentence"
   ]
  },
  {
   "cell_type": "code",
   "execution_count": 46,
   "id": "5f5ec2e2-4593-46eb-b96f-3c382b456b55",
   "metadata": {},
   "outputs": [
    {
     "data": {
      "text/plain": [
       "False"
      ]
     },
     "execution_count": 46,
     "metadata": {},
     "output_type": "execute_result"
    }
   ],
   "source": [
    "\"acha\" in stentence"
   ]
  },
  {
   "cell_type": "code",
   "execution_count": 47,
   "id": "70411fd0-1ace-4617-9dd7-11abce4c3c10",
   "metadata": {},
   "outputs": [
    {
     "name": "stdout",
     "output_type": "stream",
     "text": [
      "true hai\n"
     ]
    }
   ],
   "source": [
    "search_word = \"am\"\n",
    "if search_word in stentence:\n",
    "    print(\"true hai\")\n",
    "else:\n",
    "    print(\"not present\")\n",
    "    "
   ]
  },
  {
   "cell_type": "code",
   "execution_count": 6,
   "id": "0533b246-8ef7-49f0-ad4c-3841a2cf831b",
   "metadata": {},
   "outputs": [
    {
     "name": "stdin",
     "output_type": "stream",
     "text": [
      "enter email amitesh@\n"
     ]
    },
    {
     "name": "stdout",
     "output_type": "stream",
     "text": [
      "vaild\n"
     ]
    }
   ],
   "source": [
    "email = input(\"enter email\")\n",
    "if \"@\" in email:\n",
    "    print(\"vaild\")\n",
    "else:\n",
    "    print(\"no vaild\")"
   ]
  },
  {
   "cell_type": "code",
   "execution_count": null,
   "id": "d1cad5ca-ce45-4b53-b2ef-365e71141c41",
   "metadata": {
    "scrolled": true
   },
   "outputs": [],
   "source": [
    "doc = input(\"enter document name\")\n",
    "if \".pdf\" in doc:\n",
    "    print(\"it's a pdf file\")\n",
    "else:\n",
    "    print(\"not a pdf\")"
   ]
  },
  {
   "cell_type": "code",
   "execution_count": 5,
   "id": "5a465428-23f3-453c-8e02-680af883e0bf",
   "metadata": {},
   "outputs": [
    {
     "name": "stdin",
     "output_type": "stream",
     "text": [
      "naam daaal  samarth\n"
     ]
    },
    {
     "name": "stdout",
     "output_type": "stream",
     "text": [
      "confrim pdf hai bkl\n"
     ]
    }
   ],
   "source": [
    "naam_bata = input(\"naam daaal \")\n",
    "if \"samarth\" in naam_bata:\n",
    "    print(\"confrim pdf hai bkl\")\n",
    "else:\n",
    "    print(\"devta admi hai bhai ye \")\n",
    "    "
   ]
  },
  {
   "cell_type": "code",
   "execution_count": 4,
   "id": "8e778411-63cf-473e-839e-7df90b7b7045",
   "metadata": {},
   "outputs": [
    {
     "data": {
      "text/plain": [
       "True"
      ]
     },
     "execution_count": 4,
     "metadata": {},
     "output_type": "execute_result"
    }
   ],
   "source": [
    "#string comparison\n",
    "str1 = \"amitesh\"\n",
    "str2 = \"amitesh\"\n",
    "str1 == str2"
   ]
  },
  {
   "cell_type": "code",
   "execution_count": 3,
   "id": "74f9d35a-8458-4cfa-829d-8becd5c8f4e3",
   "metadata": {},
   "outputs": [
    {
     "data": {
      "text/plain": [
       "True"
      ]
     },
     "execution_count": 3,
     "metadata": {},
     "output_type": "execute_result"
    }
   ],
   "source": [
    "str1 = \"amitesh\"\n",
    "str2 = \"Amitesh\"\n",
    "str1.lower() == str2.lower()"
   ]
  },
  {
   "cell_type": "code",
   "execution_count": 2,
   "id": "4ec4b6ea-e257-430a-b445-8e4df308275b",
   "metadata": {},
   "outputs": [
    {
     "name": "stdin",
     "output_type": "stream",
     "text": [
      "naam daal rajat\n"
     ]
    },
    {
     "name": "stdout",
     "output_type": "stream",
     "text": [
      "congo for registration\n"
     ]
    }
   ],
   "source": [
    "reg_username  = [ \"amitesh\" , \"Amitesh\" , \"aMitesh\" ]\n",
    "new_user = input(\"naam daal\")\n",
    "if new_user in reg_username:\n",
    "    print(\"name already exist enter another name\")\n",
    "else:\n",
    "    print(\"congo for registration\")"
   ]
  },
  {
   "cell_type": "code",
   "execution_count": 1,
   "id": "a45aa441-b4a2-43dc-ac93-42d153654070",
   "metadata": {},
   "outputs": [
    {
     "name": "stdin",
     "output_type": "stream",
     "text": [
      "scan the code P123\n"
     ]
    },
    {
     "name": "stdout",
     "output_type": "stream",
     "text": [
      "the price is 499\n"
     ]
    }
   ],
   "source": [
    "product_code = \"P123\"\n",
    "scanned_code = input(\"scan the code\")\n",
    "if product_code == scanned_code:\n",
    "    print(\"the price is 499\")\n",
    "else:\n",
    "    print(\"go through manual way\")\n",
    "                     "
   ]
  },
  {
   "cell_type": "code",
   "execution_count": 8,
   "id": "60dd1371-2daa-474f-bef9-af906d1c2226",
   "metadata": {},
   "outputs": [
    {
     "data": {
      "text/plain": [
       "['Ajay', 'Bijay', 'SAnjay']"
      ]
     },
     "execution_count": 8,
     "metadata": {},
     "output_type": "execute_result"
    }
   ],
   "source": [
    "#string ordering \n",
    "\n",
    "name = [ \"Ajay\" , \"SAnjay\" , \"Bijay\" ]\n",
    "sorted(name)"
   ]
  },
  {
   "cell_type": "code",
   "execution_count": 13,
   "id": "9e6a7aaa-da69-4d29-b043-1ff46348acdd",
   "metadata": {},
   "outputs": [
    {
     "data": {
      "text/plain": [
       "[2, 2, 3, 3, 4, 5, 5, 5, 6, 6, 7]"
      ]
     },
     "execution_count": 13,
     "metadata": {},
     "output_type": "execute_result"
    }
   ],
   "source": [
    "playlist = [ 3,5,3,5,2,2,5,6,7,4,6]\n",
    "sorted(playlist)"
   ]
  },
  {
   "cell_type": "code",
   "execution_count": 15,
   "id": "3f666207-d025-4d5d-a119-a151448cb857",
   "metadata": {},
   "outputs": [
    {
     "data": {
      "text/plain": [
       "'                   pw      '"
      ]
     },
     "execution_count": 15,
     "metadata": {},
     "output_type": "execute_result"
    }
   ],
   "source": [
    "#common string operations\n",
    "input_str = \"                   pw      \"\n",
    "input_str"
   ]
  },
  {
   "cell_type": "code",
   "execution_count": 16,
   "id": "f51e21b5-edfe-44fc-8198-20314a4f9a3d",
   "metadata": {},
   "outputs": [
    {
     "data": {
      "text/plain": [
       "'pw'"
      ]
     },
     "execution_count": 16,
     "metadata": {},
     "output_type": "execute_result"
    }
   ],
   "source": [
    "input_str.strip()"
   ]
  },
  {
   "cell_type": "code",
   "execution_count": 17,
   "id": "bf344810-604c-4258-b936-e6e3b327711d",
   "metadata": {},
   "outputs": [
    {
     "data": {
      "text/plain": [
       "'am  ietysb'"
      ]
     },
     "execution_count": 17,
     "metadata": {},
     "output_type": "execute_result"
    }
   ],
   "source": [
    "row = \"  am  ietysb\"\n",
    "row.strip()"
   ]
  },
  {
   "cell_type": "code",
   "execution_count": 2,
   "id": "6a473ffa-d695-4e4b-92c9-b93f56d46de2",
   "metadata": {},
   "outputs": [
    {
     "data": {
      "text/plain": [
       "['ajay', ' data science ', ' rajat']"
      ]
     },
     "execution_count": 2,
     "metadata": {},
     "output_type": "execute_result"
    }
   ],
   "source": [
    "\n",
    "# string spliting \n",
    "\n",
    "data1 = \"ajay, data science , rajat\"\n",
    "data1\n",
    "\n",
    "teach_info = data1.split(',')\n",
    "teach_info"
   ]
  },
  {
   "cell_type": "code",
   "execution_count": 6,
   "id": "b47916bb-b759-497f-a573-8c6db7a61669",
   "metadata": {},
   "outputs": [
    {
     "ename": "IndexError",
     "evalue": "list index out of range",
     "output_type": "error",
     "traceback": [
      "\u001b[1;31m---------------------------------------------------------------------------\u001b[0m",
      "\u001b[1;31mIndexError\u001b[0m                                Traceback (most recent call last)",
      "Cell \u001b[1;32mIn[6], line 2\u001b[0m\n\u001b[0;32m      1\u001b[0m name \u001b[38;5;241m=\u001b[39m teach_info[\u001b[38;5;241m0\u001b[39m]\n\u001b[1;32m----> 2\u001b[0m sub \u001b[38;5;241m=\u001b[39m \u001b[43mteach_info\u001b[49m\u001b[43m[\u001b[49m\u001b[38;5;241;43m1\u001b[39;49m\u001b[43m]\u001b[49m\n\u001b[0;32m      3\u001b[0m des \u001b[38;5;241m=\u001b[39m teach_info[\u001b[38;5;241m2\u001b[39m]\n",
      "\u001b[1;31mIndexError\u001b[0m: list index out of range"
     ]
    }
   ],
   "source": [
    "name = teach_info[0]\n",
    "sub = teach_info[1]\n",
    "des = teach_info[2]"
   ]
  },
  {
   "cell_type": "markdown",
   "id": "aebaf59e-b6ba-49c3-839a-c2309bdef28c",
   "metadata": {},
   "source": [
    "## escape sequence"
   ]
  },
  {
   "cell_type": "code",
   "execution_count": 7,
   "id": "a47a7ce3-f1c5-4f83-9aeb-f7ea7a9b4f5c",
   "metadata": {},
   "outputs": [],
   "source": [
    "#Escape sequnce >> speical combination of charcters used within a string\n"
   ]
  },
  {
   "cell_type": "code",
   "execution_count": 8,
   "id": "bc75081f-1077-40ed-bfad-8ac14d9bb94c",
   "metadata": {},
   "outputs": [
    {
     "data": {
      "text/plain": [
       "' 123 ,  lotus park\\nindore,\\nmp'"
      ]
     },
     "execution_count": 8,
     "metadata": {},
     "output_type": "execute_result"
    }
   ],
   "source": [
    "address = \"\"\" 123 ,  lotus park\n",
    "indore,\n",
    "mp\"\"\"\n",
    "address\n"
   ]
  },
  {
   "cell_type": "code",
   "execution_count": 9,
   "id": "b9fd03a7-fdf5-4f47-bc8c-3120d528737c",
   "metadata": {},
   "outputs": [
    {
     "name": "stdout",
     "output_type": "stream",
     "text": [
      " 123 ,  lotus park\n",
      "indore,\n",
      "mp\n"
     ]
    }
   ],
   "source": [
    "print(address)"
   ]
  },
  {
   "cell_type": "code",
   "execution_count": 11,
   "id": "5c03cd9f-39ac-47de-b16e-c0469873bf29",
   "metadata": {},
   "outputs": [
    {
     "data": {
      "text/plain": [
       "' 123 ,  lotus park \\nindore \\n,mp'"
      ]
     },
     "execution_count": 11,
     "metadata": {},
     "output_type": "execute_result"
    }
   ],
   "source": [
    "address = \"\"\" 123 ,  lotus park \\nindore \\n,mp\"\"\"\n",
    "address"
   ]
  },
  {
   "cell_type": "code",
   "execution_count": 12,
   "id": "e254db7c-745e-479f-9493-9d3d1b86b895",
   "metadata": {},
   "outputs": [
    {
     "name": "stdout",
     "output_type": "stream",
     "text": [
      " 123 ,  lotus park \n",
      "indore \n",
      ",mp\n"
     ]
    }
   ],
   "source": [
    "print(address) #\\n - new line"
   ]
  },
  {
   "cell_type": "code",
   "execution_count": 16,
   "id": "22a056a1-1250-4e3c-86c3-44726e04b8fc",
   "metadata": {},
   "outputs": [
    {
     "name": "stdout",
     "output_type": "stream",
     "text": [
      "NAme\tage\tgrade\n",
      "Ajay\t21\tA\n",
      "final\n"
     ]
    }
   ],
   "source": [
    "# \\t  - tab  ( 4 space)\n",
    "table = \"NAme\\tage\\tgrade\\nAjay\\t21\\tA\\nfinal\"\n",
    "print(table)"
   ]
  },
  {
   "cell_type": "code",
   "execution_count": 15,
   "id": "df574db8-e5e1-46e4-992a-e8a8c0eab568",
   "metadata": {},
   "outputs": [
    {
     "data": {
      "text/plain": [
       "' NAme\\tage\\tgrade\\nAjay\\t21\\tA\\nfinal'"
      ]
     },
     "execution_count": 15,
     "metadata": {},
     "output_type": "execute_result"
    }
   ],
   "source": [
    "table"
   ]
  },
  {
   "cell_type": "code",
   "execution_count": 18,
   "id": "1c048a6f-f36e-4f94-b01e-79545e9dd94b",
   "metadata": {},
   "outputs": [
    {
     "name": "stdout",
     "output_type": "stream",
     "text": [
      "C:\\USERS\\downloads\\files.txt\n"
     ]
    }
   ],
   "source": [
    "file_path = \"C:\\\\USERS\\\\downloads\\\\files.txt\"\n",
    "print(file_path)"
   ]
  },
  {
   "cell_type": "code",
   "execution_count": 19,
   "id": "8ab08cf5-8a99-4580-8fe0-36161dc354a1",
   "metadata": {},
   "outputs": [],
   "source": [
    "# \\ ' signle qoute string \n",
    "\n",
    "str1 = ' I can\\'t play cricket'"
   ]
  },
  {
   "cell_type": "code",
   "execution_count": 20,
   "id": "a8cc1242-7465-446a-8657-18895457cb00",
   "metadata": {},
   "outputs": [
    {
     "name": "stdout",
     "output_type": "stream",
     "text": [
      " I can't play cricket\n"
     ]
    }
   ],
   "source": [
    "print(str1)"
   ]
  },
  {
   "cell_type": "code",
   "execution_count": 23,
   "id": "3bba7c32-d254-47df-a6ab-50c2cb60142d",
   "metadata": {},
   "outputs": [
    {
     "name": "stdout",
     "output_type": "stream",
     "text": [
      "I AM GOING TO DELHIH AND \n"
     ]
    }
   ],
   "source": [
    "#carriage return \\r >> moves the cursor to the beginning of line\n",
    "print(\" hello i 'M  AMITESH AND \\rI AM GOING TO DELHI\")"
   ]
  },
  {
   "cell_type": "code",
   "execution_count": 24,
   "id": "a60fcc2a-7034-4e47-8fdd-afc3821a741b",
   "metadata": {},
   "outputs": [
    {
     "name": "stdout",
     "output_type": "stream",
     "text": [
      "my name is amitesh\n",
      "my name is rajat\n",
      "my name is sanjay\n"
     ]
    }
   ],
   "source": [
    "#stirng formating >> creating string with place holder for variabvles\n",
    "print(\"my name is amitesh\")\n",
    "print(\"my name is rajat\")\n",
    "print(\"my name is sanjay\")\n",
    "\n"
   ]
  },
  {
   "cell_type": "code",
   "execution_count": 25,
   "id": "6a4972ec-ee4e-4f54-bcdc-4d70163eb207",
   "metadata": {},
   "outputs": [
    {
     "name": "stdout",
     "output_type": "stream",
     "text": [
      "hello Amitehs , how are you\n"
     ]
    }
   ],
   "source": [
    "name = \"Amitehs\"\n",
    "greetings = f\"hello {name} , how are you\"\n",
    "print(greetings) #new way in python for formatting"
   ]
  },
  {
   "cell_type": "code",
   "execution_count": 27,
   "id": "dad7d3eb-e479-45e4-af39-2f07d28ab3c5",
   "metadata": {},
   "outputs": [
    {
     "name": "stdout",
     "output_type": "stream",
     "text": [
      " hello  rajat , how are you\n"
     ]
    }
   ],
   "source": [
    "name = \" rajat\"\n",
    "greet = \" hello %s , how are you\"%name\n",
    "print(greet)"
   ]
  },
  {
   "cell_type": "code",
   "execution_count": 29,
   "id": "aa504f2d-088c-4902-82ee-0ef43064f883",
   "metadata": {},
   "outputs": [
    {
     "name": "stdout",
     "output_type": "stream",
     "text": [
      "hello amitesh , tera bday  date hai  2004-08-15\n"
     ]
    }
   ],
   "source": [
    "naaam = \"amitesh\"\n",
    "bday = \" 2004-08-15\"\n",
    "print(f\"hello {naaam} , tera bday  date hai {bday}\")"
   ]
  },
  {
   "cell_type": "code",
   "execution_count": 33,
   "id": "5989afdf-0a6b-4fa7-a2d1-d5fe4f17c2a1",
   "metadata": {},
   "outputs": [
    {
     "name": "stdout",
     "output_type": "stream",
     "text": [
      "30 is equals to 86.0\n"
     ]
    }
   ],
   "source": [
    "celsius = 30\n",
    "print(f\"{celsius} is equals to {(celsius * 9/5)+32}\")"
   ]
  },
  {
   "cell_type": "code",
   "execution_count": 36,
   "id": "9dd5ed5f-48c4-4c6d-900c-f80db5018f09",
   "metadata": {},
   "outputs": [
    {
     "data": {
      "text/plain": [
       "True"
      ]
     },
     "execution_count": 36,
     "metadata": {},
     "output_type": "execute_result"
    }
   ],
   "source": [
    "str1 = \"pwskills\"\n",
    "str1.startswith(\"p\")"
   ]
  },
  {
   "cell_type": "code",
   "execution_count": 37,
   "id": "dbe8bb38-6048-4fa5-8450-122f76eaacbb",
   "metadata": {},
   "outputs": [
    {
     "data": {
      "text/plain": [
       "True"
      ]
     },
     "execution_count": 37,
     "metadata": {},
     "output_type": "execute_result"
    }
   ],
   "source": [
    "str1.endswith(\"lls\")"
   ]
  },
  {
   "cell_type": "code",
   "execution_count": 38,
   "id": "dddb6e33-1f08-4307-9234-038fa0efb537",
   "metadata": {},
   "outputs": [
    {
     "data": {
      "text/plain": [
       "True"
      ]
     },
     "execution_count": 38,
     "metadata": {},
     "output_type": "execute_result"
    }
   ],
   "source": [
    "a = \"123abc\"\n",
    "a.isalnum()"
   ]
  },
  {
   "cell_type": "code",
   "execution_count": 39,
   "id": "31cf5b65-42e3-4567-8550-3bc1b0d89048",
   "metadata": {},
   "outputs": [
    {
     "data": {
      "text/plain": [
       "True"
      ]
     },
     "execution_count": 39,
     "metadata": {},
     "output_type": "execute_result"
    }
   ],
   "source": [
    "a = \"123\"\n",
    "a.isalnum()"
   ]
  },
  {
   "cell_type": "code",
   "execution_count": 40,
   "id": "10fc7bcd-300b-4d65-a11c-8387ceaf37f1",
   "metadata": {},
   "outputs": [
    {
     "data": {
      "text/plain": [
       "7"
      ]
     },
     "execution_count": 40,
     "metadata": {},
     "output_type": "execute_result"
    }
   ],
   "source": [
    "s = \"amitesh\"\n",
    "len(s)\n"
   ]
  },
  {
   "cell_type": "code",
   "execution_count": 41,
   "id": "7771d0fb-6f3f-4210-b27a-ca693cdcd162",
   "metadata": {},
   "outputs": [
    {
     "name": "stdout",
     "output_type": "stream",
     "text": [
      "a\n",
      "m\n",
      "i\n",
      "t\n",
      "e\n",
      "s\n",
      "h\n",
      "7\n"
     ]
    }
   ],
   "source": [
    "count = 0\n",
    "for i in s:\n",
    "    print(i)\n",
    "    count = count + 1\n",
    "print(count)\n"
   ]
  },
  {
   "cell_type": "code",
   "execution_count": 42,
   "id": "be7d2953-b48b-4c42-9109-3ec9578316f7",
   "metadata": {},
   "outputs": [
    {
     "data": {
      "text/plain": [
       "7"
      ]
     },
     "execution_count": 42,
     "metadata": {},
     "output_type": "execute_result"
    }
   ],
   "source": [
    "count\n"
   ]
  },
  {
   "cell_type": "code",
   "execution_count": null,
   "id": "c3eb8db4-7e0a-46e2-ae48-e4954e62b9d0",
   "metadata": {},
   "outputs": [],
   "source": []
  }
 ],
 "metadata": {
  "kernelspec": {
   "display_name": "Python 3 (ipykernel)",
   "language": "python",
   "name": "python3"
  },
  "language_info": {
   "codemirror_mode": {
    "name": "ipython",
    "version": 3
   },
   "file_extension": ".py",
   "mimetype": "text/x-python",
   "name": "python",
   "nbconvert_exporter": "python",
   "pygments_lexer": "ipython3",
   "version": "3.12.7"
  },
  "widgets": {
   "application/vnd.jupyter.widget-state+json": {
    "state": {},
    "version_major": 2,
    "version_minor": 0
   }
  }
 },
 "nbformat": 4,
 "nbformat_minor": 5
}
