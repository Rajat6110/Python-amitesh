{
 "cells": [
  {
   "cell_type": "markdown",
   "id": "7ee0a0da-b7d2-40b2-8f2f-f51ba342d8ad",
   "metadata": {},
   "source": [
    "# DUNDER METHOD / MAGIC METHHOD"
   ]
  },
  {
   "cell_type": "code",
   "execution_count": 2,
   "id": "466f019d-a988-481b-9566-bfce86fdfebd",
   "metadata": {},
   "outputs": [],
   "source": [
    "#  DUNDER METHODS ARE METHODS DEFINED BY BULITIN CLASSES IN PYTHON\n",
    "# CLASSES DEFINE THESE TYPE OF METHODS FOR CREATING CUSTOM OBJETCS\n",
    "# IMPLEMENTING OPERATOR OVERLOADING IN PYTHON"
   ]
  },
  {
   "cell_type": "code",
   "execution_count": 4,
   "id": "84b00ac2-43a5-4480-a299-a7332a82bc93",
   "metadata": {},
   "outputs": [],
   "source": [
    "# D    + UNDER\n",
    "# DOUBLE UNDERTAND >> ALL THE METHODS HAVING DOUBLE UNDERSOCRE IS A DUNDER METHOD"
   ]
  },
  {
   "cell_type": "code",
   "execution_count": 5,
   "id": "ad35161e-6be4-4fdf-90d4-e9095e35d0da",
   "metadata": {},
   "outputs": [
    {
     "data": {
      "text/plain": [
       "10"
      ]
     },
     "execution_count": 5,
     "metadata": {},
     "output_type": "execute_result"
    }
   ],
   "source": [
    "a=5\n",
    "b=5\n",
    "a+b "
   ]
  },
  {
   "cell_type": "code",
   "execution_count": 9,
   "id": "6398791e-461c-4148-8fcc-0243aca6c9de",
   "metadata": {},
   "outputs": [
    {
     "data": {
      "text/plain": [
       "10"
      ]
     },
     "execution_count": 9,
     "metadata": {},
     "output_type": "execute_result"
    }
   ],
   "source": [
    "a.__add__(b) # dunder"
   ]
  },
  {
   "cell_type": "code",
   "execution_count": 11,
   "id": "7909d2ff-7e7d-4ceb-b709-1daf16a380e5",
   "metadata": {},
   "outputs": [
    {
     "data": {
      "text/plain": [
       "['__add__',\n",
       " '__class__',\n",
       " '__contains__',\n",
       " '__delattr__',\n",
       " '__dir__',\n",
       " '__doc__',\n",
       " '__eq__',\n",
       " '__format__',\n",
       " '__ge__',\n",
       " '__getattribute__',\n",
       " '__getitem__',\n",
       " '__getnewargs__',\n",
       " '__getstate__',\n",
       " '__gt__',\n",
       " '__hash__',\n",
       " '__init__',\n",
       " '__init_subclass__',\n",
       " '__iter__',\n",
       " '__le__',\n",
       " '__len__',\n",
       " '__lt__',\n",
       " '__mod__',\n",
       " '__mul__',\n",
       " '__ne__',\n",
       " '__new__',\n",
       " '__reduce__',\n",
       " '__reduce_ex__',\n",
       " '__repr__',\n",
       " '__rmod__',\n",
       " '__rmul__',\n",
       " '__setattr__',\n",
       " '__sizeof__',\n",
       " '__str__',\n",
       " '__subclasshook__',\n",
       " 'capitalize',\n",
       " 'casefold',\n",
       " 'center',\n",
       " 'count',\n",
       " 'encode',\n",
       " 'endswith',\n",
       " 'expandtabs',\n",
       " 'find',\n",
       " 'format',\n",
       " 'format_map',\n",
       " 'index',\n",
       " 'isalnum',\n",
       " 'isalpha',\n",
       " 'isascii',\n",
       " 'isdecimal',\n",
       " 'isdigit',\n",
       " 'isidentifier',\n",
       " 'islower',\n",
       " 'isnumeric',\n",
       " 'isprintable',\n",
       " 'isspace',\n",
       " 'istitle',\n",
       " 'isupper',\n",
       " 'join',\n",
       " 'ljust',\n",
       " 'lower',\n",
       " 'lstrip',\n",
       " 'maketrans',\n",
       " 'partition',\n",
       " 'removeprefix',\n",
       " 'removesuffix',\n",
       " 'replace',\n",
       " 'rfind',\n",
       " 'rindex',\n",
       " 'rjust',\n",
       " 'rpartition',\n",
       " 'rsplit',\n",
       " 'rstrip',\n",
       " 'split',\n",
       " 'splitlines',\n",
       " 'startswith',\n",
       " 'strip',\n",
       " 'swapcase',\n",
       " 'title',\n",
       " 'translate',\n",
       " 'upper',\n",
       " 'zfill']"
      ]
     },
     "execution_count": 11,
     "metadata": {},
     "output_type": "execute_result"
    }
   ],
   "source": [
    "# all dudner method associated with strings\n",
    "dir(str)"
   ]
  },
  {
   "cell_type": "code",
   "execution_count": 12,
   "id": "71b35e5f-df07-4882-8013-97123aa53f2c",
   "metadata": {},
   "outputs": [
    {
     "data": {
      "text/plain": [
       "['__abs__',\n",
       " '__add__',\n",
       " '__and__',\n",
       " '__bool__',\n",
       " '__ceil__',\n",
       " '__class__',\n",
       " '__delattr__',\n",
       " '__dir__',\n",
       " '__divmod__',\n",
       " '__doc__',\n",
       " '__eq__',\n",
       " '__float__',\n",
       " '__floor__',\n",
       " '__floordiv__',\n",
       " '__format__',\n",
       " '__ge__',\n",
       " '__getattribute__',\n",
       " '__getnewargs__',\n",
       " '__getstate__',\n",
       " '__gt__',\n",
       " '__hash__',\n",
       " '__index__',\n",
       " '__init__',\n",
       " '__init_subclass__',\n",
       " '__int__',\n",
       " '__invert__',\n",
       " '__le__',\n",
       " '__lshift__',\n",
       " '__lt__',\n",
       " '__mod__',\n",
       " '__mul__',\n",
       " '__ne__',\n",
       " '__neg__',\n",
       " '__new__',\n",
       " '__or__',\n",
       " '__pos__',\n",
       " '__pow__',\n",
       " '__radd__',\n",
       " '__rand__',\n",
       " '__rdivmod__',\n",
       " '__reduce__',\n",
       " '__reduce_ex__',\n",
       " '__repr__',\n",
       " '__rfloordiv__',\n",
       " '__rlshift__',\n",
       " '__rmod__',\n",
       " '__rmul__',\n",
       " '__ror__',\n",
       " '__round__',\n",
       " '__rpow__',\n",
       " '__rrshift__',\n",
       " '__rshift__',\n",
       " '__rsub__',\n",
       " '__rtruediv__',\n",
       " '__rxor__',\n",
       " '__setattr__',\n",
       " '__sizeof__',\n",
       " '__str__',\n",
       " '__sub__',\n",
       " '__subclasshook__',\n",
       " '__truediv__',\n",
       " '__trunc__',\n",
       " '__xor__',\n",
       " 'as_integer_ratio',\n",
       " 'bit_count',\n",
       " 'bit_length',\n",
       " 'conjugate',\n",
       " 'denominator',\n",
       " 'from_bytes',\n",
       " 'imag',\n",
       " 'numerator',\n",
       " 'real',\n",
       " 'to_bytes']"
      ]
     },
     "execution_count": 12,
     "metadata": {},
     "output_type": "execute_result"
    }
   ],
   "source": [
    "dir(int)"
   ]
  },
  {
   "cell_type": "code",
   "execution_count": 15,
   "id": "7585cbdc-91a0-4248-98c4-f65c0b349ae3",
   "metadata": {},
   "outputs": [],
   "source": [
    "# useful dunder method\n",
    "# iinit >> take data wrp to object\n",
    "class A:\n",
    "    def __init__(self,name):\n",
    "        print(name ,\"this is the first thing that will be excuted when you make object of class\")\n",
    "    "
   ]
  },
  {
   "cell_type": "code",
   "execution_count": 17,
   "id": "e03ccea6-f5fa-4b48-9e99-750f322bc737",
   "metadata": {},
   "outputs": [
    {
     "name": "stdout",
     "output_type": "stream",
     "text": [
      "amitesh this is the first thing that will be excuted when you make object of class\n"
     ]
    },
    {
     "data": {
      "text/plain": [
       "<__main__.A at 0x1b4819d65d0>"
      ]
     },
     "execution_count": 17,
     "metadata": {},
     "output_type": "execute_result"
    }
   ],
   "source": [
    "A(\"amitesh\")"
   ]
  },
  {
   "cell_type": "code",
   "execution_count": 18,
   "id": "7519b289-9d52-429a-9123-98cf6c0091aa",
   "metadata": {},
   "outputs": [
    {
     "name": "stdout",
     "output_type": "stream",
     "text": [
      "am this is the first thing that will be excuted when you make object of class\n"
     ]
    }
   ],
   "source": [
    "a = A(\"am\")"
   ]
  },
  {
   "cell_type": "code",
   "execution_count": 24,
   "id": "4f0746ef-8332-4b2e-bc91-af04175e4aad",
   "metadata": {},
   "outputs": [],
   "source": [
    "class Stud:\n",
    "    def __new__(cls): # resposable for cearing new instance of class\n",
    "        print(\"this will be excuted even before init\")\n",
    "        # use to initiaze nrely creatd object\n",
    "    def __init__(self,name):\n",
    "        print(name ,\"this is the first thing that will be excuted when you make object of class\")\n",
    "    "
   ]
  },
  {
   "cell_type": "code",
   "execution_count": 25,
   "id": "4d9b14f8-1fff-4179-9516-e762204e3825",
   "metadata": {},
   "outputs": [
    {
     "name": "stdout",
     "output_type": "stream",
     "text": [
      "this will be excuted even before init\n"
     ]
    }
   ],
   "source": [
    "ob = Stud()"
   ]
  },
  {
   "cell_type": "code",
   "execution_count": 26,
   "id": "e2ebbe34-f7a9-4cf3-86cd-bb25a35a59ed",
   "metadata": {},
   "outputs": [],
   "source": [
    "# __str__"
   ]
  },
  {
   "cell_type": "code",
   "execution_count": 27,
   "id": "2245ea6d-c69a-42ed-bd78-2ecd6988265d",
   "metadata": {},
   "outputs": [],
   "source": [
    "class A:\n",
    "    def __init__(self):\n",
    "        self.phone = 9999"
   ]
  },
  {
   "cell_type": "code",
   "execution_count": 30,
   "id": "12273ac1-3cd9-43cd-b56f-5de79ad52a51",
   "metadata": {},
   "outputs": [
    {
     "data": {
      "text/plain": [
       "<__main__.A at 0x1b481f97150>"
      ]
     },
     "execution_count": 30,
     "metadata": {},
     "output_type": "execute_result"
    }
   ],
   "source": [
    "A() # hexadecimal rep of memoery of student  obj"
   ]
  },
  {
   "cell_type": "code",
   "execution_count": 31,
   "id": "220dc260-18c4-4341-b405-08c1849d30c7",
   "metadata": {},
   "outputs": [
    {
     "data": {
      "text/plain": [
       "<__main__.A at 0x1b481f7b750>"
      ]
     },
     "execution_count": 31,
     "metadata": {},
     "output_type": "execute_result"
    }
   ],
   "source": [
    "A()"
   ]
  },
  {
   "cell_type": "code",
   "execution_count": 33,
   "id": "35437301-4f0c-4f7a-b669-f5b319278c8d",
   "metadata": {},
   "outputs": [],
   "source": [
    "class A:\n",
    "    def __init__(self):\n",
    "        self.phone = 9999\n",
    "    def __str__(self): # return will written a string rep of methdo\n",
    "        return \"amitesh\""
   ]
  },
  {
   "cell_type": "code",
   "execution_count": 34,
   "id": "bf2b57cc-e9ef-4c2e-b91f-571a95937e61",
   "metadata": {},
   "outputs": [
    {
     "data": {
      "text/plain": [
       "<__main__.A at 0x1b4819acf50>"
      ]
     },
     "execution_count": 34,
     "metadata": {},
     "output_type": "execute_result"
    }
   ],
   "source": [
    "A()"
   ]
  },
  {
   "cell_type": "code",
   "execution_count": 35,
   "id": "82805e9a-2b09-4c62-86cb-be6a3d0de2c0",
   "metadata": {},
   "outputs": [
    {
     "name": "stdout",
     "output_type": "stream",
     "text": [
      "amitesh\n"
     ]
    }
   ],
   "source": [
    "print(A())"
   ]
  },
  {
   "cell_type": "code",
   "execution_count": 37,
   "id": "c766f9cb-a461-48a2-9875-67d07d92ffe4",
   "metadata": {},
   "outputs": [],
   "source": [
    "# another method __repr__ > meaning represnataion"
   ]
  },
  {
   "cell_type": "code",
   "execution_count": 38,
   "id": "4b78e3c1-d094-4ca0-8285-625774304cc0",
   "metadata": {},
   "outputs": [],
   "source": [
    "# it returns unambigous string rep of the object as it is that can be used to recreate the object\n"
   ]
  },
  {
   "cell_type": "code",
   "execution_count": 39,
   "id": "d5b786c0-3cb8-4fe2-8bf5-97cf63f2bcb4",
   "metadata": {},
   "outputs": [],
   "source": [
    "class Myclass:\n",
    "    def __init__(self,c):\n",
    "        self.c = c\n",
    "    def __repr__(self):\n",
    "        return f\"myCLass(self.x)\""
   ]
  },
  {
   "cell_type": "code",
   "execution_count": 43,
   "id": "a18d6884-9245-4906-89e8-774a054574dc",
   "metadata": {},
   "outputs": [],
   "source": [
    "obj = Myclass(6)"
   ]
  },
  {
   "cell_type": "code",
   "execution_count": 46,
   "id": "f4a1e3d5-8227-406c-8208-65425a338b25",
   "metadata": {},
   "outputs": [
    {
     "data": {
      "text/plain": [
       "myCLass(self.x)"
      ]
     },
     "execution_count": 46,
     "metadata": {},
     "output_type": "execute_result"
    }
   ],
   "source": [
    "obj"
   ]
  },
  {
   "cell_type": "code",
   "execution_count": 47,
   "id": "e8e332bb-9fb0-4e83-ae30-173991dd6fde",
   "metadata": {},
   "outputs": [
    {
     "name": "stdout",
     "output_type": "stream",
     "text": [
      "myCLass(self.x)\n"
     ]
    }
   ],
   "source": [
    "print(repr(obj))"
   ]
  },
  {
   "cell_type": "code",
   "execution_count": 48,
   "id": "9e7d10d2-bcdc-4b72-aa90-e0bef3b870e2",
   "metadata": {},
   "outputs": [],
   "source": [
    "# __eq__"
   ]
  },
  {
   "cell_type": "code",
   "execution_count": 52,
   "id": "7d6bd583-af6e-4d02-8013-bf3f62fdab24",
   "metadata": {},
   "outputs": [
    {
     "data": {
      "text/plain": [
       "True"
      ]
     },
     "execution_count": 52,
     "metadata": {},
     "output_type": "execute_result"
    }
   ],
   "source": [
    "True == True"
   ]
  },
  {
   "cell_type": "code",
   "execution_count": 53,
   "id": "d1b4e9d0-364d-422b-b736-1d86fb14e091",
   "metadata": {},
   "outputs": [
    {
     "data": {
      "text/plain": [
       "True"
      ]
     },
     "execution_count": 53,
     "metadata": {},
     "output_type": "execute_result"
    }
   ],
   "source": [
    "a = 3\n",
    "b = 3\n",
    "a.__eq__(b)"
   ]
  },
  {
   "cell_type": "code",
   "execution_count": 54,
   "id": "4a8a1d6c-fd7c-42c4-a80c-22c1f3aeefb6",
   "metadata": {},
   "outputs": [],
   "source": [
    "#use case \n",
    "class Point:\n",
    "    def __init__(self,x,y):\n",
    "        self.x = x\n",
    "        self.y =y\n",
    "    def __eq__(self,other):\n",
    "        return self.x == other.x and self.y == other.y\n",
    "        "
   ]
  },
  {
   "cell_type": "code",
   "execution_count": 55,
   "id": "63e6f417-bbef-46c0-b1da-50e12d3546d1",
   "metadata": {},
   "outputs": [
    {
     "name": "stdout",
     "output_type": "stream",
     "text": [
      "True\n"
     ]
    }
   ],
   "source": [
    "p1 = Point(1,2)\n",
    "p2 = Point(1,2)\n",
    "print(p2==p1)"
   ]
  },
  {
   "cell_type": "code",
   "execution_count": 57,
   "id": "52033136-0531-42fe-b706-2b0f2de2a1d4",
   "metadata": {},
   "outputs": [],
   "source": [
    "#__add__"
   ]
  },
  {
   "cell_type": "code",
   "execution_count": 62,
   "id": "23aaaec8-47b4-472c-8d00-e07ee9889e90",
   "metadata": {},
   "outputs": [],
   "source": [
    "#use case \n",
    "class Point:\n",
    "    def __init__(self,x,y):\n",
    "        self.x = x\n",
    "        self.y =y\n",
    "    def __add__(self,other):\n",
    "        return Point(self.x + other.x , self.y + other.y)"
   ]
  },
  {
   "cell_type": "code",
   "execution_count": 63,
   "id": "bb7a3a3e-a0c5-4d8e-9424-2d33e48d7401",
   "metadata": {},
   "outputs": [
    {
     "name": "stdout",
     "output_type": "stream",
     "text": [
      "2 4\n"
     ]
    }
   ],
   "source": [
    "p1 = Point(1,2)\n",
    "p2 = Point(1,2)\n",
    "p3 = p1+p2\n",
    "print(p3.x , p3.y)"
   ]
  },
  {
   "cell_type": "code",
   "execution_count": 64,
   "id": "3d44f173-176e-4331-95b5-712b5652580f",
   "metadata": {},
   "outputs": [],
   "source": [
    "#when you are using + operator with point Objects, python internally calls __add__"
   ]
  },
  {
   "cell_type": "code",
   "execution_count": null,
   "id": "9980515a-a674-4abf-ae27-c9d8728b6e7f",
   "metadata": {},
   "outputs": [],
   "source": []
  }
 ],
 "metadata": {
  "kernelspec": {
   "display_name": "Python 3 (ipykernel)",
   "language": "python",
   "name": "python3"
  },
  "language_info": {
   "codemirror_mode": {
    "name": "ipython",
    "version": 3
   },
   "file_extension": ".py",
   "mimetype": "text/x-python",
   "name": "python",
   "nbconvert_exporter": "python",
   "pygments_lexer": "ipython3",
   "version": "3.11.3"
  },
  "widgets": {
   "application/vnd.jupyter.widget-state+json": {
    "state": {},
    "version_major": 2,
    "version_minor": 0
   }
  }
 },
 "nbformat": 4,
 "nbformat_minor": 5
}
