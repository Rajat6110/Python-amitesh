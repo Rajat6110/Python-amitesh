{
 "cells": [
  {
   "cell_type": "markdown",
   "id": "0a2f73ae-a28f-4d87-bcb7-738ab7decb9d",
   "metadata": {},
   "source": [
    " # TUPLES"
   ]
  },
  {
   "cell_type": "markdown",
   "id": "9f7ba24b-e911-48e9-91d4-2ddd2a28f529",
   "metadata": {},
   "source": [
    "- tuples are orderd collection on elements , heterogenous\n",
    "- tuples are immutable\n",
    "\n"
   ]
  },
  {
   "cell_type": "code",
   "execution_count": 2,
   "id": "321934c6-f0e8-4d07-b325-5af268891efb",
   "metadata": {},
   "outputs": [
    {
     "data": {
      "text/plain": [
       "tuple"
      ]
     },
     "execution_count": 2,
     "metadata": {},
     "output_type": "execute_result"
    }
   ],
   "source": [
    "type(())"
   ]
  },
  {
   "cell_type": "code",
   "execution_count": 3,
   "id": "f6210316-ff30-48b8-8dec-7d589ee9c29f",
   "metadata": {},
   "outputs": [],
   "source": [
    "t = ()"
   ]
  },
  {
   "cell_type": "code",
   "execution_count": 4,
   "id": "7db44031-33bf-4d94-bd35-6c34f09be597",
   "metadata": {},
   "outputs": [
    {
     "data": {
      "text/plain": [
       "tuple"
      ]
     },
     "execution_count": 4,
     "metadata": {},
     "output_type": "execute_result"
    }
   ],
   "source": [
    "type(t)"
   ]
  },
  {
   "cell_type": "code",
   "execution_count": 5,
   "id": "2eace3c6-1b3d-44d8-bf37-34d46577b55f",
   "metadata": {},
   "outputs": [],
   "source": [
    "t = ( \"amitesh \" , \" rajat \" , 1 , 3 , 53 )"
   ]
  },
  {
   "cell_type": "code",
   "execution_count": 7,
   "id": "6397fa98-94e2-4424-a6de-61a13281287a",
   "metadata": {},
   "outputs": [
    {
     "data": {
      "text/plain": [
       "'amitesh '"
      ]
     },
     "execution_count": 7,
     "metadata": {},
     "output_type": "execute_result"
    }
   ],
   "source": [
    "t[0]"
   ]
  },
  {
   "cell_type": "code",
   "execution_count": 8,
   "id": "065f4e15-b025-4812-a5af-8d1de219e0ec",
   "metadata": {},
   "outputs": [
    {
     "data": {
      "text/plain": [
       "3"
      ]
     },
     "execution_count": 8,
     "metadata": {},
     "output_type": "execute_result"
    }
   ],
   "source": [
    "t[3]"
   ]
  },
  {
   "cell_type": "code",
   "execution_count": 9,
   "id": "7664f8f6-25e7-49aa-9be4-fb967f11aedf",
   "metadata": {},
   "outputs": [
    {
     "ename": "TypeError",
     "evalue": "'tuple' object does not support item assignment",
     "output_type": "error",
     "traceback": [
      "\u001b[1;31m---------------------------------------------------------------------------\u001b[0m",
      "\u001b[1;31mTypeError\u001b[0m                                 Traceback (most recent call last)",
      "Cell \u001b[1;32mIn[9], line 1\u001b[0m\n\u001b[1;32m----> 1\u001b[0m \u001b[43mt\u001b[49m\u001b[43m[\u001b[49m\u001b[38;5;241;43m1\u001b[39;49m\u001b[43m]\u001b[49m \u001b[38;5;241m=\u001b[39m \u001b[38;5;124m\"\u001b[39m\u001b[38;5;124mnew\u001b[39m\u001b[38;5;124m\"\u001b[39m\n",
      "\u001b[1;31mTypeError\u001b[0m: 'tuple' object does not support item assignment"
     ]
    }
   ],
   "source": [
    "t[1] = \"new\" # immutable"
   ]
  },
  {
   "cell_type": "code",
   "execution_count": 10,
   "id": "7479d622-3308-40f6-b20a-1d36710cdbf5",
   "metadata": {},
   "outputs": [
    {
     "data": {
      "text/plain": [
       "53"
      ]
     },
     "execution_count": 10,
     "metadata": {},
     "output_type": "execute_result"
    }
   ],
   "source": [
    "t[-1]"
   ]
  },
  {
   "cell_type": "code",
   "execution_count": 15,
   "id": "c11185b3-daf2-485e-9a64-ace566d01757",
   "metadata": {},
   "outputs": [],
   "source": [
    "emp_id = ( 1,4,3,4,5)"
   ]
  },
  {
   "cell_type": "code",
   "execution_count": 16,
   "id": "7b7a5fc2-f369-48c2-b8af-9b4b320e3989",
   "metadata": {},
   "outputs": [
    {
     "name": "stdout",
     "output_type": "stream",
     "text": [
      "(1, 4, 3, 4, 5)\n"
     ]
    }
   ],
   "source": [
    "print(emp_id)"
   ]
  },
  {
   "cell_type": "code",
   "execution_count": 17,
   "id": "4c58d5a6-868a-4861-b9a3-00f810d46527",
   "metadata": {},
   "outputs": [
    {
     "data": {
      "text/plain": [
       "1"
      ]
     },
     "execution_count": 17,
     "metadata": {},
     "output_type": "execute_result"
    }
   ],
   "source": [
    "emp_id.count(1)"
   ]
  },
  {
   "cell_type": "code",
   "execution_count": 18,
   "id": "9ee29aa3-55ff-4818-9df6-75e44dd05cfa",
   "metadata": {},
   "outputs": [
    {
     "data": {
      "text/plain": [
       "2"
      ]
     },
     "execution_count": 18,
     "metadata": {},
     "output_type": "execute_result"
    }
   ],
   "source": [
    "emp_id.count(4)"
   ]
  },
  {
   "cell_type": "code",
   "execution_count": 19,
   "id": "c140f060-b105-4a51-b7fa-c65b4e7622b9",
   "metadata": {},
   "outputs": [
    {
     "data": {
      "text/plain": [
       "1"
      ]
     },
     "execution_count": 19,
     "metadata": {},
     "output_type": "execute_result"
    }
   ],
   "source": [
    "emp_id.index(4)"
   ]
  },
  {
   "cell_type": "code",
   "execution_count": 20,
   "id": "e66efc00-e2ec-4c71-9351-becb3ae9ebf9",
   "metadata": {},
   "outputs": [
    {
     "data": {
      "text/plain": [
       "0"
      ]
     },
     "execution_count": 20,
     "metadata": {},
     "output_type": "execute_result"
    }
   ],
   "source": [
    "emp_id.index(1)"
   ]
  },
  {
   "cell_type": "code",
   "execution_count": 21,
   "id": "103a57b3-c7bd-476a-8493-791e34777189",
   "metadata": {},
   "outputs": [
    {
     "name": "stdout",
     "output_type": "stream",
     "text": [
      "(1, 4, 3, 4, 5, 1, 4, 3, 4, 5)\n"
     ]
    }
   ],
   "source": [
    "print(emp_id*2)"
   ]
  },
  {
   "cell_type": "code",
   "execution_count": 26,
   "id": "7c3de1f0-9e0e-46c6-8f12-38dd7ba39176",
   "metadata": {},
   "outputs": [
    {
     "data": {
      "text/plain": [
       "(1,)"
      ]
     },
     "execution_count": 26,
     "metadata": {},
     "output_type": "execute_result"
    }
   ],
   "source": [
    "emp_id[0::-1]"
   ]
  },
  {
   "cell_type": "code",
   "execution_count": 27,
   "id": "c3c1021e-da03-4daf-a3ed-f5bbeb0f12c1",
   "metadata": {},
   "outputs": [
    {
     "data": {
      "text/plain": [
       "(5, 4, 3, 4, 1)"
      ]
     },
     "execution_count": 27,
     "metadata": {},
     "output_type": "execute_result"
    }
   ],
   "source": [
    "emp_id[::-1]"
   ]
  },
  {
   "cell_type": "code",
   "execution_count": 30,
   "id": "2bf13b6e-8273-460e-9e98-d3eddf189018",
   "metadata": {},
   "outputs": [
    {
     "name": "stdout",
     "output_type": "stream",
     "text": [
      "1\n",
      "4\n",
      "3\n",
      "4\n",
      "5\n"
     ]
    }
   ],
   "source": [
    "for i in emp_id:\n",
    "    print(i)"
   ]
  },
  {
   "cell_type": "code",
   "execution_count": 33,
   "id": "20e457d9-5a72-4fa3-bc6f-f65f9d014fe7",
   "metadata": {},
   "outputs": [
    {
     "data": {
      "text/plain": [
       "5"
      ]
     },
     "execution_count": 33,
     "metadata": {},
     "output_type": "execute_result"
    }
   ],
   "source": [
    "max(emp_id)"
   ]
  },
  {
   "cell_type": "code",
   "execution_count": 34,
   "id": "3ee74a09-db27-4e26-bb5a-061f01b60b82",
   "metadata": {},
   "outputs": [
    {
     "data": {
      "text/plain": [
       "1"
      ]
     },
     "execution_count": 34,
     "metadata": {},
     "output_type": "execute_result"
    }
   ],
   "source": [
    "min(emp_id)"
   ]
  },
  {
   "cell_type": "code",
   "execution_count": 35,
   "id": "dc0b28f1-dcee-412a-9c88-733a4a3599b1",
   "metadata": {},
   "outputs": [
    {
     "data": {
      "text/plain": [
       "(1, 3, 4, 5)"
      ]
     },
     "execution_count": 35,
     "metadata": {},
     "output_type": "execute_result"
    }
   ],
   "source": [
    "t1 = (1 ,3, 4,5)\n",
    "t1"
   ]
  },
  {
   "cell_type": "code",
   "execution_count": 36,
   "id": "2d9c9b98-1a9a-4c41-9709-86d1a6ce5973",
   "metadata": {},
   "outputs": [
    {
     "data": {
      "text/plain": [
       "(554, 64, 3, 35)"
      ]
     },
     "execution_count": 36,
     "metadata": {},
     "output_type": "execute_result"
    }
   ],
   "source": [
    "t2 = ( 554,64,3,35)\n",
    "t2"
   ]
  },
  {
   "cell_type": "code",
   "execution_count": 45,
   "id": "b047c032-d6a8-413c-9504-ed6b4ca3e94c",
   "metadata": {},
   "outputs": [],
   "source": [
    "t3 = (t1 + t2)"
   ]
  },
  {
   "cell_type": "code",
   "execution_count": 46,
   "id": "38782360-87a6-4473-8304-b6c2aa23e8b3",
   "metadata": {},
   "outputs": [
    {
     "data": {
      "text/plain": [
       "(1, 3, 4, 5, 554, 64, 3, 35)"
      ]
     },
     "execution_count": 46,
     "metadata": {},
     "output_type": "execute_result"
    }
   ],
   "source": [
    "t3"
   ]
  },
  {
   "cell_type": "code",
   "execution_count": 47,
   "id": "5bbaa366-df96-4828-b7bf-f525468ad96a",
   "metadata": {},
   "outputs": [],
   "source": [
    "t3 = (t1,t2)"
   ]
  },
  {
   "cell_type": "code",
   "execution_count": 48,
   "id": "83b4d2fc-28d5-413b-848a-255ea9621fa8",
   "metadata": {},
   "outputs": [
    {
     "data": {
      "text/plain": [
       "((1, 3, 4, 5), (554, 64, 3, 35))"
      ]
     },
     "execution_count": 48,
     "metadata": {},
     "output_type": "execute_result"
    }
   ],
   "source": [
    "t3"
   ]
  },
  {
   "cell_type": "code",
   "execution_count": 49,
   "id": "4feb32a6-b9c0-413b-9c51-8a3a69255fe9",
   "metadata": {},
   "outputs": [],
   "source": [
    "del t3"
   ]
  },
  {
   "cell_type": "code",
   "execution_count": 50,
   "id": "3699e743-46a0-42a4-b286-42ba1956ddd9",
   "metadata": {},
   "outputs": [
    {
     "ename": "NameError",
     "evalue": "name 't3' is not defined",
     "output_type": "error",
     "traceback": [
      "\u001b[1;31m---------------------------------------------------------------------------\u001b[0m",
      "\u001b[1;31mNameError\u001b[0m                                 Traceback (most recent call last)",
      "Cell \u001b[1;32mIn[50], line 1\u001b[0m\n\u001b[1;32m----> 1\u001b[0m \u001b[43mt3\u001b[49m\n",
      "\u001b[1;31mNameError\u001b[0m: name 't3' is not defined"
     ]
    }
   ],
   "source": [
    "t3"
   ]
  },
  {
   "cell_type": "code",
   "execution_count": 51,
   "id": "51c13961-01ed-4f54-9e3b-f519b6961117",
   "metadata": {},
   "outputs": [
    {
     "data": {
      "text/plain": [
       "4"
      ]
     },
     "execution_count": 51,
     "metadata": {},
     "output_type": "execute_result"
    }
   ],
   "source": [
    "len(t1)"
   ]
  },
  {
   "cell_type": "code",
   "execution_count": 57,
   "id": "c1c42305-06e4-4176-bbbb-52cbf0a08bc1",
   "metadata": {},
   "outputs": [
    {
     "data": {
      "text/plain": [
       "True"
      ]
     },
     "execution_count": 57,
     "metadata": {},
     "output_type": "execute_result"
    }
   ],
   "source": [
    "1 in t1"
   ]
  },
  {
   "cell_type": "code",
   "execution_count": 55,
   "id": "ce7f82d7-f3e5-4b8f-8502-4585930817a7",
   "metadata": {},
   "outputs": [
    {
     "data": {
      "text/plain": [
       "(1, 3, 4, 5)"
      ]
     },
     "execution_count": 55,
     "metadata": {},
     "output_type": "execute_result"
    }
   ],
   "source": [
    "t1"
   ]
  },
  {
   "cell_type": "code",
   "execution_count": 58,
   "id": "835604e1-427c-407f-a90b-ee3f0b131f24",
   "metadata": {},
   "outputs": [
    {
     "data": {
      "text/plain": [
       "(1, 3, 4, 5, 554, 64, 3, 35)"
      ]
     },
     "execution_count": 58,
     "metadata": {},
     "output_type": "execute_result"
    }
   ],
   "source": [
    "#combine botth tuple\n",
    "t1 + t2"
   ]
  },
  {
   "cell_type": "markdown",
   "id": "45bb48dc-2217-4169-bb19-fb16f6a3e605",
   "metadata": {},
   "source": [
    "# SETS\n",
    "\n",
    "- SETS ARE UNORDERD AND UNIQUE COLLECTION OF ELEMENTS\n",
    "- DOES'NT ALLOW DUPLICATE ELEMENTS\n",
    "- UNORDERED >> INDEXING WILL NOT WORK"
   ]
  },
  {
   "cell_type": "code",
   "execution_count": 59,
   "id": "af714250-54cc-41ac-a173-39d69055e237",
   "metadata": {},
   "outputs": [
    {
     "data": {
      "text/plain": [
       "dict"
      ]
     },
     "execution_count": 59,
     "metadata": {},
     "output_type": "execute_result"
    }
   ],
   "source": [
    "s = {}\n",
    "type(s)"
   ]
  },
  {
   "cell_type": "code",
   "execution_count": 60,
   "id": "9b24ba2f-0fbf-47e0-96aa-9dcd30e72c09",
   "metadata": {},
   "outputs": [],
   "source": [
    "s = {1}"
   ]
  },
  {
   "cell_type": "code",
   "execution_count": 61,
   "id": "d61a2258-c136-4ced-845b-86b75dce5bfe",
   "metadata": {},
   "outputs": [
    {
     "data": {
      "text/plain": [
       "set"
      ]
     },
     "execution_count": 61,
     "metadata": {},
     "output_type": "execute_result"
    }
   ],
   "source": [
    "type(s)"
   ]
  },
  {
   "cell_type": "code",
   "execution_count": 64,
   "id": "f51090d3-35e1-4fe9-976d-32bdc793cf46",
   "metadata": {},
   "outputs": [],
   "source": [
    "s = { 1,3,1,3,4,4,2, \"ajay\" , \"amitesh\" , \"ajay\"}"
   ]
  },
  {
   "cell_type": "code",
   "execution_count": 65,
   "id": "e45a01c8-c1ce-4e2e-9150-ba6e3acd9a34",
   "metadata": {},
   "outputs": [
    {
     "data": {
      "text/plain": [
       "{1, 2, 3, 4, 'ajay', 'amitesh'}"
      ]
     },
     "execution_count": 65,
     "metadata": {},
     "output_type": "execute_result"
    }
   ],
   "source": [
    "s\n"
   ]
  },
  {
   "cell_type": "code",
   "execution_count": 13,
   "id": "afa05cfe-6d97-4be9-a01e-a7c7aca0cfb0",
   "metadata": {},
   "outputs": [],
   "source": [
    " #use case\n",
    "list1 =[ 1,3,4, \"apple \" , \"apple \"]\n"
   ]
  },
  {
   "cell_type": "code",
   "execution_count": 14,
   "id": "50545f49-da51-4494-a5d4-4673631c853d",
   "metadata": {},
   "outputs": [
    {
     "data": {
      "text/plain": [
       "[1, 3, 4, 'apple ', 'apple ']"
      ]
     },
     "execution_count": 14,
     "metadata": {},
     "output_type": "execute_result"
    }
   ],
   "source": [
    "list1"
   ]
  },
  {
   "cell_type": "code",
   "execution_count": 69,
   "id": "bc34ba81-6541-450c-9ce5-2025b60ebafb",
   "metadata": {},
   "outputs": [],
   "source": [
    "#all elements ( repeat)"
   ]
  },
  {
   "cell_type": "code",
   "execution_count": 21,
   "id": "7531a0e7-07d8-4cd6-828d-4eaa135dd923",
   "metadata": {},
   "outputs": [],
   "source": [
    "s = set(list1)\n"
   ]
  },
  {
   "cell_type": "code",
   "execution_count": 22,
   "id": "90e124d8-d9da-47b1-b69b-edfd3dc8f961",
   "metadata": {},
   "outputs": [
    {
     "ename": "TypeError",
     "evalue": "'list' object is not callable",
     "output_type": "error",
     "traceback": [
      "\u001b[1;31m---------------------------------------------------------------------------\u001b[0m",
      "\u001b[1;31mTypeError\u001b[0m                                 Traceback (most recent call last)",
      "Cell \u001b[1;32mIn[22], line 1\u001b[0m\n\u001b[1;32m----> 1\u001b[0m list1 \u001b[38;5;241m=\u001b[39m \u001b[38;5;28;43mlist\u001b[39;49m\u001b[43m(\u001b[49m\u001b[43ms\u001b[49m\u001b[43m)\u001b[49m\n",
      "\u001b[1;31mTypeError\u001b[0m: 'list' object is not callable"
     ]
    }
   ],
   "source": [
    "list1 = list(s)"
   ]
  },
  {
   "cell_type": "markdown",
   "id": "18a2d921-1e42-4ca2-aea0-2de1f2cd31f7",
   "metadata": {},
   "source": [
    "# "
   ]
  },
  {
   "cell_type": "code",
   "execution_count": 26,
   "id": "b6ec40ce-f934-4cb5-aecc-a2c16f0e7aa4",
   "metadata": {},
   "outputs": [],
   "source": [
    "list1 = [1, 2, 3, \"Brinjal\", \"Brinjal\", \"Apple\", \"Apple\"]\n",
    "s = set(list1)"
   ]
  },
  {
   "cell_type": "code",
   "execution_count": 31,
   "id": "bc3cbd40-1aa2-45e9-9553-cb8a64aa6a13",
   "metadata": {},
   "outputs": [
    {
     "data": {
      "text/plain": [
       "{1, 2, 3, 'Apple', 'Brinjal'}"
      ]
     },
     "execution_count": 31,
     "metadata": {},
     "output_type": "execute_result"
    }
   ],
   "source": [
    "s"
   ]
  },
  {
   "cell_type": "code",
   "execution_count": 32,
   "id": "508995d7-9f9e-4708-9b31-97bb8c7406ed",
   "metadata": {},
   "outputs": [
    {
     "ename": "TypeError",
     "evalue": "'list' object is not callable",
     "output_type": "error",
     "traceback": [
      "\u001b[1;31m---------------------------------------------------------------------------\u001b[0m",
      "\u001b[1;31mTypeError\u001b[0m                                 Traceback (most recent call last)",
      "Cell \u001b[1;32mIn[32], line 1\u001b[0m\n\u001b[1;32m----> 1\u001b[0m list1 \u001b[38;5;241m=\u001b[39m \u001b[38;5;28;43mlist\u001b[39;49m\u001b[43m(\u001b[49m\u001b[43ms\u001b[49m\u001b[43m)\u001b[49m\n",
      "\u001b[1;31mTypeError\u001b[0m: 'list' object is not callable"
     ]
    }
   ],
   "source": [
    "list1 = list(s)"
   ]
  },
  {
   "cell_type": "code",
   "execution_count": 34,
   "id": "ff614814-7e16-45c1-94a3-53134a1a973e",
   "metadata": {},
   "outputs": [
    {
     "ename": "TypeError",
     "evalue": "unhashable type: 'set'",
     "output_type": "error",
     "traceback": [
      "\u001b[1;31m---------------------------------------------------------------------------\u001b[0m",
      "\u001b[1;31mTypeError\u001b[0m                                 Traceback (most recent call last)",
      "Cell \u001b[1;32mIn[34], line 1\u001b[0m\n\u001b[1;32m----> 1\u001b[0m s \u001b[38;5;241m=\u001b[39m { \u001b[38;5;241m1\u001b[39m, \u001b[38;5;241m2\u001b[39m , \u001b[38;5;241m3\u001b[39m, \u001b[38;5;241m4\u001b[39m, \u001b[38;5;241m5\u001b[39m , {\u001b[38;5;241m4\u001b[39m,\u001b[38;5;241m5\u001b[39m,\u001b[38;5;241m6\u001b[39m}}\n\u001b[0;32m      2\u001b[0m \u001b[38;5;66;03m#unhashable type >> it is mutable list , set \u001b[39;00m\n\u001b[0;32m      3\u001b[0m \u001b[38;5;66;03m#immutable data structure has a stable hash values like tuples\u001b[39;00m\n",
      "\u001b[1;31mTypeError\u001b[0m: unhashable type: 'set'"
     ]
    }
   ],
   "source": [
    "s = { 1, 2 , 3, 4, 5 , {4,5,6}}\n",
    "#unhashable type >> it is mutable list , set \n",
    "#immutable data structure has a stable hash values like tuples\n"
   ]
  },
  {
   "cell_type": "code",
   "execution_count": 35,
   "id": "857de853-123d-4558-82c5-154f3597e4c8",
   "metadata": {},
   "outputs": [
    {
     "ename": "TypeError",
     "evalue": "unhashable type: 'list'",
     "output_type": "error",
     "traceback": [
      "\u001b[1;31m---------------------------------------------------------------------------\u001b[0m",
      "\u001b[1;31mTypeError\u001b[0m                                 Traceback (most recent call last)",
      "Cell \u001b[1;32mIn[35], line 1\u001b[0m\n\u001b[1;32m----> 1\u001b[0m {\u001b[38;5;241m1\u001b[39m, \u001b[38;5;241m2\u001b[39m, \u001b[38;5;241m3\u001b[39m, \u001b[38;5;241m4\u001b[39m, \u001b[38;5;241m5\u001b[39m, [\u001b[38;5;241m4\u001b[39m, \u001b[38;5;241m5\u001b[39m, \u001b[38;5;241m6\u001b[39m]}\n",
      "\u001b[1;31mTypeError\u001b[0m: unhashable type: 'list'"
     ]
    }
   ],
   "source": [
    "{1, 2, 3, 4, 5, [4, 5, 6]}"
   ]
  },
  {
   "cell_type": "code",
   "execution_count": 36,
   "id": "e0726068-9010-4745-9f92-854b339ead60",
   "metadata": {},
   "outputs": [
    {
     "data": {
      "text/plain": [
       "{(4, 5, 6), 1, 2, 3, 4, 5}"
      ]
     },
     "execution_count": 36,
     "metadata": {},
     "output_type": "execute_result"
    }
   ],
   "source": [
    "{1, 2, 3, 4, 5, (4, 5, 6)} #it didnt throw error, because tuple is immutable>>stable hashtype"
   ]
  },
  {
   "cell_type": "code",
   "execution_count": 37,
   "id": "67aa8609-e12b-4d20-8895-5ae47ff6fa7e",
   "metadata": {},
   "outputs": [
    {
     "ename": "TypeError",
     "evalue": "'set' object is not subscriptable",
     "output_type": "error",
     "traceback": [
      "\u001b[1;31m---------------------------------------------------------------------------\u001b[0m",
      "\u001b[1;31mTypeError\u001b[0m                                 Traceback (most recent call last)",
      "Cell \u001b[1;32mIn[37], line 1\u001b[0m\n\u001b[1;32m----> 1\u001b[0m \u001b[43ms\u001b[49m\u001b[43m[\u001b[49m\u001b[38;5;241;43m0\u001b[39;49m\u001b[43m]\u001b[49m\n",
      "\u001b[1;31mTypeError\u001b[0m: 'set' object is not subscriptable"
     ]
    }
   ],
   "source": [
    "s[0]"
   ]
  },
  {
   "cell_type": "code",
   "execution_count": 38,
   "id": "a476b235-7e6f-46cf-87e2-f27ae25efec5",
   "metadata": {},
   "outputs": [
    {
     "name": "stdout",
     "output_type": "stream",
     "text": [
      "1\n",
      "2\n",
      "3\n",
      "Apple\n",
      "Brinjal\n"
     ]
    }
   ],
   "source": [
    "for i in s:\n",
    "    print(i)"
   ]
  },
  {
   "cell_type": "code",
   "execution_count": 39,
   "id": "887d1cdf-9459-4926-8939-c29f15e09b1c",
   "metadata": {},
   "outputs": [],
   "source": [
    "#set is mutable\n",
    "s.add(100)"
   ]
  },
  {
   "cell_type": "code",
   "execution_count": 40,
   "id": "aec0d00e-53ea-4c5b-b80b-606e835081a2",
   "metadata": {},
   "outputs": [
    {
     "data": {
      "text/plain": [
       "{1, 100, 2, 3, 'Apple', 'Brinjal'}"
      ]
     },
     "execution_count": 40,
     "metadata": {},
     "output_type": "execute_result"
    }
   ],
   "source": [
    "s"
   ]
  },
  {
   "cell_type": "code",
   "execution_count": 41,
   "id": "0e140ffb-ecac-4446-a6a4-f574f71b6175",
   "metadata": {},
   "outputs": [
    {
     "data": {
      "text/plain": [
       "1"
      ]
     },
     "execution_count": 41,
     "metadata": {},
     "output_type": "execute_result"
    }
   ],
   "source": [
    "s.pop() # not compalsary that it will remove last element\n"
   ]
  },
  {
   "cell_type": "code",
   "execution_count": 42,
   "id": "a4c8f93d-9411-4064-a46c-e3862f0fde59",
   "metadata": {},
   "outputs": [
    {
     "data": {
      "text/plain": [
       "{100, 2, 3, 'Apple', 'Brinjal'}"
      ]
     },
     "execution_count": 42,
     "metadata": {},
     "output_type": "execute_result"
    }
   ],
   "source": [
    "s"
   ]
  },
  {
   "cell_type": "code",
   "execution_count": 44,
   "id": "156525cd-30dd-4b68-ad33-4ed8dbf67068",
   "metadata": {},
   "outputs": [],
   "source": [
    "s.remove(100) # remove specific "
   ]
  },
  {
   "cell_type": "code",
   "execution_count": 45,
   "id": "1209a049-0c50-4cf5-89a4-31e7174db548",
   "metadata": {},
   "outputs": [
    {
     "data": {
      "text/plain": [
       "{3, 'Apple', 'Brinjal'}"
      ]
     },
     "execution_count": 45,
     "metadata": {},
     "output_type": "execute_result"
    }
   ],
   "source": [
    "s"
   ]
  },
  {
   "cell_type": "code",
   "execution_count": 46,
   "id": "00674f5b-b67d-4928-8d19-12d8217a5424",
   "metadata": {},
   "outputs": [
    {
     "data": {
      "text/plain": [
       "{3, 'Apple', 'Brinjal'}"
      ]
     },
     "execution_count": 46,
     "metadata": {},
     "output_type": "execute_result"
    }
   ],
   "source": [
    "s"
   ]
  },
  {
   "cell_type": "code",
   "execution_count": 49,
   "id": "630b4521-7b87-4050-9cb8-44f9be9dd720",
   "metadata": {},
   "outputs": [],
   "source": [
    "s.update(\"ajay\") #update take itertable"
   ]
  },
  {
   "cell_type": "code",
   "execution_count": 50,
   "id": "3c46c602-2776-4cbe-bc7c-3d6f76710415",
   "metadata": {},
   "outputs": [
    {
     "data": {
      "text/plain": [
       "{3, 'Apple', 'Brinjal', 'a', 'j', 'y'}"
      ]
     },
     "execution_count": 50,
     "metadata": {},
     "output_type": "execute_result"
    }
   ],
   "source": [
    "s"
   ]
  },
  {
   "cell_type": "code",
   "execution_count": 51,
   "id": "5a802551-b19a-438f-868f-03e70d3e962b",
   "metadata": {},
   "outputs": [],
   "source": [
    "s.update([\"amityes\"]) #update togther"
   ]
  },
  {
   "cell_type": "code",
   "execution_count": 52,
   "id": "50c21779-200a-43bf-ba39-8f521cf1602c",
   "metadata": {},
   "outputs": [
    {
     "data": {
      "text/plain": [
       "{3, 'Apple', 'Brinjal', 'a', 'amityes', 'j', 'y'}"
      ]
     },
     "execution_count": 52,
     "metadata": {},
     "output_type": "execute_result"
    }
   ],
   "source": [
    "s"
   ]
  },
  {
   "cell_type": "code",
   "execution_count": 53,
   "id": "561d4d72-b258-47ae-b361-615cd307858f",
   "metadata": {},
   "outputs": [],
   "source": [
    "s.update([2])"
   ]
  },
  {
   "cell_type": "code",
   "execution_count": null,
   "id": "b37b17a4-cfe5-4a5d-b991-645ecb8e1bec",
   "metadata": {},
   "outputs": [],
   "source": []
  },
  {
   "cell_type": "code",
   "execution_count": 54,
   "id": "b01edbb9-cb8b-4bae-a6b0-06c6263470a4",
   "metadata": {},
   "outputs": [
    {
     "data": {
      "text/plain": [
       "{2, 3, 'Apple', 'Brinjal', 'a', 'amityes', 'j', 'y'}"
      ]
     },
     "execution_count": 54,
     "metadata": {},
     "output_type": "execute_result"
    }
   ],
   "source": [
    "s"
   ]
  },
  {
   "cell_type": "code",
   "execution_count": 58,
   "id": "527f9f30-a9a1-4891-a8f8-d8ca8142f473",
   "metadata": {},
   "outputs": [],
   "source": [
    "s = { 1 ,2 ,3 , 4.5 , \"amiyesh\" , 4+2j}"
   ]
  },
  {
   "cell_type": "code",
   "execution_count": 59,
   "id": "b42ed166-05af-40b1-a8a6-a75ab4ebd2be",
   "metadata": {},
   "outputs": [
    {
     "data": {
      "text/plain": [
       "{(4+2j), 1, 2, 3, 4.5, 'amiyesh'}"
      ]
     },
     "execution_count": 59,
     "metadata": {},
     "output_type": "execute_result"
    }
   ],
   "source": [
    "s"
   ]
  },
  {
   "cell_type": "code",
   "execution_count": 60,
   "id": "70b53c37-3fe8-4bcb-bca8-74e8006961fb",
   "metadata": {},
   "outputs": [],
   "source": [
    "del s"
   ]
  },
  {
   "cell_type": "code",
   "execution_count": 61,
   "id": "6e7015a8-7657-4fd0-98d5-f9d366b5aa27",
   "metadata": {},
   "outputs": [
    {
     "ename": "KeyError",
     "evalue": "100",
     "output_type": "error",
     "traceback": [
      "\u001b[1;31m---------------------------------------------------------------------------\u001b[0m",
      "\u001b[1;31mKeyError\u001b[0m                                  Traceback (most recent call last)",
      "Cell \u001b[1;32mIn[61], line 2\u001b[0m\n\u001b[0;32m      1\u001b[0m s \u001b[38;5;241m=\u001b[39m { \u001b[38;5;241m1\u001b[39m ,\u001b[38;5;241m2\u001b[39m ,\u001b[38;5;241m3\u001b[39m , \u001b[38;5;241m4.5\u001b[39m , \u001b[38;5;124m\"\u001b[39m\u001b[38;5;124mamiyesh\u001b[39m\u001b[38;5;124m\"\u001b[39m , \u001b[38;5;241m4\u001b[39m\u001b[38;5;241m+\u001b[39m\u001b[38;5;241m2\u001b[39mj}\n\u001b[1;32m----> 2\u001b[0m \u001b[43ms\u001b[49m\u001b[38;5;241;43m.\u001b[39;49m\u001b[43mremove\u001b[49m\u001b[43m(\u001b[49m\u001b[38;5;241;43m100\u001b[39;49m\u001b[43m)\u001b[49m\n",
      "\u001b[1;31mKeyError\u001b[0m: 100"
     ]
    }
   ],
   "source": [
    "s = { 1 ,2 ,3 , 4.5 , \"amiyesh\" , 4+2j}\n",
    "s.remove(100)"
   ]
  },
  {
   "cell_type": "code",
   "execution_count": null,
   "id": "1f0e1b19-4f39-4a4e-a265-372d8ce81cb6",
   "metadata": {},
   "outputs": [],
   "source": []
  },
  {
   "cell_type": "code",
   "execution_count": 62,
   "id": "9e86ca53-1758-43ab-aa83-1eb9039f310e",
   "metadata": {},
   "outputs": [],
   "source": [
    "s.discard(100) #it won't throw error if elemnt was not present"
   ]
  },
  {
   "cell_type": "code",
   "execution_count": 63,
   "id": "06601489-4940-4366-b7b7-9a7d0c652a4a",
   "metadata": {},
   "outputs": [
    {
     "data": {
      "text/plain": [
       "{(4+2j), 1, 2, 3, 4.5, 'amiyesh'}"
      ]
     },
     "execution_count": 63,
     "metadata": {},
     "output_type": "execute_result"
    }
   ],
   "source": [
    "s"
   ]
  },
  {
   "cell_type": "code",
   "execution_count": 64,
   "id": "350f2a5d-db5e-49c3-add1-da5c03dd2ce2",
   "metadata": {},
   "outputs": [],
   "source": [
    "s.discard(1)"
   ]
  },
  {
   "cell_type": "code",
   "execution_count": 65,
   "id": "c8f6d887-50bb-4849-bd4f-c1a3ba99ae38",
   "metadata": {},
   "outputs": [
    {
     "data": {
      "text/plain": [
       "{(4+2j), 2, 3, 4.5, 'amiyesh'}"
      ]
     },
     "execution_count": 65,
     "metadata": {},
     "output_type": "execute_result"
    }
   ],
   "source": [
    "s"
   ]
  },
  {
   "cell_type": "code",
   "execution_count": 66,
   "id": "be615081-a9bf-48c3-9231-21415555eeb0",
   "metadata": {},
   "outputs": [],
   "source": [
    "#set operations"
   ]
  },
  {
   "cell_type": "code",
   "execution_count": 68,
   "id": "3caeccf0-eeb4-484b-97a1-0b1b2d31a1b1",
   "metadata": {},
   "outputs": [],
   "source": [
    "#set operations\n",
    "#Union: combines elements from two sets excluding duplicates\n",
    "#Intersection: only common elements btw sets\n",
    "#difference: return the elements that is present in first set and not in second\n",
    "#symmetric difference: returns elements that are present in either of sets but not in both"
   ]
  },
  {
   "cell_type": "code",
   "execution_count": 77,
   "id": "b7fcef9b-a191-4104-a0b9-0106ee48bea9",
   "metadata": {},
   "outputs": [],
   "source": [
    "s1 = { \"coding\", \"hiking\" , \"travelling\"}\n",
    "s2 = { \"coding\" , \"photography\" , \"reading\"}"
   ]
  },
  {
   "cell_type": "code",
   "execution_count": 78,
   "id": "971047f0-36fe-4cbe-9a05-d3c98b39468a",
   "metadata": {},
   "outputs": [
    {
     "data": {
      "text/plain": [
       "{'coding', 'hiking', 'travelling'}"
      ]
     },
     "execution_count": 78,
     "metadata": {},
     "output_type": "execute_result"
    }
   ],
   "source": [
    "s1"
   ]
  },
  {
   "cell_type": "code",
   "execution_count": 79,
   "id": "ee534980-9b3b-4d79-a267-d16650cf160c",
   "metadata": {},
   "outputs": [
    {
     "data": {
      "text/plain": [
       "{'coding', 'photography', 'reading'}"
      ]
     },
     "execution_count": 79,
     "metadata": {},
     "output_type": "execute_result"
    }
   ],
   "source": [
    "s2\n"
   ]
  },
  {
   "cell_type": "code",
   "execution_count": 80,
   "id": "019a1f5f-3e73-4549-ae39-c0310f0b002b",
   "metadata": {},
   "outputs": [
    {
     "data": {
      "text/plain": [
       "{'coding', 'hiking', 'photography', 'reading', 'travelling'}"
      ]
     },
     "execution_count": 80,
     "metadata": {},
     "output_type": "execute_result"
    }
   ],
   "source": [
    "#union \n",
    "s1 | s2"
   ]
  },
  {
   "cell_type": "code",
   "execution_count": 81,
   "id": "6a8f5b20-505e-426a-8d29-815034c79de6",
   "metadata": {},
   "outputs": [
    {
     "data": {
      "text/plain": [
       "{'coding'}"
      ]
     },
     "execution_count": 81,
     "metadata": {},
     "output_type": "execute_result"
    }
   ],
   "source": [
    "#intersection\n",
    "s1 & s2"
   ]
  },
  {
   "cell_type": "code",
   "execution_count": 82,
   "id": "5862431d-c9a7-4b7c-8803-4c5904ec50ec",
   "metadata": {},
   "outputs": [
    {
     "data": {
      "text/plain": [
       "{'hiking', 'travelling'}"
      ]
     },
     "execution_count": 82,
     "metadata": {},
     "output_type": "execute_result"
    }
   ],
   "source": [
    "#differnce\n",
    "s1 -s2"
   ]
  },
  {
   "cell_type": "code",
   "execution_count": 83,
   "id": "00e8b8d9-64c9-4a73-a3d5-1f021c5937ca",
   "metadata": {},
   "outputs": [
    {
     "data": {
      "text/plain": [
       "{'hiking', 'photography', 'reading', 'travelling'}"
      ]
     },
     "execution_count": 83,
     "metadata": {},
     "output_type": "execute_result"
    }
   ],
   "source": [
    "#symmertic diff \n",
    "s1 ^ s2"
   ]
  },
  {
   "cell_type": "markdown",
   "id": "db5abfab-367c-44d3-8382-fb45d1dc224f",
   "metadata": {},
   "source": [
    "## FROZEN SET"
   ]
  },
  {
   "cell_type": "code",
   "execution_count": 85,
   "id": "56a6c40a-0edb-41a7-aa3f-683cffa41c2d",
   "metadata": {},
   "outputs": [],
   "source": [
    "s = { 1 ,2 ,4, 4 , 6}"
   ]
  },
  {
   "cell_type": "code",
   "execution_count": 86,
   "id": "412fc510-aa7f-4b26-a9ae-d74804fe6a1a",
   "metadata": {},
   "outputs": [],
   "source": [
    "s.add(100)"
   ]
  },
  {
   "cell_type": "code",
   "execution_count": 89,
   "id": "af498266-0476-449e-806a-d86de0b3c47c",
   "metadata": {},
   "outputs": [
    {
     "data": {
      "text/plain": [
       "{1, 2, 4, 6, 100}"
      ]
     },
     "execution_count": 89,
     "metadata": {},
     "output_type": "execute_result"
    }
   ],
   "source": [
    "s"
   ]
  },
  {
   "cell_type": "code",
   "execution_count": 88,
   "id": "f58b6dde-5c47-4b3e-ad79-08ade253af99",
   "metadata": {},
   "outputs": [
    {
     "data": {
      "text/plain": [
       "{1, 2, 4, 6, 100}"
      ]
     },
     "execution_count": 88,
     "metadata": {},
     "output_type": "execute_result"
    }
   ],
   "source": [
    "s"
   ]
  },
  {
   "cell_type": "code",
   "execution_count": 90,
   "id": "bdb2cf89-37eb-45fd-b9a3-a2fa5deb06c9",
   "metadata": {},
   "outputs": [],
   "source": [
    "# frozen set >> immutable version of set , cannot be added or removed any new element"
   ]
  },
  {
   "cell_type": "code",
   "execution_count": 91,
   "id": "9aa032cf-37bf-4169-bbfb-16b9e5f01ba0",
   "metadata": {},
   "outputs": [],
   "source": [
    "my_fs =  frozenset([1 ,2 ,3 ,4 ,56])"
   ]
  },
  {
   "cell_type": "code",
   "execution_count": 92,
   "id": "0a21b288-f86c-493f-b253-aa3c2afe3a57",
   "metadata": {},
   "outputs": [
    {
     "data": {
      "text/plain": [
       "frozenset({1, 2, 3, 4, 56})"
      ]
     },
     "execution_count": 92,
     "metadata": {},
     "output_type": "execute_result"
    }
   ],
   "source": [
    "my_fs"
   ]
  },
  {
   "cell_type": "code",
   "execution_count": 93,
   "id": "e08e90ed-b0ea-4743-a688-e2098ed77853",
   "metadata": {},
   "outputs": [
    {
     "ename": "AttributeError",
     "evalue": "'frozenset' object has no attribute 'add'",
     "output_type": "error",
     "traceback": [
      "\u001b[1;31m---------------------------------------------------------------------------\u001b[0m",
      "\u001b[1;31mAttributeError\u001b[0m                            Traceback (most recent call last)",
      "Cell \u001b[1;32mIn[93], line 1\u001b[0m\n\u001b[1;32m----> 1\u001b[0m \u001b[43mmy_fs\u001b[49m\u001b[38;5;241;43m.\u001b[39;49m\u001b[43madd\u001b[49m(\u001b[38;5;241m200\u001b[39m)\n",
      "\u001b[1;31mAttributeError\u001b[0m: 'frozenset' object has no attribute 'add'"
     ]
    }
   ],
   "source": [
    "my_fs.add(200)"
   ]
  },
  {
   "cell_type": "code",
   "execution_count": 94,
   "id": "d1f35647-970e-4419-8972-42175f54910b",
   "metadata": {},
   "outputs": [
    {
     "data": {
      "text/plain": [
       "frozenset"
      ]
     },
     "execution_count": 94,
     "metadata": {},
     "output_type": "execute_result"
    }
   ],
   "source": [
    "type(my_fs)"
   ]
  },
  {
   "cell_type": "code",
   "execution_count": null,
   "id": "d120c96b-6a03-4344-8a5f-1d335586b172",
   "metadata": {},
   "outputs": [],
   "source": []
  }
 ],
 "metadata": {
  "kernelspec": {
   "display_name": "Python 3 (ipykernel)",
   "language": "python",
   "name": "python3"
  },
  "language_info": {
   "codemirror_mode": {
    "name": "ipython",
    "version": 3
   },
   "file_extension": ".py",
   "mimetype": "text/x-python",
   "name": "python",
   "nbconvert_exporter": "python",
   "pygments_lexer": "ipython3",
   "version": "3.12.7"
  }
 },
 "nbformat": 4,
 "nbformat_minor": 5
}
