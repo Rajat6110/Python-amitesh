{
 "cells": [
  {
   "cell_type": "markdown",
   "id": "35628d37-fa7b-48fe-89d7-8fa25a0a1921",
   "metadata": {},
   "source": [
    "# iterators and generators\n"
   ]
  },
  {
   "cell_type": "code",
   "execution_count": 2,
   "id": "834933a8-b7f9-4a85-9738-e87fe1a011b2",
   "metadata": {},
   "outputs": [
    {
     "name": "stdout",
     "output_type": "stream",
     "text": [
      "a\n",
      "m\n",
      "i\n",
      "t\n",
      "e\n",
      "s\n",
      "h\n",
      " \n",
      "b\n",
      "h\n",
      "a\n",
      "i\n",
      " \n",
      "k\n",
      "y\n",
      "a\n",
      "a\n",
      " \n",
      "h\n",
      "a\n",
      "a\n",
      "l\n",
      " \n",
      "h\n",
      "a\n",
      "i\n"
     ]
    }
   ],
   "source": [
    "for i in \"amitesh bhai kyaa haal hai\":\n",
    "    print(i) # this is iterable"
   ]
  },
  {
   "cell_type": "code",
   "execution_count": 7,
   "id": "f16e2078-af2c-40e2-b592-a1b8662f8e2c",
   "metadata": {},
   "outputs": [
    {
     "name": "stdout",
     "output_type": "stream",
     "text": [
      "apple \n",
      "5\n",
      "kela\n"
     ]
    }
   ],
   "source": [
    "for i in [ \"apple \" , 5 , \"kela\"]:\n",
    "    print(i) # this is iterable\n",
    "\n"
   ]
  },
  {
   "cell_type": "code",
   "execution_count": 8,
   "id": "000f7516-6f28-44a8-81d6-6c708a2a5e40",
   "metadata": {},
   "outputs": [
    {
     "ename": "TypeError",
     "evalue": "'int' object is not iterable",
     "output_type": "error",
     "traceback": [
      "\u001b[1;31m---------------------------------------------------------------------------\u001b[0m",
      "\u001b[1;31mTypeError\u001b[0m                                 Traceback (most recent call last)",
      "Cell \u001b[1;32mIn[8], line 1\u001b[0m\n\u001b[1;32m----> 1\u001b[0m \u001b[38;5;28;01mfor\u001b[39;00m i \u001b[38;5;129;01min\u001b[39;00m \u001b[38;5;241m5\u001b[39m:\n\u001b[0;32m      2\u001b[0m     \u001b[38;5;28mprint\u001b[39m(i) \u001b[38;5;66;03m# this is not iterable\u001b[39;00m\n",
      "\u001b[1;31mTypeError\u001b[0m: 'int' object is not iterable"
     ]
    }
   ],
   "source": [
    "for i in 5:\n",
    "    print(i) # this is not iterable"
   ]
  },
  {
   "cell_type": "code",
   "execution_count": 10,
   "id": "d9ac4cc1-6c2c-4c1a-8a18-da3902b78297",
   "metadata": {},
   "outputs": [],
   "source": [
    "# iterable >>\n",
    "# An iterable is any Python data structure/object that is capable of returning its members one at a time\n",
    "# permitting it to be iterated over in a loop\n",
    "# examples >> list , tuples"
   ]
  },
  {
   "cell_type": "code",
   "execution_count": 12,
   "id": "e256359c-063f-4297-be1e-f99f1da37184",
   "metadata": {},
   "outputs": [
    {
     "name": "stdout",
     "output_type": "stream",
     "text": [
      "2\n",
      "3\n",
      "4\n",
      "amitesh\n"
     ]
    }
   ],
   "source": [
    "lis = [ 2,3,4,'amitesh']\n",
    "for i in lis:\n",
    "    print(i) #list is itertable"
   ]
  },
  {
   "cell_type": "code",
   "execution_count": 13,
   "id": "132280e4-f9dc-45f9-92da-7f707cbc85c9",
   "metadata": {},
   "outputs": [],
   "source": [
    "# iteration \n",
    "# iteration is a process of looping through the elements of an iterable(list , string)\n",
    "# using a loop\n",
    "# the process of returning element one by one iteration "
   ]
  },
  {
   "cell_type": "code",
   "execution_count": 14,
   "id": "fcf2e01f-9c96-4b76-9c77-53b3ad6c44c6",
   "metadata": {},
   "outputs": [],
   "source": [
    "#iterator>> an iterator is an object representing a stream of data>>return the data one by one\n",
    "\n",
    "#Analogy\n",
    "#potato(iterable) >> it can not be cooked in original form\n",
    "#chop/wash the potato >> ready for cooking>>iterator\n",
    "#the process of cooking>>iteration"
   ]
  },
  {
   "cell_type": "code",
   "execution_count": 16,
   "id": "89839895-6d57-4709-9670-3050e962fc63",
   "metadata": {},
   "outputs": [
    {
     "name": "stdout",
     "output_type": "stream",
     "text": [
      "P\n",
      "W\n",
      "S\n",
      "K\n",
      "I\n",
      "L\n",
      "L\n",
      "S\n"
     ]
    }
   ],
   "source": [
    "s = 'PWSKILLS'\n",
    "for i in s:\n",
    "    print(i)"
   ]
  },
  {
   "cell_type": "code",
   "execution_count": 17,
   "id": "2ee3a1df-897d-43c1-a3de-89b9806ce784",
   "metadata": {},
   "outputs": [],
   "source": [
    "#pyhton >> can i perp s for iteration"
   ]
  },
  {
   "cell_type": "code",
   "execution_count": 19,
   "id": "4f36b56b-cb4e-40e7-8e19-e9eacace55bc",
   "metadata": {},
   "outputs": [
    {
     "data": {
      "text/plain": [
       "<str_ascii_iterator at 0x2928114c9d0>"
      ]
     },
     "execution_count": 19,
     "metadata": {},
     "output_type": "execute_result"
    }
   ],
   "source": [
    "iter(s) # iterator object"
   ]
  },
  {
   "cell_type": "code",
   "execution_count": 21,
   "id": "828c81db-9aab-480f-9c93-fdc0e1b9c36e",
   "metadata": {},
   "outputs": [],
   "source": [
    "a = iter(s)"
   ]
  },
  {
   "cell_type": "code",
   "execution_count": 22,
   "id": "64c29876-090c-4c43-9bb9-3e10dd322d33",
   "metadata": {},
   "outputs": [
    {
     "data": {
      "text/plain": [
       "<str_ascii_iterator at 0x292fff3ec80>"
      ]
     },
     "execution_count": 22,
     "metadata": {},
     "output_type": "execute_result"
    }
   ],
   "source": [
    "a"
   ]
  },
  {
   "cell_type": "code",
   "execution_count": 23,
   "id": "091fd547-da27-4cc9-b1e1-272e862ec9bc",
   "metadata": {},
   "outputs": [
    {
     "data": {
      "text/plain": [
       "'P'"
      ]
     },
     "execution_count": 23,
     "metadata": {},
     "output_type": "execute_result"
    }
   ],
   "source": [
    "next(a)"
   ]
  },
  {
   "cell_type": "code",
   "execution_count": 24,
   "id": "4c195987-f153-46eb-97eb-2cb9723a87d3",
   "metadata": {},
   "outputs": [
    {
     "data": {
      "text/plain": [
       "'W'"
      ]
     },
     "execution_count": 24,
     "metadata": {},
     "output_type": "execute_result"
    }
   ],
   "source": [
    "next(a)"
   ]
  },
  {
   "cell_type": "code",
   "execution_count": 25,
   "id": "60d9bc45-c6aa-44d2-b358-4fd585b8ff7f",
   "metadata": {},
   "outputs": [
    {
     "data": {
      "text/plain": [
       "'S'"
      ]
     },
     "execution_count": 25,
     "metadata": {},
     "output_type": "execute_result"
    }
   ],
   "source": [
    "next(a)"
   ]
  },
  {
   "cell_type": "code",
   "execution_count": 27,
   "id": "5223de92-6262-4185-ae33-d2cdaa3b1d8d",
   "metadata": {},
   "outputs": [
    {
     "name": "stdout",
     "output_type": "stream",
     "text": [
      "P\n",
      "W\n",
      "S\n",
      "K\n",
      "I\n",
      "L\n",
      "L\n",
      "S\n"
     ]
    }
   ],
   "source": [
    "for i in s:\n",
    "    print(i)\n",
    "#first conveting the iterable string to iterator object(using iter) and then access using next"
   ]
  },
  {
   "cell_type": "code",
   "execution_count": 28,
   "id": "7a2710c4-a15f-4ac8-b27b-11a883cf1809",
   "metadata": {},
   "outputs": [],
   "source": [
    "l = iter([1,3,4,5])"
   ]
  },
  {
   "cell_type": "code",
   "execution_count": 29,
   "id": "a0c6922f-9ceb-4775-a566-9eb42cf5a412",
   "metadata": {},
   "outputs": [
    {
     "data": {
      "text/plain": [
       "1"
      ]
     },
     "execution_count": 29,
     "metadata": {},
     "output_type": "execute_result"
    }
   ],
   "source": [
    "next(l)"
   ]
  },
  {
   "cell_type": "code",
   "execution_count": 30,
   "id": "b9aa1b3c-fd15-4bdc-90a8-7ced7d9c6676",
   "metadata": {},
   "outputs": [
    {
     "data": {
      "text/plain": [
       "3"
      ]
     },
     "execution_count": 30,
     "metadata": {},
     "output_type": "execute_result"
    }
   ],
   "source": [
    "next(l)"
   ]
  },
  {
   "cell_type": "code",
   "execution_count": 31,
   "id": "40e996bb-d155-4dee-874b-352da91c4d9a",
   "metadata": {},
   "outputs": [],
   "source": [
    "t = iter((1,3,4,5))"
   ]
  },
  {
   "cell_type": "code",
   "execution_count": 32,
   "id": "ed8c931d-0e76-4c09-8d16-c8f82c4133ea",
   "metadata": {},
   "outputs": [
    {
     "data": {
      "text/plain": [
       "1"
      ]
     },
     "execution_count": 32,
     "metadata": {},
     "output_type": "execute_result"
    }
   ],
   "source": [
    "next(t)"
   ]
  },
  {
   "cell_type": "code",
   "execution_count": 33,
   "id": "546be7ba-6d55-43a0-b0aa-00272cc7ef27",
   "metadata": {},
   "outputs": [],
   "source": [
    "t = iter({1,2,3})"
   ]
  },
  {
   "cell_type": "code",
   "execution_count": 34,
   "id": "777eaf70-ff87-4054-aedb-b46263a8660d",
   "metadata": {},
   "outputs": [
    {
     "data": {
      "text/plain": [
       "1"
      ]
     },
     "execution_count": 34,
     "metadata": {},
     "output_type": "execute_result"
    }
   ],
   "source": [
    "next(t)"
   ]
  },
  {
   "cell_type": "code",
   "execution_count": 37,
   "id": "b86831cf-84e0-4dc0-968d-fc1749945487",
   "metadata": {},
   "outputs": [],
   "source": [
    "d = iter({\"a\" : 1})"
   ]
  },
  {
   "cell_type": "code",
   "execution_count": 38,
   "id": "62d99f79-bca7-4176-bb9b-11e4545ab096",
   "metadata": {},
   "outputs": [
    {
     "data": {
      "text/plain": [
       "'a'"
      ]
     },
     "execution_count": 38,
     "metadata": {},
     "output_type": "execute_result"
    }
   ],
   "source": [
    "next(d)"
   ]
  },
  {
   "cell_type": "markdown",
   "id": "e83a8309-3b63-442e-8ace-41e1a78c05d1",
   "metadata": {},
   "source": [
    "# generator function"
   ]
  },
  {
   "cell_type": "code",
   "execution_count": null,
   "id": "af12f4f5-8a2e-4cde-a55c-3ed9cb1ffe4c",
   "metadata": {},
   "outputs": [],
   "source": [
    "def sqr(n):\n",
    "    l = []\n",
    "    for i in range(n):\n",
    "        l.append(i**2)\n",
    "    return l\n",
    "    #regular function calculates the square of the values and return in one go\n",
    "#since its returning in one go>>memory usage will be more and \n",
    "#it will a lot of execution time if there is lot of computation as all the\n",
    "#computations will be done first and then the calculation will be returned in one go"
   ]
  },
  {
   "cell_type": "code",
   "execution_count": null,
   "id": "fd998697-5d16-4b18-a33e-a5d88c682afd",
   "metadata": {},
   "outputs": [],
   "source": [
    "sqr(5)"
   ]
  },
  {
   "cell_type": "code",
   "execution_count": 1,
   "id": "56d15629-1522-47c6-8274-dace74271408",
   "metadata": {},
   "outputs": [],
   "source": [
    "#can we have something to generate result one by one one instead of one go\n",
    "#yield >> general function uses return statment but a generator function use yield statement\n"
   ]
  },
  {
   "cell_type": "code",
   "execution_count": 2,
   "id": "75ca4e19-8221-4f42-b3d8-249a46b03a40",
   "metadata": {},
   "outputs": [],
   "source": [
    "def sq(n):\n",
    "    for i in range(n):\n",
    "        yield i**2\n",
    "        "
   ]
  },
  {
   "cell_type": "code",
   "execution_count": 3,
   "id": "019b6073-2114-4fdc-af66-2e7a24340478",
   "metadata": {},
   "outputs": [
    {
     "data": {
      "text/plain": [
       "<generator object sq at 0x00000296BA59A5A0>"
      ]
     },
     "execution_count": 3,
     "metadata": {},
     "output_type": "execute_result"
    }
   ],
   "source": [
    "sq(5) #yield is creating a generator similar to iterator objea\n"
   ]
  },
  {
   "cell_type": "code",
   "execution_count": 4,
   "id": "f2c231c2-bbc1-4102-9bb9-fb6d3195c6c4",
   "metadata": {},
   "outputs": [],
   "source": [
    "gen =  sq(5)"
   ]
  },
  {
   "cell_type": "code",
   "execution_count": 5,
   "id": "fcf09012-4832-41e2-bb71-a0dbab3cd489",
   "metadata": {},
   "outputs": [
    {
     "data": {
      "text/plain": [
       "<generator object sq at 0x00000296BA59A740>"
      ]
     },
     "execution_count": 5,
     "metadata": {},
     "output_type": "execute_result"
    }
   ],
   "source": [
    "gen"
   ]
  },
  {
   "cell_type": "code",
   "execution_count": 6,
   "id": "f12b0843-997f-476f-9209-65bd47b42227",
   "metadata": {},
   "outputs": [
    {
     "name": "stdout",
     "output_type": "stream",
     "text": [
      "<generator object sq at 0x00000296BA59A740>\n"
     ]
    }
   ],
   "source": [
    "print(gen)"
   ]
  },
  {
   "cell_type": "code",
   "execution_count": 7,
   "id": "63ddcfc2-b0d5-4bea-a4da-9a5c1b789253",
   "metadata": {},
   "outputs": [
    {
     "data": {
      "text/plain": [
       "0"
      ]
     },
     "execution_count": 7,
     "metadata": {},
     "output_type": "execute_result"
    }
   ],
   "source": [
    "next(gen)"
   ]
  },
  {
   "cell_type": "code",
   "execution_count": 10,
   "id": "6d598bd1-0cd2-4ced-8e5a-43b6c4d5d897",
   "metadata": {},
   "outputs": [
    {
     "data": {
      "text/plain": [
       "4"
      ]
     },
     "execution_count": 10,
     "metadata": {},
     "output_type": "execute_result"
    }
   ],
   "source": [
    "next(gen)"
   ]
  },
  {
   "cell_type": "code",
   "execution_count": 11,
   "id": "47a3731c-76b5-49a2-bcb8-c375cb01884d",
   "metadata": {},
   "outputs": [
    {
     "data": {
      "text/plain": [
       "9"
      ]
     },
     "execution_count": 11,
     "metadata": {},
     "output_type": "execute_result"
    }
   ],
   "source": [
    "next(gen)"
   ]
  },
  {
   "cell_type": "code",
   "execution_count": 12,
   "id": "c04340ea-0951-419e-8935-dc87878ed61a",
   "metadata": {},
   "outputs": [
    {
     "data": {
      "text/plain": [
       "16"
      ]
     },
     "execution_count": 12,
     "metadata": {},
     "output_type": "execute_result"
    }
   ],
   "source": [
    "next(gen)"
   ]
  },
  {
   "cell_type": "code",
   "execution_count": 13,
   "id": "677e7e2c-e327-47e4-90f5-d677c2b06b39",
   "metadata": {},
   "outputs": [],
   "source": [
    "#fibonacci "
   ]
  },
  {
   "cell_type": "code",
   "execution_count": 15,
   "id": "0ef6957e-6ceb-4e00-86c1-05e57e8ee397",
   "metadata": {},
   "outputs": [],
   "source": [
    "def fib(n):\n",
    "    a = 0\n",
    "    b = 1\n",
    "    for i in range(n):\n",
    "        yield a\n",
    "        a,b = b , a+b\n",
    "    "
   ]
  },
  {
   "cell_type": "code",
   "execution_count": 18,
   "id": "29b550b5-9e92-44f2-b26a-b1f25d8d34a8",
   "metadata": {},
   "outputs": [],
   "source": [
    " c =fib(4)"
   ]
  },
  {
   "cell_type": "code",
   "execution_count": 20,
   "id": "a3768de7-0fd0-495a-a232-569d24ba16ea",
   "metadata": {},
   "outputs": [
    {
     "data": {
      "text/plain": [
       "1"
      ]
     },
     "execution_count": 20,
     "metadata": {},
     "output_type": "execute_result"
    }
   ],
   "source": [
    "next(c)"
   ]
  },
  {
   "cell_type": "code",
   "execution_count": 21,
   "id": "b7e341cf-9405-46d5-97fa-90278a678133",
   "metadata": {},
   "outputs": [
    {
     "data": {
      "text/plain": [
       "1"
      ]
     },
     "execution_count": 21,
     "metadata": {},
     "output_type": "execute_result"
    }
   ],
   "source": [
    "next(c)"
   ]
  },
  {
   "cell_type": "code",
   "execution_count": 22,
   "id": "f6a62e31-f741-4b0c-8d24-37feac5078a4",
   "metadata": {},
   "outputs": [
    {
     "data": {
      "text/plain": [
       "2"
      ]
     },
     "execution_count": 22,
     "metadata": {},
     "output_type": "execute_result"
    }
   ],
   "source": [
    "next(c)"
   ]
  },
  {
   "cell_type": "code",
   "execution_count": 23,
   "id": "2c11d73a-2daa-435a-acbd-c8429124a4c6",
   "metadata": {},
   "outputs": [
    {
     "ename": "StopIteration",
     "evalue": "",
     "output_type": "error",
     "traceback": [
      "\u001b[1;31m---------------------------------------------------------------------------\u001b[0m",
      "\u001b[1;31mStopIteration\u001b[0m                             Traceback (most recent call last)",
      "Cell \u001b[1;32mIn[23], line 1\u001b[0m\n\u001b[1;32m----> 1\u001b[0m \u001b[38;5;28;43mnext\u001b[39;49m\u001b[43m(\u001b[49m\u001b[43mc\u001b[49m\u001b[43m)\u001b[49m\n",
      "\u001b[1;31mStopIteration\u001b[0m: "
     ]
    }
   ],
   "source": [
    "next(c)"
   ]
  },
  {
   "cell_type": "code",
   "execution_count": null,
   "id": "398d12f6-6661-48ff-9a49-7d225e684f3a",
   "metadata": {},
   "outputs": [],
   "source": []
  }
 ],
 "metadata": {
  "kernelspec": {
   "display_name": "Python 3 (ipykernel)",
   "language": "python",
   "name": "python3"
  },
  "language_info": {
   "codemirror_mode": {
    "name": "ipython",
    "version": 3
   },
   "file_extension": ".py",
   "mimetype": "text/x-python",
   "name": "python",
   "nbconvert_exporter": "python",
   "pygments_lexer": "ipython3",
   "version": "3.12.7"
  }
 },
 "nbformat": 4,
 "nbformat_minor": 5
}
