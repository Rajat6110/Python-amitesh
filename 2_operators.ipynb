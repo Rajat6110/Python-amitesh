{
 "cells": [
  {
   "cell_type": "markdown",
   "id": "821b8206-d0e8-4ea1-8ae4-745815434913",
   "metadata": {},
   "source": [
    "OPERATORS IN PYTHON\n"
   ]
  },
  {
   "cell_type": "raw",
   "id": "93141ed2-8b76-4e09-b4ae-a437627a076d",
   "metadata": {},
   "source": [
    "IN PYHTON OPERATORS >> SPEICAL KEYWORDS TO PERFORM OPERATORS >> MANAGE AND COMPUTAION"
   ]
  },
  {
   "cell_type": "code",
   "execution_count": 1,
   "id": "22d4795b-ab46-4f99-8e9a-655174608b30",
   "metadata": {},
   "outputs": [
    {
     "data": {
      "text/plain": [
       "5"
      ]
     },
     "execution_count": 1,
     "metadata": {},
     "output_type": "execute_result"
    }
   ],
   "source": [
    "a = 2\n",
    "b= 3\n",
    "a+b"
   ]
  },
  {
   "cell_type": "raw",
   "id": "3c754a53-4e31-4870-8552-18935ee5fe22",
   "metadata": {},
   "source": [
    "Arithimatic operators\n",
    "\n",
    "+,-,/,%,* "
   ]
  },
  {
   "cell_type": "code",
   "execution_count": 3,
   "id": "f1a4ef2d-cb23-4884-a05e-4ca84c7e553f",
   "metadata": {},
   "outputs": [
    {
     "data": {
      "text/plain": [
       "5"
      ]
     },
     "execution_count": 3,
     "metadata": {},
     "output_type": "execute_result"
    }
   ],
   "source": [
    "add = a+b\n",
    "add"
   ]
  },
  {
   "cell_type": "code",
   "execution_count": 4,
   "id": "161662bd-3fe2-41d5-98a0-80d1366f24d0",
   "metadata": {},
   "outputs": [
    {
     "data": {
      "text/plain": [
       "-2"
      ]
     },
     "execution_count": 4,
     "metadata": {},
     "output_type": "execute_result"
    }
   ],
   "source": [
    "3-5"
   ]
  },
  {
   "cell_type": "code",
   "execution_count": 5,
   "id": "a57fa746-c7ab-4b28-9e1d-cb043c8b578f",
   "metadata": {},
   "outputs": [
    {
     "data": {
      "text/plain": [
       "300"
      ]
     },
     "execution_count": 5,
     "metadata": {},
     "output_type": "execute_result"
    }
   ],
   "source": [
    "3*100\n"
   ]
  },
  {
   "cell_type": "code",
   "execution_count": 7,
   "id": "20686a78-33a2-44d7-bea4-f545c2ca3dda",
   "metadata": {},
   "outputs": [
    {
     "data": {
      "text/plain": [
       "1"
      ]
     },
     "execution_count": 7,
     "metadata": {},
     "output_type": "execute_result"
    }
   ],
   "source": [
    "3%2\n",
    "#modulus operator - this will show the remainder in the output\n",
    "\n"
   ]
  },
  {
   "cell_type": "code",
   "execution_count": 11,
   "id": "6c522162-3952-4319-9342-15251b93b2fd",
   "metadata": {},
   "outputs": [
    {
     "data": {
      "text/plain": [
       "27"
      ]
     },
     "execution_count": 11,
     "metadata": {},
     "output_type": "execute_result"
    }
   ],
   "source": [
    "#if we have to find  power, cube  or square then we can do it by\n",
    "3**3"
   ]
  },
  {
   "cell_type": "code",
   "execution_count": 22,
   "id": "785d1d7a-6554-4438-bed5-bf9cde8d1524",
   "metadata": {},
   "outputs": [],
   "source": [
    "#floor operator -> if you want nearest lower side value \n"
   ]
  },
  {
   "cell_type": "code",
   "execution_count": 20,
   "id": "91ab1fa3-bdb5-4e73-87f2-d055072f3326",
   "metadata": {},
   "outputs": [
    {
     "data": {
      "text/plain": [
       "1.3333333333333333"
      ]
     },
     "execution_count": 20,
     "metadata": {},
     "output_type": "execute_result"
    }
   ],
   "source": [
    "4/3"
   ]
  },
  {
   "cell_type": "code",
   "execution_count": 21,
   "id": "bde161f4-cf12-4575-a7d8-d3c16bb480b6",
   "metadata": {},
   "outputs": [
    {
     "data": {
      "text/plain": [
       "1"
      ]
     },
     "execution_count": 21,
     "metadata": {},
     "output_type": "execute_result"
    }
   ],
   "source": [
    "4//3 -#floor operator"
   ]
  },
  {
   "cell_type": "raw",
   "id": "0ef91a5b-d6df-48c5-bcae-0074c3da4dca",
   "metadata": {},
   "source": [
    "COMPARISON OPERATOR\n",
    "compare two values and return a bool value \n",
    " eg - 2 == 2"
   ]
  },
  {
   "cell_type": "code",
   "execution_count": 23,
   "id": "f87b2d0d-e332-4d6b-b803-2ad610be1958",
   "metadata": {},
   "outputs": [
    {
     "data": {
      "text/plain": [
       "True"
      ]
     },
     "execution_count": 23,
     "metadata": {},
     "output_type": "execute_result"
    }
   ],
   "source": [
    "2 == 2"
   ]
  },
  {
   "cell_type": "code",
   "execution_count": 24,
   "id": "cddf483b-8c7f-4257-a74a-de040468ad19",
   "metadata": {},
   "outputs": [
    {
     "data": {
      "text/plain": [
       "False"
      ]
     },
     "execution_count": 24,
     "metadata": {},
     "output_type": "execute_result"
    }
   ],
   "source": [
    "2 != 2"
   ]
  },
  {
   "cell_type": "code",
   "execution_count": 25,
   "id": "99c2ca00-1b0d-44db-95db-f45376006751",
   "metadata": {},
   "outputs": [
    {
     "data": {
      "text/plain": [
       "True"
      ]
     },
     "execution_count": 25,
     "metadata": {},
     "output_type": "execute_result"
    }
   ],
   "source": [
    "5!=3"
   ]
  },
  {
   "cell_type": "code",
   "execution_count": 26,
   "id": "ec3a5613-2ca3-4e75-b35b-5cbd5471a086",
   "metadata": {},
   "outputs": [
    {
     "data": {
      "text/plain": [
       "True"
      ]
     },
     "execution_count": 26,
     "metadata": {},
     "output_type": "execute_result"
    }
   ],
   "source": [
    " 10 >2"
   ]
  },
  {
   "cell_type": "code",
   "execution_count": 27,
   "id": "af482e9b-85ec-432a-80c9-2219270bc6ef",
   "metadata": {},
   "outputs": [
    {
     "data": {
      "text/plain": [
       "True"
      ]
     },
     "execution_count": 27,
     "metadata": {},
     "output_type": "execute_result"
    }
   ],
   "source": [
    "10>= 2"
   ]
  },
  {
   "cell_type": "code",
   "execution_count": 28,
   "id": "2cc8b83c-6a7d-4d0b-a9f0-8276abe5bac4",
   "metadata": {},
   "outputs": [
    {
     "data": {
      "text/plain": [
       "False"
      ]
     },
     "execution_count": 28,
     "metadata": {},
     "output_type": "execute_result"
    }
   ],
   "source": [
    "47783>=746673"
   ]
  },
  {
   "cell_type": "markdown",
   "id": "ff7d816f-5239-4c65-8420-9f287881c5ed",
   "metadata": {},
   "source": [
    "#logical operator \n",
    "AND &&\n",
    "OR  ||\n"
   ]
  },
  {
   "cell_type": "code",
   "execution_count": 30,
   "id": "0071095e-1ffc-4346-bea4-7c76307c14d4",
   "metadata": {},
   "outputs": [
    {
     "data": {
      "text/plain": [
       "False"
      ]
     },
     "execution_count": 30,
     "metadata": {},
     "output_type": "execute_result"
    }
   ],
   "source": [
    "True and False"
   ]
  },
  {
   "cell_type": "code",
   "execution_count": 32,
   "id": "4714044d-5713-4a1a-9d89-b4090d6a1a66",
   "metadata": {},
   "outputs": [
    {
     "data": {
      "text/plain": [
       "True"
      ]
     },
     "execution_count": 32,
     "metadata": {},
     "output_type": "execute_result"
    }
   ],
   "source": [
    "True and True"
   ]
  },
  {
   "cell_type": "code",
   "execution_count": 33,
   "id": "c7a1cfdd-0244-46d5-b101-c7a0c206c14f",
   "metadata": {},
   "outputs": [
    {
     "data": {
      "text/plain": [
       "False"
      ]
     },
     "execution_count": 33,
     "metadata": {},
     "output_type": "execute_result"
    }
   ],
   "source": [
    "False and True"
   ]
  },
  {
   "cell_type": "code",
   "execution_count": 34,
   "id": "b5802f9f-d796-491a-8746-6aea0b7d83f7",
   "metadata": {},
   "outputs": [],
   "source": [
    " # not operator"
   ]
  },
  {
   "cell_type": "code",
   "execution_count": 35,
   "id": "587be2e9-17d3-4e11-8337-204061e2646d",
   "metadata": {},
   "outputs": [
    {
     "data": {
      "text/plain": [
       "False"
      ]
     },
     "execution_count": 35,
     "metadata": {},
     "output_type": "execute_result"
    }
   ],
   "source": [
    "not True"
   ]
  },
  {
   "cell_type": "code",
   "execution_count": 36,
   "id": "67d08725-68d5-4947-b834-6ed8366076be",
   "metadata": {},
   "outputs": [
    {
     "data": {
      "text/plain": [
       "True"
      ]
     },
     "execution_count": 36,
     "metadata": {},
     "output_type": "execute_result"
    }
   ],
   "source": [
    "not False"
   ]
  },
  {
   "cell_type": "raw",
   "id": "d8665206-a444-41ee-8bb5-6ce80f065154",
   "metadata": {},
   "source": [
    "ASSIGNMNET OPERATOR\n",
    " A = 5"
   ]
  },
  {
   "cell_type": "code",
   "execution_count": 38,
   "id": "523df224-6ad4-4b28-b916-66383284dec0",
   "metadata": {},
   "outputs": [
    {
     "data": {
      "text/plain": [
       "11"
      ]
     },
     "execution_count": 38,
     "metadata": {},
     "output_type": "execute_result"
    }
   ],
   "source": [
    "a=5\n",
    "a+6\n"
   ]
  },
  {
   "cell_type": "code",
   "execution_count": 11,
   "id": "270c1b40-fb9d-44f7-8d5b-865dfede5659",
   "metadata": {},
   "outputs": [
    {
     "data": {
      "text/plain": [
       "17"
      ]
     },
     "execution_count": 11,
     "metadata": {},
     "output_type": "execute_result"
    }
   ],
   "source": [
    " a= 12\n",
    "#a+=5\n",
    "\n",
    "a = a + 5\n",
    "a"
   ]
  },
  {
   "cell_type": "code",
   "execution_count": 19,
   "id": "7958083e-d685-4388-906a-18bc55daf069",
   "metadata": {},
   "outputs": [
    {
     "data": {
      "text/plain": [
       "-11"
      ]
     },
     "execution_count": 19,
     "metadata": {},
     "output_type": "execute_result"
    }
   ],
   "source": [
    " b = -45\n",
    "\n",
    "\n",
    "b = b + 34\n",
    "b"
   ]
  },
  {
   "cell_type": "code",
   "execution_count": null,
   "id": "ef43f6a0-fbcf-41da-939c-1a10f942fe29",
   "metadata": {},
   "outputs": [],
   "source": []
  },
  {
   "cell_type": "code",
   "execution_count": 42,
   "id": "264e9401-1f1f-45b4-ae59-b940fef4c535",
   "metadata": {},
   "outputs": [
    {
     "data": {
      "text/plain": [
       "22"
      ]
     },
     "execution_count": 42,
     "metadata": {},
     "output_type": "execute_result"
    }
   ],
   "source": [
    "b*=2\n",
    "b"
   ]
  },
  {
   "cell_type": "raw",
   "id": "b3864dc8-c151-4ac8-9245-5815adcf2a78",
   "metadata": {},
   "source": [
    "MEMBERSHIP OPERATOR\n"
   ]
  },
  {
   "cell_type": "code",
   "execution_count": 43,
   "id": "c420fac9-2c8d-425a-a264-c8046706ba44",
   "metadata": {},
   "outputs": [
    {
     "data": {
      "text/plain": [
       "True"
      ]
     },
     "execution_count": 43,
     "metadata": {},
     "output_type": "execute_result"
    }
   ],
   "source": [
    "a = \"pwsksill\"\n",
    "\"p\" in a"
   ]
  },
  {
   "cell_type": "code",
   "execution_count": 44,
   "id": "7bfce343-ef26-4574-ba2a-a8308486f041",
   "metadata": {},
   "outputs": [
    {
     "data": {
      "text/plain": [
       "False"
      ]
     },
     "execution_count": 44,
     "metadata": {},
     "output_type": "execute_result"
    }
   ],
   "source": [
    "\"a\" in a"
   ]
  },
  {
   "cell_type": "code",
   "execution_count": 45,
   "id": "68c9199c-d84a-436e-8e2f-68ca23767d81",
   "metadata": {},
   "outputs": [
    {
     "data": {
      "text/plain": [
       "True"
      ]
     },
     "execution_count": 45,
     "metadata": {},
     "output_type": "execute_result"
    }
   ],
   "source": [
    "\"D\" not in a"
   ]
  },
  {
   "cell_type": "code",
   "execution_count": 48,
   "id": "6355b114-5c99-4c57-b741-b08fc540c4e5",
   "metadata": {},
   "outputs": [
    {
     "data": {
      "text/plain": [
       "False"
      ]
     },
     "execution_count": 48,
     "metadata": {},
     "output_type": "execute_result"
    }
   ],
   "source": [
    "a = [ \"data\" , \"analytics\" , \"sci\"]\n",
    "\"Ajay\" in a"
   ]
  },
  {
   "cell_type": "raw",
   "id": "782757e0-9c1b-4fdb-9039-b588cbd5c2a2",
   "metadata": {},
   "source": [
    "INDENTITY OPERATOR \n",
    "Compares the location of 2 varaibles"
   ]
  },
  {
   "cell_type": "code",
   "execution_count": 21,
   "id": "7e9520db-ea46-46b3-b48a-09fc7800507e",
   "metadata": {},
   "outputs": [
    {
     "data": {
      "text/plain": [
       "True"
      ]
     },
     "execution_count": 21,
     "metadata": {},
     "output_type": "execute_result"
    }
   ],
   "source": [
    "a = 3\n",
    "b = 3\n",
    "a is b"
   ]
  },
  {
   "cell_type": "code",
   "execution_count": 23,
   "id": "1f537304-3078-477a-83b0-f847909a2e4b",
   "metadata": {},
   "outputs": [
    {
     "data": {
      "text/plain": [
       "False"
      ]
     },
     "execution_count": 23,
     "metadata": {},
     "output_type": "execute_result"
    }
   ],
   "source": [
    "a is not b "
   ]
  },
  {
   "cell_type": "code",
   "execution_count": 52,
   "id": "7e2b2fd6-3a4e-44f7-96c6-fed042df977d",
   "metadata": {},
   "outputs": [
    {
     "data": {
      "text/plain": [
       "True"
      ]
     },
     "execution_count": 52,
     "metadata": {},
     "output_type": "execute_result"
    }
   ],
   "source": [
    "a = 2\n",
    "b =a \n",
    "a is b "
   ]
  },
  {
   "cell_type": "raw",
   "id": "eded429e-547d-4d33-b7d0-90974ccde4b9",
   "metadata": {},
   "source": [
    "BITWISE OPERATOR\n",
    "OPERATIONS AT BIT LEVEL, manipulating individuals bits within integer "
   ]
  },
  {
   "cell_type": "code",
   "execution_count": 54,
   "id": "96cb0093-dc55-4b0e-a79f-a19ac14271dd",
   "metadata": {},
   "outputs": [
    {
     "data": {
      "text/plain": [
       "10"
      ]
     },
     "execution_count": 54,
     "metadata": {},
     "output_type": "execute_result"
    }
   ],
   "source": [
    "10 & 10"
   ]
  },
  {
   "cell_type": "code",
   "execution_count": 55,
   "id": "31b71e7e-cb71-4ea4-9d19-dda8a696179b",
   "metadata": {},
   "outputs": [
    {
     "data": {
      "text/plain": [
       "'0b1010'"
      ]
     },
     "execution_count": 55,
     "metadata": {},
     "output_type": "execute_result"
    }
   ],
   "source": [
    "bin(10) # bin - binary value"
   ]
  },
  {
   "cell_type": "code",
   "execution_count": 56,
   "id": "e3646b4b-80d7-4025-a772-ae204b2e1cda",
   "metadata": {},
   "outputs": [
    {
     "data": {
      "text/plain": [
       "'0b10000010110011001'"
      ]
     },
     "execution_count": 56,
     "metadata": {},
     "output_type": "execute_result"
    }
   ],
   "source": [
    "bin(66969)"
   ]
  },
  {
   "cell_type": "code",
   "execution_count": 57,
   "id": "ca5623cd-19fa-40f2-beed-bcdf7d82e8a2",
   "metadata": {},
   "outputs": [
    {
     "data": {
      "text/plain": [
       "2"
      ]
     },
     "execution_count": 57,
     "metadata": {},
     "output_type": "execute_result"
    }
   ],
   "source": [
    "18 & 2"
   ]
  },
  {
   "cell_type": "code",
   "execution_count": 59,
   "id": "5730258e-972e-4af7-9400-e6d70fd22ddd",
   "metadata": {},
   "outputs": [],
   "source": [
    "# OR BITWISE\n"
   ]
  },
  {
   "cell_type": "code",
   "execution_count": 60,
   "id": "4fe12b59-dc3a-44aa-9beb-58ddf7a54d1d",
   "metadata": {},
   "outputs": [
    {
     "data": {
      "text/plain": [
       "7"
      ]
     },
     "execution_count": 60,
     "metadata": {},
     "output_type": "execute_result"
    }
   ],
   "source": [
    " 3 | 7"
   ]
  },
  {
   "cell_type": "code",
   "execution_count": 61,
   "id": "79b0fc69-a051-44a4-9a51-c17db107fce2",
   "metadata": {},
   "outputs": [
    {
     "data": {
      "text/plain": [
       "6"
      ]
     },
     "execution_count": 61,
     "metadata": {},
     "output_type": "execute_result"
    }
   ],
   "source": [
    "4 | 2"
   ]
  },
  {
   "cell_type": "code",
   "execution_count": 62,
   "id": "607e0a36-73ed-4868-979a-15aeb3424391",
   "metadata": {},
   "outputs": [],
   "source": [
    "#NEGATION \n",
    "# ~"
   ]
  },
  {
   "cell_type": "code",
   "execution_count": 63,
   "id": "130a727d-3bbb-47d0-9ee5-2b575255d502",
   "metadata": {},
   "outputs": [
    {
     "data": {
      "text/plain": [
       "-4"
      ]
     },
     "execution_count": 63,
     "metadata": {},
     "output_type": "execute_result"
    }
   ],
   "source": [
    "~3"
   ]
  },
  {
   "cell_type": "code",
   "execution_count": 64,
   "id": "ac2d0d4e-b581-46df-945c-fc76ce243954",
   "metadata": {},
   "outputs": [
    {
     "data": {
      "text/plain": [
       "-101"
      ]
     },
     "execution_count": 64,
     "metadata": {},
     "output_type": "execute_result"
    }
   ],
   "source": [
    "~100"
   ]
  },
  {
   "cell_type": "code",
   "execution_count": 65,
   "id": "12de4a0b-a6e7-481c-8be6-d1bf3100310c",
   "metadata": {},
   "outputs": [
    {
     "data": {
      "text/plain": [
       "-70"
      ]
     },
     "execution_count": 65,
     "metadata": {},
     "output_type": "execute_result"
    }
   ],
   "source": [
    "~69"
   ]
  },
  {
   "cell_type": "raw",
   "id": "9f83a052-95be-4fdd-93cd-efeb05b0fbf1",
   "metadata": {},
   "source": [
    "BITWISE XOR ^"
   ]
  },
  {
   "cell_type": "code",
   "execution_count": 66,
   "id": "38831866-5a7b-44a4-97ae-f480fcf8dee3",
   "metadata": {},
   "outputs": [
    {
     "data": {
      "text/plain": [
       "6"
      ]
     },
     "execution_count": 66,
     "metadata": {},
     "output_type": "execute_result"
    }
   ],
   "source": [
    "5 ^ 3"
   ]
  },
  {
   "cell_type": "code",
   "execution_count": 67,
   "id": "b619376b-c6af-4854-ab36-96e5ce98b957",
   "metadata": {},
   "outputs": [
    {
     "data": {
      "text/plain": [
       "'0b101'"
      ]
     },
     "execution_count": 67,
     "metadata": {},
     "output_type": "execute_result"
    }
   ],
   "source": [
    "bin(5)"
   ]
  },
  {
   "cell_type": "code",
   "execution_count": 68,
   "id": "a108c0d4-35bc-4634-ba4b-a74f59ede735",
   "metadata": {},
   "outputs": [
    {
     "data": {
      "text/plain": [
       "'0b11'"
      ]
     },
     "execution_count": 68,
     "metadata": {},
     "output_type": "execute_result"
    }
   ],
   "source": [
    "bin(3)\n"
   ]
  },
  {
   "cell_type": "code",
   "execution_count": 69,
   "id": "91172674-48b2-4667-bcf5-28a200ccd422",
   "metadata": {},
   "outputs": [
    {
     "data": {
      "text/plain": [
       "'0b110'"
      ]
     },
     "execution_count": 69,
     "metadata": {},
     "output_type": "execute_result"
    }
   ],
   "source": [
    "bin(6)"
   ]
  },
  {
   "cell_type": "code",
   "execution_count": 70,
   "id": "4a318329-3dfa-492e-beb6-e317fb591e85",
   "metadata": {},
   "outputs": [
    {
     "data": {
      "text/plain": [
       "'0b10'"
      ]
     },
     "execution_count": 70,
     "metadata": {},
     "output_type": "execute_result"
    }
   ],
   "source": [
    "bin( 2 )"
   ]
  },
  {
   "cell_type": "code",
   "execution_count": 71,
   "id": "4e461749-04c8-42b4-aeaf-322274375a96",
   "metadata": {},
   "outputs": [
    {
     "data": {
      "text/plain": [
       "'0b110'"
      ]
     },
     "execution_count": 71,
     "metadata": {},
     "output_type": "execute_result"
    }
   ],
   "source": [
    "bin(6)"
   ]
  },
  {
   "cell_type": "code",
   "execution_count": 72,
   "id": "205f4b94-2097-4eae-ac1e-8e3e8d1f67b5",
   "metadata": {},
   "outputs": [
    {
     "data": {
      "text/plain": [
       "4"
      ]
     },
     "execution_count": 72,
     "metadata": {},
     "output_type": "execute_result"
    }
   ],
   "source": [
    " 2 ^ 6"
   ]
  },
  {
   "cell_type": "code",
   "execution_count": 73,
   "id": "50dd9408-28b3-4801-96cb-f07c6c2f6499",
   "metadata": {},
   "outputs": [
    {
     "data": {
      "text/plain": [
       "'0b100'"
      ]
     },
     "execution_count": 73,
     "metadata": {},
     "output_type": "execute_result"
    }
   ],
   "source": [
    "bin(4)"
   ]
  },
  {
   "cell_type": "raw",
   "id": "ae2e6cce-8a76-4feb-b076-6431bcee2999",
   "metadata": {},
   "source": [
    "SHIFT OPERTOR\n",
    "LEFT AND RIGHT SHIFT\n"
   ]
  },
  {
   "cell_type": "code",
   "execution_count": 76,
   "id": "c249bdd5-0966-45e1-937b-79aa456d0c54",
   "metadata": {},
   "outputs": [
    {
     "data": {
      "text/plain": [
       "280"
      ]
     },
     "execution_count": 76,
     "metadata": {},
     "output_type": "execute_result"
    }
   ],
   "source": [
    " 35 << 3 ##LEFT SHIFT"
   ]
  },
  {
   "cell_type": "code",
   "execution_count": 77,
   "id": "d059257f-7010-4b7f-a5fd-4b91eefbb04e",
   "metadata": {},
   "outputs": [
    {
     "data": {
      "text/plain": [
       "5"
      ]
     },
     "execution_count": 77,
     "metadata": {},
     "output_type": "execute_result"
    }
   ],
   "source": [
    " 45 >> 3"
   ]
  },
  {
   "cell_type": "raw",
   "id": "7add870e-ea67-429a-9b25-076aa83223b0",
   "metadata": {},
   "source": [
    "ORDER OF PRECEDENCE \n",
    "execution of python statemnet will be from left to right \n"
   ]
  },
  {
   "cell_type": "code",
   "execution_count": 78,
   "id": "a4a637a1-f9be-42a0-94cd-5eb555159497",
   "metadata": {},
   "outputs": [
    {
     "data": {
      "text/plain": [
       "9"
      ]
     },
     "execution_count": 78,
     "metadata": {},
     "output_type": "execute_result"
    }
   ],
   "source": [
    " b = 5\n",
    "b +=4\n",
    "b"
   ]
  },
  {
   "cell_type": "code",
   "execution_count": 79,
   "id": "1edd32c7-dc29-49d7-92f6-b168fd121546",
   "metadata": {},
   "outputs": [
    {
     "data": {
      "text/plain": [
       "1"
      ]
     },
     "execution_count": 79,
     "metadata": {},
     "output_type": "execute_result"
    }
   ],
   "source": [
    "2+3-4"
   ]
  },
  {
   "cell_type": "code",
   "execution_count": 80,
   "id": "1bcd1084-bb50-49eb-9f21-9f47d00e1820",
   "metadata": {},
   "outputs": [
    {
     "data": {
      "text/plain": [
       "13"
      ]
     },
     "execution_count": 80,
     "metadata": {},
     "output_type": "execute_result"
    }
   ],
   "source": [
    "9+6-2"
   ]
  },
  {
   "cell_type": "code",
   "execution_count": 81,
   "id": "510579a0-6040-4b20-8c37-d19e6987db0e",
   "metadata": {},
   "outputs": [
    {
     "data": {
      "text/plain": [
       "4"
      ]
     },
     "execution_count": 81,
     "metadata": {},
     "output_type": "execute_result"
    }
   ],
   "source": [
    "(5+3) - 4 # () first "
   ]
  },
  {
   "cell_type": "code",
   "execution_count": 82,
   "id": "8022dcb2-0e81-47ac-b1c5-6501922945ba",
   "metadata": {},
   "outputs": [
    {
     "data": {
      "text/plain": [
       "-4"
      ]
     },
     "execution_count": 82,
     "metadata": {},
     "output_type": "execute_result"
    }
   ],
   "source": [
    " 4- (3+5) # () first"
   ]
  },
  {
   "cell_type": "code",
   "execution_count": 83,
   "id": "f4178f78-452d-4aac-ae98-7eec3d0ab6d5",
   "metadata": {},
   "outputs": [
    {
     "data": {
      "text/plain": [
       "11.0"
      ]
     },
     "execution_count": 83,
     "metadata": {},
     "output_type": "execute_result"
    }
   ],
   "source": [
    "(10+5) - (8/2)"
   ]
  },
  {
   "cell_type": "code",
   "execution_count": 2,
   "id": "15d0c233-e4da-42d5-9681-66aef6e8a9b4",
   "metadata": {},
   "outputs": [
    {
     "ename": "SyntaxError",
     "evalue": "invalid syntax (675908900.py, line 2)",
     "output_type": "error",
     "traceback": [
      "\u001b[1;36m  Cell \u001b[1;32mIn[2], line 2\u001b[1;36m\u001b[0m\n\u001b[1;33m    if a>0||a<100:\u001b[0m\n\u001b[1;37m           ^\u001b[0m\n\u001b[1;31mSyntaxError\u001b[0m\u001b[1;31m:\u001b[0m invalid syntax\n"
     ]
    }
   ],
   "source": [
    "a = 55\n",
    "if a>0||a<100:                         \n",
    "    print(\"yes\")"
   ]
  },
  {
   "cell_type": "code",
   "execution_count": 3,
   "id": "0bffd6d0-2938-4925-a4d5-7075ef1a9830",
   "metadata": {},
   "outputs": [
    {
     "data": {
      "text/plain": [
       "True"
      ]
     },
     "execution_count": 3,
     "metadata": {},
     "output_type": "execute_result"
    }
   ],
   "source": [
    "True or False"
   ]
  },
  {
   "cell_type": "code",
   "execution_count": 37,
   "id": "7290416b-81f0-4120-a047-539cadc55989",
   "metadata": {},
   "outputs": [
    {
     "name": "stdout",
     "output_type": "stream",
     "text": [
      "yes\n"
     ]
    }
   ],
   "source": [
    "a = 55\n",
    "if a>10 and a<56:                         \n",
    "    print(\"yes\")"
   ]
  },
  {
   "cell_type": "code",
   "execution_count": null,
   "id": "1b3c2b40-4773-4485-b6bf-acbd78462852",
   "metadata": {},
   "outputs": [],
   "source": []
  }
 ],
 "metadata": {
  "kernelspec": {
   "display_name": "Python 3 (ipykernel)",
   "language": "python",
   "name": "python3"
  },
  "language_info": {
   "codemirror_mode": {
    "name": "ipython",
    "version": 3
   },
   "file_extension": ".py",
   "mimetype": "text/x-python",
   "name": "python",
   "nbconvert_exporter": "python",
   "pygments_lexer": "ipython3",
   "version": "3.12.7"
  }
 },
 "nbformat": 4,
 "nbformat_minor": 5
}
