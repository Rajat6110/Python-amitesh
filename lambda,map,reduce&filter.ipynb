{
 "cells": [
  {
   "cell_type": "code",
   "execution_count": 6,
   "id": "bf12cb3e-1e27-4988-ac6b-306f0daab9de",
   "metadata": {},
   "outputs": [],
   "source": [
    "#lambda fucntion - anonymous fucntion\n",
    "#syntax\n",
    "# lamnda aregument : expression - no neeed of def keyword and retrun staetment\n"
   ]
  },
  {
   "cell_type": "code",
   "execution_count": 4,
   "id": "06e3b491-3083-4dce-8857-cab1bd31c292",
   "metadata": {},
   "outputs": [
    {
     "data": {
      "text/plain": [
       "4"
      ]
     },
     "execution_count": 4,
     "metadata": {},
     "output_type": "execute_result"
    }
   ],
   "source": [
    "def sq(x):\n",
    "    return x**2\n",
    "sq(2)"
   ]
  },
  {
   "cell_type": "code",
   "execution_count": 7,
   "id": "3778c530-d3db-4c2e-aa68-d400d1d41df5",
   "metadata": {},
   "outputs": [],
   "source": [
    "sq = lambda x : x**2"
   ]
  },
  {
   "cell_type": "code",
   "execution_count": 9,
   "id": "a4a187e9-ba54-4521-9f1f-45bb7b07db8a",
   "metadata": {},
   "outputs": [
    {
     "data": {
      "text/plain": [
       "16"
      ]
     },
     "execution_count": 9,
     "metadata": {},
     "output_type": "execute_result"
    }
   ],
   "source": [
    "sq(4)"
   ]
  },
  {
   "cell_type": "code",
   "execution_count": 10,
   "id": "71ad32c0-a349-4b6a-9de2-377d5a7ff6b4",
   "metadata": {},
   "outputs": [],
   "source": [
    "add = lambda a,b : a+b"
   ]
  },
  {
   "cell_type": "code",
   "execution_count": 11,
   "id": "4562c50b-0415-46d3-8590-4ac54e1c3e72",
   "metadata": {},
   "outputs": [
    {
     "data": {
      "text/plain": [
       "9"
      ]
     },
     "execution_count": 11,
     "metadata": {},
     "output_type": "execute_result"
    }
   ],
   "source": [
    "add(4,5)"
   ]
  },
  {
   "cell_type": "code",
   "execution_count": 13,
   "id": "27fbb234-1ef9-4f88-b9a1-bf4173c5c3f9",
   "metadata": {},
   "outputs": [],
   "source": [
    "mul = lambda x,y : x*y"
   ]
  },
  {
   "cell_type": "code",
   "execution_count": 14,
   "id": "80edb9a8-03f0-4b6d-9071-37ed54d27b79",
   "metadata": {},
   "outputs": [
    {
     "data": {
      "text/plain": [
       "20"
      ]
     },
     "execution_count": 14,
     "metadata": {},
     "output_type": "execute_result"
    }
   ],
   "source": [
    "mul(4,5)"
   ]
  },
  {
   "cell_type": "code",
   "execution_count": 15,
   "id": "3949eb78-d9e1-4613-94e2-4166286c4086",
   "metadata": {},
   "outputs": [
    {
     "data": {
      "text/plain": [
       "True"
      ]
     },
     "execution_count": 15,
     "metadata": {},
     "output_type": "execute_result"
    }
   ],
   "source": [
    "od_eve = lambda x : x%2==0 \n",
    "od_eve(4)"
   ]
  },
  {
   "cell_type": "code",
   "execution_count": 16,
   "id": "ac65c570-a34e-4b71-be38-155fab2bea7e",
   "metadata": {},
   "outputs": [],
   "source": [
    "x = [\"py \", \"ds\" , \"rajat\"]"
   ]
  },
  {
   "cell_type": "code",
   "execution_count": 17,
   "id": "75589a9c-739e-46c5-8755-2e923a6a6e68",
   "metadata": {},
   "outputs": [
    {
     "data": {
      "text/plain": [
       "['py ', 'ds', 'rajat']"
      ]
     },
     "execution_count": 17,
     "metadata": {},
     "output_type": "execute_result"
    }
   ],
   "source": [
    "x"
   ]
  },
  {
   "cell_type": "code",
   "execution_count": 19,
   "id": "9e853832-7bb0-4337-a835-f721a879f553",
   "metadata": {},
   "outputs": [
    {
     "data": {
      "text/plain": [
       "['ds', 'py ', 'rajat']"
      ]
     },
     "execution_count": 19,
     "metadata": {},
     "output_type": "execute_result"
    }
   ],
   "source": [
    "sorted(x) # by defualt  sorting based on alphabetical order"
   ]
  },
  {
   "cell_type": "code",
   "execution_count": 20,
   "id": "59edc9f2-bfc2-450e-a87c-d182e33db71f",
   "metadata": {},
   "outputs": [],
   "source": [
    "# sort the list based on length of element of list"
   ]
  },
  {
   "cell_type": "code",
   "execution_count": 21,
   "id": "edcd7b32-081f-4129-8ffc-37a804de5cab",
   "metadata": {},
   "outputs": [],
   "source": [
    "l = lambda x : len(x)"
   ]
  },
  {
   "cell_type": "code",
   "execution_count": 23,
   "id": "62e34d67-1b6c-43c6-9320-803feab60523",
   "metadata": {},
   "outputs": [
    {
     "data": {
      "text/plain": [
       "7"
      ]
     },
     "execution_count": 23,
     "metadata": {},
     "output_type": "execute_result"
    }
   ],
   "source": []
  },
  {
   "cell_type": "code",
   "execution_count": 26,
   "id": "0f9e862d-f3f5-4f01-b931-404535318b9e",
   "metadata": {},
   "outputs": [
    {
     "data": {
      "text/plain": [
       "['rajat', 'py ', 'ds']"
      ]
     },
     "execution_count": 26,
     "metadata": {},
     "output_type": "execute_result"
    }
   ],
   "source": [
    "sorted(x , key = lambda x : len(x) , reverse = True)"
   ]
  },
  {
   "cell_type": "code",
   "execution_count": 33,
   "id": "d1579551-c3eb-486e-b29f-ab95654d317e",
   "metadata": {},
   "outputs": [
    {
     "data": {
      "text/plain": [
       "[0, 1, 1, 2, 3, 5, 8, 13, 21, 34]"
      ]
     },
     "execution_count": 33,
     "metadata": {},
     "output_type": "execute_result"
    }
   ],
   "source": [
    "fib = lambda n :n if n<=1 else fib(n-1) + fib(n-2)\n",
    "[fib(i) for i in range(10)]"
   ]
  },
  {
   "cell_type": "code",
   "execution_count": 34,
   "id": "70659412-18f2-4b6d-aa2e-a39b4941170c",
   "metadata": {},
   "outputs": [],
   "source": [
    "#factorial"
   ]
  },
  {
   "cell_type": "code",
   "execution_count": 35,
   "id": "fce8dcdf-c7fb-412f-9d42-bbbaf3332cc2",
   "metadata": {},
   "outputs": [],
   "source": [
    "def fact_num(n):\n",
    "    if n ==0:\n",
    "        return 1\n",
    "    else:\n",
    "        return n*fact_num(n-1)\n",
    "    "
   ]
  },
  {
   "cell_type": "code",
   "execution_count": 36,
   "id": "e03772b6-d0b7-4fad-9a8e-e5ab8f6dffb8",
   "metadata": {},
   "outputs": [
    {
     "data": {
      "text/plain": [
       "120"
      ]
     },
     "execution_count": 36,
     "metadata": {},
     "output_type": "execute_result"
    }
   ],
   "source": [
    "fact_num(5)"
   ]
  },
  {
   "cell_type": "code",
   "execution_count": 44,
   "id": "69f4cf6a-65d4-4499-bfad-9b66d32e425d",
   "metadata": {},
   "outputs": [],
   "source": [
    "fact_num = lambda n : 1 if n == 0 else n*fact_num(n-1)"
   ]
  },
  {
   "cell_type": "code",
   "execution_count": 45,
   "id": "ade9bab5-d425-43b9-9374-ff86fac5ed48",
   "metadata": {},
   "outputs": [
    {
     "data": {
      "text/plain": [
       "120"
      ]
     },
     "execution_count": 45,
     "metadata": {},
     "output_type": "execute_result"
    }
   ],
   "source": [
    "fact_num(5)"
   ]
  },
  {
   "cell_type": "code",
   "execution_count": 47,
   "id": "44a71652-2dc8-453f-8a42-d5d564cf9af2",
   "metadata": {},
   "outputs": [],
   "source": [
    "# map fucntion >> excutes specified fucntion for each of item of an iterable"
   ]
  },
  {
   "cell_type": "code",
   "execution_count": 48,
   "id": "faae7e39-6374-488d-944f-5352c329b2db",
   "metadata": {},
   "outputs": [],
   "source": [
    "# syntax map (func, *iterables)"
   ]
  },
  {
   "cell_type": "code",
   "execution_count": 1,
   "id": "0ec6174d-2fb4-46bb-b44e-108ea29b0f15",
   "metadata": {},
   "outputs": [
    {
     "name": "stdout",
     "output_type": "stream",
     "text": [
      "Help on class map in module builtins:\n",
      "\n",
      "class map(object)\n",
      " |  map(func, *iterables) --> map object\n",
      " |  \n",
      " |  Make an iterator that computes the function using arguments from\n",
      " |  each of the iterables.  Stops when the shortest iterable is exhausted.\n",
      " |  \n",
      " |  Methods defined here:\n",
      " |  \n",
      " |  __getattribute__(self, name, /)\n",
      " |      Return getattr(self, name).\n",
      " |  \n",
      " |  __iter__(self, /)\n",
      " |      Implement iter(self).\n",
      " |  \n",
      " |  __next__(self, /)\n",
      " |      Implement next(self).\n",
      " |  \n",
      " |  __reduce__(...)\n",
      " |      Return state information for pickling.\n",
      " |  \n",
      " |  ----------------------------------------------------------------------\n",
      " |  Static methods defined here:\n",
      " |  \n",
      " |  __new__(*args, **kwargs) from builtins.type\n",
      " |      Create and return a new object.  See help(type) for accurate signature.\n",
      "\n"
     ]
    }
   ],
   "source": [
    "help(map)"
   ]
  },
  {
   "cell_type": "code",
   "execution_count": 9,
   "id": "25c9cab1-e8f6-49da-9537-33e63d0a56f1",
   "metadata": {},
   "outputs": [
    {
     "name": "stdout",
     "output_type": "stream",
     "text": [
      "[1, 4, 9, 16, 25]\n"
     ]
    }
   ],
   "source": [
    "l = [ 1,2,3,4,5]\n",
    "def sq(l):\n",
    "    l1 = []\n",
    "    for i in l:\n",
    "        l1.append(i**2)\n",
    "    return l1\n",
    "result = sq(l)\n",
    "print(result)"
   ]
  },
  {
   "cell_type": "code",
   "execution_count": 13,
   "id": "7efb53b8-20c8-416a-9f2f-241146d4df48",
   "metadata": {},
   "outputs": [],
   "source": [
    "def sqr(x):\n",
    "    return x**2\n"
   ]
  },
  {
   "cell_type": "code",
   "execution_count": 14,
   "id": "701a3529-4719-43e8-ae18-18d91f676bc9",
   "metadata": {},
   "outputs": [
    {
     "data": {
      "text/plain": [
       "[1, 2, 3, 4, 5]"
      ]
     },
     "execution_count": 14,
     "metadata": {},
     "output_type": "execute_result"
    }
   ],
   "source": [
    "l"
   ]
  },
  {
   "cell_type": "code",
   "execution_count": 15,
   "id": "5177fc17-3e1b-4037-9a8a-7212414d3d49",
   "metadata": {},
   "outputs": [
    {
     "data": {
      "text/plain": [
       "<map at 0x25243c43580>"
      ]
     },
     "execution_count": 15,
     "metadata": {},
     "output_type": "execute_result"
    }
   ],
   "source": [
    "map(sq,l)"
   ]
  },
  {
   "cell_type": "code",
   "execution_count": 16,
   "id": "3a04e32a-0441-47bc-98c7-c78101548e5f",
   "metadata": {},
   "outputs": [
    {
     "data": {
      "text/plain": [
       "[1, 4, 9, 16, 25]"
      ]
     },
     "execution_count": 16,
     "metadata": {},
     "output_type": "execute_result"
    }
   ],
   "source": [
    "list(map(sqr,l))"
   ]
  },
  {
   "cell_type": "code",
   "execution_count": 17,
   "id": "30dffc81-aca3-4631-8254-37baa262bfea",
   "metadata": {},
   "outputs": [
    {
     "data": {
      "text/plain": [
       "[11, 12, 13, 14, 15]"
      ]
     },
     "execution_count": 17,
     "metadata": {},
     "output_type": "execute_result"
    }
   ],
   "source": [
    "def add(x):\n",
    "    return x+10\n",
    "list(map(add,l))"
   ]
  },
  {
   "cell_type": "code",
   "execution_count": 18,
   "id": "a459f1ba-21d0-41f9-babc-424a8dd76f49",
   "metadata": {},
   "outputs": [],
   "source": [
    "# using lambda witrh mAP"
   ]
  },
  {
   "cell_type": "code",
   "execution_count": 19,
   "id": "b5bc7982-1441-4bb5-83ba-b0455069bd4d",
   "metadata": {},
   "outputs": [
    {
     "data": {
      "text/plain": [
       "<map at 0x25243c425c0>"
      ]
     },
     "execution_count": 19,
     "metadata": {},
     "output_type": "execute_result"
    }
   ],
   "source": [
    "map(lambda x: x**2 , l)"
   ]
  },
  {
   "cell_type": "code",
   "execution_count": 20,
   "id": "73d97879-3811-4ec9-9519-85ac50e01ec0",
   "metadata": {},
   "outputs": [
    {
     "data": {
      "text/plain": [
       "[1, 4, 9, 16, 25]"
      ]
     },
     "execution_count": 20,
     "metadata": {},
     "output_type": "execute_result"
    }
   ],
   "source": [
    "list(map(lambda x: x**2 , l))"
   ]
  },
  {
   "cell_type": "code",
   "execution_count": 21,
   "id": "0e0028b3-9f25-4036-b0df-b4b367473c49",
   "metadata": {},
   "outputs": [
    {
     "data": {
      "text/plain": [
       "[11, 12, 13, 14, 15]"
      ]
     },
     "execution_count": 21,
     "metadata": {},
     "output_type": "execute_result"
    }
   ],
   "source": [
    "list(map(lambda x: x+10 , l))"
   ]
  },
  {
   "cell_type": "code",
   "execution_count": 22,
   "id": "84d78cde-f913-4928-8037-c7288c8435b6",
   "metadata": {},
   "outputs": [
    {
     "data": {
      "text/plain": [
       "[1, 2, 3, 4]"
      ]
     },
     "execution_count": 22,
     "metadata": {},
     "output_type": "execute_result"
    }
   ],
   "source": [
    "l = [ \"1\" , \"2\" , \"3\", \"4\"]\n",
    "list(map(lambda x : int(x), l))"
   ]
  },
  {
   "cell_type": "code",
   "execution_count": 23,
   "id": "3a19e1dd-2bcf-4558-b0be-b0acb17f9486",
   "metadata": {},
   "outputs": [
    {
     "data": {
      "text/plain": [
       "[782, 989, 12489, 12489]"
      ]
     },
     "execution_count": 23,
     "metadata": {},
     "output_type": "execute_result"
    }
   ],
   "source": [
    "l = [ 34, 43 ,543, 543]\n",
    "list(map(lambda x : x *23, l))"
   ]
  },
  {
   "cell_type": "code",
   "execution_count": 28,
   "id": "984447c3-4479-4dc8-921a-4406ccec7326",
   "metadata": {},
   "outputs": [
    {
     "data": {
      "text/plain": [
       "(4, 5, 37, 8)"
      ]
     },
     "execution_count": 28,
     "metadata": {},
     "output_type": "execute_result"
    }
   ],
   "source": [
    "t = (1,2,34,5)\n",
    "tuple(map(lambda x: x+3, t))"
   ]
  },
  {
   "cell_type": "code",
   "execution_count": 31,
   "id": "8e2455da-4be9-4c4b-9c38-d98f07666db0",
   "metadata": {},
   "outputs": [
    {
     "data": {
      "text/plain": [
       "[124, 204, 303]"
      ]
     },
     "execution_count": 31,
     "metadata": {},
     "output_type": "execute_result"
    }
   ],
   "source": [
    "l1 = [ 100 , 200 , 300]\n",
    "l2 = [ 24,4,3,5,4,55]\n",
    "list(map(lambda x,y : x+y, l1,l2))"
   ]
  },
  {
   "cell_type": "code",
   "execution_count": 35,
   "id": "c7b0a97b-b648-4f00-91f4-cb4f4939a7fa",
   "metadata": {},
   "outputs": [
    {
     "data": {
      "text/plain": [
       "('P', 'W', 'S', 'K', 'I', 'L', 'L', 'S')"
      ]
     },
     "execution_count": 35,
     "metadata": {},
     "output_type": "execute_result"
    }
   ],
   "source": [
    "s = \"pwskills\"\n",
    "tuple(map(lambda x : x.upper(),s))"
   ]
  },
  {
   "cell_type": "code",
   "execution_count": 36,
   "id": "b28474c4-5a23-4c97-8216-03a12af4680d",
   "metadata": {},
   "outputs": [
    {
     "data": {
      "text/plain": [
       "['Python ', 'Ajay', 'Amitesh']"
      ]
     },
     "execution_count": 36,
     "metadata": {},
     "output_type": "execute_result"
    }
   ],
   "source": [
    "words = [ \"python \" , \"ajay\" , \"AMitesh\"]\n",
    "list(map(lambda x: x.capitalize(), words))"
   ]
  },
  {
   "cell_type": "code",
   "execution_count": 39,
   "id": "ff316fad-2849-4180-a35b-4c77b356b91c",
   "metadata": {},
   "outputs": [
    {
     "data": {
      "text/plain": [
       "['python ', 'ajay', 'amitesh']"
      ]
     },
     "execution_count": 39,
     "metadata": {},
     "output_type": "execute_result"
    }
   ],
   "source": [
    "words = [ \"python \" , \"ajay\" , \"AMitesh\"]\n",
    "list(map(lambda x: x.lower(), words))"
   ]
  },
  {
   "cell_type": "code",
   "execution_count": 41,
   "id": "e3129b42-b2f6-4e36-8655-86662d29d718",
   "metadata": {},
   "outputs": [
    {
     "data": {
      "text/plain": [
       "['Python ', 'Ajay', 'Amitesh']"
      ]
     },
     "execution_count": 41,
     "metadata": {},
     "output_type": "execute_result"
    }
   ],
   "source": [
    "words = [ \"python \" , \"ajay\" , \"AMitesh\"]\n",
    "list(map(str.capitalize, words))"
   ]
  },
  {
   "cell_type": "code",
   "execution_count": 47,
   "id": "ff42d668-d43f-4cbe-b51c-799d8ccd5d1f",
   "metadata": {},
   "outputs": [
    {
     "data": {
      "text/plain": [
       "[4, 3, 2]"
      ]
     },
     "execution_count": 47,
     "metadata": {},
     "output_type": "execute_result"
    }
   ],
   "source": [
    "grades = [ \"A\" , \"b\" , \"c\"]\n",
    "list(map(lambda grade: 4 if grade == \"A\" else 3 if grade == \"b\" else 2  , grades))"
   ]
  },
  {
   "cell_type": "markdown",
   "id": "0590b18e-6386-4aa0-a1a6-169a20527b21",
   "metadata": {},
   "source": [
    "# Reduce"
   ]
  },
  {
   "cell_type": "code",
   "execution_count": 48,
   "id": "21858c64-2dfa-4026-8f0d-9cf637db3ac2",
   "metadata": {},
   "outputs": [],
   "source": [
    "# reduce >> folding , redunction\n",
    "# syntax - reduce(fucn, iterable)\n",
    "# reduce  will always take two argurmnts func\n",
    "from functools import reduce\n"
   ]
  },
  {
   "cell_type": "code",
   "execution_count": 49,
   "id": "54341dd1-23eb-4fd2-a6ea-963a12fed0a3",
   "metadata": {},
   "outputs": [
    {
     "data": {
      "text/plain": [
       "82"
      ]
     },
     "execution_count": 49,
     "metadata": {},
     "output_type": "execute_result"
    }
   ],
   "source": [
    "l = [23,4,3,4,3,45]\n",
    "reduce(lambda x , y: x+y , l)"
   ]
  },
  {
   "cell_type": "code",
   "execution_count": 51,
   "id": "9d5dbbd3-7626-478b-bb62-530fccc4f6b6",
   "metadata": {},
   "outputs": [
    {
     "data": {
      "text/plain": [
       "149040"
      ]
     },
     "execution_count": 51,
     "metadata": {},
     "output_type": "execute_result"
    }
   ],
   "source": [
    "reduce(lambda x,y : x*y , l)"
   ]
  },
  {
   "cell_type": "code",
   "execution_count": 54,
   "id": "aa6f0cc6-4e02-48ec-839a-710c8fef320b",
   "metadata": {},
   "outputs": [
    {
     "data": {
      "text/plain": [
       "' data  sci rajat'"
      ]
     },
     "execution_count": 54,
     "metadata": {},
     "output_type": "execute_result"
    }
   ],
   "source": [
    "words = [ \" data \" , \"sci\" , \"rajat\"]\n",
    "reduce(lambda x,y : x+ \" \" +  y, words)"
   ]
  },
  {
   "cell_type": "code",
   "execution_count": 57,
   "id": "744225bb-f2d8-46ad-acd6-e65af57cc77e",
   "metadata": {},
   "outputs": [
    {
     "data": {
      "text/plain": [
       "100"
      ]
     },
     "execution_count": 57,
     "metadata": {},
     "output_type": "execute_result"
    }
   ],
   "source": [
    "#most highest value and each stage you are comapring x and y\n",
    "num = [1,2,3,4,5,6,33,100,38]\n",
    "reduce(lambda x,y : x if x>y else y , num)"
   ]
  },
  {
   "cell_type": "code",
   "execution_count": 59,
   "id": "a401a5c4-ad84-46e8-9489-3d25ba8aa1db",
   "metadata": {},
   "outputs": [],
   "source": [
    " def fact(n):\n",
    "     return reduce(lambda x,y : x*y, range(1,n+1))"
   ]
  },
  {
   "cell_type": "code",
   "execution_count": 60,
   "id": "99b494a2-dec4-49f7-b7c3-0d77cbbce85e",
   "metadata": {},
   "outputs": [
    {
     "data": {
      "text/plain": [
       "720"
      ]
     },
     "execution_count": 60,
     "metadata": {},
     "output_type": "execute_result"
    }
   ],
   "source": [
    "fact(6)"
   ]
  },
  {
   "cell_type": "markdown",
   "id": "352b3f1f-4874-48a1-bade-3dbf3a7a879b",
   "metadata": {},
   "source": [
    " # FILTER"
   ]
  },
  {
   "cell_type": "code",
   "execution_count": 62,
   "id": "53f9a7ed-81f4-4bae-be56-1f95a0e4b31d",
   "metadata": {},
   "outputs": [],
   "source": [
    "# it is use to filter elements from an iterable based on some condtions\n",
    "#syntax - filter(func , iterable)"
   ]
  },
  {
   "cell_type": "code",
   "execution_count": 63,
   "id": "3a938843-cc17-4ca7-8b27-aa346abe564d",
   "metadata": {},
   "outputs": [
    {
     "data": {
      "text/plain": [
       "[23, 4, 3, 4, 3, 45]"
      ]
     },
     "execution_count": 63,
     "metadata": {},
     "output_type": "execute_result"
    }
   ],
   "source": [
    "l"
   ]
  },
  {
   "cell_type": "code",
   "execution_count": 65,
   "id": "aaf9bc88-0f9a-4f61-8f94-71f8ba8fde15",
   "metadata": {},
   "outputs": [
    {
     "data": {
      "text/plain": [
       "[4, 4]"
      ]
     },
     "execution_count": 65,
     "metadata": {},
     "output_type": "execute_result"
    }
   ],
   "source": [
    "list(filter(lambda x : x%2==0, l))"
   ]
  },
  {
   "cell_type": "code",
   "execution_count": 67,
   "id": "a0bb4147-9191-4765-bff9-444ee6231559",
   "metadata": {},
   "outputs": [
    {
     "data": {
      "text/plain": [
       "[4, 4]"
      ]
     },
     "execution_count": 67,
     "metadata": {},
     "output_type": "execute_result"
    }
   ],
   "source": [
    "list(filter(lambda x : x%2==0, l))"
   ]
  },
  {
   "cell_type": "code",
   "execution_count": 68,
   "id": "67c39177-8817-496a-9120-4c4fdb3dc086",
   "metadata": {},
   "outputs": [
    {
     "data": {
      "text/plain": [
       "[23, 3, 3, 45]"
      ]
     },
     "execution_count": 68,
     "metadata": {},
     "output_type": "execute_result"
    }
   ],
   "source": [
    "list(filter(lambda x : x%2!=0, l))"
   ]
  },
  {
   "cell_type": "code",
   "execution_count": 69,
   "id": "70e6e70c-8812-4868-b18c-56953abc4686",
   "metadata": {},
   "outputs": [
    {
     "data": {
      "text/plain": [
       "[-1, -2, -3]"
      ]
     },
     "execution_count": 69,
     "metadata": {},
     "output_type": "execute_result"
    }
   ],
   "source": [
    "l1 = [ -1,-2,-3,4,5]\n",
    "list(filter(lambda x: x<0 , l1))"
   ]
  },
  {
   "cell_type": "code",
   "execution_count": 70,
   "id": "11c1a517-f04d-496a-9039-4d2dcc26db80",
   "metadata": {},
   "outputs": [
    {
     "data": {
      "text/plain": [
       "[4, 5]"
      ]
     },
     "execution_count": 70,
     "metadata": {},
     "output_type": "execute_result"
    }
   ],
   "source": [
    "l1 = [ -1,-2,-3,4,5]\n",
    "list(filter(lambda x: x>0 , l1))"
   ]
  },
  {
   "cell_type": "code",
   "execution_count": 71,
   "id": "6eb9cdb2-1955-4f12-9514-c93d28490d20",
   "metadata": {},
   "outputs": [
    {
     "data": {
      "text/plain": [
       "[' data ', 'sci', 'rajat']"
      ]
     },
     "execution_count": 71,
     "metadata": {},
     "output_type": "execute_result"
    }
   ],
   "source": [
    "words"
   ]
  },
  {
   "cell_type": "code",
   "execution_count": 72,
   "id": "79607668-5fee-4554-8e4a-83492fb7dde6",
   "metadata": {},
   "outputs": [
    {
     "data": {
      "text/plain": [
       "[' data ', 'rajat']"
      ]
     },
     "execution_count": 72,
     "metadata": {},
     "output_type": "execute_result"
    }
   ],
   "source": [
    "list(filter(lambda x: len(x)> 3 , words))"
   ]
  },
  {
   "cell_type": "code",
   "execution_count": 73,
   "id": "109d55de-fe8a-40d5-bad4-ecd742943226",
   "metadata": {},
   "outputs": [],
   "source": [
    "def even(n):\n",
    "    if n%2==0:\n",
    "        return True\n",
    "    else:\n",
    "        False"
   ]
  },
  {
   "cell_type": "code",
   "execution_count": 74,
   "id": "3cb29467-fa5d-4775-a48b-95216b912ae5",
   "metadata": {},
   "outputs": [
    {
     "data": {
      "text/plain": [
       "[4, 4]"
      ]
     },
     "execution_count": 74,
     "metadata": {},
     "output_type": "execute_result"
    }
   ],
   "source": [
    "list(filter(even,l))"
   ]
  },
  {
   "cell_type": "code",
   "execution_count": null,
   "id": "e7c1bb0f-b066-43e8-8c4e-9ee834c7d9bf",
   "metadata": {},
   "outputs": [],
   "source": []
  }
 ],
 "metadata": {
  "kernelspec": {
   "display_name": "Python 3 (ipykernel)",
   "language": "python",
   "name": "python3"
  },
  "language_info": {
   "codemirror_mode": {
    "name": "ipython",
    "version": 3
   },
   "file_extension": ".py",
   "mimetype": "text/x-python",
   "name": "python",
   "nbconvert_exporter": "python",
   "pygments_lexer": "ipython3",
   "version": "3.12.7"
  }
 },
 "nbformat": 4,
 "nbformat_minor": 5
}
