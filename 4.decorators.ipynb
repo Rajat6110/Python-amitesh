{
 "cells": [
  {
   "cell_type": "code",
   "execution_count": 1,
   "id": "f8683bda-1762-4a7a-9d59-cb5fd26af8c5",
   "metadata": {},
   "outputs": [],
   "source": [
    "#decorators>> allows to modify or extend the behaviour or functions/class without directly\n",
    "#modifying their  original code\n",
    "#similar to you decorating your room (putting different lights, sticker, posters)\n",
    "#>>extends/decorates the basic behaviour of room\n"
   ]
  },
  {
   "cell_type": "code",
   "execution_count": 2,
   "id": "7fab4b1b-423f-4c98-b690-1f1508842772",
   "metadata": {},
   "outputs": [],
   "source": [
    "# finction decorators"
   ]
  },
  {
   "cell_type": "code",
   "execution_count": 10,
   "id": "277b419a-8a88-48bf-bc8e-d4a951c00e95",
   "metadata": {},
   "outputs": [],
   "source": [
    "def my_decorator():\n",
    "    print(\"the line before computaion\")\n",
    "    print(10*10) #decorating the actual compuation with line above and line below\n",
    "    print(\"the line after computaion\")\n",
    "    # in the above function you have to write all lines as many times as you are creeating them"
   ]
  },
  {
   "cell_type": "code",
   "execution_count": 11,
   "id": "56d100b6-1bdb-4ea6-ab78-2cf244d915f1",
   "metadata": {},
   "outputs": [
    {
     "name": "stdout",
     "output_type": "stream",
     "text": [
      "the line before computaion\n",
      "100\n",
      "the line after computaion\n"
     ]
    }
   ],
   "source": [
    "my_decorator()"
   ]
  },
  {
   "cell_type": "code",
   "execution_count": 12,
   "id": "bbf30a42-01c6-487e-b400-f839c274a3c0",
   "metadata": {},
   "outputs": [],
   "source": [
    "# # to understand use case >> say you want to use line before\n",
    "# compuation and after each time you create/call fucntion\n",
    "# so it will take lot of time to type thelines repeatatively"
   ]
  },
  {
   "cell_type": "code",
   "execution_count": 24,
   "id": "6a7baa12-1682-4f3d-8f47-5c80fc1738a5",
   "metadata": {},
   "outputs": [],
   "source": [
    "# use case -1  >> decorator approach for functions \n",
    "def my_decorator(func): # decorator function that takes another func as argument \n",
    "    def warpper(): # adds the functionalility before and after calling func\n",
    "        print(\"the lines before compuation\")\n",
    "        func() # say hello func will be executed here\n",
    "        print(\"the lines after compuation\")\n",
    "    return warpper"
   ]
  },
  {
   "cell_type": "code",
   "execution_count": 25,
   "id": "4a383ce3-3b6e-49d6-b552-c6f1fef3b300",
   "metadata": {},
   "outputs": [],
   "source": [
    "@my_decorator\n",
    "def say_hello():\n",
    "    print(\"hello\")"
   ]
  },
  {
   "cell_type": "code",
   "execution_count": 27,
   "id": "fdb20da9-70ab-4605-b809-65d05907bb77",
   "metadata": {},
   "outputs": [
    {
     "name": "stdout",
     "output_type": "stream",
     "text": [
      "the lines before compuation\n",
      "hello\n",
      "the lines after compuation\n"
     ]
    }
   ],
   "source": [
    "say_hello()\n",
    "# when say_hello is called , it is actually first calling the decorator function>>\n",
    "# which in return is calling wrapper function and then wrapper function is printing the \n",
    "# line and callling the say_hello\n",
    "#"
   ]
  },
  {
   "cell_type": "code",
   "execution_count": 28,
   "id": "6be5036f-5593-4756-8680-cb4405b84f87",
   "metadata": {},
   "outputs": [],
   "source": [
    "# another use case"
   ]
  },
  {
   "cell_type": "code",
   "execution_count": 29,
   "id": "04103e9c-e591-44bf-97be-e58fe8256c8c",
   "metadata": {},
   "outputs": [],
   "source": [
    "#run time of code\n",
    "\n",
    "import time\n",
    "def timer_decorator(func):\n",
    "    def timer():\n",
    "        start = time.time()\n",
    "        func()\n",
    "        end = time.time()\n",
    "        print(\"the time for excuting the code\" , end-start)\n",
    "    return timer"
   ]
  },
  {
   "cell_type": "code",
   "execution_count": 34,
   "id": "0cfa2f47-90b3-410f-aa0d-a28dc0e99886",
   "metadata": {},
   "outputs": [],
   "source": [
    "@timer_decorator\n",
    "def fuc_test():\n",
    "    print(11000000000000000000001*342)"
   ]
  },
  {
   "cell_type": "code",
   "execution_count": 36,
   "id": "7baf7b07-f386-432c-b0c2-44d9c6fee11c",
   "metadata": {},
   "outputs": [
    {
     "name": "stdout",
     "output_type": "stream",
     "text": [
      "3762000000000000000000342\n",
      "the time for excuting the code 0.0\n"
     ]
    }
   ],
   "source": [
    "fuc_test()"
   ]
  },
  {
   "cell_type": "code",
   "execution_count": 39,
   "id": "970d8585-8302-45b0-82ec-0f630be4367c",
   "metadata": {},
   "outputs": [],
   "source": [
    "@timer_decorator\n",
    "def func_test_1():\n",
    "    print(100000000000000*14388587059239248923 + 3593253290589)"
   ]
  },
  {
   "cell_type": "code",
   "execution_count": 40,
   "id": "c5b20a56-af96-44ca-91ba-70d0daa8a68c",
   "metadata": {},
   "outputs": [
    {
     "name": "stdout",
     "output_type": "stream",
     "text": [
      "1438858705923924892303593253290589\n",
      "the time for excuting the code 0.0\n"
     ]
    }
   ],
   "source": [
    "func_test_1()"
   ]
  },
  {
   "cell_type": "code",
   "execution_count": 44,
   "id": "894d65cb-e89e-41ba-bce3-ac35d3e84935",
   "metadata": {},
   "outputs": [],
   "source": [
    "# why do we need decorators?\n",
    "# reusabilitu of code >> reuse the common code\n",
    "# enhancing the function without modifying the origanl function\n",
    "# use case >> excution time of code , logging , caching , vaildation "
   ]
  },
  {
   "cell_type": "code",
   "execution_count": 52,
   "id": "f8d7ea54-08c6-4a7b-811f-02382439ef8f",
   "metadata": {},
   "outputs": [],
   "source": [
    "# class decorator>>\n",
    "class MyDecorator:\n",
    "    def __init__(self , func): # similar to function decorator you are passsing func in class\n",
    "        self.func = func\n",
    "    def __call__(self):# __cal__ is a special method which is called / invoked when you call instance / object of class as a fucntion\n",
    "        print(\"somthin is happeing before function\")\n",
    "        self.func()\n",
    "        print(\"somting happening after function\")"
   ]
  },
  {
   "cell_type": "code",
   "execution_count": 53,
   "id": "99942bd0-689f-43ea-a718-d2f8a0d25b19",
   "metadata": {},
   "outputs": [],
   "source": [
    "@MyDecorator\n",
    "def say_hi():\n",
    "    print(\"hellllo\")"
   ]
  },
  {
   "cell_type": "code",
   "execution_count": 54,
   "id": "7f635c8d-f543-4227-961a-1099941982dd",
   "metadata": {},
   "outputs": [
    {
     "name": "stdout",
     "output_type": "stream",
     "text": [
      "somthin is happeing before function\n",
      "hellllo\n",
      "somting happening after function\n"
     ]
    }
   ],
   "source": [
    "say_hi()"
   ]
  },
  {
   "cell_type": "code",
   "execution_count": 55,
   "id": "6e301365-b3d5-4289-984a-b66922d2dddc",
   "metadata": {},
   "outputs": [],
   "source": [
    "# __call__ is a special method which is called / invoked when you call instance / object\n",
    "#of class as a fucntion\n",
    "# call function jo hai class ke object ko as a call rfer krega "
   ]
  },
  {
   "cell_type": "code",
   "execution_count": 56,
   "id": "b58f451a-c650-4cef-9302-47d694ddd9e1",
   "metadata": {},
   "outputs": [],
   "source": [
    "class MyDecorator:\n",
    "    def __init__(self): #similar to function decorator you are passing func in class decorator\n",
    "        # self.func=func\n",
    "        print(\"Inside the init method\")\n",
    "    def __call__(self): \n",
    "        print(\"Something is happening before function.\")\n",
    "        # self.func()\n",
    "        print(\"Something is happening after function.\")\n",
    "    \n",
    "\n"
   ]
  },
  {
   "cell_type": "code",
   "execution_count": 57,
   "id": "b78a1f2e-b6ec-46ac-8935-b8d722a76d35",
   "metadata": {},
   "outputs": [
    {
     "name": "stdout",
     "output_type": "stream",
     "text": [
      "Inside the init method\n"
     ]
    }
   ],
   "source": [
    "obj1 = MyDecorator() #when you make an object of the class, init is executed first"
   ]
  },
  {
   "cell_type": "code",
   "execution_count": 59,
   "id": "6be3d2bb-2264-4803-93c8-e86f6aad0ff4",
   "metadata": {},
   "outputs": [
    {
     "name": "stdout",
     "output_type": "stream",
     "text": [
      "Something is happening before function.\n",
      "Something is happening after function.\n"
     ]
    }
   ],
   "source": [
    "obj1() #when you call an object of a class as function __call__ method will be invoked"
   ]
  },
  {
   "cell_type": "code",
   "execution_count": 60,
   "id": "88563b6b-8645-4665-b19f-abbb938d7b22",
   "metadata": {},
   "outputs": [],
   "source": [
    "# @ classmethod >> the method that takes the class itself as the first argument "
   ]
  },
  {
   "cell_type": "code",
   "execution_count": 63,
   "id": "9d747dbc-471b-4a4e-9b88-8d4518223a31",
   "metadata": {},
   "outputs": [],
   "source": [
    "class Math:\n",
    "    @classmethod #takes ref to class itself to modify and acces class level attributes\n",
    "    def add(cls , x ,y):\n",
    "        return cls.__name__,x+y\n",
    "        "
   ]
  },
  {
   "cell_type": "code",
   "execution_count": 64,
   "id": "f08b34d9-5565-42db-af75-c20fac4446e5",
   "metadata": {},
   "outputs": [
    {
     "data": {
      "text/plain": [
       "('Math', 9)"
      ]
     },
     "execution_count": 64,
     "metadata": {},
     "output_type": "execute_result"
    }
   ],
   "source": [
    "Math.add(4,5)"
   ]
  },
  {
   "cell_type": "code",
   "execution_count": 65,
   "id": "d45f5734-2cb6-44c7-93a3-637be6c3b568",
   "metadata": {},
   "outputs": [],
   "source": [
    "#class method is bound to class and not the instance of the class,\n",
    "#class itsef as the first argument>> conventionally cls "
   ]
  },
  {
   "cell_type": "code",
   "execution_count": 66,
   "id": "1504ca33-d65c-438a-80db-6430f641b771",
   "metadata": {},
   "outputs": [],
   "source": [
    "# next inbuild decortor is static method"
   ]
  },
  {
   "cell_type": "code",
   "execution_count": 67,
   "id": "a303e324-06b1-46f1-b25a-7b300fa88d15",
   "metadata": {},
   "outputs": [],
   "source": [
    "# static method >> the method which can be called without creating any instance of class,\n",
    "# and without usingg self or cls"
   ]
  },
  {
   "cell_type": "code",
   "execution_count": 71,
   "id": "3f7f9315-6b5f-4441-a882-069b62c3baf4",
   "metadata": {},
   "outputs": [],
   "source": [
    " # earlier\n",
    "class Math:\n",
    "    def add(self,x,y):\n",
    "        return x+y"
   ]
  },
  {
   "cell_type": "code",
   "execution_count": 69,
   "id": "b9ae68be-d594-40d5-8cf8-1ba77cbc864b",
   "metadata": {},
   "outputs": [],
   "source": [
    "a = Math()"
   ]
  },
  {
   "cell_type": "code",
   "execution_count": 70,
   "id": "faa1a9cb-3a3e-46f4-83d0-fd7d42d5f2ef",
   "metadata": {},
   "outputs": [
    {
     "data": {
      "text/plain": [
       "5"
      ]
     },
     "execution_count": 70,
     "metadata": {},
     "output_type": "execute_result"
    }
   ],
   "source": [
    "a.add(2,3) # this is the way to call regular class method"
   ]
  },
  {
   "cell_type": "code",
   "execution_count": 75,
   "id": "a30a8b5a-a242-4d1b-8769-c916a0f3194a",
   "metadata": {},
   "outputs": [],
   "source": [
    "# use of static\n",
    "class Math:\n",
    "    @staticmethod\n",
    "    def add(x,y):\n",
    "        return x+y"
   ]
  },
  {
   "cell_type": "code",
   "execution_count": 76,
   "id": "7f54c632-e791-404b-a137-87a1d9be84ef",
   "metadata": {},
   "outputs": [
    {
     "data": {
      "text/plain": [
       "6"
      ]
     },
     "execution_count": 76,
     "metadata": {},
     "output_type": "execute_result"
    }
   ],
   "source": [
    "Math.add(2,4) # no need to"
   ]
  },
  {
   "cell_type": "code",
   "execution_count": 78,
   "id": "1deaab7a-0da3-4343-8209-51d5cf7b2b8f",
   "metadata": {},
   "outputs": [],
   "source": [
    "# calss method >> to be used when you want to modify class level data\n",
    "# static method >> when you dont want to interact with class level data"
   ]
  },
  {
   "cell_type": "code",
   "execution_count": 80,
   "id": "8d6ea49a-b4e5-49d1-8a5b-7d07668f62b8",
   "metadata": {},
   "outputs": [],
   "source": [
    "# property decorator>> it allows method to be accessed as attribute"
   ]
  },
  {
   "cell_type": "code",
   "execution_count": 81,
   "id": "a3cdc6da-5fa9-4696-8e97-3a586f634ed5",
   "metadata": {},
   "outputs": [],
   "source": [
    "class Cricle:\n",
    "    def __init__(self, radius):\n",
    "        self.radius = radius"
   ]
  },
  {
   "cell_type": "code",
   "execution_count": 84,
   "id": "e44c5bb8-0cd0-441d-b3f4-c717ab63bc6a",
   "metadata": {},
   "outputs": [
    {
     "data": {
      "text/plain": [
       "5"
      ]
     },
     "execution_count": 84,
     "metadata": {},
     "output_type": "execute_result"
    }
   ],
   "source": [
    "obj = Cricle(5)\n",
    "obj.radius # accesing data"
   ]
  },
  {
   "cell_type": "code",
   "execution_count": 87,
   "id": "0780f969-a3ab-47b2-bd22-33ee4e7cda71",
   "metadata": {},
   "outputs": [],
   "source": [
    "class Cricle:\n",
    "    def __init__(self, radius):\n",
    "        self.radius = radius\n",
    "    def area(self):\n",
    "        radius = self.radius\n",
    "        return 3.14*radius**2"
   ]
  },
  {
   "cell_type": "code",
   "execution_count": 88,
   "id": "c8c768c0-d0bb-4a1c-b559-990fa8f1d4fd",
   "metadata": {},
   "outputs": [
    {
     "data": {
      "text/plain": [
       "78.5"
      ]
     },
     "execution_count": 88,
     "metadata": {},
     "output_type": "execute_result"
    }
   ],
   "source": [
    "obj = Cricle(5)\n",
    "obj.area() # earlier"
   ]
  },
  {
   "cell_type": "code",
   "execution_count": 89,
   "id": "d1594697-c750-46d0-bfea-2be2cd6d2dd5",
   "metadata": {},
   "outputs": [],
   "source": [
    "# using property decorator\n",
    "class Cricle:\n",
    "    def __init__(self, radius):\n",
    "        self.radius = radius\n",
    "    @property\n",
    "    def area(self):\n",
    "        radius = self.radius\n",
    "        return 3.14*radius**2"
   ]
  },
  {
   "cell_type": "code",
   "execution_count": 91,
   "id": "693bf0c5-199d-4356-b412-ba1c891e0f77",
   "metadata": {},
   "outputs": [
    {
     "data": {
      "text/plain": [
       "5"
      ]
     },
     "execution_count": 91,
     "metadata": {},
     "output_type": "execute_result"
    }
   ],
   "source": [
    "obj1 = Cricle(5)\n",
    "obj.radius"
   ]
  },
  {
   "cell_type": "code",
   "execution_count": 93,
   "id": "4ac298c4-a800-414d-b60d-13472ed5b04f",
   "metadata": {},
   "outputs": [
    {
     "data": {
      "text/plain": [
       "78.5"
      ]
     },
     "execution_count": 93,
     "metadata": {},
     "output_type": "execute_result"
    }
   ],
   "source": [
    "obj1.area # no need of ()"
   ]
  },
  {
   "cell_type": "code",
   "execution_count": null,
   "id": "c0169e60-c965-4ec6-86e4-a558ae3e741b",
   "metadata": {},
   "outputs": [],
   "source": []
  }
 ],
 "metadata": {
  "kernelspec": {
   "display_name": "Python 3 (ipykernel)",
   "language": "python",
   "name": "python3"
  },
  "language_info": {
   "codemirror_mode": {
    "name": "ipython",
    "version": 3
   },
   "file_extension": ".py",
   "mimetype": "text/x-python",
   "name": "python",
   "nbconvert_exporter": "python",
   "pygments_lexer": "ipython3",
   "version": "3.12.7"
  },
  "widgets": {
   "application/vnd.jupyter.widget-state+json": {
    "state": {},
    "version_major": 2,
    "version_minor": 0
   }
  }
 },
 "nbformat": 4,
 "nbformat_minor": 5
}
