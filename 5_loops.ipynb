{
 "cells": [
  {
   "cell_type": "raw",
   "id": "d329152b-3555-42df-9143-c9dcbdebda58",
   "metadata": {},
   "source": [
    "#LOOPS\n",
    "IT ALLOWS YOU TO EXECUTE A BLOCK OF CODE REPEATEDLY\n",
    "TYPES OF LOOPS\n",
    "WHILE AND FOR\n"
   ]
  },
  {
   "cell_type": "markdown",
   "id": "a88b2178-be9e-4e3d-8df5-93f84ccc9861",
   "metadata": {},
   "source": [
    "while loop>>\n",
    " repeatedly execute a block of code until a specific condition is met "
   ]
  },
  {
   "cell_type": "code",
   "execution_count": 4,
   "id": "f202f501-2a9b-445a-b6a9-fd44ab3291e0",
   "metadata": {},
   "outputs": [
    {
     "name": "stdout",
     "output_type": "stream",
     "text": [
      "1\n",
      "2\n",
      "3\n",
      "4\n",
      "5\n",
      "6\n"
     ]
    }
   ],
   "source": [
    "n = 7\n",
    "i = 1\n",
    "while i < n:\n",
    "    print(i)\n",
    "    i = i+1\n",
    "    "
   ]
  },
  {
   "cell_type": "code",
   "execution_count": 11,
   "id": "b67830e3-9c52-4700-9783-a6dce3b22762",
   "metadata": {},
   "outputs": [
    {
     "name": "stdout",
     "output_type": "stream",
     "text": [
      "10\n",
      "9\n",
      "8\n",
      "7\n",
      "6\n",
      "5\n",
      "4\n",
      "3\n",
      "2\n",
      "1\n"
     ]
    }
   ],
   "source": [
    "count = 10\n",
    "while count > 0:\n",
    "    print(count)\n",
    "    count = count - 1\n",
    "    "
   ]
  },
  {
   "cell_type": "code",
   "execution_count": 12,
   "id": "2b0e2427-843e-48fb-8e38-5532cdaf39bd",
   "metadata": {},
   "outputs": [],
   "source": [
    "#WHILE - ELSE"
   ]
  },
  {
   "cell_type": "code",
   "execution_count": null,
   "id": "7a46d9e3-122c-4c92-ad97-331f0b07ff75",
   "metadata": {},
   "outputs": [],
   "source": [
    "n = 10\n",
    "i = 1\n",
    "while i < n:\n",
    "    print(i)\n",
    "    i = i +1\n",
    "else:\n",
    "    print(\"this will execute when the while will run successfully without any break\")"
   ]
  },
  {
   "cell_type": "code",
   "execution_count": null,
   "id": "195e7f18-29ec-4e71-a230-e6617107391b",
   "metadata": {},
   "outputs": [],
   "source": [
    "# BREAK STATEMENT - IT TERMINATES / EXIT THE LOOP\n",
    "#IF THE CONDITION IS MET IT WILL BREAK THE LOOP\n",
    "n = 5\n",
    "i = 1\n",
    "while i< n:\n",
    "    print(i)\n",
    "    i = i + 1do wh\n",
    "    if i == 3:\n",
    "        break\n",
    "    \n",
    "else:\n",
    "    print(\"else block\")"
   ]
  },
  {
   "cell_type": "code",
   "execution_count": 17,
   "id": "7124fe78-6dfb-4f61-86b5-d37245000bb6",
   "metadata": {},
   "outputs": [],
   "source": [
    "#CONTINUE STATEMENT"
   ]
  },
  {
   "cell_type": "code",
   "execution_count": 3,
   "id": "5e266fa8-ef71-4ed3-86c1-394533ce51f1",
   "metadata": {},
   "outputs": [
    {
     "name": "stdout",
     "output_type": "stream",
     "text": [
      "2\n",
      "4\n",
      "5\n",
      "6\n",
      "7\n",
      "this will be execute without any break\n"
     ]
    }
   ],
   "source": [
    " n =7\n",
    " i = 1\n",
    " while i < n:\n",
    "     i = i+ 1\n",
    "     if i == 3:\n",
    "         continue\n",
    "     print(i)\n",
    "else:\n",
    "    print(\"this will be execute without any break\")\n"
   ]
  },
  {
   "cell_type": "raw",
   "id": "f935223d-1470-4431-bfaf-cca12c8b1b3f",
   "metadata": {},
   "source": [
    "LOOP - FOR LOOP\n",
    "ITERATE OVER A SEQUENCE OF ELEMENTS >> STRINGS , LIST ETC.\n"
   ]
  },
  {
   "cell_type": "code",
   "execution_count": 5,
   "id": "5b7cdaaf-e303-477b-8929-9cd1a869b54f",
   "metadata": {},
   "outputs": [
    {
     "name": "stdout",
     "output_type": "stream",
     "text": [
      "p\n",
      "w\n",
      "s\n",
      "k\n",
      "i\n",
      "l\n",
      "l\n",
      "s\n"
     ]
    }
   ],
   "source": [
    "for i in \"pwskills\":\n",
    "    print(i)"
   ]
  },
  {
   "cell_type": "code",
   "execution_count": 6,
   "id": "fd067c2b-d761-4cf9-b875-66a59e87cad6",
   "metadata": {},
   "outputs": [
    {
     "name": "stdout",
     "output_type": "stream",
     "text": [
      "a\n",
      "m\n",
      "i\n",
      "t\n",
      "e\n",
      "s\n",
      "h\n"
     ]
    }
   ],
   "source": [
    "a = \"amitesh\"\n",
    "for i in a:\n",
    "    print(i)"
   ]
  },
  {
   "cell_type": "code",
   "execution_count": 11,
   "id": "772c6de7-200c-460e-88a5-d551a5a3728b",
   "metadata": {},
   "outputs": [
    {
     "name": "stdout",
     "output_type": "stream",
     "text": [
      "1\n",
      "2\n",
      "3\n",
      "4\n",
      "5\n",
      "rajat\n",
      "amitesh\n"
     ]
    }
   ],
   "source": [
    "list1 = [ 1,2,3,4,5,\"rajat\",\"amitesh\"]\n",
    "for i in list1:\n",
    "    print(i)"
   ]
  },
  {
   "cell_type": "code",
   "execution_count": 10,
   "id": "a72f6ece-68d0-4ab3-9629-7ac8fa318930",
   "metadata": {},
   "outputs": [
    {
     "name": "stdout",
     "output_type": "stream",
     "text": [
      "1\n",
      "2\n",
      "ajay\n",
      "pwskills\n"
     ]
    }
   ],
   "source": [
    "l = [1 ,2 ,\"ajay\" , \"pwskills\"]\n",
    "for i in l:\n",
    "    print(i)"
   ]
  },
  {
   "cell_type": "code",
   "execution_count": 12,
   "id": "7a43319c-8b98-46ee-8df4-2f279d167a73",
   "metadata": {},
   "outputs": [
    {
     "name": "stdout",
     "output_type": "stream",
     "text": [
      "1\n",
      "2\n",
      "ajay\n",
      "pwskills\n",
      "This will  be executed when for loop ends without a break statement \n"
     ]
    }
   ],
   "source": [
    "for i in l:\n",
    "    print(i)\n",
    "else:\n",
    "    print(\"This will  be executed when for loop ends without a break statement \")"
   ]
  },
  {
   "cell_type": "code",
   "execution_count": 14,
   "id": "26a393a1-6974-4d17-b212-6bf71b17e604",
   "metadata": {},
   "outputs": [
    {
     "name": "stdout",
     "output_type": "stream",
     "text": [
      "1\n",
      "2\n"
     ]
    }
   ],
   "source": [
    "for i in l:\n",
    "    if i == \"ajay\":\n",
    "        break\n",
    "    print(i)\n",
    "else:\n",
    "    print(\"this will be executed when for loop ends without a break statement\")"
   ]
  },
  {
   "cell_type": "code",
   "execution_count": 15,
   "id": "879cdd4f-56c6-4b87-b779-79d1c1db13a1",
   "metadata": {},
   "outputs": [
    {
     "name": "stdout",
     "output_type": "stream",
     "text": [
      "1\n",
      "2\n",
      "pwskills\n",
      "else block\n"
     ]
    }
   ],
   "source": [
    "for i in l:\n",
    "    if i == \"ajay\":\n",
    "        continue\n",
    "    print(i)\n",
    "else:\n",
    "    print(\"else block\")"
   ]
  },
  {
   "cell_type": "code",
   "execution_count": 16,
   "id": "92f66ca1-3cad-4aa3-ad0f-646961dafd08",
   "metadata": {},
   "outputs": [
    {
     "data": {
      "text/plain": [
       "range(0, 10)"
      ]
     },
     "execution_count": 16,
     "metadata": {},
     "output_type": "execute_result"
    }
   ],
   "source": [
    "range(0,10) # gives 0 to 9\n",
    "#syntax range(start,stop,end)"
   ]
  },
  {
   "cell_type": "code",
   "execution_count": 18,
   "id": "cb062990-3ac6-40eb-aaf4-b7b20960bf49",
   "metadata": {},
   "outputs": [
    {
     "data": {
      "text/plain": [
       "[0, 1, 2, 3, 4, 5, 6, 7, 8, 9]"
      ]
     },
     "execution_count": 18,
     "metadata": {},
     "output_type": "execute_result"
    }
   ],
   "source": [
    "list(range(0,10))"
   ]
  },
  {
   "cell_type": "code",
   "execution_count": 23,
   "id": "ac5abef9-d9de-439f-95b9-80ca0acc9056",
   "metadata": {},
   "outputs": [
    {
     "name": "stdout",
     "output_type": "stream",
     "text": [
      "0  1  2  3  4  5  6  7  8  9  "
     ]
    }
   ],
   "source": [
    "for i in range(10):\n",
    "    print(i, end = \"  \")"
   ]
  },
  {
   "cell_type": "code",
   "execution_count": 24,
   "id": "4098439c-eed2-47e9-a6c3-278ede7fa721",
   "metadata": {},
   "outputs": [
    {
     "data": {
      "text/plain": [
       "[0, 2, 4, 6, 8]"
      ]
     },
     "execution_count": 24,
     "metadata": {},
     "output_type": "execute_result"
    }
   ],
   "source": [
    "list(range(0,10,2))"
   ]
  },
  {
   "cell_type": "code",
   "execution_count": 26,
   "id": "c1720748-ea88-42d1-9fb8-c092ae4ff06c",
   "metadata": {},
   "outputs": [],
   "source": [
    "#problem statemnet-\n",
    "\n",
    "#print a right traingle with *"
   ]
  },
  {
   "cell_type": "code",
   "execution_count": 28,
   "id": "2ea301a8-e42e-4d41-b562-e9deadb7e540",
   "metadata": {},
   "outputs": [
    {
     "name": "stdout",
     "output_type": "stream",
     "text": [
      "*\n",
      "**\n",
      "***\n",
      "****\n"
     ]
    }
   ],
   "source": [
    "row = 1\n",
    "while row <=4:\n",
    "    col = 1\n",
    "    while col <= row:\n",
    "        print(\"*\", end =(\"\"))\n",
    "        col = col + 1\n",
    "    print()\n",
    "    row = row + 1\n",
    "    "
   ]
  },
  {
   "cell_type": "code",
   "execution_count": 30,
   "id": "9d6e546e-0961-4c64-bb66-b92529b6f2bb",
   "metadata": {},
   "outputs": [
    {
     "name": "stdout",
     "output_type": "stream",
     "text": [
      "*\n",
      "**\n",
      "***\n",
      "****\n"
     ]
    }
   ],
   "source": [
    "row = 1\n",
    "\n",
    "while row <=4:\n",
    "    col = 1\n",
    "    while col <= row:\n",
    "        print(\"*\", end =(\"\"))\n",
    "        col = col + 1\n",
    "    print()\n",
    "    row = row + 1\n",
    "    "
   ]
  },
  {
   "cell_type": "code",
   "execution_count": 41,
   "id": "11b1094a-c651-47d8-b4da-1794ec4af22e",
   "metadata": {},
   "outputs": [
    {
     "name": "stdout",
     "output_type": "stream",
     "text": [
      "*\n",
      "**\n",
      "***\n",
      "****\n",
      "*****\n"
     ]
    }
   ],
   "source": [
    "for i in range(0,5):\n",
    "    for j in range(i+1):\n",
    "        print(\"*\" , end = \"\")\n",
    "    print()\n",
    "    "
   ]
  },
  {
   "cell_type": "code",
   "execution_count": 42,
   "id": "e3693869-9cd9-4b3e-880f-196609230b3f",
   "metadata": {},
   "outputs": [
    {
     "name": "stdout",
     "output_type": "stream",
     "text": [
      "1\n",
      "2\n",
      "4\n",
      "5\n",
      "6\n",
      "8\n",
      "9\n"
     ]
    }
   ],
   "source": [
    "num = [ 1,2,3,4,5,6,7,8,9]\n",
    "for num in num:\n",
    "    if(num==3) or (num == 7):\n",
    "        continue\n",
    "    print(num)"
   ]
  },
  {
   "cell_type": "code",
   "execution_count": 45,
   "id": "62ed4653-faab-4f00-a0f0-c59b48fff3c9",
   "metadata": {},
   "outputs": [
    {
     "name": "stdout",
     "output_type": "stream",
     "text": [
      "1\n",
      "3\n",
      "5\n",
      "7\n",
      "9\n"
     ]
    }
   ],
   "source": [
    "#print odd no\n",
    "for i in range(10):\n",
    "    if i%2==0:\n",
    "        continue\n",
    "    print(i)"
   ]
  },
  {
   "cell_type": "code",
   "execution_count": 48,
   "id": "62adcd14-f526-4d60-9200-b79667e81a41",
   "metadata": {},
   "outputs": [
    {
     "name": "stdout",
     "output_type": "stream",
     "text": [
      "1 * 1 =  1\n",
      "1 * 2 =  2\n",
      "1 * 3 =  3\n",
      "1 * 4 =  4\n",
      "1 * 5 =  5\n",
      "1 * 6 =  6\n",
      "1 * 7 =  7\n",
      "1 * 8 =  8\n",
      "1 * 9 =  9\n",
      "1 * 10 =  10\n",
      "\n",
      "2 * 1 =  2\n",
      "2 * 2 =  4\n",
      "2 * 3 =  6\n",
      "2 * 4 =  8\n",
      "2 * 5 =  10\n",
      "2 * 6 =  12\n",
      "2 * 7 =  14\n",
      "2 * 8 =  16\n",
      "2 * 9 =  18\n",
      "2 * 10 =  20\n",
      "\n",
      "3 * 1 =  3\n",
      "3 * 2 =  6\n",
      "3 * 3 =  9\n",
      "3 * 4 =  12\n",
      "3 * 5 =  15\n",
      "3 * 6 =  18\n",
      "3 * 7 =  21\n",
      "3 * 8 =  24\n",
      "3 * 9 =  27\n",
      "3 * 10 =  30\n",
      "\n",
      "4 * 1 =  4\n",
      "4 * 2 =  8\n",
      "4 * 3 =  12\n",
      "4 * 4 =  16\n",
      "4 * 5 =  20\n",
      "4 * 6 =  24\n",
      "4 * 7 =  28\n",
      "4 * 8 =  32\n",
      "4 * 9 =  36\n",
      "4 * 10 =  40\n",
      "\n",
      "5 * 1 =  5\n",
      "5 * 2 =  10\n",
      "5 * 3 =  15\n",
      "5 * 4 =  20\n",
      "5 * 5 =  25\n",
      "5 * 6 =  30\n",
      "5 * 7 =  35\n",
      "5 * 8 =  40\n",
      "5 * 9 =  45\n",
      "5 * 10 =  50\n",
      "\n"
     ]
    }
   ],
   "source": [
    "#table\n",
    "for i in range (1,6):\n",
    "    for j in range(1,11):\n",
    "        product = i * j\n",
    "        print( f\"{i} * {j} =  {product}\")\n",
    "    print()"
   ]
  },
  {
   "cell_type": "code",
   "execution_count": 51,
   "id": "d7afe8f0-5e2d-4156-a237-597526eb482b",
   "metadata": {},
   "outputs": [
    {
     "name": "stdout",
     "output_type": "stream",
     "text": [
      "* * * \n",
      "* * * \n",
      "* * * \n"
     ]
    }
   ],
   "source": [
    "side = 1\n",
    "while side <= 3:\n",
    "    width = 1\n",
    "    while width <=  3:\n",
    "        print(\"*\" , end = \" \")\n",
    "        width = width + 1\n",
    "    print()\n",
    "    side = side + 1"
   ]
  },
  {
   "cell_type": "code",
   "execution_count": null,
   "id": "c6a4aa33-c461-4684-995a-f87a3429aa7c",
   "metadata": {},
   "outputs": [],
   "source": []
  }
 ],
 "metadata": {
  "kernelspec": {
   "display_name": "Python 3 (ipykernel)",
   "language": "python",
   "name": "python3"
  },
  "language_info": {
   "codemirror_mode": {
    "name": "ipython",
    "version": 3
   },
   "file_extension": ".py",
   "mimetype": "text/x-python",
   "name": "python",
   "nbconvert_exporter": "python",
   "pygments_lexer": "ipython3",
   "version": "3.12.7"
  }
 },
 "nbformat": 4,
 "nbformat_minor": 5
}
